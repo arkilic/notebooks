{
 "cells": [
  {
   "cell_type": "code",
   "execution_count": 1,
   "metadata": {
    "collapsed": true
   },
   "outputs": [],
   "source": [
    "from analysisstore.client.commands import AnalysisClient\n",
    "import time\n",
    "import uuid"
   ]
  },
  {
   "cell_type": "code",
   "execution_count": 2,
   "metadata": {
    "collapsed": true
   },
   "outputs": [],
   "source": [
    "conn = AnalysisClient(host='localhost', port=8899)"
   ]
  },
  {
   "cell_type": "code",
   "execution_count": 3,
   "metadata": {
    "collapsed": false
   },
   "outputs": [],
   "source": [
    "ahdr = conn.insert_analysis_header(time=time.time(), uid=str(uuid.uuid4()),\n",
    "                                   provenance={'code_v': 0.1})"
   ]
  },
  {
   "cell_type": "code",
   "execution_count": 4,
   "metadata": {
    "collapsed": false
   },
   "outputs": [],
   "source": [
    "drefhdr = conn.insert_data_reference_header(analysis_header=ahdr, uid=str(uuid.uuid4()),\n",
    "                                            time=time.time(), \n",
    "                                              data_keys={'diffr1': {'source': 'exp1'}})"
   ]
  },
  {
   "cell_type": "code",
   "execution_count": 5,
   "metadata": {
    "collapsed": false
   },
   "outputs": [],
   "source": [
    "dref = conn.insert_data_reference(data_header=drefhdr, uid=str(uuid.uuid4()),\n",
    "                                  time=time.time(), data={'diffr1': 14.5},\n",
    "                                  timestamps={'diffr1':time.time()})\n"
   ]
  },
  {
   "cell_type": "code",
   "execution_count": 6,
   "metadata": {
    "collapsed": false
   },
   "outputs": [],
   "source": [
    "atail = conn.insert_analysis_tail(analysis_header=ahdr, uid=str(uuid.uuid4()), time=time.time(),\n",
    "                                 exit_status='success')"
   ]
  },
  {
   "cell_type": "code",
   "execution_count": 7,
   "metadata": {
    "collapsed": false
   },
   "outputs": [
    {
     "data": {
      "text/plain": [
       "[{'analysis_header': 'bc7c4a3c-7b93-45c1-a0e5-fa7bd86a01ec',\n",
       "  'exit_status': 'success',\n",
       "  'time': 1467384249.080572,\n",
       "  'uid': '92c54c42-f64c-44c7-8020-82c947150b7d'}]"
      ]
     },
     "execution_count": 7,
     "metadata": {},
     "output_type": "execute_result"
    }
   ],
   "source": [
    "q = {'analysis_header': 'bc7c4a3c-7b93-45c1-a0e5-fa7bd86a01ec'}\n",
    "conn.find_analysis_tail(**q)"
   ]
  },
  {
   "cell_type": "code",
   "execution_count": 8,
   "metadata": {
    "collapsed": false
   },
   "outputs": [
    {
     "data": {
      "text/plain": [
       "[{'analysis_header': '91997335-7468-4797-b742-9fbf0e278a4c',\n",
       "  'data_keys': {'diffr1': {'source': 'exp1'}},\n",
       "  'time': 1467384893.302163,\n",
       "  'uid': '906b4781-7b4c-4d1e-9dc4-3749e4b83231'}]"
      ]
     },
     "execution_count": 8,
     "metadata": {},
     "output_type": "execute_result"
    }
   ],
   "source": [
    "conn.find_data_reference_header(uid=drefhdr)"
   ]
  },
  {
   "cell_type": "code",
   "execution_count": 10,
   "metadata": {
    "collapsed": false
   },
   "outputs": [
    {
     "data": {
      "text/plain": [
       "[{'data': {'diffr1': 14.5},\n",
       "  'data_reference_header': None,\n",
       "  'time': 1467384753.087633,\n",
       "  'timestamps': {'diffr1': 1467384753.087634},\n",
       "  'uid': '96485d3e-a0ca-4926-8707-f54cd93cae01'}]"
      ]
     },
     "execution_count": 10,
     "metadata": {},
     "output_type": "execute_result"
    }
   ],
   "source": [
    "q = {'uid': '96485d3e-a0ca-4926-8707-f54cd93cae01'}\n",
    "conn.find_data_reference(**q)"
   ]
  }
 ],
 "metadata": {
  "kernelspec": {
   "display_name": "Python 3",
   "language": "python",
   "name": "python3"
  },
  "language_info": {
   "codemirror_mode": {
    "name": "ipython",
    "version": 3
   },
   "file_extension": ".py",
   "mimetype": "text/x-python",
   "name": "python",
   "nbconvert_exporter": "python",
   "pygments_lexer": "ipython3",
   "version": "3.5.1"
  }
 },
 "nbformat": 4,
 "nbformat_minor": 0
}
