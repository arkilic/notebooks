{
 "cells": [
  {
   "cell_type": "code",
   "execution_count": 9,
   "metadata": {
    "collapsed": false
   },
   "outputs": [],
   "source": [
    "# PYTHON 2.7\n",
    "from __future__ import print_function\n",
    "import numpy as np\n",
    "import ujson\n",
    "\n"
   ]
  },
  {
   "cell_type": "code",
   "execution_count": 10,
   "metadata": {
    "collapsed": false
   },
   "outputs": [
    {
     "name": "stdout",
     "output_type": "stream",
     "text": [
      "Data            -0.838742469157854\n",
      "What is encoded -0.838742469157\n",
      "What is decoded -0.838742469157854\n"
     ]
    }
   ],
   "source": [
    "# Precision 15\n",
    "b = np.random.randn(1).astype('d')\n",
    "print('Data', '           {0:.15f}'.format(b[0]))\n",
    "encoded = ujson.dumps(b[0], double_precision=15)\n",
    "print('What is encoded', '{0:.15}'.format(encoded))\n",
    "decoded = ujson.loads(encoded, precise_float=True)\n",
    "print('What is decoded','{0:.15f}'.format(decoded))"
   ]
  },
  {
   "cell_type": "code",
   "execution_count": 11,
   "metadata": {
    "collapsed": false
   },
   "outputs": [
    {
     "name": "stdout",
     "output_type": "stream",
     "text": [
      "Data            0.7690556875939508\n",
      "What is encoded 0.76905568759395\n",
      "What is decoded 0.7690556875939510\n"
     ]
    }
   ],
   "source": [
    "# Precision 16\n",
    "b = np.random.randn(1).astype('d')\n",
    "print('Data', '           {0:.16f}'.format(b[0]))\n",
    "encoded = ujson.dumps(b[0], double_precision=16)\n",
    "print('What is encoded', '{0:.16}'.format(encoded))\n",
    "decoded = ujson.loads(encoded, precise_float=True)\n",
    "print('What is decoded','{0:.16f}'.format(decoded))"
   ]
  },
  {
   "cell_type": "code",
   "execution_count": 12,
   "metadata": {
    "collapsed": false
   },
   "outputs": [
    {
     "name": "stdout",
     "output_type": "stream",
     "text": [
      "Data            0.39221323263284296745\n",
      "What is encoded 0.392213232632843\n",
      "What is decoded 0.39221323263284302296\n"
     ]
    }
   ],
   "source": [
    "# Precision 20\n",
    "b = np.random.randn(1).astype('d')\n",
    "print('Data', '           {0:.20f}'.format(b[0]))\n",
    "encoded = ujson.dumps(b[0], double_precision=20)\n",
    "print('What is encoded', '{0:.20}'.format(encoded))\n",
    "decoded = ujson.loads(encoded, precise_float=True)\n",
    "print('What is decoded','{0:.20f}'.format(decoded))"
   ]
  },
  {
   "cell_type": "code",
   "execution_count": 13,
   "metadata": {
    "collapsed": false
   },
   "outputs": [
    {
     "name": "stdout",
     "output_type": "stream",
     "text": [
      "Data            0.142259354606799920395\n",
      "What is encoded 0.1422593546068\n",
      "What is decoded 0.142259354606800003662\n"
     ]
    }
   ],
   "source": [
    "# Precision 21\n",
    "b = np.random.randn(1).astype('d')\n",
    "print('Data', '           {0:.21f}'.format(b[0]))\n",
    "encoded = ujson.dumps(b[0], double_precision=21)\n",
    "print('What is encoded', '{0:.21}'.format(encoded))\n",
    "decoded = ujson.loads(encoded, precise_float=True)\n",
    "print('What is decoded','{0:.21f}'.format(decoded))"
   ]
  },
  {
   "cell_type": "code",
   "execution_count": 14,
   "metadata": {
    "collapsed": false
   },
   "outputs": [
    {
     "name": "stdout",
     "output_type": "stream",
     "text": [
      "Data            -0.0602328559418523756808\n",
      "What is encoded -0.060232855941852\n",
      "What is decoded -0.0602328559418520009805\n"
     ]
    }
   ],
   "source": [
    "# Precision 22\n",
    "b = np.random.randn(1).astype('d')\n",
    "print('Data', '           {0:.22f}'.format(b[0]))\n",
    "encoded = ujson.dumps(b[0], double_precision=22)\n",
    "print('What is encoded', '{0:.22}'.format(encoded))\n",
    "decoded = ujson.loads(encoded, precise_float=True)\n",
    "print('What is decoded','{0:.22f}'.format(decoded))"
   ]
  },
  {
   "cell_type": "code",
   "execution_count": 15,
   "metadata": {
    "collapsed": false
   },
   "outputs": [
    {
     "name": "stdout",
     "output_type": "stream",
     "text": [
      "Data            0.79399848504934777970732\n",
      "What is encoded 0.793998485049348\n",
      "What is decoded 0.79399848504934800175192\n"
     ]
    }
   ],
   "source": [
    "# Precision 23\n",
    "b = np.random.randn(1).astype('d')\n",
    "print('Data', '           {0:.23f}'.format(b[0]))\n",
    "encoded = ujson.dumps(b[0], double_precision=23)\n",
    "print('What is encoded', '{0:.23}'.format(encoded))\n",
    "decoded = ujson.loads(encoded, precise_float=True)\n",
    "print('What is decoded','{0:.23f}'.format(decoded))"
   ]
  },
  {
   "cell_type": "code",
   "execution_count": 16,
   "metadata": {
    "collapsed": false
   },
   "outputs": [
    {
     "name": "stdout",
     "output_type": "stream",
     "text": [
      "Data            1.7486539017597850786955860\n",
      "What is encoded 1.748653901759785\n",
      "What is decoded 1.7486539017597850786955860\n"
     ]
    }
   ],
   "source": [
    "# Precision 25\n",
    "b = np.random.randn(1).astype('d')\n",
    "print('Data', '           {0:.25f}'.format(b[0]))\n",
    "encoded = ujson.dumps(b[0], double_precision=25)\n",
    "print('What is encoded', '{0:.25}'.format(encoded))\n",
    "decoded = ujson.loads(encoded, precise_float=True)\n",
    "print('What is decoded','{0:.25f}'.format(decoded))"
   ]
  },
  {
   "cell_type": "code",
   "execution_count": null,
   "metadata": {
    "collapsed": true
   },
   "outputs": [],
   "source": []
  },
  {
   "cell_type": "code",
   "execution_count": null,
   "metadata": {
    "collapsed": true
   },
   "outputs": [],
   "source": []
  }
 ],
 "metadata": {
  "kernelspec": {
   "display_name": "Python 2",
   "language": "python",
   "name": "python2"
  },
  "language_info": {
   "codemirror_mode": {
    "name": "ipython",
    "version": 2
   },
   "file_extension": ".py",
   "mimetype": "text/x-python",
   "name": "python",
   "nbconvert_exporter": "python",
   "pygments_lexer": "ipython2",
   "version": "2.7.11"
  }
 },
 "nbformat": 4,
 "nbformat_minor": 0
}
