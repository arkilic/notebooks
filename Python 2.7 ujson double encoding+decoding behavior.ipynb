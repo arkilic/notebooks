{
 "cells": [
  {
   "cell_type": "code",
   "execution_count": 1,
   "metadata": {
    "collapsed": true
   },
   "outputs": [],
   "source": [
    "# PYTHON 3\n",
    "import numpy as np\n",
    "import ujson\n"
   ]
  },
  {
   "cell_type": "code",
   "execution_count": 2,
   "metadata": {
    "collapsed": false
   },
   "outputs": [
    {
     "name": "stdout",
     "output_type": "stream",
     "text": [
      "Data            0.079987394233915\n",
      "What is encoded 0.0799873942339\n",
      "What is decoded 0.079987394233915\n"
     ]
    }
   ],
   "source": [
    "# Precision 15\n",
    "b = np.random.randn(1).astype('d')\n",
    "print('Data', '           {0:.15f}'.format(b[0]))\n",
    "encoded = ujson.dumps(b[0], double_precision=15)\n",
    "print('What is encoded', '{0:.15}'.format(encoded))\n",
    "decoded = ujson.loads(encoded, precise_float=True)\n",
    "print('What is decoded','{0:.15f}'.format(decoded))"
   ]
  },
  {
   "cell_type": "code",
   "execution_count": 3,
   "metadata": {
    "collapsed": false
   },
   "outputs": [
    {
     "name": "stdout",
     "output_type": "stream",
     "text": [
      "Data            -0.2468041990720949\n",
      "What is encoded -0.2468041990720\n",
      "What is decoded -0.2468041990720950\n"
     ]
    }
   ],
   "source": [
    "# Precision 16\n",
    "b = np.random.randn(1).astype('d')\n",
    "print('Data', '           {0:.16f}'.format(b[0]))\n",
    "encoded = ujson.dumps(b[0], double_precision=16)\n",
    "print('What is encoded', '{0:.16}'.format(encoded))\n",
    "decoded = ujson.loads(encoded, precise_float=True)\n",
    "print('What is decoded','{0:.16f}'.format(decoded))"
   ]
  },
  {
   "cell_type": "code",
   "execution_count": 4,
   "metadata": {
    "collapsed": false
   },
   "outputs": [
    {
     "name": "stdout",
     "output_type": "stream",
     "text": [
      "Data            -0.82512232882695113467\n",
      "What is encoded -0.825122328826951\n",
      "What is decoded -0.82512232882695102365\n"
     ]
    }
   ],
   "source": [
    "# Precision 20\n",
    "b = np.random.randn(1).astype('d')\n",
    "print('Data', '           {0:.20f}'.format(b[0]))\n",
    "encoded = ujson.dumps(b[0], double_precision=20)\n",
    "print('What is encoded', '{0:.20}'.format(encoded))\n",
    "decoded = ujson.loads(encoded, precise_float=True)\n",
    "print('What is decoded','{0:.20f}'.format(decoded))"
   ]
  },
  {
   "cell_type": "code",
   "execution_count": 5,
   "metadata": {
    "collapsed": false
   },
   "outputs": [
    {
     "name": "stdout",
     "output_type": "stream",
     "text": [
      "Data            -0.169470181557307364439\n",
      "What is encoded -0.169470181557307\n",
      "What is decoded -0.169470181557307003617\n"
     ]
    }
   ],
   "source": [
    "# Precision 21\n",
    "b = np.random.randn(1).astype('d')\n",
    "print('Data', '           {0:.21f}'.format(b[0]))\n",
    "encoded = ujson.dumps(b[0], double_precision=21)\n",
    "print('What is encoded', '{0:.21}'.format(encoded))\n",
    "decoded = ujson.loads(encoded, precise_float=True)\n",
    "print('What is decoded','{0:.21f}'.format(decoded))"
   ]
  },
  {
   "cell_type": "code",
   "execution_count": 6,
   "metadata": {
    "collapsed": false
   },
   "outputs": [
    {
     "name": "stdout",
     "output_type": "stream",
     "text": [
      "Data            2.7994421643113440723027\n",
      "What is encoded 2.799442164311344\n",
      "What is decoded 2.7994421643113440723027\n"
     ]
    }
   ],
   "source": [
    "# Precision 22\n",
    "b = np.random.randn(1).astype('d')\n",
    "print('Data', '           {0:.22f}'.format(b[0]))\n",
    "encoded = ujson.dumps(b[0], double_precision=22)\n",
    "print('What is encoded', '{0:.22}'.format(encoded))\n",
    "decoded = ujson.loads(encoded, precise_float=True)\n",
    "print('What is decoded','{0:.22f}'.format(decoded))"
   ]
  },
  {
   "cell_type": "code",
   "execution_count": 7,
   "metadata": {
    "collapsed": false
   },
   "outputs": [
    {
     "name": "stdout",
     "output_type": "stream",
     "text": [
      "Data            0.24694306033923762999649\n",
      "What is encoded 0.246943060339238\n",
      "What is decoded 0.24694306033923799081897\n"
     ]
    }
   ],
   "source": [
    "# Precision 23\n",
    "b = np.random.randn(1).astype('d')\n",
    "print('Data', '           {0:.23f}'.format(b[0]))\n",
    "encoded = ujson.dumps(b[0], double_precision=23)\n",
    "print('What is encoded', '{0:.23}'.format(encoded))\n",
    "decoded = ujson.loads(encoded, precise_float=True)\n",
    "print('What is decoded','{0:.23f}'.format(decoded))"
   ]
  },
  {
   "cell_type": "code",
   "execution_count": 8,
   "metadata": {
    "collapsed": false
   },
   "outputs": [
    {
     "name": "stdout",
     "output_type": "stream",
     "text": [
      "Data            -1.4104742536459780044566514\n",
      "What is encoded -1.410474253645978\n",
      "What is decoded -1.4104742536459780044566514\n"
     ]
    }
   ],
   "source": [
    "# Precision 25\n",
    "b = np.random.randn(1).astype('d')\n",
    "print('Data', '           {0:.25f}'.format(b[0]))\n",
    "encoded = ujson.dumps(b[0], double_precision=25)\n",
    "print('What is encoded', '{0:.25}'.format(encoded))\n",
    "decoded = ujson.loads(encoded, precise_float=True)\n",
    "print('What is decoded','{0:.25f}'.format(decoded))"
   ]
  },
  {
   "cell_type": "code",
   "execution_count": null,
   "metadata": {
    "collapsed": true
   },
   "outputs": [],
   "source": []
  }
 ],
 "metadata": {
  "kernelspec": {
   "display_name": "Python 3",
   "language": "python",
   "name": "python3"
  },
  "language_info": {
   "codemirror_mode": {
    "name": "ipython",
    "version": 3
   },
   "file_extension": ".py",
   "mimetype": "text/x-python",
   "name": "python",
   "nbconvert_exporter": "python",
   "pygments_lexer": "ipython3",
   "version": "3.4.3"
  }
 },
 "nbformat": 4,
 "nbformat_minor": 0
}
