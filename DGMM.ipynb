{
 "cells": [
  {
   "cell_type": "code",
   "execution_count": 4,
   "metadata": {
    "collapsed": false
   },
   "outputs": [
    {
     "data": {
      "text/plain": [
       "[<matplotlib.lines.Line2D at 0x10d118f28>]"
      ]
     },
     "execution_count": 4,
     "metadata": {},
     "output_type": "execute_result"
    },
    {
     "data": {
      "image/png": "[encoded data removed]",
      "text/plain": [
       "<matplotlib.figure.Figure at 0x10b150c88>"
      ]
     },
     "metadata": {},
     "output_type": "display_data"
    }
   ],
   "source": [
    "#################\n",
    "#################  to pick number of gaussian form 1D histogram\n",
    "\n",
    "\n",
    "import itertools\n",
    "\n",
    "import numpy as np\n",
    "from scipy import linalg\n",
    "import matplotlib.pyplot as plt\n",
    "import matplotlib as mpl\n",
    "\n",
    "from sklearn import mixture\n",
    "from sklearn.externals.six.moves import xrange\n",
    "\n",
    "%matplotlib inline\n",
    "\n",
    "np.random.seed(0)\n",
    "\n",
    "#### counts\n",
    "obs1 = 100\n",
    "obs2 = 100\n",
    "obs3 = 100\n",
    "\n",
    "#### means\n",
    "mu1 = 2\n",
    "mu2 = 10\n",
    "mu3 = 100\n",
    "\n",
    "#### variance \n",
    "sigma = 1\n",
    "\n",
    "X = np.concatenate((mu1 + sigma * np.random.randn(obs1, 1),\n",
    "                    mu2 + sigma * np.random.randn(obs2, 1), \n",
    "                    mu3 + sigma * np.random.randn(obs3, 1)))\n",
    "\n",
    "\n",
    "plt.plot(X)"
   ]
  },
  {
   "cell_type": "code",
   "execution_count": 6,
   "metadata": {
    "collapsed": false
   },
   "outputs": [],
   "source": [
    "g = mixture.GMM(n_components=3, covariance_type='full', n_iter=100)"
   ]
  },
  {
   "cell_type": "code",
   "execution_count": null,
   "metadata": {
    "collapsed": true
   },
   "outputs": [],
   "source": [
    "g.fit(X) "
   ]
  },
  {
   "cell_type": "code",
   "execution_count": null,
   "metadata": {
    "collapsed": true
   },
   "outputs": [],
   "source": [
    "\n",
    "\n",
    "\n",
    "\n",
    "\n",
    "#g.fit(X)\n",
    "#mixture.GMM(n_components=10, covariance_type='full', n_iter=100), \"Expectation-maximization\")\n",
    "\n",
    "\n",
    "\n",
    "#f = mixture.GMM(n_components=10, covariance_type='full', n_iter=100)\n",
    "#f.fit(X)\n",
    "\n",
    "h = mixture.DPGMM(n_components=3, covariance_type='full', alpha=100., n_iter=100)\n",
    "h.fit(X)\n",
    "\n",
    "#\n",
    "#\n",
    "#\n",
    "print np.round(g.weights_, 2)\n",
    "#print np.round(f.weights_, 2)\n",
    "print np.round(h.weights_, 2)\n",
    "\n",
    "\n",
    "print np.round(g.means_, 2)\n",
    "print np.round(h.means_, 2)\n",
    "\n",
    "\n",
    "\n",
    "\n",
    "##g.predict([[0], [2], [9], [10]]) \n",
    "##np.round(g.score([[0], [2], [9], [10]]), 2)\n",
    "#\n",
    "## Fit a Dirichlet process mixture of Gaussians using five components\n",
    "#dpgmm = mixture.DPGMM(n_components=5, covariance_type='full')\n",
    "#dpgmm.fit(obs)\n",
    "\n",
    "\n",
    "###### below is for a two variable system.... I need 1 variable. \n",
    "\n",
    "\n",
    "#import itertools\n",
    "#\n",
    "#import numpy as np\n",
    "#from scipy import linalg\n",
    "#import matplotlib.pyplot as plt\n",
    "#import matplotlib as mpl\n",
    "#\n",
    "#from sklearn import mixture\n",
    "#\n",
    "## Number of samples per component\n",
    "#n_samples = 500\n",
    "#\n",
    "## Generate random sample, two components\n",
    "#np.random.seed(0)\n",
    "#C = np.array([[0., -0.1], [1.7, .4]])\n",
    "#X = np.r_[np.dot(np.random.randn(n_samples, 2), C),\n",
    "#          .7 * np.random.randn(n_samples, 2) + np.array([-6, 3])]\n",
    "#\n",
    "## Fit a mixture of Gaussians with EM using five components\n",
    "#gmm = mixture.GMM(n_components=5, covariance_type='full')\n",
    "#gmm.fit(X)\n",
    "#\n",
    "## Fit a Dirichlet process mixture of Gaussians using five components\n",
    "#dpgmm = mixture.DPGMM(n_components=5, covariance_type='full')\n",
    "#dpgmm.fit(X)\n",
    "#\n",
    "#color_iter = itertools.cycle(['r', 'g', 'b', 'c', 'm'])\n",
    "#\n",
    "#for i, (clf, title) in enumerate([(gmm, 'GMM'),\n",
    "#                                  (dpgmm, 'Dirichlet Process GMM')]):\n",
    "#    splot = plt.subplot(2, 1, 1 + i)\n",
    "#    Y_ = clf.predict(X)\n",
    "#    for i, (mean, covar, color) in enumerate(zip(\n",
    "#            clf.means_, clf._get_covars(), color_iter)):\n",
    "#        v, w = linalg.eigh(covar)\n",
    "#        u = w[0] / linalg.norm(w[0])\n",
    "#        # as the DP will not use every component it has access to\n",
    "#        # unless it needs it, we shouldn't plot the redundant\n",
    "#        # components.\n",
    "#        if not np.any(Y_ == i):\n",
    "#            continue\n",
    "#        plt.scatter(X[Y_ == i, 0], X[Y_ == i, 1], .8, color=color)\n",
    "#\n",
    "#        # Plot an ellipse to show the Gaussian component\n",
    "#        angle = np.arctan(u[1] / u[0])\n",
    "#        angle = 180 * angle / np.pi  # convert to degrees\n",
    "#        ell = mpl.patches.Ellipse(mean, v[0], v[1], 180 + angle, color=color)\n",
    "#        ell.set_clip_box(splot.bbox)\n",
    "#        ell.set_alpha(0.5)\n",
    "#        splot.add_artist(ell)\n",
    "#\n",
    "#    plt.xlim(-10, 10)\n",
    "#    plt.ylim(-3, 6)\n",
    "#    plt.xticks(())\n",
    "#    plt.yticks(())\n",
    "#    plt.title(title)\n",
    "#\n",
    "#plt.show()"
   ]
  }
 ],
 "metadata": {
  "kernelspec": {
   "display_name": "Python 3",
   "language": "python",
   "name": "python3"
  },
  "language_info": {
   "codemirror_mode": {
    "name": "ipython",
    "version": 3
   },
   "file_extension": ".py",
   "mimetype": "text/x-python",
   "name": "python",
   "nbconvert_exporter": "python",
   "pygments_lexer": "ipython3",
   "version": "3.4.3"
  }
 },
 "nbformat": 4,
 "nbformat_minor": 0
}
