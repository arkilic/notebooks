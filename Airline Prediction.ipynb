{
 "cells": [
  {
   "cell_type": "markdown",
   "metadata": {},
   "source": [
    "**Question 1**"
   ]
  },
  {
   "cell_type": "code",
   "execution_count": 1,
   "metadata": {
    "collapsed": true
   },
   "outputs": [],
   "source": [
    "from __future__ import (absolute_import, division)\n",
    "import numpy as np\n",
    "from numpy.linalg import matrix_power\n",
    "import matplotlib.pyplot as plt\n",
    "%matplotlib inline"
   ]
  },
  {
   "cell_type": "code",
   "execution_count": 2,
   "metadata": {
    "collapsed": false
   },
   "outputs": [],
   "source": [
    "al0 = 5e5\n",
    "al1 = 2e5\n",
    "N = 20 # number of iterations to check convergence. global so can be set\n",
    "inits = np.array([[al0], [al1]])\n",
    "nth_res = np.zeros((2,1))\n",
    "p_ij = np.array([[1/6, 5/6],[1/3, 2/3]])\n",
    "all_res = [inits]"
   ]
  },
  {
   "cell_type": "markdown",
   "metadata": {},
   "source": [
    "Using $P[X_{n+1} = 0] = p_{0,0}P[X_n = 0] + p_{1,0}P[X_n = 1]$:"
   ]
  },
  {
   "cell_type": "code",
   "execution_count": 3,
   "metadata": {
    "collapsed": false
   },
   "outputs": [
    {
     "name": "stdout",
     "output_type": "stream",
     "text": [
      "Reached optimal point, no longer converges. Exiting at iter  9\n"
     ]
    }
   ],
   "source": [
    "p_t = np.transpose(p_ij)\n",
    "for n in range(N):\n",
    "    all_res.append(np.dot(matrix_power(p_t, n+1),\n",
    "                                      inits).round())\n",
    "    if (all_res[n]-all_res[n-1])[0][0] == 0:\n",
    "        print('Reached optimal point, no longer converges. Exiting at iter ', n)\n",
    "        break"
   ]
  },
  {
   "cell_type": "code",
   "execution_count": 4,
   "metadata": {
    "collapsed": false
   },
   "outputs": [],
   "source": [
    "# vectorized extraction of airline outputs\n",
    "al_0_out = [k[0][0] for k in all_res]\n",
    "al_1_out = [k[1][0] for k in all_res]"
   ]
  },
  {
   "cell_type": "code",
   "execution_count": 5,
   "metadata": {
    "collapsed": false
   },
   "outputs": [
    {
     "data": {
      "image/png": "[encoded data removed]",
      "text/plain": [
       "<matplotlib.figure.Figure at 0x7ff239372400>"
      ]
     },
     "metadata": {},
     "output_type": "display_data"
    }
   ],
   "source": [
    "plt.plot(al_0_out, label='airline0')\n",
    "plt.plot(al_1_out, '-*', label='airline1')\n",
    "plt.title('Airline Problem Convergence')\n",
    "plt.ylabel('Number of customers')\n",
    "plt.xlabel('Number of iterations')\n",
    "plt.legend()\n",
    "plt.show()"
   ]
  },
  {
   "cell_type": "markdown",
   "metadata": {},
   "source": [
    "It takes about 9 steps for the steady state passenger numbers to occur using the breakpoint logic shown in the script above. Since the passenger count cannot be floats, I round the total number of customers. If this was a financial security or volatility, I would clearly not be able to do this as the values of these would be floats. As also shown by the printout below, the final steady state number is 200k passengers for airline 0 and 500k passengers for airline 1."
   ]
  },
  {
   "cell_type": "code",
   "execution_count": 6,
   "metadata": {
    "collapsed": false
   },
   "outputs": [
    {
     "name": "stdout",
     "output_type": "stream",
     "text": [
      "[[[ 500000.]\n",
      "  [ 200000.]]\n",
      "\n",
      " [[ 150000.]\n",
      "  [ 550000.]]\n",
      "\n",
      " [[ 208333.]\n",
      "  [ 491667.]]\n",
      "\n",
      " [[ 198611.]\n",
      "  [ 501389.]]\n",
      "\n",
      " [[ 200231.]\n",
      "  [ 499769.]]\n",
      "\n",
      " [[ 199961.]\n",
      "  [ 500039.]]\n",
      "\n",
      " [[ 200006.]\n",
      "  [ 499994.]]\n",
      "\n",
      " [[ 199999.]\n",
      "  [ 500001.]]\n",
      "\n",
      " [[ 200000.]\n",
      "  [ 500000.]]\n",
      "\n",
      " [[ 200000.]\n",
      "  [ 500000.]]\n",
      "\n",
      " [[ 200000.]\n",
      "  [ 500000.]]]\n"
     ]
    }
   ],
   "source": [
    "print(np.array(all_res))"
   ]
  },
  {
   "cell_type": "code",
   "execution_count": null,
   "metadata": {
    "collapsed": true
   },
   "outputs": [],
   "source": []
  }
 ],
 "metadata": {
  "kernelspec": {
   "display_name": "Python 3",
   "language": "python",
   "name": "python3"
  },
  "language_info": {
   "codemirror_mode": {
    "name": "ipython",
    "version": 3
   },
   "file_extension": ".py",
   "mimetype": "text/x-python",
   "name": "python",
   "nbconvert_exporter": "python",
   "pygments_lexer": "ipython3",
   "version": "3.5.1"
  }
 },
 "nbformat": 4,
 "nbformat_minor": 0
}
