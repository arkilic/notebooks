{
 "cells": [
  {
   "cell_type": "code",
   "execution_count": 2,
   "metadata": {
    "collapsed": true
   },
   "outputs": [],
   "source": [
    "import numpy as np"
   ]
  },
  {
   "cell_type": "code",
   "execution_count": null,
   "metadata": {
    "collapsed": true
   },
   "outputs": [],
   "source": [
    "def u_solver(mesh):\n",
    "    r=0.01;\n",
    "    sigma=0.2;\n",
    "    K=100;\n",
    "    T=1;\n",
    "    R=300;\n",
    "    dt=T/mesh;\n",
    "    dx=R/mesh;\n",
    "\n",
    "    U=zeros((mesh-1,mesh));\n",
    "    B=ones(mesh-1,1);\n",
    "    a=ones(mesh-1,1);\n",
    "    b=ones(mesh-1,1);\n",
    "    c=ones(mesh-1,1);\n",
    "\n",
    "    for i=1:1:mesh-1\n",
    "        a(i)=-0.5*dt*sigma^2*i^2;\n",
    "        b(i)=1+dt*(r+r*i+sigma^2*i^2);\n",
    "        c(i)=dt*(-r*i-0.5*sigma^2*i^2);\n",
    "        U(i,1)=max(0,K-i*dx);\n",
    "    end\n",
    "    a(1)=0;c(mesh-1)=0;\n",
    "    B=U(:,1);\n",
    "    B(1,1)=U(1,1)-(-0.5*dt*sigma^2)*K*exp(-r*(T-dt));\n",
    "    for j=2:1:mesh\n",
    "        U(:,j)=TDMAsolver(a,b,c,B);\n",
    "        k=1:mesh-1;\n",
    "        U(:,j)=max(U(:,j),max(0,K-k*dx)');\n",
    "        B=U(:,j);\n",
    "        B(1,1)=U(1,1)-(-0.5*dt*sigma^2)*K*exp(-r*(T-dt));\n",
    "    end"
   ]
  },
  {
   "cell_type": "code",
   "execution_count": 4,
   "metadata": {
    "collapsed": false
   },
   "outputs": [],
   "source": [
    "def e_solver(mesh):\n",
    "    price1 = u_solver(mesh)\n",
    "    price2 = u_solver(mesh*2)\n",
    "    p1 = price1[:, mesh]\n",
    "    p2 = price2[2:2:2*mesh-2,2*mesh]\n",
    "    return max(abs(p1-p2));"
   ]
  },
  {
   "cell_type": "code",
   "execution_count": 5,
   "metadata": {
    "collapsed": true
   },
   "outputs": [],
   "source": [
    "def e_order(mesh):\n",
    "    return np.log(e_solver(mesh)/e_solver(mesh*2))/np.log(2)"
   ]
  },
  {
   "cell_type": "code",
   "execution_count": null,
   "metadata": {
    "collapsed": true
   },
   "outputs": [],
   "source": []
  },
  {
   "cell_type": "code",
   "execution_count": 152,
   "metadata": {
    "collapsed": false
   },
   "outputs": [
    {
     "name": "stdout",
     "output_type": "stream",
     "text": [
      "[ 0.  0.  0.  0.  0.  0.  0.  0.  0.]\n",
      "[ 0.  0.  0.  0.  0.  0.  0.  0.  0.]\n",
      "[ 0.  0.  0.  0.  0.  0.  0.  0.  0.]\n",
      "[ 0.  0.  0.  0.  0.  0.  0.  0.  0.]\n",
      "[ 0.  0.  0.  0.  0.  0.  0.  0.  0.]\n",
      "[ 0.  0.  0.  0.  0.  0.  0.  0.  0.]\n",
      "[ 0.  0.  0.  0.  0.  0.  0.  0.  0.]\n",
      "[ 0.  0.  0.  0.  0.  0.  0.  0.  0.]\n"
     ]
    }
   ],
   "source": [
    "mesh = 10\n",
    "\n",
    "r=0.01;\n",
    "sigma=0.2;\n",
    "K=100.0;\n",
    "T=1.0;\n",
    "R=300.0;\n",
    "dt=T/mesh;\n",
    "dx=R/mesh;\n",
    "\n",
    "U=np.zeros((mesh-1,mesh))\n",
    "B=np.ones((mesh-1,1))\n",
    "a=np.ones((mesh-1,1))\n",
    "b=np.ones((mesh-1,1))\n",
    "c=np.ones((mesh-1,1))\n",
    "\n",
    "for i in range(mesh-1):\n",
    "    a[i] = -0.5 * dt * sigma**2 * (i+1)**2\n",
    "    b[i] = 1 + dt * (r + r*i + sigma** 2 * (i+1)**2);\n",
    "    c[i] = dt * (-r * (i+1) - 0.5 * sigma**2 * (i+1)**2)\n",
    "    U[i,0]=max(0,K-(i+1)*dx);\n",
    "a[0] = 0\n",
    "c[-1] = 0\n",
    "B = U[:,0]\n",
    "B[0] = U[0, 0] - (-0.5*dt*sigma**2)*K*np.exp(-r*(T-dt))\n",
    "for j in range(1, mesh-1):\n",
    "    print(U[:, j])\n",
    "#     U(:,j)=TDMAsolver(a,b,c,B);\n",
    "#     k=1:mesh-1;\n",
    "#     U(:,j)=max(U(:,j),max(0,K-k*dx)');\n",
    "#     B=U(:,j);\n",
    "#     B(1,1)=U(1,1)-(-0.5*dt*sigma^2)*K*exp(-r*(T-dt));\n",
    "# end"
   ]
  },
  {
   "cell_type": "code",
   "execution_count": 149,
   "metadata": {
    "collapsed": false
   },
   "outputs": [
    {
     "data": {
      "text/plain": [
       "array([ 70.19820808,  40.        ,  10.        ,   0.        ,\n",
       "         0.        ,   0.        ,   0.        ,   0.        ,   0.        ])"
      ]
     },
     "execution_count": 149,
     "metadata": {},
     "output_type": "execute_result"
    }
   ],
   "source": [
    "B"
   ]
  },
  {
   "cell_type": "code",
   "execution_count": 135,
   "metadata": {
    "collapsed": false
   },
   "outputs": [
    {
     "data": {
      "text/plain": [
       "array([[ 1.005],\n",
       "       [ 1.018],\n",
       "       [ 1.039],\n",
       "       [ 1.068],\n",
       "       [ 1.105],\n",
       "       [ 1.15 ],\n",
       "       [ 1.203],\n",
       "       [ 1.264],\n",
       "       [ 1.333]])"
      ]
     },
     "execution_count": 135,
     "metadata": {},
     "output_type": "execute_result"
    }
   ],
   "source": [
    "b"
   ]
  },
  {
   "cell_type": "code",
   "execution_count": 136,
   "metadata": {
    "collapsed": false
   },
   "outputs": [
    {
     "data": {
      "text/plain": [
       "array([[-0.003],\n",
       "       [-0.01 ],\n",
       "       [-0.021],\n",
       "       [-0.036],\n",
       "       [-0.055],\n",
       "       [-0.078],\n",
       "       [-0.105],\n",
       "       [-0.136],\n",
       "       [-0.171]])"
      ]
     },
     "execution_count": 136,
     "metadata": {},
     "output_type": "execute_result"
    }
   ],
   "source": [
    "c"
   ]
  },
  {
   "cell_type": "code",
   "execution_count": 137,
   "metadata": {
    "collapsed": false
   },
   "outputs": [
    {
     "data": {
      "text/plain": [
       "array([[ 70.,   0.,   0.,   0.,   0.,   0.,   0.,   0.,   0.,   0.],\n",
       "       [ 40.,   0.,   0.,   0.,   0.,   0.,   0.,   0.,   0.,   0.],\n",
       "       [ 10.,   0.,   0.,   0.,   0.,   0.,   0.,   0.,   0.,   0.],\n",
       "       [  0.,   0.,   0.,   0.,   0.,   0.,   0.,   0.,   0.,   0.],\n",
       "       [  0.,   0.,   0.,   0.,   0.,   0.,   0.,   0.,   0.,   0.],\n",
       "       [  0.,   0.,   0.,   0.,   0.,   0.,   0.,   0.,   0.,   0.],\n",
       "       [  0.,   0.,   0.,   0.,   0.,   0.,   0.,   0.,   0.,   0.],\n",
       "       [  0.,   0.,   0.,   0.,   0.,   0.,   0.,   0.,   0.,   0.],\n",
       "       [  0.,   0.,   0.,   0.,   0.,   0.,   0.,   0.,   0.,   0.]])"
      ]
     },
     "execution_count": 137,
     "metadata": {},
     "output_type": "execute_result"
    }
   ],
   "source": [
    "U"
   ]
  },
  {
   "cell_type": "code",
   "execution_count": 138,
   "metadata": {
    "collapsed": true
   },
   "outputs": [],
   "source": []
  },
  {
   "cell_type": "code",
   "execution_count": 140,
   "metadata": {
    "collapsed": false
   },
   "outputs": [
    {
     "data": {
      "text/plain": [
       "array([[-0.003],\n",
       "       [-0.01 ],\n",
       "       [-0.021],\n",
       "       [-0.036],\n",
       "       [-0.055],\n",
       "       [-0.078],\n",
       "       [-0.105],\n",
       "       [-0.136],\n",
       "       [ 0.   ]])"
      ]
     },
     "execution_count": 140,
     "metadata": {},
     "output_type": "execute_result"
    }
   ],
   "source": [
    "c"
   ]
  },
  {
   "cell_type": "code",
   "execution_count": null,
   "metadata": {
    "collapsed": true
   },
   "outputs": [],
   "source": []
  }
 ],
 "metadata": {
  "kernelspec": {
   "display_name": "Python 3",
   "language": "python",
   "name": "python3"
  },
  "language_info": {
   "codemirror_mode": {
    "name": "ipython",
    "version": 3
   },
   "file_extension": ".py",
   "mimetype": "text/x-python",
   "name": "python",
   "nbconvert_exporter": "python",
   "pygments_lexer": "ipython3",
   "version": "3.5.2"
  }
 },
 "nbformat": 4,
 "nbformat_minor": 1
}
