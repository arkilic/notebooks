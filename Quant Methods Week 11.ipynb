{
 "cells": [
  {
   "cell_type": "markdown",
   "metadata": {},
   "source": [
    "Arman Arkilic\n",
    "\n",
    "#1 Implement Monte Carlo Algorithm as seen in class for European Call option"
   ]
  },
  {
   "cell_type": "code",
   "execution_count": 1,
   "metadata": {
    "collapsed": false
   },
   "outputs": [],
   "source": [
    "import numpy as np\n",
    "import math"
   ]
  },
  {
   "cell_type": "code",
   "execution_count": 2,
   "metadata": {
    "collapsed": true
   },
   "outputs": [],
   "source": [
    "def european_call_mc(s_0, K, T, r, sigma, i):\n",
    "    \"\"\"European call option algorithm using Monte Carlo simulation\"\"\"\n",
    "    # Get the random variables out of standard normal\n",
    "    z = np.random.standard_normal(I)\n",
    "    s_T = s_0 * np.exp((r - 0.5 * sigma**2) * T + sigma * np.sqrt(T) * z)\n",
    "    h_t = np.maximum(s_T-K, 0)\n",
    "    return np.exp(-r * T) * np.sum(h_t) / I"
   ]
  },
  {
   "cell_type": "markdown",
   "metadata": {},
   "source": [
    "#2 Use your algorithm to compute the value at time 0 provided variables below:"
   ]
  },
  {
   "cell_type": "code",
   "execution_count": 3,
   "metadata": {
    "collapsed": true
   },
   "outputs": [],
   "source": [
    "s_0 = 120\n",
    "K = 100\n",
    "T = 1.0\n",
    "r = 0.01\n",
    "sigma = 0.2\n",
    "\n",
    "I = 100000\n",
    "z = np.random.standard_normal(I)"
   ]
  },
  {
   "cell_type": "code",
   "execution_count": 4,
   "metadata": {
    "collapsed": false
   },
   "outputs": [],
   "source": [
    "result = european_call_mc(s_0, K, T, r, sigma, I)"
   ]
  },
  {
   "cell_type": "code",
   "execution_count": 5,
   "metadata": {
    "collapsed": false
   },
   "outputs": [
    {
     "data": {
      "text/plain": [
       "22.921443601243912"
      ]
     },
     "execution_count": 5,
     "metadata": {},
     "output_type": "execute_result"
    }
   ],
   "source": [
    "result"
   ]
  },
  {
   "cell_type": "markdown",
   "metadata": {},
   "source": [
    "#3 Compare the outcome with the value obtained from the exact formula given in class:"
   ]
  },
  {
   "cell_type": "code",
   "execution_count": 6,
   "metadata": {
    "collapsed": true
   },
   "outputs": [],
   "source": [
    "s_0 = 120\n",
    "K = 100\n",
    "T = 1.0\n",
    "r = 0.01\n",
    "sigma = 0.2\n",
    "\n",
    "I1 = int(1e5)\n",
    "I2 = int(1e6)\n",
    "z = np.random.standard_normal(I)\n",
    "\n",
    "result100k = european_call_mc(s_0, K, T, r, sigma, I1)\n",
    "result1mil = european_call_mc(s_0, K, T, r, sigma, I2)\n",
    "\n",
    "res_dict = {'exp_1_mil': result1mil,\n",
    "           'exp_100k': result100k}"
   ]
  },
  {
   "cell_type": "markdown",
   "metadata": {},
   "source": [
    "The price of the \n",
    "$v(t,x) = sN(d_{+}(T −t,s))−exp(−r(T −t))KN(d_{-} (T −t,s))$ where\n",
    "\n",
    "$d_{+}(\\tau, s) = 1/(\\sigma * sqrt(\\tau))[log(s/K) + (r + \\sigma ^2) \\tau]$"
   ]
  },
  {
   "cell_type": "markdown",
   "metadata": {},
   "source": [
    "$d_{+} = ( log(S/K)+(r+1/2*\\sigma^2))/(\\sigma*sqrt(T))$ = 0.21232 / 0.2 = 1.0615999999999999\n",
    "\n",
    "$d_{-} = d_{+} - \\sigma*sqrt(T)$ = 0.8616\n",
    "\n",
    "$SN(d_{+}) - Ke^{-r\\tau}N(d_{-})$ = 22.945710000000005"
   ]
  },
  {
   "cell_type": "code",
   "execution_count": 7,
   "metadata": {
    "collapsed": true
   },
   "outputs": [],
   "source": [
    "res_dict['formula'] = 22.945710000000005"
   ]
  },
  {
   "cell_type": "code",
   "execution_count": 8,
   "metadata": {
    "collapsed": false
   },
   "outputs": [
    {
     "name": "stdout",
     "output_type": "stream",
     "text": [
      "{'exp_100k': 22.899805344698429, 'formula': 22.945710000000005, 'exp_1_mil': 22.899198265423053}\n"
     ]
    }
   ],
   "source": [
    "print(res_dict)"
   ]
  },
  {
   "cell_type": "markdown",
   "metadata": {},
   "source": [
    "Clearly, with increasing number of iterations, the simulated outcome has less error compared to formula."
   ]
  },
  {
   "cell_type": "markdown",
   "metadata": {},
   "source": [
    "#4 Cash-or-nothing binary call option: if $S_T >_{=} K$ pay Q, otherwise pay 0"
   ]
  },
  {
   "cell_type": "code",
   "execution_count": 9,
   "metadata": {
    "collapsed": true
   },
   "outputs": [],
   "source": [
    "def indicator(s, k):\n",
    "    \"\"\"Provides a vectorized way to calculate binary indicator\"\"\"\n",
    "    if not isinstance(s, np.ndarray):\n",
    "        raise ValueError('S must be a numpy array')\n",
    "    return s > k\n",
    "\n",
    "def binary_call_mc(s_0, K, T, r, sigma, i, q):\n",
    "    \"\"\"European call option algorithm using Monte Carlo simulation\"\"\"\n",
    "    # Get the random variables out of standard normal\n",
    "    z = np.random.standard_normal(I)\n",
    "    s_T = s_0 * np.exp((r - 0.5 * sigma**2) * T + sigma * np.sqrt(T) * z)\n",
    "    h_t = indicator(s_T, K)\n",
    "    return np.exp(-r * T) * np.sum(h_t) / I * q"
   ]
  },
  {
   "cell_type": "markdown",
   "metadata": {},
   "source": [
    "#5"
   ]
  },
  {
   "cell_type": "code",
   "execution_count": 10,
   "metadata": {
    "collapsed": true
   },
   "outputs": [],
   "source": [
    "s_0 = 120\n",
    "K = 100\n",
    "T = 1.0\n",
    "r = 0.01\n",
    "sigma = 0.2\n",
    "Q = 10\n",
    "\n",
    "I = int(1e6)\n",
    "z = np.random.standard_normal(I)"
   ]
  },
  {
   "cell_type": "code",
   "execution_count": 11,
   "metadata": {
    "collapsed": false
   },
   "outputs": [],
   "source": [
    "result = binary_call_mc(s_0, K, T, r, sigma, I, Q)"
   ]
  },
  {
   "cell_type": "code",
   "execution_count": 12,
   "metadata": {
    "collapsed": false
   },
   "outputs": [
    {
     "data": {
      "text/plain": [
       "7.972703002710313"
      ]
     },
     "execution_count": 12,
     "metadata": {},
     "output_type": "execute_result"
    }
   ],
   "source": [
    "result"
   ]
  },
  {
   "cell_type": "markdown",
   "metadata": {},
   "source": [
    "#6 Under risk neutral measure:\n",
    "\n",
    "$S(t) = S(0) * e^{\\widetilde{W} \\sigma + (r - 1/2\\sigma^2)t}$ then\n",
    "\n",
    "$S(T) = S(t) * e^{(\\widetilde{W}(T))-\\widetilde{W}(t))\\sigma + (r - 1/2\\sigma^2)t}$\n",
    "\n",
    "$Y = - \\frac{(\\widetilde{W}(T) -  \\widetilde{W}(t))}{\\sqrt(T-t)}$ and Y~N(0, 1)\n",
    "\n",
    "By rewriting S(T) using Y, I get:\n",
    "\n",
    "$S(T) = S(t) e^{-\\sigma \\sqrt{T-t}Y + (r-0.5\\sigma^2)(T-t)}$\n",
    "\n",
    "Then the option price can be written as:\n",
    "\n",
    "$v(t, s) = \\widetilde{E}[e^{-r(T-t)} Q X_{S(t)exp{-\\sigma\\sqrt{T-t}Y + (r-0.5\\sigma^2)(T-t)}>K}$\n",
    "\n",
    "$v(t, s) = \\frac{1}{\\sqrt{2\\pi}} \\int \\limits_{-\\infty}^{d_{-}} e^{-r (T-t)} Q exp(-0.5 y^2) dy$\n",
    "\n",
    "$= \\frac{Q}{\\sqrt{2\\pi}}e^{-r(T-t)}\\int \\limits_{-\\infty}^{d_{-}}exp(-0.5 y^2) dy$\n",
    "\n",
    "$= Q e^{-r(T-t)} N(d_{-})$  where $d_{-} = \\frac{log(S/K) + (r - \\sigma^2)(T-t)}{\\sigma\\sqrt{T-t}}$ and N is standard normal distro cdf!\n"
   ]
  },
  {
   "cell_type": "markdown",
   "metadata": {},
   "source": [
    "#7 \n",
    "\n",
    "$r=0.01, S_{0}=120, K=100, T=1, \\sigma=0.2, Q=10, t=0$\n",
    "\n",
    "Then $v(t,s) = v(.120)=10 e^{-0.01} N(0.8616) = 7.97$"
   ]
  },
  {
   "cell_type": "markdown",
   "metadata": {},
   "source": [
    "#8 \n",
    "By looking at the outcome of the MC simulation on binary option (from output [12], we can clearly state that the simulation approximates the option price well since error is about 0.0098 between the closed form solution and the simulation"
   ]
  },
  {
   "cell_type": "code",
   "execution_count": null,
   "metadata": {
    "collapsed": true
   },
   "outputs": [],
   "source": []
  }
 ],
 "metadata": {
  "kernelspec": {
   "display_name": "Python 3",
   "language": "python",
   "name": "python3"
  },
  "language_info": {
   "codemirror_mode": {
    "name": "ipython",
    "version": 3
   },
   "file_extension": ".py",
   "mimetype": "text/x-python",
   "name": "python",
   "nbconvert_exporter": "python",
   "pygments_lexer": "ipython3",
   "version": "3.5.1"
  }
 },
 "nbformat": 4,
 "nbformat_minor": 0
}
