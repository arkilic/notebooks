{
 "cells": [
  {
   "cell_type": "markdown",
   "metadata": {},
   "source": [
    "Arman Arkilic\n",
    "\n",
    "#1 Implement Monte Carlo Algorithm as seen in class for European Call option"
   ]
  },
  {
   "cell_type": "code",
   "execution_count": 1,
   "metadata": {
    "collapsed": false
   },
   "outputs": [],
   "source": [
    "import numpy as np\n",
    "import math"
   ]
  },
  {
   "cell_type": "code",
   "execution_count": 2,
   "metadata": {
    "collapsed": true
   },
   "outputs": [],
   "source": [
    "def european_call_mc(s_0, K, T, r, sigma, i):\n",
    "    \"\"\"European call option algorithm using Monte Carlo simulation\"\"\"\n",
    "    # Get the random variables out of standard normal\n",
    "    z = np.random.standard_normal(I)\n",
    "    s_T = s_0 * np.exp((r - 0.5 * sigma**2) * T + sigma * np.sqrt(T) * z)\n",
    "    h_t = np.maximum(s_T-K, 0)\n",
    "    return np.exp(-r * T) * np.sum(h_t) / I"
   ]
  },
  {
   "cell_type": "markdown",
   "metadata": {},
   "source": [
    "#2 Use your algorithm to compute the value at time 0 provided variables below:"
   ]
  },
  {
   "cell_type": "code",
   "execution_count": 3,
   "metadata": {
    "collapsed": true
   },
   "outputs": [],
   "source": [
    "s_0 = 120\n",
    "K = 100\n",
    "T = 1.0\n",
    "r = 0.01\n",
    "sigma = 0.2\n",
    "\n",
    "I = 100000\n",
    "z = np.random.standard_normal(I)"
   ]
  },
  {
   "cell_type": "code",
   "execution_count": 4,
   "metadata": {
    "collapsed": false
   },
   "outputs": [],
   "source": [
    "result = european_call_mc(s_0, K, T, r, sigma, I)"
   ]
  },
  {
   "cell_type": "code",
   "execution_count": 5,
   "metadata": {
    "collapsed": false
   },
   "outputs": [
    {
     "data": {
      "text/plain": [
       "22.921443601243912"
      ]
     },
     "execution_count": 5,
     "metadata": {},
     "output_type": "execute_result"
    }
   ],
   "source": [
    "result"
   ]
  },
  {
   "cell_type": "markdown",
   "metadata": {},
   "source": [
    "#3 Compare the outcome with the value obtained from the exact formula given in class:"
   ]
  },
  {
   "cell_type": "code",
   "execution_count": 6,
   "metadata": {
    "collapsed": true
   },
   "outputs": [],
   "source": [
    "s_0 = 120\n",
    "K = 100\n",
    "T = 1.0\n",
    "r = 0.01\n",
    "sigma = 0.2\n",
    "\n",
    "I1 = int(1e5)\n",
    "I2 = int(1e6)\n",
    "z = np.random.standard_normal(I)\n",
    "\n",
    "result100k = european_call_mc(s_0, K, T, r, sigma, I1)\n",
    "result1mil = european_call_mc(s_0, K, T, r, sigma, I2)\n",
    "\n",
    "res_dict = {'exp_1_mil': result1mil,\n",
    "           'exp_100k': result100k}"
   ]
  },
  {
   "cell_type": "markdown",
   "metadata": {},
   "source": [
    "The price of the \n",
    "$v(t,x) = sN(d_{+}(T −t,s))−exp(−r(T −t))KN(d_{-} (T −t,s))$ where\n",
    "\n",
    "$d_{+}(\\tau, s) = 1/(\\sigma * sqrt(\\tau))[log(s/K) + (r + \\sigma ^2) \\tau]$"
   ]
  },
  {
   "cell_type": "markdown",
   "metadata": {},
   "source": [
    "$d_{+} = ( log(S/K)+(r+1/2*\\sigma^2))/(\\sigma*sqrt(T))$ = 0.21232 / 0.2 = 1.0615999999999999\n",
    "\n",
    "$d_{-} = d_{+} - \\sigma*sqrt(T)$ = 0.8616\n",
    "\n",
    "$SN(d_{+}) - Ke^{-r\\tau}N(d_{-})$ = 22.945710000000005"
   ]
  },
  {
   "cell_type": "code",
   "execution_count": 7,
   "metadata": {
    "collapsed": true
   },
   "outputs": [],
   "source": [
    "res_dict['formula'] = 22.945710000000005"
   ]
  },
  {
   "cell_type": "code",
   "execution_count": 8,
   "metadata": {
    "collapsed": false
   },
   "outputs": [
    {
     "name": "stdout",
     "output_type": "stream",
     "text": [
      "{'exp_100k': 22.899805344698429, 'formula': 22.945710000000005, 'exp_1_mil': 22.899198265423053}\n"
     ]
    }
   ],
   "source": [
    "print(res_dict)"
   ]
  },
  {
   "cell_type": "markdown",
   "metadata": {},
   "source": [
    "Clearly, with increasing number of iterations, the simulated outcome has less error compared to formula."
   ]
  },
  {
   "cell_type": "markdown",
   "metadata": {},
   "source": [
    "#4 Cash-or-nothing binary call option: if $S_T >_{=} K$ pay Q, otherwise pay 0"
   ]
  },
  {
   "cell_type": "code",
   "execution_count": 9,
   "metadata": {
    "collapsed": true
   },
   "outputs": [],
   "source": [
    "def indicator(s, k):\n",
    "    \"\"\"Provides a vectorized way to calculate binary indicator\"\"\"\n",
    "    if not isinstance(s, np.ndarray):\n",
    "        raise ValueError('S must be a numpy array')\n",
    "    return s > k\n",
    "\n",
    "def binary_call_mc(s_0, K, T, r, sigma, i, q):\n",
    "    \"\"\"European call option algorithm using Monte Carlo simulation\"\"\"\n",
    "    # Get the random variables out of standard normal\n",
    "    z = np.random.standard_normal(I)\n",
    "    s_T = s_0 * np.exp((r - 0.5 * sigma**2) * T + sigma * np.sqrt(T) * z)\n",
    "    h_t = indicator(s_T, K)\n",
    "    return np.exp(-r * T) * np.sum(h_t) / I * q"
   ]
  },
  {
   "cell_type": "markdown",
   "metadata": {},
   "source": [
    "#5"
   ]
  },
  {
   "cell_type": "code",
   "execution_count": 10,
   "metadata": {
    "collapsed": true
   },
   "outputs": [],
   "source": [
    "s_0 = 120\n",
    "K = 100\n",
    "T = 1.0\n",
    "r = 0.01\n",
    "sigma = 0.2\n",
    "Q = 10\n",
    "\n",
    "I = int(1e6)\n",
    "z = np.random.standard_normal(I)"
   ]
  },
  {
   "cell_type": "code",
   "execution_count": 11,
   "metadata": {
    "collapsed": false
   },
   "outputs": [],
   "source": [
    "result = binary_call_mc(s_0, K, T, r, sigma, I, Q)"
   ]
  },
  {
   "cell_type": "code",
   "execution_count": 12,
   "metadata": {
    "collapsed": false
   },
   "outputs": [
    {
     "data": {
      "text/plain": [
       "7.972703002710313"
      ]
     },
     "execution_count": 12,
     "metadata": {},
     "output_type": "execute_result"
    }
   ],
   "source": [
    "result"
   ]
  },
  {
   "cell_type": "markdown",
   "metadata": {},
   "source": [
    "#6 Under risk neutral measure:\n",
    "\n",
    "$S(t) = S(0) * e^{\\widetilde{W} \\sigma + (r - 1/2\\sigma^2)t}$ then\n",
    "\n",
    "$S(T) = S(t) * e^{(\\widetilde{W}(T))-\\widetilde{W}(t))\\sigma + (r - 1/2\\sigma^2)t}$\n",
    "\n",
    "$Y = - \\frac{(\\widetilde{W}(T) -  \\widetilde{W}(t))}{\\sqrt(T-t)}$ and Y~N(0, 1)\n",
    "\n",
    "By rewriting S(T) using Y, I get:\n",
    "\n",
    "$S(T) = S(t) e^{-\\sigma \\sqrt{T-t}Y + (r-0.5\\sigma^2)(T-t)}$\n",
    "\n",
    "Then the option price can be written as:\n",
    "\n",
    "$v(t, s) = \\widetilde{E}[e^{-r(T-t)} Q X_{S(t)exp{-\\sigma\\sqrt{T-t}Y + (r-0.5\\sigma^2)(T-t)}>K}$\n",
    "\n",
    "$v(t, s) = \\frac{1}{\\sqrt{2\\pi}} \\int \\limits_{-\\infty}^{d_{-}} e^{-r (T-t)} Q exp(-0.5 y^2) dy$\n",
    "\n",
    "$= \\frac{Q}{\\sqrt{2\\pi}}e^{-r(T-t)}\\int \\limits_{-\\infty}^{d_{-}}exp(-0.5 y^2) dy$\n",
    "\n",
    "$= Q e^{-r(T-t)} N(d_{-})$  where $d_{-} = \\frac{log(S/K) + (r - \\sigma^2)(T-t)}{\\sigma\\sqrt{T-t}}$ and N is standard normal distro cdf!\n"
   ]
  },
  {
   "cell_type": "markdown",
   "metadata": {},
   "source": [
    "#7 \n",
    "\n",
    "$r=0.01, S_{0}=120, K=100, T=1, \\sigma=0.2, Q=10, t=0$\n",
    "\n",
    "Then $v(t,s) = v(.120)=10 e^{-0.01} N(0.8616) = 7.97$"
   ]
  },
  {
   "cell_type": "markdown",
   "metadata": {},
   "source": [
    "#8 \n",
    "By looking at the outcome of the MC simulation on binary option (from output [12], we can clearly state that the simulation approximates the option price well since error is about 0.0098 between the closed form solution and the simulation"
   ]
  },
  {
   "cell_type": "code",
   "execution_count": null,
   "metadata": {
    "collapsed": true
   },
   "outputs": [],
   "source": [
    "#!/usr/bin/env python\n",
    "\n",
    "# To run this, you need Python 2.x, and install the\n",
    "# numpy and matplotlib packages for that language.\n",
    "from scipy import linsolve, sparse\n",
    "from numpy.core import empty, clip, zeros, exp, sqrt, ceil\n",
    "from numpy import linspace\n",
    "\n",
    "\n",
    "class BlackScholesSolver:\n",
    "  \"\"\"Finite-difference solver for the Black-Scholes PDE in its most basic form.\n",
    "     \n",
    "     The problem to solve is given by:\n",
    "\n",
    "      Function \n",
    "        f = f(t,x) over the rectangle 0 <= t <= T, Bl <= x <= Bu.\n",
    "      PDE\n",
    "        rf = df/dt + rx df/dx + (1/2)(sigma x)^2 d^f/dx^2\n",
    "      Boundary conditions\n",
    "        given on the three sides of the rectangle\n",
    "        t = T; x = Bl; x = Bu\n",
    "\n",
    "     where r, sigma, T, Bl, Bu are given parameters.\n",
    "  \"\"\"\n",
    "\n",
    "  def __init__(self, r, sigma, T, Bl, Bu, Fl, Fu, Fp, m, n):\n",
    "    \"\"\"Initialize the finite-difference solver.\n",
    "\n",
    "     Parameters:\n",
    "      r     - interest rate\n",
    "      sigma - volatility\n",
    "      T     - maturity time\n",
    "      Bl    - stock price on lower boundary\n",
    "      Bu    - stock price on upper boundary\n",
    "      Fl    - value of option on lower boundary\n",
    "      Fu    - value of option on upper boundary\n",
    "      Fp    - pay-off at maturity\n",
    "      m     - number of time steps to take when discretizing PDE\n",
    "      n     - number of points in x (stock price) domain\n",
    "              when discretizing PDE;  does not include the boundary points\n",
    "    \"\"\"\n",
    "\n",
    "    self.r  = r;  self.sigma = sigma;  self.T  = T\n",
    "\n",
    "    self.Bl = Bl;        self.Bu = Bu\n",
    "    self.Fl = Fl;        self.Fu = Fu\n",
    "\n",
    "    self.m  = m;         self.n  = n\n",
    "    \n",
    "    # Step sizes\n",
    "    self.dt = float(T)/m\n",
    "    self.dx = float(Bu-Bl)/(n+1)\n",
    "    self.xs = Bl/self.dx\n",
    "\n",
    "    # Grid that will eventually contain the finite-difference solution\n",
    "    self.u = empty((m+1, n))\n",
    "    self.u[0,:] = Fp                # initial condition\n",
    "\n",
    "  def build_sparse_explicit(s):\n",
    "    \"\"\"(internal) Set up the sparse matrix system for the explicit method.\"\"\"\n",
    "\n",
    "    A = sparse.lil_matrix((s.n, s.n))\n",
    "\n",
    "    for j in xrange(0, s.n):\n",
    "      xd = j+1+s.xs\n",
    "      ssxx = (s.sigma * xd) ** 2\n",
    "      \n",
    "      A[j,j] = 1.0 - s.dt*(ssxx + s.r)\n",
    "\n",
    "      if j > 0:\n",
    "        A[j,j-1] = 0.5*s.dt*(ssxx - s.r*xd)\n",
    "      if j < s.n-1:\n",
    "        A[j,j+1] = 0.5*s.dt*(ssxx + s.r*xd) \n",
    "\n",
    "    s.A = A.tocsr()\n",
    "\n",
    "  def build_sparse_implicit(s):\n",
    "    \"\"\"(internal) Set up the sparse matrix system for the implicit method.\"\"\"\n",
    "\n",
    "    C = sparse.lil_matrix((s.n, s.n))\n",
    "\n",
    "    for j in xrange(0, s.n):\n",
    "      xd = j+1+s.xs\n",
    "      ssxx = (s.sigma * xd) ** 2\n",
    "      \n",
    "      C[j,j] = 1.0 + s.dt*(ssxx + s.r)\n",
    "\n",
    "      if j > 0:\n",
    "        C[j,j-1] = 0.5*s.dt*(-ssxx + s.r*xd)\n",
    "      if j < s.n-1:\n",
    "        C[j,j+1] = 0.5*s.dt*(-ssxx - s.r*xd) \n",
    "\n",
    "    # Store matrix with sparse LU decomposition already performed\n",
    "    s.C = linsolve.splu(C)\n",
    "\n",
    "    # Buffer to store right-hand side of the linear system Cu = v\n",
    "    s.v = empty((n, ))\n",
    "\n",
    "  def build_sparse_crank_nicolson(s):\n",
    "    \"\"\"(internal) Set up the sparse matrices for the Crank-Nicolson method. \"\"\"\n",
    "\n",
    "    A = sparse.lil_matrix((s.n, s.n))\n",
    "    C = sparse.lil_matrix((s.n, s.n))\n",
    "\n",
    "    for j in xrange(0, s.n):\n",
    "      xd = j+1+s.xs\n",
    "      ssxx = (s.sigma * xd) ** 2\n",
    "\n",
    "      A[j,j] = 1.0 - 0.5*s.dt*(ssxx + s.r)\n",
    "      C[j,j] = 1.0 + 0.5*s.dt*(ssxx + s.r)\n",
    "      \n",
    "      if j > 0:\n",
    "        A[j,j-1] = 0.25*s.dt*(+ssxx - s.r*xd)\n",
    "        C[j,j-1] = 0.25*s.dt*(-ssxx + s.r*xd)\n",
    "      if j < s.n-1:\n",
    "        A[j,j+1] = 0.25*s.dt*(+ssxx + s.r*xd)\n",
    "        C[j,j+1] = 0.25*s.dt*(-ssxx - s.r*xd)\n",
    "\n",
    "    s.A = A.tocsr()\n",
    "    s.C = linsolve.splu(C)              # perform sparse LU decomposition\n",
    "\n",
    "    # Buffer to store right-hand side of the linear system Cu = v\n",
    "    s.v = empty((n, ))\n",
    "    \n",
    "  def time_step_explicit(s, i):\n",
    "    \"\"\"(internal) Solve the PDE for one time step using the explicit method.\"\"\"\n",
    "\n",
    "    # Perform the next time step\n",
    "    s.u[i+1,:]      = s.A * s.u[i,:]\n",
    "    \n",
    "    # and mix in the two other boundary conditions not accounted for above\n",
    "    xdl = 1+s.xs;  xdu = s.n+s.xs\n",
    "    s.u[i+1,0]     += s.Fl[i] * 0.5*s.dt*((s.sigma*xdl)**2 - s.r*xdl)\n",
    "    s.u[i+1,s.n-1] += s.Fu[i] * 0.5*s.dt*((s.sigma*xdu)**2 + s.r*xdu)\n",
    "\n",
    "  def time_step_implicit(s, i):\n",
    "    \"\"\"(internal) Solve the PDE for one time step using the implicit method.\"\"\"\n",
    "\n",
    "    s.v[:]      = s.u[i,:]\n",
    "\n",
    "    # Add in the two other boundary conditions\n",
    "    xdl = 1+s.xs;  xdu = s.n+s.xs\n",
    "    s.v[0]     -= s.Fl[i+1] * 0.5*s.dt*(-(s.sigma*xdl)**2 + s.r*xdl)\n",
    "    s.v[s.n-1] -= s.Fu[i+1] * 0.5*s.dt*(-(s.sigma*xdu)**2 - s.r*xdu)\n",
    "\n",
    "    # Perform the next time step\n",
    "    s.u[i+1,:] = s.C.solve(s.v)\n",
    "\n",
    "  def time_step_crank_nicolson(s, i):\n",
    "    \"\"\"(internal) Solve the PDE for one time step using the Crank-Nicolson method.\"\"\"\n",
    "\n",
    "    # Perform explicit part of time step\n",
    "    s.v[:]      = s.A * s.u[i,:]\n",
    "\n",
    "    # Add in the two other boundary conditions\n",
    "    xdl = 1+s.xs;  xdu = s.n+s.xs\n",
    "    s.v[0]     += s.Fl[i]   * 0.25*s.dt*(+(s.sigma*xdl)**2 - s.r*xdl)\n",
    "    s.v[s.n-1] += s.Fu[i]   * 0.25*s.dt*(+(s.sigma*xdu)**2 + s.r*xdu)\n",
    "    s.v[0]     -= s.Fl[i+1] * 0.25*s.dt*(-(s.sigma*xdl)**2 + s.r*xdl)\n",
    "    s.v[s.n-1] -= s.Fu[i+1] * 0.25*s.dt*(-(s.sigma*xdu)**2 - s.r*xdu)\n",
    "    \n",
    "    # Perform implicit part of time step\n",
    "    s.u[i+1,:] = s.C.solve(s.v)\n",
    "\n",
    "  def solve(self, method='crank-nicolson'):\n",
    "    \"\"\"Solve the Black-Scholes PDE with the parameters given at initialization.\n",
    "\n",
    "      Arguments:\n",
    "       method - Indicates which finite-difference method to use.  Choices:\n",
    "                'explicit': explicit method\n",
    "                'implicit': implicit method\n",
    "                'crank-nicolson': Crank-Nicolson method\n",
    "                'smoothed-crank-nicolson': \n",
    "                   Crank-Nicolson method with initial smoothing \n",
    "                   by the implicit method\n",
    "    \"\"\"\n",
    "\n",
    "    i_start = 0\n",
    "\n",
    "    if method == 'implicit':\n",
    "      self.build_sparse_implicit()\n",
    "      time_step = self.time_step_implicit\n",
    "    elif method == 'explicit':\n",
    "      self.build_sparse_explicit()\n",
    "      time_step = self.time_step_explicit\n",
    "    elif method == 'crank-nicolson' or method is None:\n",
    "      self.build_sparse_crank_nicolson()\n",
    "      time_step = self.time_step_crank_nicolson\n",
    "    elif method == 'smoothed-crank-nicolson':\n",
    "      self.build_sparse_implicit()\n",
    "      for i in range(0, 10):\n",
    "        self.time_step_implicit(i)\n",
    "      i_start = 10\n",
    "      self.build_sparse_crank_nicolson()\n",
    "      time_step = self.time_step_crank_nicolson\n",
    "    else:\n",
    "      raise ValueError('incorrect value for method argument')\n",
    "\n",
    "    for i in xrange(i_start, m):\n",
    "      time_step(i)\n",
    "\n",
    "    return self.u\n",
    "\n",
    "def european_call(r, sigma, T, Bu, m, n, Bl=0.0, barrier=None, method=None):\n",
    "  \"\"\"Compute prices for a European-style call option.\"\"\"\n",
    "\n",
    "  X = linspace(0.0, B, n+2)\n",
    "  X = X[1:-1]\n",
    "\n",
    "  Fp = clip(X-K, 0.0, 1e600)\n",
    "  \n",
    "  if barrier is None:\n",
    "    Fu = B - K*exp(-r * linspace(0.0, T, m+1))\n",
    "    Fl = zeros((m+1, ))\n",
    "  elif barrier == 'up-and-out':\n",
    "    Fu = Fl = zeros((m+1,))\n",
    "\n",
    "  bss = BlackScholesSolver(r, sigma, T, Bl, Bu, Fl, Fu, Fp, m, n)\n",
    "  return X, bss.solve(method)\n",
    "\n",
    "def european_put(r, sigma, T, Bu, m, n, Bl=0.0, barrier=None, method=None):\n",
    "  \"\"\"Compute prices for a European-style put option.\"\"\"\n",
    "\n",
    "  X = linspace(0.0, B, n+2)\n",
    "  X = X[1:-1]\n",
    "\n",
    "  Fp = clip(K-X, 0.0, 1e600)\n",
    "  \n",
    "  if barrier is None:\n",
    "    Fu = zeros((m+1,))\n",
    "    Fl = K*exp(-r * linspace(0.0, T, m+1))\n",
    "  elif barrier == 'up-and-out':\n",
    "    Fu = Fl = zeros((m+1,))\n",
    "\n",
    "  bss = BlackScholesSolver(r, sigma, T, Bl, Bu, Fl, Fu, Fp, m, n)\n",
    "  return X, bss.solve(method)\n",
    "\n",
    "def plot_solution(T, X, u):\n",
    "  # The surface plot\n",
    "  Xm, Tm = pylab.meshgrid(X, linspace(T, 0.0, u.shape[0]))\n",
    "  fig_surface = pylab.figure()\n",
    "  ax = matplotlib.axes3d.Axes3D(fig_surface)\n",
    "  ax.plot_surface(Xm, Tm, u)\n",
    "  ax.set_ylabel('Time $t$')\n",
    "  ax.set_xlabel('Stock price $x$')\n",
    "  ax.set_zlabel('Option value $f(t,x)$')\n",
    "  \n",
    "  # The color temperature plot\n",
    "  fig_color = pylab.figure()\n",
    "  ax = pylab.gca()\n",
    "  ax.set_xlabel('Time $t$')\n",
    "  ax.set_ylabel('Stock price $x$')\n",
    "  ax.imshow(u.T, interpolation='bilinear', origin='lower', \n",
    "            cmap=matplotlib.cm.hot, aspect='auto', extent=(T,0.0, X[0],X[-1]))\n",
    "  \n",
    "  # Plot of price function at time 0\n",
    "  fig_zero = pylab.figure()\n",
    "  pylab.plot(X, u[m-1,:])\n",
    "  ax = pylab.gca()\n",
    "  ax.set_xlabel('Stock price $x$')\n",
    "  ax.set_ylabel('Option value $f(0,x)$')\n",
    "\n",
    "  return fig_surface, fig_color, fig_zero\n",
    "\n",
    "def parse_options():\n",
    "  from optparse import OptionParser\n",
    "\n",
    "  parser = OptionParser()\n",
    "\n",
    "  parser.add_option(\"-r\", \"--interest\", dest=\"r\", default=\"0.10\",\n",
    "                    help=\"interest rate [default: %default]\")\n",
    "  parser.add_option(\"-v\", \"--volatility\", dest=\"sigma\", default=\"0.40\",\n",
    "                    help=\"volatility [default: %default]\")\n",
    "  \n",
    "  parser.add_option(\"-K\", \"--strike\", dest=\"K\", default=\"50.00\",\n",
    "                    help=\"strike price [default: %default]\")\n",
    "  parser.add_option(\"-T\", \"--maturity\", dest=\"T\", default=\"0.5\",\n",
    "                    help=\"maturity time [default: %default]\")\n",
    "  parser.add_option(\"-B\", \"--bound\", dest=\"B\", default=\"100.00\",\n",
    "                    help=\"upper bound on stock price [default: %default]\")\n",
    "\n",
    "  parser.add_option(\"-m\", \"--time-steps\", dest=\"m\", default=\"100\",\n",
    "                    help=\"number of time steps [default: %default]\")\n",
    "  parser.add_option(\"-n\", \"--space-steps\", dest=\"n\", default=\"200\",\n",
    "                    help=\"number of steps in stock-price space [default: %default]\")\n",
    "  parser.add_option(\"--dt\", dest=\"dt\", help=\"time step size\")\n",
    "  parser.add_option(\"--dx\", dest=\"dx\", help=\"stock-price step size\")\n",
    "  parser.add_option(\"--method\", dest=\"method\", help=\"finite-difference method\")\n",
    "\n",
    "  parser.add_option(\"-C\", \"--call\", dest=\"is_call\", action=\"store_true\", \n",
    "                    help=\"value a European-style call option\")\n",
    "  parser.add_option(\"-P\", \"--put\", dest=\"is_put\", action=\"store_true\", \n",
    "                    help=\"value a European-style put option\")\n",
    "  parser.add_option(\"--barrier\", dest=\"barrier\",\n",
    "                    help=\"value a barrier option\")\n",
    "\n",
    "  parser.add_option(\"--plot\", dest=\"plot\", action=\"store_true\", \n",
    "                    help=\"plot results\")\n",
    "  parser.add_option(\"--save-plot\", dest=\"save_plot\", action=\"store_true\",\n",
    "                    help=\"save plots to EPS files\")\n",
    "\n",
    "  (options, args) = parser.parse_args()\n",
    "  return options\n",
    "\n",
    "if __name__ == \"__main__\":\n",
    "  options = parse_options()\n",
    "\n",
    "  # Parameters\n",
    "  r = float(options.r)\n",
    "  sigma = float(options.sigma)\n",
    "  K = float(options.K)\n",
    "  T = float(options.T)\n",
    "  B = float(options.B)\n",
    "  \n",
    "  m = int(options.m)\n",
    "  n = int(options.n)\n",
    "\n",
    "  if options.dt is not None:\n",
    "    m = ceil(T/float(options.dt))\n",
    "  if options.dx is not None:\n",
    "    n = ceil(B/float(options.dx)) - 1\n",
    "\n",
    "  if options.is_put:\n",
    "    X, u = european_put(r, sigma, T, B, m, n, \n",
    "                        barrier=options.barrier, \n",
    "                        method=options.method)\n",
    "  else:\n",
    "    X, u = european_call(r, sigma, T, B, m, n, \n",
    "                        barrier=options.barrier,\n",
    "                        method=options.method)\n",
    "  \n",
    "  # Print out results at time 0\n",
    "  print \"Stock price x    Option price f(0,x)\"\n",
    "  for i in xrange(0, n):\n",
    "    print \"%10.4f         %10.4f \" % (X[i], u[m,i])\n",
    "\n",
    "  # Generate plots if user requests\n",
    "  if options.plot or options.save_plot:\n",
    "    import pylab\n",
    "    import matplotlib\n",
    "    import matplotlib.axes3d\n",
    "\n",
    "    golden_mean = (sqrt(5.0)-1.0)/2.0\n",
    "    pylab.rcParams.update( \\\n",
    "      {'backend': 'ps',\n",
    "       'ps.usedistiller': 'xpdf',\n",
    "       'axes.labelsize': 10,\n",
    "       'text.fontsize': 10,\n",
    "       'xtick.labelsize': 8,\n",
    "       'ytick.labelsize': 8,\n",
    "       'figure.figsize': [ 7.0, golden_mean*7.0 ],\n",
    "       'text.usetex': True })\n",
    "\n",
    "    fig_surface, fig_color, fig_zero = plot_solution(T, X, u)\n",
    "  \n",
    "    # Show figures\n",
    "    if options.plot:\n",
    "      pylab.show()\n",
    "\n",
    "    # Save figures to EPS format\n",
    "    if options.save_plot:\n",
    "      fig_surface.savefig('bs-surface.eps')\n",
    "      #fig_color.savefig('bs-color.eps')\n",
    "      fig_zero.savefig('bs-zero.eps')\n",
    "  \n",
    "  "
   ]
  }
 ],
 "metadata": {
  "kernelspec": {
   "display_name": "Python 3",
   "language": "python",
   "name": "python3"
  },
  "language_info": {
   "codemirror_mode": {
    "name": "ipython",
    "version": 3
   },
   "file_extension": ".py",
   "mimetype": "text/x-python",
   "name": "python",
   "nbconvert_exporter": "python",
   "pygments_lexer": "ipython3",
   "version": "3.5.1"
  }
 },
 "nbformat": 4,
 "nbformat_minor": 0
}
