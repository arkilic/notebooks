{
 "cells": [
  {
   "cell_type": "code",
   "execution_count": 21,
   "metadata": {
    "collapsed": false
   },
   "outputs": [],
   "source": [
    "%matplotlib inline\n",
    "from yahoo_finance import Share\n",
    "import numpy as np\n",
    "import seaborn as sns\n",
    "sns.set_style(\"darkgrid\")\n",
    "from dateutil import parser\n",
    "from sklearn import linear_model"
   ]
  },
  {
   "cell_type": "code",
   "execution_count": 3,
   "metadata": {
    "collapsed": true
   },
   "outputs": [],
   "source": [
    "spy = Share('SPY')\n",
    "voo = Share('VOO')\n",
    "ibb = Share('IBB')\n",
    "kre = Share('KRE')\n",
    "smh = Share('SMH')\n",
    "# botz = Share('BOTZ')\n",
    "pff = Share('PFF')\n",
    "jnk = Share('JNK')"
   ]
  },
  {
   "cell_type": "code",
   "execution_count": 4,
   "metadata": {
    "collapsed": false
   },
   "outputs": [],
   "source": [
    "spy_hist = spy.get_historical('2014-04-25', '2017-02-01')\n",
    "voo_hist = voo.get_historical('2014-04-25', '2017-02-01')\n",
    "ibb_hist = ibb.get_historical('2014-04-25', '2017-02-01')\n",
    "kre_hist = kre.get_historical('2014-04-25', '2017-02-01')\n",
    "smh_hist = smh.get_historical('2014-04-25', '2017-02-01')\n",
    "#botz_hist = botz.get_historical('2014-04-25', '2017-02-01')\n",
    "pff_hist = pff.get_historical('2014-04-25', '2017-02-01')\n",
    "jnk_hist = jnk.get_historical('2014-04-25', '2017-02-01')\n",
    "\n",
    "def floatize(a):\n",
    "    a['Open'] = float(a['Open'])\n",
    "    a['Close'] = float(a['Close'])\n",
    "    return a\n",
    "\n",
    "spy_hist = [floatize(s) for s in spy_hist]\n",
    "spy_time = [parser.parse(s['Date']) for s in spy_hist]\n",
    "\n",
    "voo_hist = [floatize(s) for s in voo_hist]\n",
    "voo_time = [parser.parse(s['Date']) for s in voo_hist]\n",
    "\n",
    "ibb_hist = [floatize(s) for s in ibb_hist]\n",
    "ibb_time = [parser.parse(s['Date']) for s in ibb_hist]\n",
    "\n",
    "kre_hist = [floatize(s) for s in kre_hist]\n",
    "kre_time = [parser.parse(s['Date']) for s in kre_hist]\n",
    "\n",
    "smh_hist = [floatize(s) for s in smh_hist]\n",
    "smh_time = [parser.parse(s['Date']) for s in smh_hist]\n",
    "\n",
    "pff_hist = [floatize(s) for s in pff_hist]\n",
    "pff_time = [parser.parse(s['Date']) for s in pff_hist]\n",
    "\n",
    "jnk_hist = [floatize(s) for s in jnk_hist]\n",
    "jnk_time = [parser.parse(s['Date']) for s in jnk_hist]"
   ]
  },
  {
   "cell_type": "code",
   "execution_count": 5,
   "metadata": {
    "collapsed": false
   },
   "outputs": [],
   "source": [
    "spy_return = [share['Close']-share['Open'] for share in spy_hist]\n",
    "\n",
    "voo_return = [share['Close']-share['Open'] for share in voo_hist]\n",
    "\n",
    "ibb_return = [share['Close']-share['Open'] for share in ibb_hist]\n",
    "\n",
    "kre_return = [share['Close']-share['Open'] for share in kre_hist]\n",
    "\n",
    "smh_return = [share['Close']-share['Open'] for share in smh_hist]\n",
    "\n",
    "pff_return = [share['Close']-share['Open'] for share in pff_hist]\n",
    "\n",
    "jnk_return = [share['Close']-share['Open'] for share in jnk_hist]"
   ]
  },
  {
   "cell_type": "code",
   "execution_count": 12,
   "metadata": {
    "collapsed": false
   },
   "outputs": [],
   "source": [
    "normalized_spy = np.asarray(spy_return, dtype=np.float64) / float(spy_return[0])\n",
    "\n",
    "normalized_voo = np.asarray(voo_return, dtype=np.float64) / float(voo_return[0])\n",
    "\n",
    "normalized_ibb = np.asarray(ibb_return, dtype=np.float64) / float(ibb_return[0])\n",
    "\n",
    "normalized_kre = np.asarray(kre_return, dtype=np.float64) / float(kre_return[0])\n",
    "\n",
    "normalized_smh = np.asarray(smh_return, dtype=np.float64) / float(smh_return[0])\n",
    "\n",
    "normalized_pff = np.asarray(pff_return, dtype=np.float64) / float(pff_return[0])\n",
    "\n",
    "normalized_jnk = np.asarray(jnk_return, dtype=np.float64) / float(jnk_return[0])"
   ]
  },
  {
   "cell_type": "code",
   "execution_count": 17,
   "metadata": {
    "collapsed": false
   },
   "outputs": [],
   "source": [
    "returns = [normalized_spy, normalized_voo, normalized_ibb, normalized_kre, normalized_smh,\n",
    "          normalized_pff, normalized_jnk]\n",
    "\n",
    "weights = np.asarray([10/46, 11/46, 5/46, 5/46, 5/46, 5/46, 5/46])\n",
    "\n",
    "corr_matrix = np.corrcoef(returns)\n",
    "portfolio_volatility = np.sqrt(weights.T.dot(corr_matrix).dot(weights))"
   ]
  },
  {
   "cell_type": "code",
   "execution_count": 18,
   "metadata": {
    "collapsed": false
   },
   "outputs": [
    {
     "data": {
      "text/plain": [
       "0.52390829708374465"
      ]
     },
     "execution_count": 18,
     "metadata": {},
     "output_type": "execute_result"
    }
   ],
   "source": [
    "portfolio_volatility"
   ]
  },
  {
   "cell_type": "code",
   "execution_count": 8,
   "metadata": {
    "collapsed": false
   },
   "outputs": [
    {
     "data": {
      "text/plain": [
       "[<matplotlib.lines.Line2D at 0x112b48898>]"
      ]
     },
     "execution_count": 8,
     "metadata": {},
     "output_type": "execute_result"
    },
    {
     "data": {
      "image/png": "[encoded data removed]",
      "text/plain": [
       "<matplotlib.figure.Figure at 0x10fb774a8>"
      ]
     },
     "metadata": {},
     "output_type": "display_data"
    }
   ],
   "source": [
    "sns.plt.plot(spy_time, normalized_spy)"
   ]
  },
  {
   "cell_type": "code",
   "execution_count": 37,
   "metadata": {
    "collapsed": false
   },
   "outputs": [],
   "source": [
    "volatility = np.std(normalized_spy)"
   ]
  },
  {
   "cell_type": "code",
   "execution_count": 20,
   "metadata": {
    "collapsed": false
   },
   "outputs": [
    {
     "name": "stdout",
     "output_type": "stream",
     "text": [
      "[[ 1.          0.99261794  0.62744957  0.62398891 -0.69539006  0.35435557\n",
      "  -0.5957737 ]\n",
      " [ 0.99261794  1.          0.62773527  0.62767143 -0.69255907  0.3614194\n",
      "  -0.59808048]\n",
      " [ 0.62744957  0.62773527  1.          0.37557869 -0.47724083  0.23047905\n",
      "  -0.35058289]\n",
      " [ 0.62398891  0.62767143  0.37557869  1.         -0.4388618   0.2334988\n",
      "  -0.39932145]\n",
      " [-0.69539006 -0.69255907 -0.47724083 -0.4388618   1.         -0.22737315\n",
      "   0.43888407]\n",
      " [ 0.35435557  0.3614194   0.23047905  0.2334988  -0.22737315  1.\n",
      "  -0.40346085]\n",
      " [-0.5957737  -0.59808048 -0.35058289 -0.39932145  0.43888407 -0.40346085\n",
      "   1.        ]]\n"
     ]
    }
   ],
   "source": [
    "print(corr_matrix)"
   ]
  },
  {
   "cell_type": "code",
   "execution_count": null,
   "metadata": {
    "collapsed": true
   },
   "outputs": [],
   "source": [
    "reg = linear_model.Lasso(alpha = 0.1)\n",
    "reg.fit()"
   ]
  },
  {
   "cell_type": "code",
   "execution_count": 33,
   "metadata": {
    "collapsed": false
   },
   "outputs": [
    {
     "ename": "ImportError",
     "evalue": "cannot import name 'urlencode'",
     "output_type": "error",
     "traceback": [
      "\u001b[0;31m------------------------------------------------------------------\u001b[0m",
      "\u001b[0;31mImportError\u001b[0m                      Traceback (most recent call last)",
      "\u001b[0;32m<ipython-input-33-906378e21fa4>\u001b[0m in \u001b[0;36m<module>\u001b[0;34m()\u001b[0m\n\u001b[1;32m      1\u001b[0m \u001b[0;32mimport\u001b[0m \u001b[0mnumpy\u001b[0m \u001b[0;32mas\u001b[0m \u001b[0mnp\u001b[0m\u001b[0;34m\u001b[0m\u001b[0m\n\u001b[1;32m      2\u001b[0m \u001b[0;32mfrom\u001b[0m \u001b[0murllib\u001b[0m \u001b[0;32mimport\u001b[0m \u001b[0mrequest\u001b[0m\u001b[0;34m\u001b[0m\u001b[0m\n\u001b[0;32m----> 3\u001b[0;31m \u001b[0;32mfrom\u001b[0m \u001b[0murllib3\u001b[0m \u001b[0;32mimport\u001b[0m \u001b[0murlencode\u001b[0m\u001b[0;34m\u001b[0m\u001b[0m\n\u001b[0m\u001b[1;32m      4\u001b[0m \u001b[0;32mimport\u001b[0m \u001b[0mmatplotlib\u001b[0m\u001b[0;34m.\u001b[0m\u001b[0mpyplot\u001b[0m \u001b[0;32mas\u001b[0m \u001b[0mplt\u001b[0m\u001b[0;34m\u001b[0m\u001b[0m\n\u001b[1;32m      5\u001b[0m \u001b[0;32mimport\u001b[0m \u001b[0mmatplotlib\u001b[0m\u001b[0;34m.\u001b[0m\u001b[0mdates\u001b[0m \u001b[0;32mas\u001b[0m \u001b[0mmdates\u001b[0m\u001b[0;34m\u001b[0m\u001b[0m\n",
      "\u001b[0;31mImportError\u001b[0m: cannot import name 'urlencode'"
     ]
    }
   ],
   "source": [
    "import numpy as np\n",
    "from urllib import request\n",
    "from urllib3 import urlencode\n",
    "import matplotlib.pyplot as plt\n",
    "import matplotlib.dates as mdates\n",
    "import datetime\n",
    "from scipy import stats\n",
    "\n",
    "class Stock(object):\n",
    "    def __init__(self,ticker,date_range = None,position = None):\n",
    "        self.ticker = ticker\n",
    "        self.position = position if position is not None else None\n",
    "\n",
    "        if date_range is not None:\n",
    "            self.date_range = date_range\n",
    "        else:\n",
    "            # If there was no specified time interval, presume that the\n",
    "            # user intends to download historical price data from the \n",
    "            # past year. Notice that the end of the time interval is \n",
    "            # today, while the start is one year in the past.\n",
    "            end = datetime.datetime.now().strftime(\"%Y-%m-%d\")\n",
    "            start = (datetime.datetime.now() - datetime.timedelta(days = 365)).strftime(\"%Y-%m-%d\")\n",
    "            self.date_range = {\"start\" : start, \"end\" : end}\n",
    "\n",
    "        try:\n",
    "            self.profile = self.yahoo_download_daily()\n",
    "            self.statistics = self.calculate_statistics()\n",
    "        except:\n",
    "            print(\"Invalid ticker symbol specified or else there was not an internet connection available.\")\n",
    "        \n",
    "        \n",
    "    def __str__(self):\n",
    "        print_string = \"Ticker: \" + self.ticker + \"\\n\"\n",
    "        print_string += \"Time series: From \" + self.date_range[\"start\"] + \" to \" + self.date_range[\"end\"] + \"\\n\\n\"\n",
    "        print_string += \"Current performance:\\n\"\n",
    "        print_string += \"Date\\t\\tOpen\\tHigh\\tLow\\tClose\\tVolume\\t\\tAdjusted Close\\n\"\n",
    "\n",
    "        current_date = sorted(self.profile.keys())[-1]\n",
    "        current_performance = self.profile[current_date]\n",
    "     \n",
    "        print_string += \"%s\\t%.2f\\t%.2f\\t%.2f\\t%.2f\\t%7e\\t%.2f\\n\\n\" % (current_date, \n",
    "                                                                       float(current_performance[\"Open\"]), \n",
    "                                                                       float(current_performance[\"High\"]), \n",
    "                                                                       float(current_performance[\"Low\"]), \n",
    "                                                                       float(current_performance[\"Close\"]), \n",
    "                                                                       int(current_performance[\"Volume\"]), \n",
    "                                                                       float(current_performance[\"Adj Close\"])\n",
    "                                                                       )\n",
    "        print_string += \"Expected return: %.4f\" % self.statistics[\"expected_return\"]\n",
    "        return print_string\n",
    "\n",
    "    def calculate_statistics(self):\n",
    "        statistics = {}\n",
    "        closing_prices = np.array(\n",
    "            [np.float(self.profile[day][\"Close\"]) for day in self.profile.keys()]\n",
    "            )\n",
    "\n",
    "        # Occasionally, values of zero are obtained as an asset price. In all likelihood, this\n",
    "        # value is rubbish and cannot be trusted, as it implies that the asset has no value. \n",
    "        # In these cases, we replace the reported asset price by the mean of all asset prices.\n",
    "        closing_prices[closing_prices == 0] = np.mean(closing_prices)\n",
    "\n",
    "        # Calculate the daily returns on the stock option. These calculation is\n",
    "        # defined by the formula:\n",
    "        #     R_t = (P_t / P_{t - 1}) - 1\n",
    "        # Refer to page five of Statistics and Data Analysis for Financial \n",
    "        # Engineering. For the expected return, we simply take the mean value of\n",
    "        # the calculated daily returns.\n",
    "        statistics[\"returns\"] = closing_prices[1:] / closing_prices[:-1] - 1\n",
    "        statistics[\"log_returns\"] = np.log(statistics[\"returns\"] + 1)\n",
    "\n",
    "        # Multiply the average daily return by the length of the time series in order to\n",
    "        # obtain the expected return over the entire period.\n",
    "        statistics[\"expected_daily_return\"] = np.mean(statistics[\"returns\"])\n",
    "        statistics[\"expected_return\"] = statistics[\"expected_daily_return\"] * len(statistics[\"returns\"])\n",
    "        \n",
    "        return statistics\n",
    "\n",
    "    def calculate_parametric_risk(self,alpha,position = None):\n",
    "\n",
    "        if position is None and self.position is not None:\n",
    "            position = self.position\n",
    "        elif position is None and self.position is None:\n",
    "            print(\"Either specify a position for the stock object or provide one as an input parameter.\")\n",
    "            return np.nan\n",
    "\n",
    "        returns = self.statistics[\"returns\"]\n",
    "        \n",
    "        # Fit a t-distribution to the daily returns data using the \n",
    "        # method of maximum likelihood estimation.\n",
    "        tdof, tloc, tscale = stats.t.fit(returns)\n",
    "        quantile = stats.t.ppf(alpha, tdof, tloc, tscale)\n",
    "\n",
    "        # Assuming that returns are i.i.d. with a t-distribution, it\n",
    "        # can be shown that value-at-risk is calculated as:\n",
    "        #      VaR_t(alpha) = -S * {mu + q_{alpha}(nu) * lambda}\n",
    "        # Is this formula, S refers to the size of the position. The \n",
    "        # parameters mu, lambda, and scale are the estimated mean, \n",
    "        # scale, and degrees of freedom of the sample returns. The\n",
    "        # parameter q_{alpha}(nu) is the alpha-quantile of a \n",
    "        # t-distribution with nu degrees of freedom. Refer to page \n",
    "        # 510 in Statistics and Data Analysis for Financial \n",
    "        # Engineering.\n",
    "        value_at_risk = -position * (tloc + quantile * tscale)\n",
    "        return value_at_risk\n",
    "\n",
    "    def asset_closing_prices(self,array = False):\n",
    "        sorted_dates = sorted(self.profile.keys())\n",
    "        closing_prices = [np.float(self.profile[day][\"Close\"]) for day in sorted_dates]\n",
    "        return np.array(closing_prices) if array else closing_prices\n",
    "\n",
    "    def display_price(self):\n",
    "        sorted_dates = sorted(self.profile.keys())\n",
    "        plt.plot_date([mdates.strpdate2num('%Y-%m-%d')(day) for day in sorted_dates],\n",
    "                      self.asset_closing_prices(),\n",
    "                      fmt=\"k-o\")\n",
    "        plt.title(self.ticker + \" Closing Prices\")\n",
    "        plt.ylabel(\"Daily Prices\")\n",
    "        plt.xlabel(\"Historical Dates\")\n",
    "        plt.grid(True)\n",
    "        plt.show()\n",
    "\n",
    "    def yahoo_download_daily(self):\n",
    "        # Stocks are defined over a range of time, with a beginning and an end \n",
    "        # date. We use these dates to query yahoo Finance! for the relevant \n",
    "        # historical price data.\n",
    "        start_date = self.date_range[\"start\"]\n",
    "        end_date = self.date_range[\"end\"]\n",
    "\n",
    "\n",
    "        # Encode the query parameters to be used in the GET request to yahoo \n",
    "        # Finance!\n",
    "        yahoo = {}\n",
    "        yahoo[\"parameters\"] = urlencode({\n",
    "                \"s\": self.ticker,\n",
    "                \"a\": int(start_date[5:7]) - 1,\n",
    "                \"b\": int(start_date[8:10]),\n",
    "                \"c\": int(start_date[0:4]),\n",
    "                \"d\": int(end_date[5:7]) - 1,\n",
    "                \"e\": int(end_date[8:10]),\n",
    "                \"f\": int(end_date[0:4]),\n",
    "                \"g\": \"d\",\n",
    "                \"ignore\": \".csv\",\n",
    "                })\n",
    "        yahoo[\"url\"] = \"http://ichart.yahoo.com/table.csv?%s\" % yahoo[\"parameters\"]\n",
    "        yahoo[\"query\"] = request(yahoo[\"url\"])\n",
    "        yahoo[\"response\"] = request.urlopen(yahoo[\"query\"])\n",
    "        yahoo[\"content\"] = str(yahoo[\"response\"].read().decode(\"utf-8\").strip())\n",
    "\n",
    "        daily_data = yahoo[\"content\"].splitlines()\n",
    "        historical_data = {}\n",
    "        keys = daily_data[0].split(\",\")\n",
    "\n",
    "        # For every day, create an entry in a dictionary of dates with the trading\n",
    "        # volume, the closing price, the opening price, the high and the low price, \n",
    "        # and the adjusted closing price. The data structure representing the \n",
    "        # historical price data is as follows:\n",
    "        #     'YYYY-MM-DD': {'Adj Close': 'float',\n",
    "        #                    'Close': 'float',\n",
    "        #                    'High': 'float',\n",
    "        #                    'Low': 'float',\n",
    "        #                    'Open': 'float',\n",
    "        #                    'Volume': 'int'\n",
    "        #                   }\n",
    "        for day in daily_data[1:]:\n",
    "            day_data = day.split(\",\")\n",
    "            date = day_data[0]\n",
    "            historical_data[date] = {\n",
    "                keys[1]: day_data[1],\n",
    "                keys[2]: day_data[2],\n",
    "                keys[3]: day_data[3],\n",
    "                keys[4]: day_data[4],\n",
    "                keys[5]: day_data[5],\n",
    "                keys[6]: day_data[6]\n",
    "                }\n",
    "        return historical_data"
   ]
  },
  {
   "cell_type": "code",
   "execution_count": 27,
   "metadata": {
    "collapsed": false
   },
   "outputs": [
    {
     "ename": "NameError",
     "evalue": "name 'Stock' is not defined",
     "output_type": "error",
     "traceback": [
      "\u001b[0;31m------------------------------------------------------------------\u001b[0m",
      "\u001b[0;31mNameError\u001b[0m                        Traceback (most recent call last)",
      "\u001b[0;32m<ipython-input-27-4258cbc55644>\u001b[0m in \u001b[0;36m<module>\u001b[0;34m()\u001b[0m\n\u001b[1;32m     75\u001b[0m \u001b[0mtickers\u001b[0m \u001b[0;34m=\u001b[0m \u001b[0;34m(\u001b[0m\u001b[0;34m\"^IRX\"\u001b[0m\u001b[0;34m,\u001b[0m\u001b[0;34m\"^GSPC\"\u001b[0m\u001b[0;34m,\u001b[0m\u001b[0;34m\"GOOG\"\u001b[0m\u001b[0;34m)\u001b[0m\u001b[0;34m\u001b[0m\u001b[0m\n\u001b[1;32m     76\u001b[0m capm = CAPM({\"ticker\" : tickers[0],\"date_range\" : date_range},\n\u001b[0;32m---> 77\u001b[0;31m     {\"ticker\" : tickers[1],\"date_range\" : date_range})\n\u001b[0m\u001b[1;32m     78\u001b[0m \u001b[0mcapm\u001b[0m\u001b[0;34m.\u001b[0m\u001b[0masset_regression\u001b[0m\u001b[0;34m(\u001b[0m\u001b[0;34m{\u001b[0m\u001b[0;34m\"ticker\"\u001b[0m \u001b[0;34m:\u001b[0m \u001b[0mtickers\u001b[0m\u001b[0;34m[\u001b[0m\u001b[0;36m2\u001b[0m\u001b[0;34m]\u001b[0m\u001b[0;34m,\u001b[0m\u001b[0;34m\"date_range\"\u001b[0m \u001b[0;34m:\u001b[0m \u001b[0mdate_range\u001b[0m\u001b[0;34m}\u001b[0m\u001b[0;34m)\u001b[0m\u001b[0;34m\u001b[0m\u001b[0m\n\u001b[1;32m     79\u001b[0m \u001b[0;34m\u001b[0m\u001b[0m\n",
      "\u001b[0;32m<ipython-input-27-4258cbc55644>\u001b[0m in \u001b[0;36m__init__\u001b[0;34m(self, risk_free, market, alpha)\u001b[0m\n\u001b[1;32m      6\u001b[0m     \u001b[0;32mdef\u001b[0m \u001b[0m__init__\u001b[0m\u001b[0;34m(\u001b[0m\u001b[0mself\u001b[0m\u001b[0;34m,\u001b[0m\u001b[0mrisk_free\u001b[0m\u001b[0;34m,\u001b[0m\u001b[0mmarket\u001b[0m\u001b[0;34m,\u001b[0m\u001b[0malpha\u001b[0m \u001b[0;34m=\u001b[0m \u001b[0;36m.05\u001b[0m\u001b[0;34m)\u001b[0m\u001b[0;34m:\u001b[0m\u001b[0;34m\u001b[0m\u001b[0m\n\u001b[1;32m      7\u001b[0m \u001b[0;34m\u001b[0m\u001b[0m\n\u001b[0;32m----> 8\u001b[0;31m         \u001b[0mself\u001b[0m\u001b[0;34m.\u001b[0m\u001b[0mrisk_free\u001b[0m \u001b[0;34m=\u001b[0m \u001b[0mStock\u001b[0m\u001b[0;34m(\u001b[0m\u001b[0mrisk_free\u001b[0m\u001b[0;34m[\u001b[0m\u001b[0;34m\"ticker\"\u001b[0m\u001b[0;34m]\u001b[0m\u001b[0;34m,\u001b[0m\u001b[0mrisk_free\u001b[0m\u001b[0;34m[\u001b[0m\u001b[0;34m\"date_range\"\u001b[0m\u001b[0;34m]\u001b[0m\u001b[0;34m)\u001b[0m \u001b[0;32mif\u001b[0m \u001b[0mtype\u001b[0m\u001b[0;34m(\u001b[0m\u001b[0mrisk_free\u001b[0m\u001b[0;34m)\u001b[0m \u001b[0;32mis\u001b[0m \u001b[0mdict\u001b[0m \u001b[0;32melse\u001b[0m \u001b[0mStock\u001b[0m\u001b[0;34m(\u001b[0m\u001b[0mrisk_free\u001b[0m\u001b[0;34m)\u001b[0m\u001b[0;34m\u001b[0m\u001b[0m\n\u001b[0m\u001b[1;32m      9\u001b[0m         \u001b[0mself\u001b[0m\u001b[0;34m.\u001b[0m\u001b[0mmarket\u001b[0m \u001b[0;34m=\u001b[0m \u001b[0mStock\u001b[0m\u001b[0;34m(\u001b[0m\u001b[0mmarket\u001b[0m\u001b[0;34m[\u001b[0m\u001b[0;34m\"ticker\"\u001b[0m\u001b[0;34m]\u001b[0m\u001b[0;34m,\u001b[0m\u001b[0mmarket\u001b[0m\u001b[0;34m[\u001b[0m\u001b[0;34m\"date_range\"\u001b[0m\u001b[0;34m]\u001b[0m\u001b[0;34m)\u001b[0m \u001b[0;32mif\u001b[0m \u001b[0mtype\u001b[0m\u001b[0;34m(\u001b[0m\u001b[0mmarket\u001b[0m\u001b[0;34m)\u001b[0m \u001b[0;32mis\u001b[0m \u001b[0mdict\u001b[0m \u001b[0;32melse\u001b[0m \u001b[0mStock\u001b[0m\u001b[0;34m(\u001b[0m\u001b[0mmarket\u001b[0m\u001b[0;34m)\u001b[0m\u001b[0;34m\u001b[0m\u001b[0m\n\u001b[1;32m     10\u001b[0m \u001b[0;34m\u001b[0m\u001b[0m\n",
      "\u001b[0;31mNameError\u001b[0m: name 'Stock' is not defined"
     ]
    }
   ],
   "source": [
    "\n",
    "import numpy as np\n",
    "from scipy.stats import norm\n",
    "\n",
    "class CAPM(object):\n",
    "    def __init__(self,risk_free,market,alpha = .05):\n",
    "\n",
    "        self.risk_free = Stock(risk_free[\"ticker\"],risk_free[\"date_range\"]) if type(risk_free) is dict else Stock(risk_free)\n",
    "        self.market = Stock(market[\"ticker\"],market[\"date_range\"]) if type(market) is dict else Stock(market)\n",
    "\n",
    "        self.alpha, self.beta = {}, {}\n",
    "        self.critical_value = norm.ppf(1 - alpha / 2.0)\n",
    "\n",
    "    def __str__(self):\n",
    "        if len(self.alpha.keys()) and len(self.beta.keys()):\n",
    "            alpha = self.alpha\n",
    "            beta = self.beta\n",
    "        else:\n",
    "            return \"The alpha and beta coefficients were not initialized. Please call the asset regression method before continuing.\"\n",
    "\n",
    "\n",
    "        print_string = \"Capital Asset Pricing Model:\\n\\tCritical value: %.2f\\n\" % self.critical_value\n",
    "        print_string += \"\\t\\t\\tValue\\t\\tLower Bound\\tUpper Bound\\n\"\n",
    "        print_string += \"\\talpha:\\t\\t%.4f\\t\\t%.4f\\t\\t%.4f\\n\" % (alpha[\"value\"],alpha[\"confidence_interval\"][0],\n",
    "                                                                    alpha[\"confidence_interval\"][1])\n",
    "        print_string += \"\\tbeta:\\t\\t%.4f\\t\\t%.4f\\t\\t%.4f\\n\\n\" % (beta[\"value\"],beta[\"confidence_interval\"][0],\n",
    "                                                                    beta[\"confidence_interval\"][1])\n",
    "        \n",
    "        if alpha[\"confidence_interval\"][0] > 0:\n",
    "            print_string += \"\\tThe CAPM reports that the security is overpriced. Asset returns are too large on average.\"\n",
    "        elif alpha[\"confidence_interval\"][1] < 0:\n",
    "            print_string += \"\\tThe CAPM reports that the security is underpriced. Asset returns are too small on average.\"\n",
    "        else:\n",
    "            print_string += \"\\tThere CAPM reports that the security is appropriately priced.\"\n",
    "\n",
    "        return print_string\n",
    "\n",
    "    def asset_regression(self,asset_data):\n",
    "\n",
    "        alpha, beta = {}, {}\n",
    "\n",
    "        asset = Stock(asset_data[\"ticker\"],asset_data[\"date_range\"]) if type(asset_data) is dict else Stock(asset_data)\n",
    "        market_premium = np.atleast_2d(self.market.statistics[\"returns\"] - self.risk_free.statistics[\"returns\"]).T\n",
    "        asset_premium = np.atleast_2d(asset.statistics[\"returns\"] - self.risk_free.statistics[\"returns\"]).T\n",
    "\n",
    "        constant = np.ones((market_premium.shape[0],1))\n",
    "        covariates = np.concatenate((constant,market_premium),axis = 1)\n",
    "\n",
    "        # Solve the capital asset pricing model in the least-squares sense. In\n",
    "        # particular, wel solve the following linear model for parameters theta_0\n",
    "        # and theta_1:\n",
    "        #     R_{j,t} - mu_{f,t} = theta_0 + theta_1 * (R_{M,t} - mu_{f,t}) + e_{j,t}\n",
    "        # Where R_{j,t} is the asset premium of the jth asset, mu_{f,t} is the\n",
    "        # risk-free rate, R_{M,t} is the market premium, and e_{j,t} represents an\n",
    "        # error term. Refer to page 435 in the Statistics and Data Analysis for\n",
    "        # Financial Engineering.\n",
    "        theta = np.linalg.lstsq(covariates,asset_premium)[0]\n",
    "        residuals = asset_premium - np.dot(covariates,theta)\n",
    "\n",
    "        # The rank of the covariates matrix is presumably two, and it is for that\n",
    "        # reason that we subtract two in the denominator.\n",
    "        s_squared = np.sum(residuals * residuals) / (market_premium.shape[0] - 2)\n",
    "\n",
    "        standard_errors = np.sqrt(s_squared * np.linalg.inv(np.dot(covariates.T,covariates)))\n",
    "        alpha[\"value\"] = theta[0]\n",
    "        alpha[\"confidence_interval\"] = theta[0] + standard_errors[0,0] * self.critical_value * np.array([-1,1])\n",
    "\n",
    "        beta[\"value\"] = theta[1]\n",
    "        beta[\"confidence_interval\"] = theta[1] + standard_errors[1,1] * self.critical_value * np.array([-1,1])\n",
    "\n",
    "        self.alpha = alpha\n",
    "        self.beta = beta\n",
    "\n",
    "date_range = {\"start\" : \"2012-01-03\", \"end\" : \"2013-01-08\"}\n",
    "tickers = (\"^IRX\",\"^GSPC\",\"GOOG\")\n",
    "capm = CAPM({\"ticker\" : tickers[0],\"date_range\" : date_range},\n",
    "    {\"ticker\" : tickers[1],\"date_range\" : date_range})\n",
    "capm.asset_regression({\"ticker\" : tickers[2],\"date_range\" : date_range})\n",
    "\n",
    "print(capm)"
   ]
  },
  {
   "cell_type": "code",
   "execution_count": null,
   "metadata": {
    "collapsed": true
   },
   "outputs": [],
   "source": []
  }
 ],
 "metadata": {
  "kernelspec": {
   "display_name": "Python 3",
   "language": "python",
   "name": "python3"
  },
  "language_info": {
   "codemirror_mode": {
    "name": "ipython",
    "version": 3
   },
   "file_extension": ".py",
   "mimetype": "text/x-python",
   "name": "python",
   "nbconvert_exporter": "python",
   "pygments_lexer": "ipython3",
   "version": "3.5.2"
  }
 },
 "nbformat": 4,
 "nbformat_minor": 0
}
