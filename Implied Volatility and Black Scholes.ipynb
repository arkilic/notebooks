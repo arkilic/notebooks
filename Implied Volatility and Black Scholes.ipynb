{
 "cells": [
  {
   "cell_type": "markdown",
   "metadata": {},
   "source": [
    "# Implied volatility for t = 0"
   ]
  },
  {
   "cell_type": "markdown",
   "metadata": {},
   "source": [
    "No closed form solution for BSM really exists so correct solution gets estiamted (hence, implied)"
   ]
  },
  {
   "cell_type": "code",
   "execution_count": 1,
   "metadata": {
    "collapsed": true
   },
   "outputs": [],
   "source": [
    "import math\n",
    "from scipy import stats"
   ]
  },
  {
   "cell_type": "code",
   "execution_count": 7,
   "metadata": {
    "collapsed": false
   },
   "outputs": [],
   "source": [
    "def bsm_call_value(S_0, K, T, r, sigma):\n",
    "    \"\"\"European Call option model via BSM.\n",
    "    Nothing exotic or American about this, simple\n",
    "    bsm w/o optimal execution time etc.\n",
    "    \n",
    "    Parameters\n",
    "    ----------\n",
    "    S_0: float\n",
    "        initial stock price\n",
    "    K: float\n",
    "        strike price\n",
    "    T: float\n",
    "        time to maturity\n",
    "    r: float\n",
    "        interest rate\n",
    "    sigma: float\n",
    "        implied volatility factor in diffusion term form\n",
    "    \n",
    "    Returns\n",
    "    -----------\n",
    "    value: float\n",
    "        calculated value of European Call option\n",
    "    \n",
    "    \"\"\"\n",
    "    \n",
    "    s0 = float(S_0)\n",
    "    d1 = (math.log(s0/K) + (r + 0.5 * sigma ** 2) * T) / (sigma * math.sqrt(T)) # upper bound\n",
    "    d2 = (math.log(s0/K) + (r - 0.5 * sigma ** 2) * T) / (sigma * math.sqrt(T)) # lower bound\n",
    "    return (s0 * stats.norm.cdf(d1, 0., 1.0) - K * math.exp(-r * T) * stats.norm.cdf(d2, 0., 1.0))"
   ]
  },
  {
   "cell_type": "code",
   "execution_count": 8,
   "metadata": {
    "collapsed": false
   },
   "outputs": [
    {
     "data": {
      "text/plain": [
       "100.89999999845834"
      ]
     },
     "execution_count": 8,
     "metadata": {},
     "output_type": "execute_result"
    }
   ],
   "source": [
    "def "
   ]
  },
  {
   "cell_type": "code",
   "execution_count": null,
   "metadata": {
    "collapsed": true
   },
   "outputs": [],
   "source": []
  }
 ],
 "metadata": {
  "kernelspec": {
   "display_name": "Python 3",
   "language": "python",
   "name": "python3"
  },
  "language_info": {
   "codemirror_mode": {
    "name": "ipython",
    "version": 3
   },
   "file_extension": ".py",
   "mimetype": "text/x-python",
   "name": "python",
   "nbconvert_exporter": "python",
   "pygments_lexer": "ipython3",
   "version": "3.4.3"
  }
 },
 "nbformat": 4,
 "nbformat_minor": 0
}
