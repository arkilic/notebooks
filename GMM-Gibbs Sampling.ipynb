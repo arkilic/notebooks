{
 "cells": [
  {
   "cell_type": "markdown",
   "metadata": {},
   "source": [
    "In the first question, I have suggested that we don't really know the number of clusters as increasing K caused more clusters. In this question, I seek answer to how many clusters are there given the data and its properties. "
   ]
  },
  {
   "cell_type": "code",
   "execution_count": 1,
   "metadata": {
    "collapsed": false
   },
   "outputs": [
    {
     "name": "stderr",
     "output_type": "stream",
     "text": [
      "Vendor:  Continuum Analytics, Inc.\n",
      "Package: mkl\n",
      "Message: trial mode expires in 28 days\n",
      "Vendor:  Continuum Analytics, Inc.\n"
     ]
    },
    {
     "name": "stdout",
     "output_type": "stream",
     "text": [
      "Using matplotlib backend: MacOSX\n"
     ]
    },
    {
     "name": "stderr",
     "output_type": "stream",
     "text": [
      "Package: mkl\n",
      "Message: trial mode expires in 28 days\n"
     ]
    }
   ],
   "source": [
    "from __future__ import (absolute_import, print_function, division)\n",
    "import matplotlib.pyplot as plt\n",
    "from pylab import *\n",
    "import pandas as pd\n",
    "import os\n",
    "from scipy.stats import dirichlet\n",
    "import numpy as np\n",
    "from scipy.stats import wishart\n",
    "from scipy.stats import norm\n",
    "# import numba\n",
    "from scipy.stats import multivariate_normal as mvn\n",
    "from numpy.linalg import inv\n",
    "from numpy import log as ln\n",
    "from scipy.special import psi\n",
    "from numpy.random import random as rand\n",
    "%matplotlib "
   ]
  },
  {
   "cell_type": "markdown",
   "metadata": {},
   "source": [
    "Mixture model used to generate data:\n",
    "\n",
    "* Model: $c_i ≈ Discrete(\\pi)$, $x_i ≈ p(x|\\theta_{c_i})$\n",
    "\n",
    "* Priors: $\\pi ≈ Dirichlet( \\alpha, \\alpha, ..., \\alpha)$, $\\theta_j ≈ p(\\theta)$\n",
    "\n",
    "Gaussian Mixture Model:\n",
    "$\\theta_j = \\{ \\mu_j, \\Lambda_j\\}$\n",
    "\n",
    "$p(x|\\theta_j) = Normal(\\mu_j, \\Lambda_j^{-1})$ and $p(\\theta) = Normal-Wishart\n",
    "\n",
    "**The Dirichlet process \"uncovers\" the correct number of clusters. Marginalization of $\\pi$ will save the day in Gibbs sampling setup.**\n",
    "\n",
    "Overall Gibbs Sampling Procedure\n",
    "-----\n",
    "1. For each iteration:\n",
    "\n",
    "    a. Sample each $c_i$ given the most recent $\\pi, \\theta, and\\ other\\ c_{-i}$\n",
    "    \n",
    "    b. Sample each $\\theta_i$ given the most recent c, $\\pi$, and $\\theta_{-i}$ \n",
    "    \n",
    "    c. Sample $\\pi$ given the most recent c and $\\theta$\n",
    "    \n",
    "**note**: just like the earlier model in problem 2, \n"
   ]
  },
  {
   "cell_type": "code",
   "execution_count": 3,
   "metadata": {
    "collapsed": true
   },
   "outputs": [],
   "source": [
    "def sample_c_i():\n",
    "    \"\"\"Indicates how likely each cluster is for the data point in x_i and pre-weight.\n",
    "    Returns\n",
    "    ------\n",
    "    A normalized K dimensional vector. This is to be used as parameter of Discrete distro \n",
    "    to sample a new index value for c_i.    \n",
    "    \"\"\"\n",
    "    pass"
   ]
  },
  {
   "cell_type": "code",
   "execution_count": null,
   "metadata": {
    "collapsed": true
   },
   "outputs": [],
   "source": [
    "def sample_theta_j():\n",
    "    \"\"\"Only depends ont he data in x_train that is assigned to cluster j\"\"\"\n",
    "    pass"
   ]
  },
  {
   "cell_type": "code",
   "execution_count": 2,
   "metadata": {
    "collapsed": true
   },
   "outputs": [],
   "source": [
    "os.chdir('/Users/arkilic/Desktop/')\n",
    "\n",
    "# Step 1\n",
    "\n",
    "x_train = pd.read_csv('data.txt', header=None)\n",
    "n, d = x_train.shape"
   ]
  },
  {
   "cell_type": "code",
   "execution_count": null,
   "metadata": {
    "collapsed": true
   },
   "outputs": [],
   "source": []
  }
 ],
 "metadata": {
  "kernelspec": {
   "display_name": "Python 2",
   "language": "python",
   "name": "python2"
  },
  "language_info": {
   "codemirror_mode": {
    "name": "ipython",
    "version": 2
   },
   "file_extension": ".py",
   "mimetype": "text/x-python",
   "name": "python",
   "nbconvert_exporter": "python",
   "pygments_lexer": "ipython2",
   "version": "2.7.11"
  }
 },
 "nbformat": 4,
 "nbformat_minor": 0
}
