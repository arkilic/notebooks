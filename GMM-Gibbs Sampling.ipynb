{
 "cells": [
  {
   "cell_type": "markdown",
   "metadata": {},
   "source": [
    "In the first question, I have suggested that we don't really know the number of clusters as increasing K caused more clusters. In this question, I seek answer to how many clusters are there given the data and its properties. "
   ]
  },
  {
   "cell_type": "code",
   "execution_count": 1,
   "metadata": {
    "collapsed": false
   },
   "outputs": [
    {
     "name": "stderr",
     "output_type": "stream",
     "text": [
      "Vendor:  Continuum Analytics, Inc.\n",
      "Package: mkl\n",
      "Message: trial mode expires in 28 days\n",
      "Vendor:  Continuum Analytics, Inc.\n"
     ]
    },
    {
     "name": "stdout",
     "output_type": "stream",
     "text": [
      "Using matplotlib backend: MacOSX\n"
     ]
    },
    {
     "name": "stderr",
     "output_type": "stream",
     "text": [
      "Package: mkl\n",
      "Message: trial mode expires in 28 days\n"
     ]
    }
   ],
   "source": [
    "from __future__ import (absolute_import, print_function, division)\n",
    "import matplotlib.pyplot as plt\n",
    "from pylab import *\n",
    "import pandas as pd\n",
    "import os\n",
    "from scipy.stats import dirichlet\n",
    "import numpy as np\n",
    "from scipy.stats import wishart\n",
    "from scipy.stats import norm\n",
    "# import numba\n",
    "from scipy.stats import multivariate_normal as mvn\n",
    "from numpy.linalg import inv\n",
    "from numpy import log as ln\n",
    "from scipy.special import psi\n",
    "from numpy.random import random as rand\n",
    "from scipy.stats import rv_discrete\n",
    "from scipy.stats import gamma\n",
    "import numpy.ma as ma\n",
    "\n",
    "\n",
    "%matplotlib \n",
    "\n",
    "\n",
    "wpdf = wishart.pdf\n",
    "dirpdf = dirichlet.pdf\n",
    "discrete = rv_discrete"
   ]
  },
  {
   "cell_type": "markdown",
   "metadata": {},
   "source": [
    "Mixture model used to generate data:\n",
    "\n",
    "* Model: $c_i ≈ Discrete(\\pi)$, $x_i ≈ p(x|\\theta_{c_i})$\n",
    "\n",
    "* Priors: $\\pi ≈ Dirichlet( \\alpha, \\alpha, ..., \\alpha)$, $\\theta_j ≈ p(\\theta)$\n",
    "\n",
    "Gaussian Mixture Model:\n",
    "$\\theta_j = \\{ \\mu_j, \\Lambda_j\\}$\n",
    "\n",
    "$p(x|\\theta_j) = Normal(\\mu_j, \\Lambda_j^{-1})$ and $p(\\theta) = Normal-Wishart\n",
    "\n",
    "**The Dirichlet process \"uncovers\" the correct number of clusters. Marginalization of $\\pi$ will save the day in Gibbs sampling setup.**\n",
    "\n",
    "Overall Gibbs Sampling Procedure\n",
    "-----\n",
    "1. For each iteration:\n",
    "\n",
    "    a. Sample each $c_i$ given the most recent $\\pi, \\theta, and\\ other\\ c_{-i}$\n",
    "    \n",
    "    b. Sample each $\\theta_i$ given the most recent c, $\\pi$, and $\\theta_{-i}$ \n",
    "    \n",
    "    c. Sample $\\pi$ given the most recent c and $\\theta$\n",
    "    \n",
    "**note**: just like the earlier model in problem 2, j is iteration count over k.\n"
   ]
  },
  {
   "cell_type": "markdown",
   "metadata": {},
   "source": [
    "**Sampling $c_i$:**\n",
    "* $p(c_i = j | X, \\theta, c_{-i}) p(c_i=j|c)$ \n",
    "$p(c_i = j | X, \\theta, c_{-i})$ is multivariate-normal on $\\mu_j$ and $\\Lambda_j$"
   ]
  },
  {
   "cell_type": "code",
   "execution_count": 2,
   "metadata": {
    "collapsed": true
   },
   "outputs": [],
   "source": [
    "def sample_c_i(mu_j, lambda_j, xi, alpha, n, c_i):\n",
    "    \"\"\"Indicates how likely each cluster is for the data point in x_i and pre-weight.\n",
    "    Returns\n",
    "    ------\n",
    "    A normalized K dimensional vector. This is to be used as parameter of Discrete distro \n",
    "    to sample a new index value for c_i.    \n",
    "    \"\"\"\n",
    "    x_given_theta = mvn.pdf(xi, mu_j[j], inv(lambda_j[j])) \n",
    "    \n",
    "    \n",
    "def sample_theta_j(x):\n",
    "    \"\"\"Only depends ont he data in x_train that is assigned to cluster j. Calculate posterior in closed form\n",
    "    and sample from it.\n",
    "    \"\"\"\n",
    "    pass\n",
    "\n",
    "\n",
    "def sample_pi(c):\n",
    "    \"\"\" Simple Dirichlet prior-multinomial likelihood setting. Conditional posterior of pi only depends on c.\n",
    "    \"\"\"\n",
    "    pass"
   ]
  },
  {
   "cell_type": "markdown",
   "metadata": {},
   "source": [
    "_I noticed that we did not really have to calculate these variables for finite K as we assume via Gibbs sampling that these terms will be marginalized using the limits.  Instead, I simplified the problem by using the appropriate algorithm for Dirichlet Process Gaussian Mixture model. I left the above as a mental guideline for myself to keep track of where things come from._"
   ]
  },
  {
   "cell_type": "code",
   "execution_count": 3,
   "metadata": {
    "collapsed": false
   },
   "outputs": [],
   "source": [
    "def x_given_theta(xi, mu_j, lambda_j):\n",
    "    return mvn.pdf(xi, mu_j[j], inv(lambda_j[j])) \n",
    "\n",
    "\n",
    "def normal_wishart(x_train, c, m, s, a, B):\n",
    "    \"\"\" This refers to the p($\\theta$) term in the model\n",
    "    Implements the normal wishart distribution discussed in class.\n",
    "    \n",
    "    Returns\n",
    "    -------\n",
    "    \n",
    "    m_j: float\n",
    "        Updated mean of normal\n",
    "    c_j: float\n",
    "        Updated variance of normal\n",
    "    a_j: float\n",
    "        Updated a of the Wishart\n",
    "    b_j: float\n",
    "        Updated b of the wishart distribution\n",
    "    \n",
    "    \"\"\"\n",
    "    term1 = m_j = c / (s + c) * m \n",
    "    term2 = 0\n",
    "    for i in range(s):\n",
    "        term2 += x_train.values[i]\n",
    "    m_j = term1  + 1 / (s + c) * term2     \n",
    "    c_j = s + c\n",
    "    a_j = a + s\n",
    "    term3 = 0\n",
    "    x_h = 0\n",
    "    \n",
    "    for _ in range(s):\n",
    "        x_h += x_train.values[i]\n",
    "    x_h = 1 / s * x_h\n",
    "    tr = s / (a * s + 1) * (x_train.values - m).dot((x_train.values - m).T)\n",
    "    for i in range(s):\n",
    "        tl = x_train.values[i] - x_h\n",
    "        term3 +=  tl.dot(tl.T) + tr\n",
    "    b_j = B + term3\n",
    "    return m_j, c_j, a_j, b_j"
   ]
  },
  {
   "cell_type": "code",
   "execution_count": 10,
   "metadata": {
    "collapsed": false
   },
   "outputs": [
    {
     "ename": "ValueError",
     "evalue": "Array 'mean' must be a vector of length 6.",
     "output_type": "error",
     "traceback": [
      "\u001b[0;31m---------------------------------------------------------------------------\u001b[0m",
      "\u001b[0;31mValueError\u001b[0m                                Traceback (most recent call last)",
      "\u001b[0;32m<ipython-input-10-06d3e647b73c>\u001b[0m in \u001b[0;36m<module>\u001b[0;34m()\u001b[0m\n\u001b[1;32m     28\u001b[0m     \u001b[0mmx\u001b[0m \u001b[0;34m=\u001b[0m \u001b[0mma\u001b[0m\u001b[0;34m.\u001b[0m\u001b[0mmasked_array\u001b[0m\u001b[0;34m(\u001b[0m\u001b[0mn_j\u001b[0m\u001b[0;34m,\u001b[0m \u001b[0mmask\u001b[0m\u001b[0;34m=\u001b[0m\u001b[0mmask\u001b[0m\u001b[0;34m)\u001b[0m\u001b[0;34m\u001b[0m\u001b[0m\n\u001b[1;32m     29\u001b[0m     \u001b[0mxi\u001b[0m \u001b[0;34m=\u001b[0m \u001b[0mx_train\u001b[0m\u001b[0;34m.\u001b[0m\u001b[0mvalues\u001b[0m\u001b[0;34m[\u001b[0m\u001b[0mi\u001b[0m\u001b[0;34m]\u001b[0m\u001b[0;34m\u001b[0m\u001b[0m\n\u001b[0;32m---> 30\u001b[0;31m     \u001b[0mtmp1\u001b[0m \u001b[0;34m=\u001b[0m \u001b[0mmvn\u001b[0m\u001b[0;34m.\u001b[0m\u001b[0mpdf\u001b[0m\u001b[0;34m(\u001b[0m\u001b[0mxi\u001b[0m\u001b[0;34m,\u001b[0m \u001b[0mmu_j\u001b[0m\u001b[0;34m,\u001b[0m \u001b[0minv\u001b[0m\u001b[0;34m(\u001b[0m\u001b[0mlambda_j\u001b[0m\u001b[0;34m)\u001b[0m\u001b[0;34m)\u001b[0m\u001b[0;34m\u001b[0m\u001b[0m\n\u001b[0m\u001b[1;32m     31\u001b[0m     \u001b[0ml\u001b[0m \u001b[0;34m=\u001b[0m \u001b[0mmx\u001b[0m \u001b[0;34m>\u001b[0m \u001b[0;36m0\u001b[0m\u001b[0;34m\u001b[0m\u001b[0m\n\u001b[1;32m     32\u001b[0m     \u001b[0mpos_nj_index\u001b[0m \u001b[0;34m=\u001b[0m \u001b[0ml\u001b[0m\u001b[0;34m.\u001b[0m\u001b[0mnonzero\u001b[0m\u001b[0;34m(\u001b[0m\u001b[0;34m)\u001b[0m\u001b[0;34m[\u001b[0m\u001b[0;36m0\u001b[0m\u001b[0;34m]\u001b[0m\u001b[0;34m\u001b[0m\u001b[0m\n",
      "\u001b[0;32m/Users/arkilic/anaconda/envs/py27/lib/python2.7/site-packages/scipy/stats/_multivariate.pyc\u001b[0m in \u001b[0;36mpdf\u001b[0;34m(self, x, mean, cov, allow_singular)\u001b[0m\n\u001b[1;32m    496\u001b[0m \u001b[0;34m\u001b[0m\u001b[0m\n\u001b[1;32m    497\u001b[0m         \"\"\"\n\u001b[0;32m--> 498\u001b[0;31m         \u001b[0mdim\u001b[0m\u001b[0;34m,\u001b[0m \u001b[0mmean\u001b[0m\u001b[0;34m,\u001b[0m \u001b[0mcov\u001b[0m \u001b[0;34m=\u001b[0m \u001b[0m_process_parameters\u001b[0m\u001b[0;34m(\u001b[0m\u001b[0mNone\u001b[0m\u001b[0;34m,\u001b[0m \u001b[0mmean\u001b[0m\u001b[0;34m,\u001b[0m \u001b[0mcov\u001b[0m\u001b[0;34m)\u001b[0m\u001b[0;34m\u001b[0m\u001b[0m\n\u001b[0m\u001b[1;32m    499\u001b[0m         \u001b[0mx\u001b[0m \u001b[0;34m=\u001b[0m \u001b[0m_process_quantiles\u001b[0m\u001b[0;34m(\u001b[0m\u001b[0mx\u001b[0m\u001b[0;34m,\u001b[0m \u001b[0mdim\u001b[0m\u001b[0;34m)\u001b[0m\u001b[0;34m\u001b[0m\u001b[0m\n\u001b[1;32m    500\u001b[0m         \u001b[0mpsd\u001b[0m \u001b[0;34m=\u001b[0m \u001b[0m_PSD\u001b[0m\u001b[0;34m(\u001b[0m\u001b[0mcov\u001b[0m\u001b[0;34m,\u001b[0m \u001b[0mallow_singular\u001b[0m\u001b[0;34m=\u001b[0m\u001b[0mallow_singular\u001b[0m\u001b[0;34m)\u001b[0m\u001b[0;34m\u001b[0m\u001b[0m\n",
      "\u001b[0;32m/Users/arkilic/anaconda/envs/py27/lib/python2.7/site-packages/scipy/stats/_multivariate.pyc\u001b[0m in \u001b[0;36m_process_parameters\u001b[0;34m(dim, mean, cov)\u001b[0m\n\u001b[1;32m     57\u001b[0m \u001b[0;34m\u001b[0m\u001b[0m\n\u001b[1;32m     58\u001b[0m     \u001b[0;32mif\u001b[0m \u001b[0mmean\u001b[0m\u001b[0;34m.\u001b[0m\u001b[0mndim\u001b[0m \u001b[0;34m!=\u001b[0m \u001b[0;36m1\u001b[0m \u001b[0;32mor\u001b[0m \u001b[0mmean\u001b[0m\u001b[0;34m.\u001b[0m\u001b[0mshape\u001b[0m\u001b[0;34m[\u001b[0m\u001b[0;36m0\u001b[0m\u001b[0;34m]\u001b[0m \u001b[0;34m!=\u001b[0m \u001b[0mdim\u001b[0m\u001b[0;34m:\u001b[0m\u001b[0;34m\u001b[0m\u001b[0m\n\u001b[0;32m---> 59\u001b[0;31m         \u001b[0;32mraise\u001b[0m \u001b[0mValueError\u001b[0m\u001b[0;34m(\u001b[0m\u001b[0;34m\"Array 'mean' must be a vector of length %d.\"\u001b[0m \u001b[0;34m%\u001b[0m \u001b[0mdim\u001b[0m\u001b[0;34m)\u001b[0m\u001b[0;34m\u001b[0m\u001b[0m\n\u001b[0m\u001b[1;32m     60\u001b[0m     \u001b[0;32mif\u001b[0m \u001b[0mcov\u001b[0m\u001b[0;34m.\u001b[0m\u001b[0mndim\u001b[0m \u001b[0;34m==\u001b[0m \u001b[0;36m0\u001b[0m\u001b[0;34m:\u001b[0m\u001b[0;34m\u001b[0m\u001b[0m\n\u001b[1;32m     61\u001b[0m         \u001b[0mcov\u001b[0m \u001b[0;34m=\u001b[0m \u001b[0mcov\u001b[0m \u001b[0;34m*\u001b[0m \u001b[0mnp\u001b[0m\u001b[0;34m.\u001b[0m\u001b[0meye\u001b[0m\u001b[0;34m(\u001b[0m\u001b[0mdim\u001b[0m\u001b[0;34m)\u001b[0m\u001b[0;34m\u001b[0m\u001b[0m\n",
      "\u001b[0;31mValueError\u001b[0m: Array 'mean' must be a vector of length 6."
     ]
    }
   ],
   "source": [
    "os.chdir('/Users/arkilic/Desktop/')\n",
    "\n",
    "# Step 1\n",
    "\n",
    "x_train = pd.read_csv('data.txt', header=None)\n",
    "n, d = x_train.shape\n",
    "c = 1/10\n",
    "a = d\n",
    "A = np.cov(x_train.values)\n",
    "B = c * d * A\n",
    "alpha = 1\n",
    "T = 500\n",
    "k = 3\n",
    "s = n\n",
    "m = np.mean(x_train.values)\n",
    "c_i = np.ones(k)\n",
    "mu_j = asarray([rand(d) for i in xrange(k)])\n",
    "lambda_j = asarray([np.diag(rand(d)) for i in xrange(k)])\n",
    "n_j = np.ones(n)\n",
    "phi_i = np.random.rand(n)\n",
    "\n",
    "\n",
    "for i in range(n):\n",
    "    \n",
    "    # Step 1, part (a)\n",
    "    mask = np.zeros(n)\n",
    "    mask[i] = 1\n",
    "    mx = ma.masked_array(n_j, mask=mask)\n",
    "    xi = x_train.values[i]\n",
    "    tmp1 = mvn.pdf(xi, mu_j[j], inv(lambda_j[j]))\n",
    "    l = mx > 0\n",
    "    pos_nj_index = l.nonzero()[0]\n",
    "    filler_val = tmp1 * mx / (alpha + n - 1) \n",
    "    phi_i.flat[pos_nj_index] = filler_val\n",
    "    \n",
    "    # Step 1, part (b)\n",
    "    expectation = 0\n",
    "\n",
    "    normal_wishart(x_train = x_train, c=c, m=m, s=s, a=a, B=B)\n",
    "    \n",
    "        \n",
    "m_j, c_j, a_j, b_j = normal_wishart(x_train=x_train, c=c, m=m, s=s, a=a, B=B)\n",
    "\n"
   ]
  },
  {
   "cell_type": "code",
   "execution_count": null,
   "metadata": {
    "collapsed": true
   },
   "outputs": [],
   "source": []
  }
 ],
 "metadata": {
  "kernelspec": {
   "display_name": "Python 2",
   "language": "python",
   "name": "python2"
  },
  "language_info": {
   "codemirror_mode": {
    "name": "ipython",
    "version": 2
   },
   "file_extension": ".py",
   "mimetype": "text/x-python",
   "name": "python",
   "nbconvert_exporter": "python",
   "pygments_lexer": "ipython2",
   "version": "2.7.11"
  }
 },
 "nbformat": 4,
 "nbformat_minor": 0
}
