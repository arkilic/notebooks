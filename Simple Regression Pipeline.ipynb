{
 "cells": [
  {
   "cell_type": "code",
   "execution_count": null,
   "metadata": {
    "collapsed": true
   },
   "outputs": [],
   "source": [
    "import numpy as np\n",
    "import pandas as pd\n",
    "import datetime\n",
    "from sklearn import preprocessing\n",
    "from datetime import datetime\n",
    "from sklearn.svm import SVC\n",
    "import operator\n",
    "import googlefinance.client as gfc\n",
    "from matplotlib import pyplot as plt\n",
    "\n",
    "from sklearn import linear_model\n",
    "from sklearn.model_selection import train_test_split\n",
    "\n",
    "from sklearn.ensemble import RandomForestRegressor\n",
    "\n",
    "import quandl\n",
    "\n",
    "%matplotlib notebook"
   ]
  },
  {
   "cell_type": "markdown",
   "metadata": {},
   "source": [
    "The goal of this notebook is to create time series regression models using some regression models as well as \"Forest\" models (both regression and deep learning versions). \n",
    "\n",
    "The features for this part of the research are going to be extracted using data freely available in Python via Quandl and pandas Yahoo finance support. \n",
    "\n",
    "- NASDAQ Composite\n",
    "- Dow Jones Industrial Average\n",
    "- Frankfurt DAX\n",
    "- London FTSE-100\n",
    "- Paris CAC 40\n",
    "- Tokyo Nikkei-225\n",
    "- Hong Kong Hang Seng\n",
    "- Australia ASX-200\n",
    "\n",
    "The features will be extracted from the major market indicators above will have the following format:\n",
    "\n",
    "- Date : in days\n",
    "\n",
    "- Open : price of the stock at the opening of the trading (in US dollars)\n",
    "- High : highest price of the stock during the day (in US dollars)\n",
    "- Low : lowest price of the stock during the trading day (in US dollars)\n",
    "- Close : price of the stock at the closing of the trading (in US dollars)\n",
    "- Volume : amount of stocks traded (in US dollars)\n",
    "- Adj Close : price of the stock at the closing of the trading adjusted with dividends (in US dollars)"
   ]
  },
  {
   "cell_type": "code",
   "execution_count": null,
   "metadata": {},
   "outputs": [],
   "source": [
    "# Get googlefinance major global ETF data\n",
    "\n",
    "period = \"12M\"\n",
    "\n",
    "params = [\n",
    "    {'q': \"IXIC\",\n",
    "     'x': 'INDEXNASDAQ'\n",
    "    },\n",
    "    {'q': '.DJI',\n",
    "      'x': 'INDEXDJX'  \n",
    "    },\n",
    "    {'q':'DAX',\n",
    "     'x':'INDEXDB'   \n",
    "    },\n",
    "    {'q': 'UKX',\n",
    "      'x':'INDEXFTSE'   \n",
    "    },\n",
    "    {'q': 'PX1',\n",
    "      'x': 'INDEXEURO'   \n",
    "    },\n",
    "    {'q': 'NI225',\n",
    "      'x': 'INDEXNIKKEI'  \n",
    "    },\n",
    "    {'q': 'HSI',\n",
    "      'x': 'INDEXHANGSENG'  \n",
    "    },\n",
    "    {'q': 'XJO',\n",
    "      'x':'INDEXASX'   \n",
    "    },\n",
    "    {'q': \"SPY\",\n",
    "     'x': 'NYSEARCA'\n",
    "    }\n",
    "]\n",
    "feats1 = gfc.get_prices_data(params, period)\n",
    "# Clear the null volume data\n",
    "j = feats1.pop('IXIC_Volume')\n",
    "j = feats1.pop('XJO_Volume')\n",
    "feats1.shape"
   ]
  },
  {
   "cell_type": "code",
   "execution_count": null,
   "metadata": {
    "collapsed": true
   },
   "outputs": [],
   "source": [
    "# Get Interest rate yield curve pct_change\n",
    "# Get inflation pct_change\n",
    "# Get yields of ETFs (2nd stage)\n",
    "# Get US GDP pct_change\n",
    "# Get correlations of the signals listed with respct to SPY (or alternative ETFs listed in project)\n",
    "\n",
    "\n",
    "\n",
    "# Currently, some placeholder data from quandl, going to replace with data mentioned above\n",
    "quandl.ApiConfig.api_key = \"a1LZ4iFxZS6mzZUsf28u\"\n",
    "feats2 = quandl.get('BEA/NIPA_2_8_7_M', start_date='2016-08-31',\n",
    "                   end_date='2017-08-31')\n",
    "feats1 = feats1.dropna()"
   ]
  },
  {
   "cell_type": "code",
   "execution_count": null,
   "metadata": {
    "collapsed": true
   },
   "outputs": [],
   "source": [
    "x = feats1\n",
    "y = feats2"
   ]
  },
  {
   "cell_type": "code",
   "execution_count": null,
   "metadata": {},
   "outputs": [],
   "source": [
    "y = y.resample('1D', 'ffill').reindex(x.index)"
   ]
  },
  {
   "cell_type": "code",
   "execution_count": null,
   "metadata": {},
   "outputs": [],
   "source": [
    "for i in y.columns:\n",
    "    x[i] = y[i]"
   ]
  },
  {
   "cell_type": "code",
   "execution_count": null,
   "metadata": {
    "collapsed": true
   },
   "outputs": [],
   "source": [
    "x.head()\n",
    "feats1 = x"
   ]
  },
  {
   "cell_type": "code",
   "execution_count": null,
   "metadata": {},
   "outputs": [],
   "source": [
    "feats1 = feats1.dropna()\n",
    "y = feats1.pop('SPY_Close')\n",
    "X = feats1"
   ]
  },
  {
   "cell_type": "code",
   "execution_count": null,
   "metadata": {},
   "outputs": [],
   "source": [
    "X.tail()"
   ]
  },
  {
   "cell_type": "code",
   "execution_count": null,
   "metadata": {},
   "outputs": [],
   "source": [
    "y = y.shift(1).dropna()"
   ]
  },
  {
   "cell_type": "code",
   "execution_count": null,
   "metadata": {},
   "outputs": [],
   "source": [
    "X = X[:-1]"
   ]
  },
  {
   "cell_type": "code",
   "execution_count": null,
   "metadata": {},
   "outputs": [],
   "source": [
    "X.shape, y.shape"
   ]
  },
  {
   "cell_type": "code",
   "execution_count": null,
   "metadata": {
    "collapsed": true
   },
   "outputs": [],
   "source": [
    "# Use 95% to train of the 12 month data set\n",
    "\n",
    "# X_train, X_test, y_train, y_test = train_test_split(X, y, test_size=0.1, random_state=42)\n",
    "training_range = int(X.shape[0] *.95)\n",
    "X_train = X[0:training_range]\n",
    "y_train = y[0:training_range]\n",
    "\n",
    "X_test = X[training_range: ]\n",
    "y_test = y[training_range: ]"
   ]
  },
  {
   "cell_type": "code",
   "execution_count": null,
   "metadata": {},
   "outputs": [],
   "source": [
    "X_train.head()"
   ]
  },
  {
   "cell_type": "code",
   "execution_count": null,
   "metadata": {},
   "outputs": [],
   "source": [
    "# The next day prediction\n",
    "y_train.head()"
   ]
  },
  {
   "cell_type": "markdown",
   "metadata": {},
   "source": [
    "# Ordinary Least Square"
   ]
  },
  {
   "cell_type": "code",
   "execution_count": null,
   "metadata": {},
   "outputs": [],
   "source": [
    "reg = linear_model.LinearRegression()\n",
    "reg.fit(X_train, y_train)\n",
    "y_predicted = reg.predict(X_test)\n",
    "\n",
    "fig, ax = plt.subplots()\n",
    "ax.plot(y_test.values, label='Actual SPY')\n",
    "ax.plot(y_predicted, label='Predicted SPY')\n",
    "ax.set_title('OLS Prediction for SPY using 1 year period')\n",
    "plt.legend()\n",
    "\n",
    "\n",
    "\n",
    "reg.score(X_test, y_test)"
   ]
  },
  {
   "cell_type": "markdown",
   "metadata": {},
   "source": [
    "# RidgeCV Method"
   ]
  },
  {
   "cell_type": "code",
   "execution_count": null,
   "metadata": {},
   "outputs": [],
   "source": [
    "ridge = linear_model.RidgeCV()\n",
    "ridge.fit(X_train, y_train)\n",
    "y_ridge_predicted = ridge.predict(X_test)\n",
    "\n",
    "fig, ax = plt.subplots()\n",
    "ax.plot(y_test.values, label='Actual SPY')\n",
    "ax.plot(y_ridge_predicted, label='Predicted SPY')\n",
    "ax.set_title('RidgeCV Prediction for SPY using 1 year period')\n",
    "plt.legend()\n",
    "\n",
    "ridge.score(X_test, y_test)"
   ]
  },
  {
   "cell_type": "markdown",
   "metadata": {},
   "source": [
    "# Lasso "
   ]
  },
  {
   "cell_type": "code",
   "execution_count": null,
   "metadata": {},
   "outputs": [],
   "source": [
    "lasso = linear_model.Lasso(alpha = 1e-5)\n",
    "lasso.fit(X_train, y_train)\n",
    "\n",
    "y_predicted = lasso.predict(X_test)\n",
    "\n",
    "fig, ax = plt.subplots()\n",
    "ax.plot(y_test.values, label='Actual SPY')\n",
    "ax.plot(y_predicted, label='Predicted SPY')\n",
    "ax.set_title('Lasso Prediction for SPY using 1 year period')\n",
    "plt.legend()\n",
    "\n",
    "print(y_predicted[4], y_test.values[4])\n",
    "\n",
    "lasso.score(X_test, y_test)"
   ]
  },
  {
   "cell_type": "markdown",
   "metadata": {},
   "source": [
    "# Random Forest Regressor"
   ]
  },
  {
   "cell_type": "code",
   "execution_count": null,
   "metadata": {},
   "outputs": [],
   "source": [
    "regr = RandomForestRegressor()\n",
    "regr.fit(X_train, y_train)\n",
    "regr_predicted = regr.predict(X_test)\n",
    "fig, ax = plt.subplots()\n",
    "ax.plot(y_test.values, label='Actual SPY')\n",
    "ax.plot(regr_predicted, label='Predicted SPY')\n",
    "ax.set_title('Random Forest Regression for SPY using 1 year period')\n",
    "plt.legend()\n",
    "\n",
    "regr.score(X_test, y_test)\n"
   ]
  },
  {
   "cell_type": "code",
   "execution_count": null,
   "metadata": {
    "collapsed": true
   },
   "outputs": [],
   "source": []
  }
 ],
 "metadata": {
  "kernelspec": {
   "display_name": "Python 3",
   "language": "python",
   "name": "python3"
  },
  "language_info": {
   "codemirror_mode": {
    "name": "ipython",
    "version": 3
   },
   "file_extension": ".py",
   "mimetype": "text/x-python",
   "name": "python",
   "nbconvert_exporter": "python",
   "pygments_lexer": "ipython3",
   "version": "3.6.1"
  }
 },
 "nbformat": 4,
 "nbformat_minor": 2
}
