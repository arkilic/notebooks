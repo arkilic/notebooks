{
 "cells": [
  {
   "cell_type": "code",
   "execution_count": 56,
   "metadata": {
    "collapsed": true
   },
   "outputs": [],
   "source": [
    "import numpy as np\n",
    "import pandas as pd\n",
    "import datetime\n",
    "from sklearn import preprocessing\n",
    "from datetime import datetime\n",
    "from sklearn.svm import SVC\n",
    "import operator\n",
    "import googlefinance.client as gfc\n",
    "from matplotlib import pyplot as plt\n",
    "\n",
    "from sklearn import linear_model\n",
    "from sklearn.model_selection import train_test_split\n",
    "\n",
    "from sklearn.ensemble import RandomForestRegressor\n",
    "from sklearn.preprocessing import normalize\n",
    "import statsmodels.api as sm\n",
    "\n",
    "\n",
    "import quandl\n",
    "\n",
    "%matplotlib notebook"
   ]
  },
  {
   "cell_type": "markdown",
   "metadata": {},
   "source": [
    "The goal of this notebook is to create time series regression models using some regression models as well as \"Forest\" models (both regression and deep learning versions). \n",
    "\n",
    "The features for this part of the research are going to be extracted using data freely available in Python via Quandl and pandas Yahoo finance support. \n",
    "\n",
    "- NASDAQ Composite\n",
    "- Dow Jones Industrial Average\n",
    "- Frankfurt DAX\n",
    "- London FTSE-100\n",
    "- Paris CAC 40\n",
    "- Tokyo Nikkei-225\n",
    "- Hong Kong Hang Seng\n",
    "- Australia ASX-200\n",
    "\n",
    "The features will be extracted from the major market indicators above will have the following format:\n",
    "\n",
    "- Date : in days\n",
    "\n",
    "- Open : price of the stock at the opening of the trading (in US dollars)\n",
    "- High : highest price of the stock during the day (in US dollars)\n",
    "- Low : lowest price of the stock during the trading day (in US dollars)\n",
    "- Close : price of the stock at the closing of the trading (in US dollars)\n",
    "- Volume : amount of stocks traded (in US dollars)\n",
    "- Adj Close : price of the stock at the closing of the trading adjusted with dividends (in US dollars)"
   ]
  },
  {
   "cell_type": "code",
   "execution_count": 79,
   "metadata": {},
   "outputs": [
    {
     "ename": "IndentationError",
     "evalue": "unexpected indent (<ipython-input-79-efb1a4ee9ae5>, line 58)",
     "output_type": "error",
     "traceback": [
      "\u001b[0;36m  File \u001b[0;32m\"<ipython-input-79-efb1a4ee9ae5>\"\u001b[0;36m, line \u001b[0;32m58\u001b[0m\n\u001b[0;31m    x[i] = z[i]\u001b[0m\n\u001b[0m    ^\u001b[0m\n\u001b[0;31mIndentationError\u001b[0m\u001b[0;31m:\u001b[0m unexpected indent\n"
     ]
    }
   ],
   "source": [
    "# Get googlefinance major global ETF data\n",
    "\n",
    "period = \"12M\"\n",
    "\n",
    "params = [\n",
    "    {'q': \"IXIC\",\n",
    "     'x': 'INDEXNASDAQ'\n",
    "    },\n",
    "    {'q': '.DJI',\n",
    "      'x': 'INDEXDJX'  \n",
    "    },\n",
    "    {'q':'DAX',\n",
    "     'x':'INDEXDB'   \n",
    "    },\n",
    "    {'q': 'UKX',\n",
    "      'x':'INDEXFTSE'   \n",
    "    },\n",
    "    {'q': 'PX1',\n",
    "      'x': 'INDEXEURO'   \n",
    "    },\n",
    "    {'q': 'NI225',\n",
    "      'x': 'INDEXNIKKEI'  \n",
    "    },\n",
    "    {'q': 'HSI',\n",
    "      'x': 'INDEXHANGSENG'  \n",
    "    },\n",
    "    {'q': 'XJO',\n",
    "      'x':'INDEXASX'   \n",
    "    },\n",
    "    {'q': \"SPY\",\n",
    "     'x': 'NYSEARCA'\n",
    "    }\n",
    "]\n",
    "\n",
    "feats1 = gfc.get_closing_data(params, period)\n",
    "\n",
    "\n",
    "quandl.ApiConfig.api_key = \"a1LZ4iFxZS6mzZUsf28u\"\n",
    "feats3 = quandl.get(\"USTREASURY/YIELD\",start_date='2016-10-05',\n",
    "                    end_date='2017-09-09')\n",
    "\n",
    "feats2 = quandl.get(\"USTREASURY/BILLRATES\",start_date='2016-10-05',\n",
    "                   end_date='2017-10-05')\n",
    "\n",
    "\n",
    "x = feats1\n",
    "y = feats2\n",
    "z = feats3\n",
    "\n",
    "cols = y.columns.append(z.columns)\n",
    "# Ugly but useful. recursively merge the two data frames\n",
    "for i in cols:\n",
    "    try:\n",
    "        x[i] = y[i]\n",
    "    except KeyError:\n",
    "        pass\n",
    "    try:r\n",
    "        x[i] = z[i]\n",
    "    except KeyError:\n",
    "        pass\n",
    "x = x.dropna()\n",
    "y = x.pop('.DJI')\n",
    "X = x"
   ]
  },
  {
   "cell_type": "code",
   "execution_count": 61,
   "metadata": {},
   "outputs": [],
   "source": [
    "x = feats1\n",
    "y = feats2\n",
    "z = feats3"
   ]
  },
  {
   "cell_type": "code",
   "execution_count": 63,
   "metadata": {},
   "outputs": [
    {
     "data": {
      "text/html": [
       "<div>\n",
       "<table border=\"1\" class=\"dataframe\">\n",
       "  <thead>\n",
       "    <tr style=\"text-align: right;\">\n",
       "      <th></th>\n",
       "      <th>4 Wk Bank Discount Rate</th>\n",
       "      <th>4 Wk Coupon Equiv</th>\n",
       "      <th>13 Wk Bank Discount Rate</th>\n",
       "      <th>13 Wk Coupon Equiv</th>\n",
       "      <th>26 Wk Bank Discount Rate</th>\n",
       "      <th>26 Wk Coupon Equiv</th>\n",
       "      <th>52 Wk Bank Discount Rate</th>\n",
       "      <th>52 Wk Coupon Equiv</th>\n",
       "    </tr>\n",
       "    <tr>\n",
       "      <th>Date</th>\n",
       "      <th></th>\n",
       "      <th></th>\n",
       "      <th></th>\n",
       "      <th></th>\n",
       "      <th></th>\n",
       "      <th></th>\n",
       "      <th></th>\n",
       "      <th></th>\n",
       "    </tr>\n",
       "  </thead>\n",
       "  <tbody>\n",
       "    <tr>\n",
       "      <th>2016-10-05</th>\n",
       "      <td>0.26</td>\n",
       "      <td>0.26</td>\n",
       "      <td>0.32</td>\n",
       "      <td>0.32</td>\n",
       "      <td>0.47</td>\n",
       "      <td>0.48</td>\n",
       "      <td>0.62</td>\n",
       "      <td>0.63</td>\n",
       "    </tr>\n",
       "    <tr>\n",
       "      <th>2016-10-06</th>\n",
       "      <td>0.25</td>\n",
       "      <td>0.25</td>\n",
       "      <td>0.32</td>\n",
       "      <td>0.32</td>\n",
       "      <td>0.45</td>\n",
       "      <td>0.46</td>\n",
       "      <td>0.62</td>\n",
       "      <td>0.63</td>\n",
       "    </tr>\n",
       "    <tr>\n",
       "      <th>2016-10-07</th>\n",
       "      <td>0.25</td>\n",
       "      <td>0.25</td>\n",
       "      <td>0.32</td>\n",
       "      <td>0.32</td>\n",
       "      <td>0.45</td>\n",
       "      <td>0.46</td>\n",
       "      <td>0.63</td>\n",
       "      <td>0.64</td>\n",
       "    </tr>\n",
       "    <tr>\n",
       "      <th>2016-10-11</th>\n",
       "      <td>0.26</td>\n",
       "      <td>0.26</td>\n",
       "      <td>0.35</td>\n",
       "      <td>0.36</td>\n",
       "      <td>0.47</td>\n",
       "      <td>0.48</td>\n",
       "      <td>0.68</td>\n",
       "      <td>0.69</td>\n",
       "    </tr>\n",
       "    <tr>\n",
       "      <th>2016-10-12</th>\n",
       "      <td>0.25</td>\n",
       "      <td>0.25</td>\n",
       "      <td>0.36</td>\n",
       "      <td>0.37</td>\n",
       "      <td>0.48</td>\n",
       "      <td>0.49</td>\n",
       "      <td>0.67</td>\n",
       "      <td>0.68</td>\n",
       "    </tr>\n",
       "  </tbody>\n",
       "</table>\n",
       "</div>"
      ],
      "text/plain": [
       "            4 Wk Bank Discount Rate  4 Wk Coupon Equiv  \\\n",
       "Date                                                     \n",
       "2016-10-05                     0.26               0.26   \n",
       "2016-10-06                     0.25               0.25   \n",
       "2016-10-07                     0.25               0.25   \n",
       "2016-10-11                     0.26               0.26   \n",
       "2016-10-12                     0.25               0.25   \n",
       "\n",
       "            13 Wk Bank Discount Rate  13 Wk Coupon Equiv  \\\n",
       "Date                                                       \n",
       "2016-10-05                      0.32                0.32   \n",
       "2016-10-06                      0.32                0.32   \n",
       "2016-10-07                      0.32                0.32   \n",
       "2016-10-11                      0.35                0.36   \n",
       "2016-10-12                      0.36                0.37   \n",
       "\n",
       "            26 Wk Bank Discount Rate  26 Wk Coupon Equiv  \\\n",
       "Date                                                       \n",
       "2016-10-05                      0.47                0.48   \n",
       "2016-10-06                      0.45                0.46   \n",
       "2016-10-07                      0.45                0.46   \n",
       "2016-10-11                      0.47                0.48   \n",
       "2016-10-12                      0.48                0.49   \n",
       "\n",
       "            52 Wk Bank Discount Rate  52 Wk Coupon Equiv  \n",
       "Date                                                      \n",
       "2016-10-05                      0.62                0.63  \n",
       "2016-10-06                      0.62                0.63  \n",
       "2016-10-07                      0.63                0.64  \n",
       "2016-10-11                      0.68                0.69  \n",
       "2016-10-12                      0.67                0.68  "
      ]
     },
     "execution_count": 63,
     "metadata": {},
     "output_type": "execute_result"
    }
   ],
   "source": []
  },
  {
   "cell_type": "code",
   "execution_count": 75,
   "metadata": {},
   "outputs": [
    {
     "data": {
      "text/html": [
       "<div>\n",
       "<table border=\"1\" class=\"dataframe\">\n",
       "  <thead>\n",
       "    <tr style=\"text-align: right;\">\n",
       "      <th></th>\n",
       "      <th>4 Wk Bank Discount Rate</th>\n",
       "      <th>4 Wk Coupon Equiv</th>\n",
       "      <th>13 Wk Bank Discount Rate</th>\n",
       "      <th>13 Wk Coupon Equiv</th>\n",
       "      <th>26 Wk Bank Discount Rate</th>\n",
       "      <th>26 Wk Coupon Equiv</th>\n",
       "      <th>52 Wk Bank Discount Rate</th>\n",
       "      <th>52 Wk Coupon Equiv</th>\n",
       "      <th>g</th>\n",
       "    </tr>\n",
       "    <tr>\n",
       "      <th>Date</th>\n",
       "      <th></th>\n",
       "      <th></th>\n",
       "      <th></th>\n",
       "      <th></th>\n",
       "      <th></th>\n",
       "      <th></th>\n",
       "      <th></th>\n",
       "      <th></th>\n",
       "      <th></th>\n",
       "    </tr>\n",
       "  </thead>\n",
       "  <tbody>\n",
       "    <tr>\n",
       "      <th>2016-10-05</th>\n",
       "      <td>0.26</td>\n",
       "      <td>0.26</td>\n",
       "      <td>0.32</td>\n",
       "      <td>0.32</td>\n",
       "      <td>0.47</td>\n",
       "      <td>0.48</td>\n",
       "      <td>0.62</td>\n",
       "      <td>0.63</td>\n",
       "      <td>0</td>\n",
       "    </tr>\n",
       "    <tr>\n",
       "      <th>2016-10-06</th>\n",
       "      <td>0.25</td>\n",
       "      <td>0.25</td>\n",
       "      <td>0.32</td>\n",
       "      <td>0.32</td>\n",
       "      <td>0.45</td>\n",
       "      <td>0.46</td>\n",
       "      <td>0.62</td>\n",
       "      <td>0.63</td>\n",
       "      <td>0</td>\n",
       "    </tr>\n",
       "    <tr>\n",
       "      <th>2016-10-07</th>\n",
       "      <td>0.25</td>\n",
       "      <td>0.25</td>\n",
       "      <td>0.32</td>\n",
       "      <td>0.32</td>\n",
       "      <td>0.45</td>\n",
       "      <td>0.46</td>\n",
       "      <td>0.63</td>\n",
       "      <td>0.64</td>\n",
       "      <td>0</td>\n",
       "    </tr>\n",
       "    <tr>\n",
       "      <th>2016-10-11</th>\n",
       "      <td>0.26</td>\n",
       "      <td>0.26</td>\n",
       "      <td>0.35</td>\n",
       "      <td>0.36</td>\n",
       "      <td>0.47</td>\n",
       "      <td>0.48</td>\n",
       "      <td>0.68</td>\n",
       "      <td>0.69</td>\n",
       "      <td>0</td>\n",
       "    </tr>\n",
       "    <tr>\n",
       "      <th>2016-10-12</th>\n",
       "      <td>0.25</td>\n",
       "      <td>0.25</td>\n",
       "      <td>0.36</td>\n",
       "      <td>0.37</td>\n",
       "      <td>0.48</td>\n",
       "      <td>0.49</td>\n",
       "      <td>0.67</td>\n",
       "      <td>0.68</td>\n",
       "      <td>0</td>\n",
       "    </tr>\n",
       "  </tbody>\n",
       "</table>\n",
       "</div>"
      ],
      "text/plain": [
       "            4 Wk Bank Discount Rate  4 Wk Coupon Equiv  \\\n",
       "Date                                                     \n",
       "2016-10-05                     0.26               0.26   \n",
       "2016-10-06                     0.25               0.25   \n",
       "2016-10-07                     0.25               0.25   \n",
       "2016-10-11                     0.26               0.26   \n",
       "2016-10-12                     0.25               0.25   \n",
       "\n",
       "            13 Wk Bank Discount Rate  13 Wk Coupon Equiv  \\\n",
       "Date                                                       \n",
       "2016-10-05                      0.32                0.32   \n",
       "2016-10-06                      0.32                0.32   \n",
       "2016-10-07                      0.32                0.32   \n",
       "2016-10-11                      0.35                0.36   \n",
       "2016-10-12                      0.36                0.37   \n",
       "\n",
       "            26 Wk Bank Discount Rate  26 Wk Coupon Equiv  \\\n",
       "Date                                                       \n",
       "2016-10-05                      0.47                0.48   \n",
       "2016-10-06                      0.45                0.46   \n",
       "2016-10-07                      0.45                0.46   \n",
       "2016-10-11                      0.47                0.48   \n",
       "2016-10-12                      0.48                0.49   \n",
       "\n",
       "            52 Wk Bank Discount Rate  52 Wk Coupon Equiv  g  \n",
       "Date                                                         \n",
       "2016-10-05                      0.62                0.63  0  \n",
       "2016-10-06                      0.62                0.63  0  \n",
       "2016-10-07                      0.63                0.64  0  \n",
       "2016-10-11                      0.68                0.69  0  \n",
       "2016-10-12                      0.67                0.68  0  "
      ]
     },
     "execution_count": 75,
     "metadata": {},
     "output_type": "execute_result"
    }
   ],
   "source": [
    "feats1['g'] = 0\n",
    "feats2['g'] = 0\n",
    "\n",
    "x.head()\n",
    "y.head()"
   ]
  },
  {
   "cell_type": "code",
   "execution_count": 73,
   "metadata": {},
   "outputs": [
    {
     "data": {
      "text/html": [
       "<div>\n",
       "<table border=\"1\" class=\"dataframe\">\n",
       "  <thead>\n",
       "    <tr style=\"text-align: right;\">\n",
       "      <th></th>\n",
       "      <th>IXIC</th>\n",
       "      <th>.DJI</th>\n",
       "      <th>DAX</th>\n",
       "      <th>UKX</th>\n",
       "      <th>PX1</th>\n",
       "      <th>NI225</th>\n",
       "      <th>HSI</th>\n",
       "      <th>XJO</th>\n",
       "      <th>SPY</th>\n",
       "      <th>g</th>\n",
       "      <th>4 Wk Bank Discount Rate</th>\n",
       "      <th>4 Wk Coupon Equiv</th>\n",
       "      <th>13 Wk Bank Discount Rate</th>\n",
       "      <th>13 Wk Coupon Equiv</th>\n",
       "      <th>26 Wk Bank Discount Rate</th>\n",
       "      <th>26 Wk Coupon Equiv</th>\n",
       "      <th>52 Wk Bank Discount Rate</th>\n",
       "      <th>52 Wk Coupon Equiv</th>\n",
       "      <th>g</th>\n",
       "    </tr>\n",
       "  </thead>\n",
       "  <tbody>\n",
       "  </tbody>\n",
       "</table>\n",
       "</div>"
      ],
      "text/plain": [
       "Empty DataFrame\n",
       "Columns: [IXIC, .DJI, DAX, UKX, PX1, NI225, HSI, XJO, SPY, g, 4 Wk Bank Discount Rate, 4 Wk Coupon Equiv, 13 Wk Bank Discount Rate, 13 Wk Coupon Equiv, 26 Wk Bank Discount Rate, 26 Wk Coupon Equiv, 52 Wk Bank Discount Rate, 52 Wk Coupon Equiv, g]\n",
       "Index: []"
      ]
     },
     "execution_count": 73,
     "metadata": {},
     "output_type": "execute_result"
    }
   ],
   "source": []
  },
  {
   "cell_type": "code",
   "execution_count": 4,
   "metadata": {},
   "outputs": [
    {
     "ename": "ValueError",
     "evalue": "Found array with 0 sample(s) (shape=(0, 27)) while a minimum of 1 is required by the normalize function.",
     "output_type": "error",
     "traceback": [
      "\u001b[0;31m---------------------------------------------------------------------------\u001b[0m",
      "\u001b[0;31mValueError\u001b[0m                                Traceback (most recent call last)",
      "\u001b[0;32m<ipython-input-4-262325b7f0eb>\u001b[0m in \u001b[0;36m<module>\u001b[0;34m()\u001b[0m\n\u001b[1;32m     10\u001b[0m \u001b[0;34m\u001b[0m\u001b[0m\n\u001b[1;32m     11\u001b[0m \u001b[0;31m# Normalize the features using sklearn normalize\u001b[0m\u001b[0;34m\u001b[0m\u001b[0;34m\u001b[0m\u001b[0m\n\u001b[0;32m---> 12\u001b[0;31m \u001b[0mX\u001b[0m \u001b[0;34m=\u001b[0m \u001b[0mnormalize\u001b[0m\u001b[0;34m(\u001b[0m\u001b[0mX\u001b[0m\u001b[0;34m)\u001b[0m\u001b[0;34m\u001b[0m\u001b[0m\n\u001b[0m",
      "\u001b[0;32m/Users/armanarkilic/anaconda/envs/dev/lib/python3.6/site-packages/sklearn/preprocessing/data.py\u001b[0m in \u001b[0;36mnormalize\u001b[0;34m(X, norm, axis, copy, return_norm)\u001b[0m\n\u001b[1;32m   1410\u001b[0m \u001b[0;34m\u001b[0m\u001b[0m\n\u001b[1;32m   1411\u001b[0m     X = check_array(X, sparse_format, copy=copy,\n\u001b[0;32m-> 1412\u001b[0;31m                     estimator='the normalize function', dtype=FLOAT_DTYPES)\n\u001b[0m\u001b[1;32m   1413\u001b[0m     \u001b[0;32mif\u001b[0m \u001b[0maxis\u001b[0m \u001b[0;34m==\u001b[0m \u001b[0;36m0\u001b[0m\u001b[0;34m:\u001b[0m\u001b[0;34m\u001b[0m\u001b[0m\n\u001b[1;32m   1414\u001b[0m         \u001b[0mX\u001b[0m \u001b[0;34m=\u001b[0m \u001b[0mX\u001b[0m\u001b[0;34m.\u001b[0m\u001b[0mT\u001b[0m\u001b[0;34m\u001b[0m\u001b[0m\n",
      "\u001b[0;32m/Users/armanarkilic/anaconda/envs/dev/lib/python3.6/site-packages/sklearn/utils/validation.py\u001b[0m in \u001b[0;36mcheck_array\u001b[0;34m(array, accept_sparse, dtype, order, copy, force_all_finite, ensure_2d, allow_nd, ensure_min_samples, ensure_min_features, warn_on_dtype, estimator)\u001b[0m\n\u001b[1;32m    429\u001b[0m                              \u001b[0;34m\" minimum of %d is required%s.\"\u001b[0m\u001b[0;34m\u001b[0m\u001b[0m\n\u001b[1;32m    430\u001b[0m                              % (n_samples, shape_repr, ensure_min_samples,\n\u001b[0;32m--> 431\u001b[0;31m                                 context))\n\u001b[0m\u001b[1;32m    432\u001b[0m \u001b[0;34m\u001b[0m\u001b[0m\n\u001b[1;32m    433\u001b[0m     \u001b[0;32mif\u001b[0m \u001b[0mensure_min_features\u001b[0m \u001b[0;34m>\u001b[0m \u001b[0;36m0\u001b[0m \u001b[0;32mand\u001b[0m \u001b[0marray\u001b[0m\u001b[0;34m.\u001b[0m\u001b[0mndim\u001b[0m \u001b[0;34m==\u001b[0m \u001b[0;36m2\u001b[0m\u001b[0;34m:\u001b[0m\u001b[0;34m\u001b[0m\u001b[0m\n",
      "\u001b[0;31mValueError\u001b[0m: Found array with 0 sample(s) (shape=(0, 27)) while a minimum of 1 is required by the normalize function."
     ]
    }
   ],
   "source": [
    "# Predict shift_by dates away: e.g. shift_by=10 -> two weeks out\n",
    "shift_by = 5\n",
    "\n",
    "\n",
    "#Clean and shift the data\n",
    "X = X.dropna()\n",
    "y = y.shift(shift_by).dropna() \n",
    "X = X[:-shift_by]\n",
    "\n",
    "\n",
    "# Normalize the features using sklearn normalize\n",
    "# X = normalize(X)\n"
   ]
  },
  {
   "cell_type": "code",
   "execution_count": null,
   "metadata": {
    "collapsed": true
   },
   "outputs": [],
   "source": [
    "y = y.pct_change().fillna(0)"
   ]
  },
  {
   "cell_type": "code",
   "execution_count": null,
   "metadata": {
    "collapsed": true
   },
   "outputs": [],
   "source": []
  },
  {
   "cell_type": "code",
   "execution_count": null,
   "metadata": {
    "collapsed": true
   },
   "outputs": [],
   "source": [
    "X.shape, y.shape"
   ]
  },
  {
   "cell_type": "code",
   "execution_count": null,
   "metadata": {
    "collapsed": true
   },
   "outputs": [],
   "source": [
    "# Use 95% to train of the 12 month data set\n",
    "\n",
    "# X_train, X_test, y_train, y_test = train_test_split(X, y, test_size=0.1, random_state=42)\n",
    "training_range = int(X.shape[0] * .95)\n",
    "X_train = X[0:training_range]\n",
    "y_train = y[0:training_range]\n",
    "\n",
    "X_test = X[training_range: ]\n",
    "y_test = y[training_range: ]"
   ]
  },
  {
   "cell_type": "code",
   "execution_count": null,
   "metadata": {
    "collapsed": true
   },
   "outputs": [],
   "source": [
    "y_train.head()"
   ]
  },
  {
   "cell_type": "markdown",
   "metadata": {},
   "source": [
    "# Ordinary Least Square"
   ]
  },
  {
   "cell_type": "code",
   "execution_count": null,
   "metadata": {
    "collapsed": true,
    "scrolled": false
   },
   "outputs": [],
   "source": [
    "reg = linear_model.LinearRegression()\n",
    "reg.fit(X_train, y_train)\n",
    "y_predicted = reg.predict(X_test)\n",
    "\n",
    "fig, ax = plt.subplots()\n",
    "ax.plot(y_test.values, label='Actual SPY')\n",
    "ax.plot(y_predicted, label='Predicted SPY')\n",
    "ax.set_title('OLS Prediction for SPY using 1 year period')\n",
    "plt.legend()\n",
    "\n",
    "\n",
    "\n",
    "reg.score(X_test, y_test)"
   ]
  },
  {
   "cell_type": "code",
   "execution_count": null,
   "metadata": {
    "collapsed": true,
    "scrolled": false
   },
   "outputs": [],
   "source": [
    "sY = y\n",
    "sX = X\n",
    "sX = sm.add_constant(sX)\n",
    "\n",
    "model = sm.OLS(sY,sX)\n",
    "results = model.fit()\n",
    "results.summary2()"
   ]
  },
  {
   "cell_type": "markdown",
   "metadata": {},
   "source": [
    "# Ridge Method"
   ]
  },
  {
   "cell_type": "code",
   "execution_count": null,
   "metadata": {
    "collapsed": true
   },
   "outputs": [],
   "source": [
    "ridge = linear_model.Ridge(alpha=1e-6)\n",
    "ridge.fit(X_train, y_train)\n",
    "y_ridge_predicted = ridge.predict(X_test)\n",
    "\n",
    "fig, ax = plt.subplots()\n",
    "ax.plot(y_test.values, label='Actual SPY')\n",
    "ax.plot(y_ridge_predicted, label='Predicted SPY')\n",
    "ax.set_title('RidgeCV Prediction for SPY using 1 year period')\n",
    "plt.legend()\n",
    "\n",
    "ridge.score(X_test, y_test)"
   ]
  },
  {
   "cell_type": "markdown",
   "metadata": {},
   "source": [
    "# Lasso "
   ]
  },
  {
   "cell_type": "code",
   "execution_count": null,
   "metadata": {
    "collapsed": true
   },
   "outputs": [],
   "source": [
    "lasso = linear_model.Lasso(alpha = 1e-3)\n",
    "lasso.fit(X_train, y_train)\n",
    "\n",
    "y_predicted = lasso.predict(X_test)\n",
    "\n",
    "fig, ax = plt.subplots()\n",
    "ax.plot(y_test.values, label='Actual SPY')\n",
    "ax.plot(y_predicted, label='Predicted SPY')\n",
    "ax.set_title('Lasso Prediction for SPY using 1 year period')\n",
    "plt.legend()\n",
    "\n",
    "lasso.score(X_test, y_test)"
   ]
  },
  {
   "cell_type": "markdown",
   "metadata": {},
   "source": [
    "# Random Forest Regressor"
   ]
  },
  {
   "cell_type": "code",
   "execution_count": null,
   "metadata": {
    "collapsed": true
   },
   "outputs": [],
   "source": [
    "regr = RandomForestRegressor(n_estimators=40, criterion='mae')\n",
    "regr.fit(X_train, y_train)\n",
    "regr_predicted = regr.predict(X_test)\n",
    "fig, ax = plt.subplots()\n",
    "ax.plot(y_test.values, label='Actual SPY')\n",
    "ax.plot(regr_predicted, label='Predicted SPY')\n",
    "ax.set_title('Random Forest Regression for SPY using 1 year period')\n",
    "plt.legend()\n",
    "\n",
    "regr.score(X_test, y_test)"
   ]
  },
  {
   "cell_type": "code",
   "execution_count": null,
   "metadata": {
    "collapsed": true
   },
   "outputs": [],
   "source": [
    "y_test.shape"
   ]
  },
  {
   "cell_type": "code",
   "execution_count": null,
   "metadata": {
    "collapsed": true
   },
   "outputs": [],
   "source": [
    "regr_predicted[-1]"
   ]
  },
  {
   "cell_type": "code",
   "execution_count": null,
   "metadata": {
    "collapsed": true
   },
   "outputs": [],
   "source": [
    "y_test[-1]"
   ]
  },
  {
   "cell_type": "code",
   "execution_count": null,
   "metadata": {
    "collapsed": true
   },
   "outputs": [],
   "source": [
    "data = quandl.get(\"WIKI/SPY\", trim_start = \"2000-12-12\", trim_end = \"2014-12-30\")\n"
   ]
  },
  {
   "cell_type": "code",
   "execution_count": null,
   "metadata": {
    "collapsed": true
   },
   "outputs": [],
   "source": [
    "import datetime\n",
    "import pandas as pd\n",
    "from pandas_datareader import data, wb\n",
    "\n",
    "list = [\"APLE\",\"BHP\"] \n",
    "#list = [\"ASX:AMP\",\"ASX:BHP\"] \n",
    "df_all_stock = pd.DataFrame([])\n",
    "\n",
    "start = datetime.datetime(2016, 1, 1)\n",
    "end = datetime.datetime(2017, 1, 1)\n",
    "\n",
    "for row in list:\n",
    "\n",
    "    row = str(row)\n",
    "    df_stock = data.DataReader(row, \"google\", start, end)\n",
    "    df_all_stock = df_all_stock.append(df_stock)\n",
    "    df_all_stock['code'] = row\n",
    "\n",
    "df_all_stock"
   ]
  },
  {
   "cell_type": "code",
   "execution_count": null,
   "metadata": {
    "collapsed": true
   },
   "outputs": [],
   "source": [
    "gfc.get_closing_data??\n"
   ]
  },
  {
   "cell_type": "code",
   "execution_count": null,
   "metadata": {
    "collapsed": true
   },
   "outputs": [],
   "source": []
  }
 ],
 "metadata": {
  "kernelspec": {
   "display_name": "Python 3",
   "language": "python",
   "name": "python3"
  },
  "language_info": {
   "codemirror_mode": {
    "name": "ipython",
    "version": 3
   },
   "file_extension": ".py",
   "mimetype": "text/x-python",
   "name": "python",
   "nbconvert_exporter": "python",
   "pygments_lexer": "ipython3",
   "version": "3.6.1"
  }
 },
 "nbformat": 4,
 "nbformat_minor": 2
}
