{
 "cells": [
  {
   "cell_type": "code",
   "execution_count": null,
   "metadata": {
    "collapsed": false
   },
   "outputs": [],
   "source": [
    "import postgresql\n",
    "\n",
    "db = postgresql.open('pq://user:password@host:port/database')\n",
    "db.execute(\"CREATE TABLE emp (emp_first_name text, emp_last_name text, emp_salary numeric)\")\n",
    "make_emp = db.prepare(\"INSERT INTO emp VALUES ($1, $2, $3)\")\n",
    "make_emp(\"John\", \"Doe\", \"75,322\")\n",
    "with db.xact():\n",
    " make_emp(\"Jane\", \"Doe\", \"75,322\")\n",
    " make_emp(\"Edward\", \"Johnson\", \"82,744\")"
   ]
  },
  {
   "cell_type": "code",
   "execution_count": null,
   "metadata": {
    "collapsed": true
   },
   "outputs": [],
   "source": [
    "db.execute(\"ALTER TABLE emp ADD COLUMN mycolumn character varying(50) DEFAULT 'whatever' NOT NULL;\")\n",
    "# Check alter performance\n",
    "# Check write/read performance\n",
    "# Check query performance"
   ]
  }
 ],
 "metadata": {
  "kernelspec": {
   "display_name": "Python 3",
   "language": "python",
   "name": "python3"
  },
  "language_info": {
   "codemirror_mode": {
    "name": "ipython",
    "version": 3
   },
   "file_extension": ".py",
   "mimetype": "text/x-python",
   "name": "python",
   "nbconvert_exporter": "python",
   "pygments_lexer": "ipython3",
   "version": "3.5.2"
  }
 },
 "nbformat": 4,
 "nbformat_minor": 1
}
