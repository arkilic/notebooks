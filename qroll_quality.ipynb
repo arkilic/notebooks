{
 "cells": [
  {
   "cell_type": "code",
   "execution_count": 1,
   "metadata": {},
   "outputs": [],
   "source": [
    "import numpy as np\n",
    "\n",
    "from dask.dataframe import read_hdf\n",
    "\n",
    "\n",
    "spy = read_hdf('/Users/armanarkilic/Desktop/spy.hdf5', 'spy')\n",
    "spy_design = read_hdf('/Users/armanarkilic/Desktop/spy_design.hdf5', 'spy_design')"
   ]
  },
  {
   "cell_type": "code",
   "execution_count": 2,
   "metadata": {},
   "outputs": [
    {
     "data": {
      "text/html": [
       "<div>\n",
       "<table border=\"1\" class=\"dataframe\">\n",
       "  <thead>\n",
       "    <tr style=\"text-align: right;\">\n",
       "      <th></th>\n",
       "      <th>SPY.Open</th>\n",
       "      <th>SPY.High</th>\n",
       "      <th>SPY.Low</th>\n",
       "      <th>SPY.Close</th>\n",
       "      <th>SPY.Volume</th>\n",
       "    </tr>\n",
       "    <tr>\n",
       "      <th>TIME</th>\n",
       "      <th></th>\n",
       "      <th></th>\n",
       "      <th></th>\n",
       "      <th></th>\n",
       "      <th></th>\n",
       "    </tr>\n",
       "  </thead>\n",
       "  <tbody>\n",
       "    <tr>\n",
       "      <th>2008-01-02 09:31:00</th>\n",
       "      <td>146.535</td>\n",
       "      <td>146.645</td>\n",
       "      <td>146.535</td>\n",
       "      <td>146.645</td>\n",
       "      <td>591203.0</td>\n",
       "    </tr>\n",
       "    <tr>\n",
       "      <th>2008-01-02 09:32:00</th>\n",
       "      <td>146.645</td>\n",
       "      <td>146.685</td>\n",
       "      <td>146.635</td>\n",
       "      <td>146.685</td>\n",
       "      <td>385457.0</td>\n",
       "    </tr>\n",
       "    <tr>\n",
       "      <th>2008-01-02 09:33:00</th>\n",
       "      <td>146.685</td>\n",
       "      <td>146.775</td>\n",
       "      <td>146.680</td>\n",
       "      <td>146.775</td>\n",
       "      <td>343700.0</td>\n",
       "    </tr>\n",
       "    <tr>\n",
       "      <th>2008-01-02 09:34:00</th>\n",
       "      <td>146.725</td>\n",
       "      <td>146.755</td>\n",
       "      <td>146.705</td>\n",
       "      <td>146.725</td>\n",
       "      <td>863418.0</td>\n",
       "    </tr>\n",
       "    <tr>\n",
       "      <th>2008-01-02 09:35:00</th>\n",
       "      <td>146.705</td>\n",
       "      <td>146.775</td>\n",
       "      <td>146.685</td>\n",
       "      <td>146.775</td>\n",
       "      <td>457500.0</td>\n",
       "    </tr>\n",
       "  </tbody>\n",
       "</table>\n",
       "</div>"
      ],
      "text/plain": [
       "                     SPY.Open  SPY.High  SPY.Low  SPY.Close  SPY.Volume\n",
       "TIME                                                                   \n",
       "2008-01-02 09:31:00   146.535   146.645  146.535    146.645    591203.0\n",
       "2008-01-02 09:32:00   146.645   146.685  146.635    146.685    385457.0\n",
       "2008-01-02 09:33:00   146.685   146.775  146.680    146.775    343700.0\n",
       "2008-01-02 09:34:00   146.725   146.755  146.705    146.725    863418.0\n",
       "2008-01-02 09:35:00   146.705   146.775  146.685    146.775    457500.0"
      ]
     },
     "execution_count": 2,
     "metadata": {},
     "output_type": "execute_result"
    }
   ],
   "source": [
    "spy.head()"
   ]
  },
  {
   "cell_type": "code",
   "execution_count": 3,
   "metadata": {
    "collapsed": true
   },
   "outputs": [],
   "source": [
    "def run_returns(x_ts, col_umn = 3):\n",
    "    if len(x_ts.columns) == 7:\n",
    "        re_turns = 0.5 * (x_ts[:][\"Bid.Price\"] + x_ts[:][\"Ask.Price\"])\n",
    "    else:\n",
    "        re_turns = x_ts['SPY.Close']\n",
    "    return re_turns"
   ]
  },
  {
   "cell_type": "code",
   "execution_count": 4,
   "metadata": {},
   "outputs": [
    {
     "data": {
      "text/plain": [
       "(625424,)"
      ]
     },
     "execution_count": 4,
     "metadata": {},
     "output_type": "execute_result"
    }
   ],
   "source": [
    "np.multiply(np.diff(spy.index.values), 10e-10).shape"
   ]
  },
  {
   "cell_type": "code",
   "execution_count": 5,
   "metadata": {},
   "outputs": [
    {
     "name": "stdout",
     "output_type": "stream",
     "text": [
      "[  4.54550623e-06   1.02228586e-05  -5.67859176e-06   5.67859176e-06\n",
      "  -4.54271862e-06  -1.59092729e-05  -3.41110657e-06   1.47764223e-05\n",
      "   9.08667575e-06   2.27089508e-06]\n"
     ]
    }
   ],
   "source": [
    "re_turns = spy['SPY.Close']\n",
    "\n",
    "logged_re_turns = np.log(re_turns)\n",
    "logged_re_turns.head()\n",
    "intermediate = np.diff(logged_re_turns)\n",
    "\n",
    "intermediate = np.concatenate(([0], intermediate))\n",
    "inx = np.array(spy.index.values, dtype=np.float64)\n",
    "\n",
    "\n",
    "inx = np.array(np.multiply(np.diff(spy.index.values), 10e-10), dtype=np.float64)\n",
    "\n",
    "inx = np.concatenate(([60], inx))\n",
    "\n",
    "returns_running = intermediate / inx\n",
    "\n",
    "def lag_xts(x_ts):\n",
    "    tmp = x_ts[1:]\n",
    "    return tmp\n",
    "\n",
    "\n",
    "returns_advanced = lag_xts(returns_running)\n",
    "# returns_advanced.name = 'returns_advanced'\n",
    "print(returns_advanced[:10])"
   ]
  },
  {
   "cell_type": "code",
   "execution_count": 6,
   "metadata": {},
   "outputs": [
    {
     "name": "stdout",
     "output_type": "stream",
     "text": [
      "                     returns.WA5  variance      skew     hurst  rets_var\n",
      "TIME                                                                    \n",
      "2008-01-02 09:31:00     0.000000  0.000000  0.000000  0.000000  0.000000\n",
      "2008-01-02 09:32:00     0.707107  0.707107 -0.707107  0.000000  0.707107\n",
      "2008-01-02 09:33:00     1.031794  1.027297 -0.901304  0.000000  1.133169\n",
      "2008-01-02 09:34:00    -0.712844  1.407897  1.277819  0.000000 -1.366479\n",
      "2008-01-02 09:35:00    -0.181499  0.593341 -1.669053 -1.788854  0.854902\n",
      "                     returns.WA5  variance      skew     hurst  rets_var\n",
      "TIME                                                                    \n",
      "2008-01-02 09:31:00     0.000000  0.000000  0.000000  0.000000  0.000000\n",
      "2008-01-02 09:32:00     0.707107  0.707107 -0.707107  0.000000  0.707107\n",
      "2008-01-02 09:33:00     1.031794  1.027297 -0.901304  0.000000  1.133169\n",
      "2008-01-02 09:34:00    -0.712844  1.407897  1.277819  0.000000 -1.366479\n",
      "2008-01-02 09:35:00    -0.181499  0.593341 -1.669053 -1.788854  0.854902\n"
     ]
    }
   ],
   "source": [
    "\n",
    "print(spy_design.head())\n",
    "\n",
    "\n",
    "x = spy_design\n",
    "y =  returns_advanced[:625325]\n",
    "\n",
    "\n",
    "print(spy_design.head())\n",
    "\n"
   ]
  },
  {
   "cell_type": "code",
   "execution_count": 7,
   "metadata": {},
   "outputs": [],
   "source": [
    " x = spy_design['2008': '2011']"
   ]
  },
  {
   "cell_type": "code",
   "execution_count": 8,
   "metadata": {},
   "outputs": [],
   "source": [
    "y = spy['2008': '2011']"
   ]
  }
 ],
 "metadata": {
  "kernelspec": {
   "display_name": "Python 3",
   "language": "python",
   "name": "python3"
  },
  "language_info": {
   "codemirror_mode": {
    "name": "ipython",
    "version": 3
   },
   "file_extension": ".py",
   "mimetype": "text/x-python",
   "name": "python",
   "nbconvert_exporter": "python",
   "pygments_lexer": "ipython3",
   "version": "3.6.1"
  }
 },
 "nbformat": 4,
 "nbformat_minor": 2
}
