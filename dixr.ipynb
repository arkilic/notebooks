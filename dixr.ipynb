{
 "cells": [
  {
   "cell_type": "markdown",
   "metadata": {},
   "source": [
    "# Server code"
   ]
  },
  {
   "cell_type": "code",
   "execution_count": 26,
   "metadata": {
    "collapsed": true
   },
   "outputs": [],
   "source": [
    "import time\n",
    "import uuid\n",
    "\n",
    "from pymongo import MongoClient\n",
    "\n",
    "\n",
    "from indexer.schema import header, group, stream, doctypes, dtypes\n",
    "from p4p import Type, Value\n",
    "from p4p.nt import NTMultiChannel, NTTable\n",
    "\n",
    "from p4p.rpc import rpc, quickRPCServer, WorkQueue\n",
    "# TODO: Add alarm status and severity of failed requests\n",
    "\n",
    "class DixrRO:\n",
    "    def __init__(self, config):\n",
    "        self.config = config\n",
    "        \n",
    "\n",
    "    @property\n",
    "    def config(self):\n",
    "        return self._config\n",
    "\n",
    "    @config.setter\n",
    "    def config(self, config):\n",
    "        for key in ['host', 'port', 'database']:\n",
    "            if key not in config:\n",
    "                raise KeyError('Required fields missing')\n",
    "        self._config = config\n",
    "        \n",
    "    @property\n",
    "    def conn(self):\n",
    "        return MongoClient(host=self.config['host'],\n",
    "                           port=self.config['port'])\n",
    "        \n",
    "    @property\n",
    "    def db(self):\n",
    "        return self.conn[self.config['database']]\n",
    "\n",
    "    def query(self, doctype, **kwargs):\n",
    "        # TODO: Use a generator instead of return\n",
    "        print('Here are', kwargs)\n",
    "        cursor = self.db[doctype].find(kwargs)\n",
    "        result = list(cursor)\n",
    "        normed = self._normalize_results(doctype=doctype,\n",
    "                                         results=result)\n",
    "        return self._bson2mtch(doctype=doctype,\n",
    "                               docs=normed)\n",
    "\n",
    "    def _pv2bson(self, doc, doctype):\n",
    "        \"\"\"Convert from pvdata Value to python dict \"\"\"\n",
    "        lookup = {'i': int, 'd': float, 's': str, 'ai': int, 'ad': float, 'as': str}\n",
    "        bson = {}\n",
    "        for entry in dtypes[doctype]:\n",
    "            # TODO: A more sophisticated way to fetch array\n",
    "            bson[entry[0]] = lookup[entry[1]](doc.get(entry[0]))\n",
    "        return bson\n",
    "\n",
    "    def _bson2pv(self, doctype, doc):\n",
    "        \"\"\"Given a dictionary, return a pvdata structure\"\"\"\n",
    "        T = Type(dtypes[doctype])\n",
    "        return Value(T, doc)\n",
    "\n",
    "    def _bson2mtch(self, doctype, docs):\n",
    "        # TODO: Exception handling if wrong doc format provided\n",
    "        table_template = NTTable.buildType(columns=dtypes[doctype])    \n",
    "        table =  Value(table_template,{'value': docs, \n",
    "                                       'timeStamp.secondsPastEpoch': time.time(),\n",
    "                                        'descriptor': doctype})\n",
    "        table.labels = self.keys\n",
    "        return table\n",
    "    \n",
    "    def _normalize_results(self, doctype, results):\n",
    "        keys = [i[0] for i in dtypes[doctype]]\n",
    "        self.keys = keys\n",
    "        tmp_dict = {}\n",
    "        for k in keys:\n",
    "            tmp_dict[k] = []\n",
    "        for result in results:\n",
    "                for k in keys:\n",
    "                    tmp_dict[k].append(result[k])\n",
    "        return tmp_dict\n",
    "    \n",
    "\n",
    "class Dixr(DixrRO):\n",
    "   def insert(self, doctype, contents):\n",
    "       bson = self._pv2bson(doc=contents, doctype=doctype)\n",
    "       self.db[doctype].insert_one(bson)"
   ]
  },
  {
   "cell_type": "code",
   "execution_count": 27,
   "metadata": {
    "collapsed": true
   },
   "outputs": [],
   "source": [
    "config = dict(host='localhost', port=27017, database='dixrtest')\n",
    "\n",
    "rw = Dixr(config=config)"
   ]
  },
  {
   "cell_type": "code",
   "execution_count": 28,
   "metadata": {},
   "outputs": [],
   "source": [
    "conn = rw\n",
    "class DixrHeaderHandler(object):\n",
    "    @rpc(NTTable.buildType(columns=dtypes['header']))\n",
    "    def get_header_given_uid(self, uid):\n",
    "        return conn.query(doctype='header', uid=uid)"
   ]
  },
  {
   "cell_type": "code",
   "execution_count": 29,
   "metadata": {
    "collapsed": true
   },
   "outputs": [],
   "source": [
    "querycall = DixrHeaderHandler()"
   ]
  },
  {
   "cell_type": "code",
   "execution_count": null,
   "metadata": {},
   "outputs": [
    {
     "name": "stdout",
     "output_type": "stream",
     "text": [
      "Here are {'uid': 'ddbdc90e-6d75-47e4-a71c-abb8bb30f000'}\n",
      "Here are {'uid': 'ddbdc90e-6d75-47e4-a71c-abb8bb30f000'}\n",
      "Here are {'uid': 'ddbdc90e-6d75-47e4-a71c-abb8bb30f000'}\n",
      "Here are {'uid': 'b98516a4-0ffe-4d49-b83d-9f4967d3373d'}\n",
      "Here are {'uid': 'ddbdc90e-6d75-47e4-a71c-abb8bb30f000'}\n"
     ]
    }
   ],
   "source": [
    "quickRPCServer(provider=\"DixrHeaderHandler\",\n",
    "               prefix=\"pv:call:\",\n",
    "               target=querycall)"
   ]
  },
  {
   "cell_type": "markdown",
   "metadata": {},
   "source": [
    "# Client code"
   ]
  },
  {
   "cell_type": "code",
   "execution_count": null,
   "metadata": {
    "collapsed": true
   },
   "outputs": [],
   "source": [
    "from p4p.rpc import rpcproxy, rpccall\n",
    "@rpcproxy\n",
    "class MyProxy(object):\n",
    "    @rpccall('%sget_header_given_uid')\n",
    "    def get_header_given_uid(uid='s'):\n",
    "        pass"
   ]
  },
  {
   "cell_type": "code",
   "execution_count": null,
   "metadata": {
    "collapsed": true
   },
   "outputs": [],
   "source": [
    "from p4p.client.thread import Context\n",
    "ctxt = Context('pva')\n",
    "proxy = MyProxy(context=ctxt, format='pv:call:')\n",
    "print(proxy.get_header_given_uid(uid='ddbdc90e-6d75-47e4-a71c-abb8bb30f000'))"
   ]
  },
  {
   "cell_type": "code",
   "execution_count": null,
   "metadata": {
    "collapsed": true
   },
   "outputs": [],
   "source": []
  }
 ],
 "metadata": {
  "kernelspec": {
   "display_name": "Python 3",
   "language": "python",
   "name": "python3"
  },
  "language_info": {
   "codemirror_mode": {
    "name": "ipython",
    "version": 3
   },
   "file_extension": ".py",
   "mimetype": "text/x-python",
   "name": "python",
   "nbconvert_exporter": "python",
   "pygments_lexer": "ipython3",
   "version": "3.6.1"
  }
 },
 "nbformat": 4,
 "nbformat_minor": 2
}
