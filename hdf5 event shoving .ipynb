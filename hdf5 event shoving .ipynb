{
 "cells": [
  {
   "cell_type": "code",
   "execution_count": 2,
   "metadata": {
    "collapsed": false
   },
   "outputs": [],
   "source": [
    "import h5py\n",
    "from collections import deque\n",
    "from pprint import pprint\n",
    "from doct import Document\n",
    "from metadataclient.api import (find_last, find_descriptors,\n",
    "                                find_events, find_run_stops)"
   ]
  },
  {
   "cell_type": "code",
   "execution_count": 3,
   "metadata": {
    "collapsed": false
   },
   "outputs": [],
   "source": [
    "def get_descriptors():\n",
    "    header = {}\n",
    "    rstart = next(find_last())\n",
    "    descs = []\n",
    "    for d in find_descriptors(run_start=rstart['uid']):\n",
    "        descs.append(d)\n",
    "    return descs, rstart['uid']"
   ]
  },
  {
   "cell_type": "code",
   "execution_count": 4,
   "metadata": {
    "collapsed": false
   },
   "outputs": [
    {
     "name": "stdout",
     "output_type": "stream",
     "text": [
      "'a639fcae-6597-42ea-afdb-d5369ac4dab1'\n",
      "'57e19bb2-8b7e-4c16-a117-a4e276d3a1be'\n"
     ]
    }
   ],
   "source": [
    "descriptors, rsttuid = get_descriptors()\n",
    "for d in descriptors:\n",
    "    pprint(d['uid'])\n",
    "# a['descriptors'][0]['data_keys']"
   ]
  },
  {
   "cell_type": "code",
   "execution_count": 5,
   "metadata": {
    "collapsed": false
   },
   "outputs": [],
   "source": [
    "f = h5py.File(rsttuid + '.hdf5','w')"
   ]
  },
  {
   "cell_type": "code",
   "execution_count": 7,
   "metadata": {
    "collapsed": false
   },
   "outputs": [
    {
     "name": "stdout",
     "output_type": "stream",
     "text": [
      "Group name for hdf5 is taken \n",
      "<HDF5 group \"/57e19bb2-8b7e-4c16-a117-a4e276d3a1be\" (0 members)>\n",
      "Group name for hdf5 is taken \n",
      "<HDF5 group \"/57e19bb2-8b7e-4c16-a117-a4e276d3a1be\" (0 members)>\n",
      "17\n",
      "6\n"
     ]
    }
   ],
   "source": [
    "for d in descriptors:\n",
    "    try:\n",
    "        grp = f.create_group(d['uid'])\n",
    "    except ValueError:\n",
    "        print('Group name for hdf5 is taken ')\n",
    "    print(grp)\n",
    "\n",
    "for d in descriptors:\n",
    "    evs = deque()\n",
    "    for ev in find_events(descriptor=d):\n",
    "        evs.append(ev)\n",
    "    print(len(evs))"
   ]
  },
  {
   "cell_type": "code",
   "execution_count": null,
   "metadata": {
    "collapsed": true
   },
   "outputs": [],
   "source": []
  },
  {
   "cell_type": "code",
   "execution_count": null,
   "metadata": {
    "collapsed": true
   },
   "outputs": [],
   "source": []
  }
 ],
 "metadata": {
  "kernelspec": {
   "display_name": "Python 3",
   "language": "python",
   "name": "python3"
  },
  "language_info": {
   "codemirror_mode": {
    "name": "ipython",
    "version": 3
   },
   "file_extension": ".py",
   "mimetype": "text/x-python",
   "name": "python",
   "nbconvert_exporter": "python",
   "pygments_lexer": "ipython3",
   "version": "3.5.1"
  }
 },
 "nbformat": 4,
 "nbformat_minor": 0
}
