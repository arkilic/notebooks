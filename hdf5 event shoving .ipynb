{
 "cells": [
  {
   "cell_type": "code",
   "execution_count": 7,
   "metadata": {
    "collapsed": false
   },
   "outputs": [],
   "source": [
    "import h5py\n",
    "from pprint import pprint\n",
    "from doct import Document\n",
    "from metadataclient.api import (find_last, find_descriptors,\n",
    "                                find_events, find_run_stops)"
   ]
  },
  {
   "cell_type": "code",
   "execution_count": 21,
   "metadata": {
    "collapsed": false
   },
   "outputs": [],
   "source": [
    "def get_descriptors():\n",
    "    header = {}\n",
    "    rstart = next(find_last())\n",
    "    descs = []\n",
    "    for d in find_descriptors(run_start=rstart['uid']):\n",
    "        descs.append(d)\n",
    "    return descs, rstart['uid']"
   ]
  },
  {
   "cell_type": "code",
   "execution_count": 26,
   "metadata": {
    "collapsed": false
   },
   "outputs": [
    {
     "name": "stdout",
     "output_type": "stream",
     "text": [
      "'a639fcae-6597-42ea-afdb-d5369ac4dab1'\n",
      "'57e19bb2-8b7e-4c16-a117-a4e276d3a1be'\n"
     ]
    }
   ],
   "source": [
    "descriptors, rsttuid = get_descriptors()\n",
    "for d in descriptors:\n",
    "    pprint(d['uid'])\n",
    "# a['descriptors'][0]['data_keys']"
   ]
  },
  {
   "cell_type": "code",
   "execution_count": 24,
   "metadata": {
    "collapsed": false
   },
   "outputs": [],
   "source": [
    "f = h5py.File(rsttuid + '.hdf5','w')"
   ]
  },
  {
   "cell_type": "code",
   "execution_count": 41,
   "metadata": {
    "collapsed": false
   },
   "outputs": [
    {
     "name": "stdout",
     "output_type": "stream",
     "text": [
      "Group name for hdf5 is taken \n",
      "<HDF5 group \"/57e19bb2-8b7e-4c16-a117-a4e276d3a1be\" (0 members)>\n",
      "Group name for hdf5 is taken \n",
      "<HDF5 group \"/57e19bb2-8b7e-4c16-a117-a4e276d3a1be\" (0 members)>\n",
      "point_det 2\n",
      "{'timestamps': {'point_det': 1453910019.0956514}, '_name': 'Event', 'descriptor': {'data_keys': {'point_det': {'shape': 2, 'source': 'PV:ES:PointDet', 'dtype': 'number'}}, '_name': 'EventDescriptor', 'uid': 'a639fcae-6597-42ea-afdb-d5369ac4dab1', 'run_start': {'beamline_id': 'example', 'scan_id': 1, 'group': '', 'project': '', 'uid': 'e907cff4-41f1-4db5-a2e7-ca0411d36bf4', 'time': 1453910018.133891, 'owner': '', '_name': 'RunStart'}, 'time': 1453910018.144987}, 'data': {'point_det': 0.4412274869}, 'seq_num': 0, 'uid': 'f606d38a-a0d6-4f90-a293-eece9fad0907', 'time': 1453910019.0956514}\n",
      "{'timestamps': {'point_det': 1453910019.4113963}, '_name': 'Event', 'descriptor': {'data_keys': {'point_det': {'shape': 2, 'source': 'PV:ES:PointDet', 'dtype': 'number'}}, '_name': 'EventDescriptor', 'uid': 'a639fcae-6597-42ea-afdb-d5369ac4dab1', 'run_start': {'beamline_id': 'example', 'scan_id': 1, 'group': '', 'project': '', 'uid': 'e907cff4-41f1-4db5-a2e7-ca0411d36bf4', 'time': 1453910018.133891, 'owner': '', '_name': 'RunStart'}, 'time': 1453910018.144987}, 'data': {'point_det': 0.6691298481}, 'seq_num': 1, 'uid': '8db7b8cf-be4d-4f54-b6b0-cfe4f6faa536', 'time': 1453910019.4113963}\n",
      "{'timestamps': {'point_det': 1453910022.4894097}, '_name': 'Event', 'descriptor': {'data_keys': {'point_det': {'shape': 2, 'source': 'PV:ES:PointDet', 'dtype': 'number'}}, '_name': 'EventDescriptor', 'uid': 'a639fcae-6597-42ea-afdb-d5369ac4dab1', 'run_start': {'beamline_id': 'example', 'scan_id': 1, 'group': '', 'project': '', 'uid': 'e907cff4-41f1-4db5-a2e7-ca0411d36bf4', 'time': 1453910018.133891, 'owner': '', '_name': 'RunStart'}, 'time': 1453910018.144987}, 'data': {'point_det': 4.430771187}, 'seq_num': 2, 'uid': 'ae54727b-2c6b-45d4-a251-79859ff14a7a', 'time': 1453910022.4894097}\n",
      "{'timestamps': {'point_det': 1453910023.676682}, '_name': 'Event', 'descriptor': {'data_keys': {'point_det': {'shape': 2, 'source': 'PV:ES:PointDet', 'dtype': 'number'}}, '_name': 'EventDescriptor', 'uid': 'a639fcae-6597-42ea-afdb-d5369ac4dab1', 'run_start': {'beamline_id': 'example', 'scan_id': 1, 'group': '', 'project': '', 'uid': 'e907cff4-41f1-4db5-a2e7-ca0411d36bf4', 'time': 1453910018.133891, 'owner': '', '_name': 'RunStart'}, 'time': 1453910018.144987}, 'data': {'point_det': 2.7479078704}, 'seq_num': 3, 'uid': 'c341e56d-f41f-44f9-98da-c24163988027', 'time': 1453910023.676682}\n",
      "{'timestamps': {'point_det': 1453910025.7385595}, '_name': 'Event', 'descriptor': {'data_keys': {'point_det': {'shape': 2, 'source': 'PV:ES:PointDet', 'dtype': 'number'}}, '_name': 'EventDescriptor', 'uid': 'a639fcae-6597-42ea-afdb-d5369ac4dab1', 'run_start': {'beamline_id': 'example', 'scan_id': 1, 'group': '', 'project': '', 'uid': 'e907cff4-41f1-4db5-a2e7-ca0411d36bf4', 'time': 1453910018.133891, 'owner': '', '_name': 'RunStart'}, 'time': 1453910018.144987}, 'data': {'point_det': 4.1096098416}, 'seq_num': 4, 'uid': '15848564-39a9-41e4-bb91-84b6b24436d9', 'time': 1453910025.7385595}\n",
      "{'timestamps': {'point_det': 1453910027.7310464}, '_name': 'Event', 'descriptor': {'data_keys': {'point_det': {'shape': 2, 'source': 'PV:ES:PointDet', 'dtype': 'number'}}, '_name': 'EventDescriptor', 'uid': 'a639fcae-6597-42ea-afdb-d5369ac4dab1', 'run_start': {'beamline_id': 'example', 'scan_id': 1, 'group': '', 'project': '', 'uid': 'e907cff4-41f1-4db5-a2e7-ca0411d36bf4', 'time': 1453910018.133891, 'owner': '', '_name': 'RunStart'}, 'time': 1453910018.144987}, 'data': {'point_det': 6.5824811171}, 'seq_num': 5, 'uid': 'f542c52c-be71-4d32-839a-ff92ad8bdd5d', 'time': 1453910027.7310464}\n",
      "{'timestamps': {'point_det': 1453910029.955732}, '_name': 'Event', 'descriptor': {'data_keys': {'point_det': {'shape': 2, 'source': 'PV:ES:PointDet', 'dtype': 'number'}}, '_name': 'EventDescriptor', 'uid': 'a639fcae-6597-42ea-afdb-d5369ac4dab1', 'run_start': {'beamline_id': 'example', 'scan_id': 1, 'group': '', 'project': '', 'uid': 'e907cff4-41f1-4db5-a2e7-ca0411d36bf4', 'time': 1453910018.133891, 'owner': '', '_name': 'RunStart'}, 'time': 1453910018.144987}, 'data': {'point_det': 5.0907675951}, 'seq_num': 6, 'uid': '01fd35e5-9fd3-461f-9f6b-40183e7ab2f2', 'time': 1453910029.955732}\n",
      "{'timestamps': {'point_det': 1453910032.665206}, '_name': 'Event', 'descriptor': {'data_keys': {'point_det': {'shape': 2, 'source': 'PV:ES:PointDet', 'dtype': 'number'}}, '_name': 'EventDescriptor', 'uid': 'a639fcae-6597-42ea-afdb-d5369ac4dab1', 'run_start': {'beamline_id': 'example', 'scan_id': 1, 'group': '', 'project': '', 'uid': 'e907cff4-41f1-4db5-a2e7-ca0411d36bf4', 'time': 1453910018.133891, 'owner': '', '_name': 'RunStart'}, 'time': 1453910018.144987}, 'data': {'point_det': 6.4083633421}, 'seq_num': 7, 'uid': '9b38b4ad-da36-47ef-a2ed-7b767f3993db', 'time': 1453910032.665206}\n",
      "{'timestamps': {'point_det': 1453910034.5231967}, '_name': 'Event', 'descriptor': {'data_keys': {'point_det': {'shape': 2, 'source': 'PV:ES:PointDet', 'dtype': 'number'}}, '_name': 'EventDescriptor', 'uid': 'a639fcae-6597-42ea-afdb-d5369ac4dab1', 'run_start': {'beamline_id': 'example', 'scan_id': 1, 'group': '', 'project': '', 'uid': 'e907cff4-41f1-4db5-a2e7-ca0411d36bf4', 'time': 1453910018.133891, 'owner': '', '_name': 'RunStart'}, 'time': 1453910018.144987}, 'data': {'point_det': 8.1876032258}, 'seq_num': 8, 'uid': '2d194d15-7c95-4673-a76d-b25d294db642', 'time': 1453910034.5231967}\n",
      "{'timestamps': {'point_det': 1453910036.196558}, '_name': 'Event', 'descriptor': {'data_keys': {'point_det': {'shape': 2, 'source': 'PV:ES:PointDet', 'dtype': 'number'}}, '_name': 'EventDescriptor', 'uid': 'a639fcae-6597-42ea-afdb-d5369ac4dab1', 'run_start': {'beamline_id': 'example', 'scan_id': 1, 'group': '', 'project': '', 'uid': 'e907cff4-41f1-4db5-a2e7-ca0411d36bf4', 'time': 1453910018.133891, 'owner': '', '_name': 'RunStart'}, 'time': 1453910018.144987}, 'data': {'point_det': 8.6701300422}, 'seq_num': 9, 'uid': 'dbdbd30c-8f89-46b2-850b-7ec2118e52a5', 'time': 1453910036.196558}\n",
      "{'timestamps': {'point_det': 1453910037.9853306}, '_name': 'Event', 'descriptor': {'data_keys': {'point_det': {'shape': 2, 'source': 'PV:ES:PointDet', 'dtype': 'number'}}, '_name': 'EventDescriptor', 'uid': 'a639fcae-6597-42ea-afdb-d5369ac4dab1', 'run_start': {'beamline_id': 'example', 'scan_id': 1, 'group': '', 'project': '', 'uid': 'e907cff4-41f1-4db5-a2e7-ca0411d36bf4', 'time': 1453910018.133891, 'owner': '', '_name': 'RunStart'}, 'time': 1453910018.144987}, 'data': {'point_det': 8.8072353876}, 'seq_num': 10, 'uid': '70a70dce-2afa-4bb8-bed9-a5b6eee9f8e8', 'time': 1453910037.9853306}\n",
      "{'timestamps': {'point_det': 1453910040.1686304}, '_name': 'Event', 'descriptor': {'data_keys': {'point_det': {'shape': 2, 'source': 'PV:ES:PointDet', 'dtype': 'number'}}, '_name': 'EventDescriptor', 'uid': 'a639fcae-6597-42ea-afdb-d5369ac4dab1', 'run_start': {'beamline_id': 'example', 'scan_id': 1, 'group': '', 'project': '', 'uid': 'e907cff4-41f1-4db5-a2e7-ca0411d36bf4', 'time': 1453910018.133891, 'owner': '', '_name': 'RunStart'}, 'time': 1453910018.144987}, 'data': {'point_det': 10.7951234894}, 'seq_num': 11, 'uid': 'e2f45f92-109d-4bdb-8f48-0aa60f3dc44e', 'time': 1453910040.1686304}\n",
      "{'timestamps': {'point_det': 1453910042.1140208}, '_name': 'Event', 'descriptor': {'data_keys': {'point_det': {'shape': 2, 'source': 'PV:ES:PointDet', 'dtype': 'number'}}, '_name': 'EventDescriptor', 'uid': 'a639fcae-6597-42ea-afdb-d5369ac4dab1', 'run_start': {'beamline_id': 'example', 'scan_id': 1, 'group': '', 'project': '', 'uid': 'e907cff4-41f1-4db5-a2e7-ca0411d36bf4', 'time': 1453910018.133891, 'owner': '', '_name': 'RunStart'}, 'time': 1453910018.144987}, 'data': {'point_det': 11.641171053}, 'seq_num': 12, 'uid': '9b9128f3-5e83-42da-a8b8-deb6953014bd', 'time': 1453910042.1140208}\n",
      "{'timestamps': {'point_det': 1453910044.5635126}, '_name': 'Event', 'descriptor': {'data_keys': {'point_det': {'shape': 2, 'source': 'PV:ES:PointDet', 'dtype': 'number'}}, '_name': 'EventDescriptor', 'uid': 'a639fcae-6597-42ea-afdb-d5369ac4dab1', 'run_start': {'beamline_id': 'example', 'scan_id': 1, 'group': '', 'project': '', 'uid': 'e907cff4-41f1-4db5-a2e7-ca0411d36bf4', 'time': 1453910018.133891, 'owner': '', '_name': 'RunStart'}, 'time': 1453910018.144987}, 'data': {'point_det': 13.603471602599999}, 'seq_num': 13, 'uid': 'e2684613-21f1-4417-ac7c-cfd42cb705b3', 'time': 1453910044.5635126}\n",
      "{'timestamps': {'point_det': 1453910045.8512}, '_name': 'Event', 'descriptor': {'data_keys': {'point_det': {'shape': 2, 'source': 'PV:ES:PointDet', 'dtype': 'number'}}, '_name': 'EventDescriptor', 'uid': 'a639fcae-6597-42ea-afdb-d5369ac4dab1', 'run_start': {'beamline_id': 'example', 'scan_id': 1, 'group': '', 'project': '', 'uid': 'e907cff4-41f1-4db5-a2e7-ca0411d36bf4', 'time': 1453910018.133891, 'owner': '', '_name': 'RunStart'}, 'time': 1453910018.144987}, 'data': {'point_det': 12.335211470499999}, 'seq_num': 14, 'uid': '5a3a66d7-682f-4476-b8c1-8c172134cd4b', 'time': 1453910045.8512}\n",
      "{'timestamps': {'point_det': 1453910048.1638885}, '_name': 'Event', 'descriptor': {'data_keys': {'point_det': {'shape': 2, 'source': 'PV:ES:PointDet', 'dtype': 'number'}}, '_name': 'EventDescriptor', 'uid': 'a639fcae-6597-42ea-afdb-d5369ac4dab1', 'run_start': {'beamline_id': 'example', 'scan_id': 1, 'group': '', 'project': '', 'uid': 'e907cff4-41f1-4db5-a2e7-ca0411d36bf4', 'time': 1453910018.133891, 'owner': '', '_name': 'RunStart'}, 'time': 1453910018.144987}, 'data': {'point_det': 14.2998209623}, 'seq_num': 15, 'uid': '0ee4c058-39f7-4528-b06b-c8b5fdd2028d', 'time': 1453910048.1638885}\n",
      "{'timestamps': {'point_det': 1453910050.1164522}, '_name': 'Event', 'descriptor': {'data_keys': {'point_det': {'shape': 2, 'source': 'PV:ES:PointDet', 'dtype': 'number'}}, '_name': 'EventDescriptor', 'uid': 'a639fcae-6597-42ea-afdb-d5369ac4dab1', 'run_start': {'beamline_id': 'example', 'scan_id': 1, 'group': '', 'project': '', 'uid': 'e907cff4-41f1-4db5-a2e7-ca0411d36bf4', 'time': 1453910018.133891, 'owner': '', '_name': 'RunStart'}, 'time': 1453910018.144987}, 'data': {'point_det': 17.1513910095}, 'seq_num': 16, 'uid': '517679da-d4f8-42a6-99d0-146283bd155f', 'time': 1453910050.1164522}\n",
      "Tsam 1\n",
      "{'timestamps': {'Tsam': 1453910018.166986}, '_name': 'Event', 'descriptor': {'data_keys': {'Tsam': {'shape': 1, 'source': 'PV:ES:Tsam', 'dtype': 'number'}}, '_name': 'EventDescriptor', 'uid': '57e19bb2-8b7e-4c16-a117-a4e276d3a1be', 'run_start': {'beamline_id': 'example', 'scan_id': 1, 'group': '', 'project': '', 'uid': 'e907cff4-41f1-4db5-a2e7-ca0411d36bf4', 'time': 1453910018.133891, 'owner': '', '_name': 'RunStart'}, 'time': 1453910018.155563}, 'data': {'Tsam': 0.17640523460000002}, 'seq_num': 0, 'uid': '2a1b5e97-4d79-4b28-a8ec-cdca978e3af4', 'time': 1453910018.166986}\n",
      "{'timestamps': {'Tsam': 1453910029.166986}, '_name': 'Event', 'descriptor': {'data_keys': {'Tsam': {'shape': 1, 'source': 'PV:ES:Tsam', 'dtype': 'number'}}, '_name': 'EventDescriptor', 'uid': '57e19bb2-8b7e-4c16-a117-a4e276d3a1be', 'run_start': {'beamline_id': 'example', 'scan_id': 1, 'group': '', 'project': '', 'uid': 'e907cff4-41f1-4db5-a2e7-ca0411d36bf4', 'time': 1453910018.133891, 'owner': '', '_name': 'RunStart'}, 'time': 1453910018.155563}, 'data': {'Tsam': 1.1454273507}, 'seq_num': 1, 'uid': '6cd6fdcd-6ddd-4941-badc-3c2015adf1ad', 'time': 1453910029.166986}\n",
      "{'timestamps': {'Tsam': 1453910034.166986}, '_name': 'Event', 'descriptor': {'data_keys': {'Tsam': {'shape': 1, 'source': 'PV:ES:Tsam', 'dtype': 'number'}}, '_name': 'EventDescriptor', 'uid': '57e19bb2-8b7e-4c16-a117-a4e276d3a1be', 'run_start': {'beamline_id': 'example', 'scan_id': 1, 'group': '', 'project': '', 'uid': 'e907cff4-41f1-4db5-a2e7-ca0411d36bf4', 'time': 1453910018.133891, 'owner': '', '_name': 'RunStart'}, 'time': 1453910018.155563}, 'data': {'Tsam': 2.1494079073}, 'seq_num': 2, 'uid': '996945c1-1f69-4c28-9f33-485308155f3b', 'time': 1453910034.166986}\n",
      "{'timestamps': {'Tsam': 1453910039.166986}, '_name': 'Event', 'descriptor': {'data_keys': {'Tsam': {'shape': 1, 'source': 'PV:ES:Tsam', 'dtype': 'number'}}, '_name': 'EventDescriptor', 'uid': '57e19bb2-8b7e-4c16-a117-a4e276d3a1be', 'run_start': {'beamline_id': 'example', 'scan_id': 1, 'group': '', 'project': '', 'uid': 'e907cff4-41f1-4db5-a2e7-ca0411d36bf4', 'time': 1453910018.133891, 'owner': '', '_name': 'RunStart'}, 'time': 1453910018.155563}, 'data': {'Tsam': 3.0653618595}, 'seq_num': 3, 'uid': 'c409bb46-eaf2-48d2-af41-6454bcf3e31e', 'time': 1453910039.166986}\n",
      "{'timestamps': {'Tsam': 1453910046.166986}, '_name': 'Event', 'descriptor': {'data_keys': {'Tsam': {'shape': 1, 'source': 'PV:ES:Tsam', 'dtype': 'number'}}, '_name': 'EventDescriptor', 'uid': '57e19bb2-8b7e-4c16-a117-a4e276d3a1be', 'run_start': {'beamline_id': 'example', 'scan_id': 1, 'group': '', 'project': '', 'uid': 'e907cff4-41f1-4db5-a2e7-ca0411d36bf4', 'time': 1453910018.133891, 'owner': '', '_name': 'RunStart'}, 'time': 1453910018.155563}, 'data': {'Tsam': 4.1532779214}, 'seq_num': 4, 'uid': '095d2a25-7071-4b84-b6d7-ca749cacfc42', 'time': 1453910046.166986}\n",
      "{'timestamps': {'Tsam': 1453910054.166986}, '_name': 'Event', 'descriptor': {'data_keys': {'Tsam': {'shape': 1, 'source': 'PV:ES:Tsam', 'dtype': 'number'}}, '_name': 'EventDescriptor', 'uid': '57e19bb2-8b7e-4c16-a117-a4e276d3a1be', 'run_start': {'beamline_id': 'example', 'scan_id': 1, 'group': '', 'project': '', 'uid': 'e907cff4-41f1-4db5-a2e7-ca0411d36bf4', 'time': 1453910018.133891, 'owner': '', '_name': 'RunStart'}, 'time': 1453910018.155563}, 'data': {'Tsam': 5.1230290681}, 'seq_num': 5, 'uid': '1b24dc22-28f0-4e42-ac59-23acd24254b5', 'time': 1453910054.166986}\n"
     ]
    }
   ],
   "source": [
    "for d in descriptors:\n",
    "    try:\n",
    "        grp = f.create_group(d['uid'])\n",
    "    except ValueError:\n",
    "        print('Group name for hdf5 is taken ')\n",
    "    print(grp)\n",
    "\n",
    "for d in descriptors:\n",
    "    for k, v in d['data_keys'].items():\n",
    "        print(k, v['shape'])\n",
    "    for ev in find_events(descriptor=d):\n",
    "        print(ev)"
   ]
  },
  {
   "cell_type": "code",
   "execution_count": null,
   "metadata": {
    "collapsed": true
   },
   "outputs": [],
   "source": []
  },
  {
   "cell_type": "code",
   "execution_count": null,
   "metadata": {
    "collapsed": true
   },
   "outputs": [],
   "source": []
  }
 ],
 "metadata": {
  "kernelspec": {
   "display_name": "Python 3",
   "language": "python",
   "name": "python3"
  },
  "language_info": {
   "codemirror_mode": {
    "name": "ipython",
    "version": 3
   },
   "file_extension": ".py",
   "mimetype": "text/x-python",
   "name": "python",
   "nbconvert_exporter": "python",
   "pygments_lexer": "ipython3",
   "version": "3.5.1"
  }
 },
 "nbformat": 4,
 "nbformat_minor": 0
}
