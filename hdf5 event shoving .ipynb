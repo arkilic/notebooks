{
 "cells": [
  {
   "cell_type": "code",
   "execution_count": null,
   "metadata": {
    "collapsed": false
   },
   "outputs": [],
   "source": [
    "import h5py\n",
    "from collections import deque\n",
    "from pprint import pprint\n",
    "from doct import Document\n",
    "from metadataclient.api import (find_last, find_descriptors,\n",
    "                                find_events, find_run_stops)\n",
    "import ujson\n"
   ]
  },
  {
   "cell_type": "code",
   "execution_count": null,
   "metadata": {
    "collapsed": false
   },
   "outputs": [],
   "source": [
    "def get_descriptors():\n",
    "    header = {}\n",
    "    rstart = next(find_last())\n",
    "    descs = []\n",
    "    for d in find_descriptors(run_start=rstart['uid']):\n",
    "        descs.append(d)\n",
    "    return descs\n",
    "def extract_data_keys(descriptor):\n",
    "    dkeys = []\n",
    "    for k, v in descriptor['data_keys'].items():\n",
    "        dkeys.append(k)\n",
    "    return dkeys"
   ]
  },
  {
   "cell_type": "code",
   "execution_count": null,
   "metadata": {
    "collapsed": false
   },
   "outputs": [],
   "source": [
    "descriptors = get_descriptors()"
   ]
  },
  {
   "cell_type": "code",
   "execution_count": null,
   "metadata": {
    "collapsed": false
   },
   "outputs": [],
   "source": [
    "for d in descriptors:\n",
    "    f = h5py.File(d['uid'] + '.hdf5','w') # create file with given descriptor uid\n",
    "    evs = deque()\n",
    "    dkeys = extract_data_keys(d)\n",
    "    vectorized = {}\n",
    "    tmp = []\n",
    "    for ev in find_events(descriptor=d):\n",
    "        for k in dkeys:\n",
    "            tmp.append(ev['data'][k])\n",
    "    vectorized[k] = tmp\n",
    "    print(vectorized)\n",
    "    m_shape = (len(vectorized[k]),)# d['data_keys'][k]['shape'])\n",
    "    print(m_shape)\n",
    "    dset = f.create_dataset(k, shape=m_shape, dtype='float' )\n",
    "    dset[:] = vectorized[k]"
   ]
  },
  {
   "cell_type": "code",
   "execution_count": null,
   "metadata": {
    "collapsed": false
   },
   "outputs": [],
   "source": []
  },
  {
   "cell_type": "code",
   "execution_count": null,
   "metadata": {
    "collapsed": true
   },
   "outputs": [],
   "source": []
  }
 ],
 "metadata": {
  "kernelspec": {
   "display_name": "Python 3",
   "language": "python",
   "name": "python3"
  },
  "language_info": {
   "codemirror_mode": {
    "name": "ipython",
    "version": 3
   },
   "file_extension": ".py",
   "mimetype": "text/x-python",
   "name": "python",
   "nbconvert_exporter": "python",
   "pygments_lexer": "ipython3",
   "version": "3.5.1"
  }
 },
 "nbformat": 4,
 "nbformat_minor": 0
}
