{
 "cells": [
  {
   "cell_type": "code",
   "execution_count": 20,
   "metadata": {
    "collapsed": true
   },
   "outputs": [],
   "source": [
    "from metadataclient.api import find_last\n",
    "import six\n",
    "# import pvaccess as pva"
   ]
  },
  {
   "cell_type": "code",
   "execution_count": 27,
   "metadata": {
    "collapsed": false
   },
   "outputs": [],
   "source": [
    "results = find_last(1000)\n",
    "lookup = {str: 'pva.STRING', float: 'pva.FLOAT', \n",
    "          None: 'pva.STRING', int:'pva.INT', \n",
    "         list:'pva.PvUnion', bool: 'pva.BOOL'}\n",
    "\n",
    "def lookup_type(m_dict):\n",
    "    request = {} # this will be a pvaccess.Request if all works out\n",
    "    for k, v in six.iteritems(m_dict):\n",
    "        try:\n",
    "            request[k] = lookup[type(v)]\n",
    "        except KeyError:\n",
    "            if type(v) is dict:\n",
    "                if v:\n",
    "                    request[k] = lookup_type(v)\n",
    "                else:\n",
    "                    request[k] = 'pva.STRING'\n",
    "            else:\n",
    "                print('Unsupported type ', type(v))\n",
    "                # eventually generalize this as a python library\n",
    "    return request\n",
    "\n",
    "\n"
   ]
  },
  {
   "cell_type": "code",
   "execution_count": 28,
   "metadata": {
    "collapsed": false,
    "scrolled": true
   },
   "outputs": [
    {
     "name": "stdout",
     "output_type": "stream",
     "text": [
      "0.09400296211242676\n"
     ]
    }
   ],
   "source": [
    "import time\n",
    "st = time.time()\n",
    "res = map(lookup_type, results)\n",
    "mapped = list(res)\n",
    "end = time.time()\n",
    "\n",
    "print(end-st)\n"
   ]
  },
  {
   "cell_type": "code",
   "execution_count": null,
   "metadata": {
    "collapsed": true
   },
   "outputs": [],
   "source": [
    "dovt = {'owner': pva.STRING,\n",
    " 'project': pva.STRING,\n",
    " 'sample': {'experiment': pva.STRING}}\n"
   ]
  }
 ],
 "metadata": {
  "kernelspec": {
   "display_name": "Python 3",
   "language": "python",
   "name": "python3"
  },
  "language_info": {
   "codemirror_mode": {
    "name": "ipython",
    "version": 3
   },
   "file_extension": ".py",
   "mimetype": "text/x-python",
   "name": "python",
   "nbconvert_exporter": "python",
   "pygments_lexer": "ipython3",
   "version": "3.5.1"
  }
 },
 "nbformat": 4,
 "nbformat_minor": 0
}
