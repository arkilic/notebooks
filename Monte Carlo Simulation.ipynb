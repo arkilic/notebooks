{
 "cells": [
  {
   "cell_type": "markdown",
   "metadata": {},
   "source": [
    "# Monte Carlo -- 3 Implementations \n",
    "# Pure Python, Numpy, Fully Vectorized Numpy"
   ]
  },
  {
   "cell_type": "markdown",
   "metadata": {},
   "source": [
    "Black Scholes: \n",
    "    $dS_t = r S_t dt + \\sigma S_t dZ_t$\n",
    "Difference Equation:\n",
    "    $S_t = S_(t - \\Delta t) exp((r - 0.5 \\sigma^2)\\Delta t + \\sigma \\sqrt(\\Delta t) Z_t$"
   ]
  },
  {
   "cell_type": "code",
   "execution_count": 1,
   "metadata": {
    "collapsed": true
   },
   "outputs": [],
   "source": [
    "import math\n",
    "from scipy import stats\n",
    "import pandas as pd\n",
    "from urllib.request import urlretrieve\n",
    "import matplotlib.pyplot as plt\n",
    "from time import time\n",
    "import numpy as np\n",
    "from math import exp, sqrt, log\n",
    "from random import gauss, seed\n",
    "%matplotlib inline"
   ]
  },
  {
   "cell_type": "code",
   "execution_count": 2,
   "metadata": {
    "collapsed": true
   },
   "outputs": [],
   "source": [
    "\n",
    "def bsm_call_value(S_0, K, T, r, sigma):\n",
    "    \"\"\"European Call option model via BSM.\n",
    "    Nothing exotic or American about this, simple\n",
    "    bsm w/o optimal execution time etc.\n",
    "    \n",
    "    Parameters\n",
    "    ----------\n",
    "    S_0: float\n",
    "        initial stock price\n",
    "    K: float\n",
    "        strike price\n",
    "    T: float\n",
    "        time to maturity\n",
    "    r: float\n",
    "        interest rate\n",
    "    sigma: float\n",
    "        implied volatility factor in diffusion term form\n",
    "    \n",
    "    Returns\n",
    "    -----------\n",
    "    value: float\n",
    "        calculated value of European Call option\n",
    "    \n",
    "    \"\"\"\n",
    "    \n",
    "    s0 = float(S_0)\n",
    "    d1 = (math.log(s0/K) + (r + 0.5 * sigma ** 2) * T) / (sigma * math.sqrt(T)) # upper bound\n",
    "    d2 = (math.log(s0/K) + (r - 0.5 * sigma ** 2) * T) / (sigma * math.sqrt(T)) # lower bound\n",
    "    return (s0 * stats.norm.cdf(d1, 0., 1.0) - K * math.exp(-r * T) * stats.norm.cdf(d2, 0., 1.0))"
   ]
  },
  {
   "cell_type": "code",
   "execution_count": 3,
   "metadata": {
    "collapsed": false
   },
   "outputs": [
    {
     "name": "stdout",
     "output_type": "stream",
     "text": [
      "The actual value of the call option 8.02135223514\n"
     ]
    }
   ],
   "source": [
    "print(\"The actual value of the call option\", \n",
    "      bsm_call_value(100, 105, 1, 0.05, 0.2))"
   ]
  },
  {
   "cell_type": "markdown",
   "metadata": {},
   "source": [
    "# Exact option Value from previous notebook"
   ]
  },
  {
   "cell_type": "markdown",
   "metadata": {},
   "source": [
    "# Recipe:\n",
    "\n",
    "* Divide time interval from [0, T]\n",
    "* For i in __I__\n",
    "    * Determine the time T value of the index level $S_T(i)$ by applying the pseudo-random number time step by time step to the discretization scheme in SDE eqn above\n",
    "    * Determine $max(S_t(i) - K, 0)$ that is inner value of $h_T(S_T(i))$"
   ]
  },
  {
   "cell_type": "markdown",
   "metadata": {},
   "source": [
    "# Pure Python Implementation"
   ]
  },
  {
   "cell_type": "code",
   "execution_count": 4,
   "metadata": {
    "collapsed": false
   },
   "outputs": [],
   "source": [
    "seed(10)\n",
    "\n",
    "S0 = 100\n",
    "K = 105\n",
    "T = 1.0\n",
    "r = 0.05\n",
    "sigma = 0.2\n",
    "M = 50 # number of steps to run the algo\n",
    "dt = T / M #step size\n",
    "I = 250000 # Number of potential paths\n",
    "\n",
    "S = []\n",
    "# Calculate the price for each path and for each step\n",
    "for i in range(I):\n",
    "    path = []\n",
    "    for t in range(M + 1):\n",
    "        if t == 0:\n",
    "            path.append(0)\n",
    "        else:\n",
    "            z = gauss(0.0, 1.0)\n",
    "            St = path[t-1] * exp((r - 0.5 * sigma ** 2) *dt \n",
    "                                + sigma * sqrt(dt) * z)\n",
    "            path.append(St)\n",
    "        S.append(path)\n",
    "        \n"
   ]
  },
  {
   "cell_type": "code",
   "execution_count": 5,
   "metadata": {
    "collapsed": false
   },
   "outputs": [
    {
     "name": "stdout",
     "output_type": "stream",
     "text": [
      "0.951229424500714\n"
     ]
    }
   ],
   "source": [
    "C0 = exp(-r * T) #* sum([max(path[-1] - K, 0) for path in S]) / I\n",
    "print(C0)"
   ]
  },
  {
   "cell_type": "markdown",
   "metadata": {},
   "source": []
  },
  {
   "cell_type": "code",
   "execution_count": null,
   "metadata": {
    "collapsed": true
   },
   "outputs": [],
   "source": []
  },
  {
   "cell_type": "code",
   "execution_count": null,
   "metadata": {
    "collapsed": true
   },
   "outputs": [],
   "source": []
  }
 ],
 "metadata": {
  "kernelspec": {
   "display_name": "Python 3",
   "language": "python",
   "name": "python3"
  },
  "language_info": {
   "codemirror_mode": {
    "name": "ipython",
    "version": 3
   },
   "file_extension": ".py",
   "mimetype": "text/x-python",
   "name": "python",
   "nbconvert_exporter": "python",
   "pygments_lexer": "ipython3",
   "version": "3.4.3"
  }
 },
 "nbformat": 4,
 "nbformat_minor": 0
}
