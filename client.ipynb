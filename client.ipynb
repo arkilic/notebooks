{
 "cells": [
  {
   "cell_type": "code",
   "execution_count": null,
   "metadata": {},
   "outputs": [],
   "source": [
    "import time\n",
    "import uuid\n",
    "\n",
    "from pymongo import MongoClient\n",
    "\n",
    "\n",
    "from indexer.schema import header, group, stream, doctypes, dtypes\n",
    "from p4p import Type, Value\n",
    "from p4p.nt import NTMultiChannel, NTTable\n",
    "\n",
    "# TODO: Add alarm status and severity of failed requests\n",
    "\n",
    "class DixrRO:\n",
    "    def __init__(self, config):\n",
    "        self.config = config\n",
    "        \n",
    "\n",
    "    @property\n",
    "    def config(self):\n",
    "        return self._config\n",
    "\n",
    "    @config.setter\n",
    "    def config(self, config):\n",
    "        for key in ['host', 'port', 'database']:\n",
    "            if key not in config:\n",
    "                raise KeyError('Required fields missing')\n",
    "        self._config = config\n",
    "        \n",
    "    @property\n",
    "    def conn(self):\n",
    "        return MongoClient(host=self.config['host'],\n",
    "                           port=self.config['port'])\n",
    "        \n",
    "    @property\n",
    "    def db(self):\n",
    "        return self.conn[self.config['database']]\n",
    "\n",
    "    def query(self, doctype, **kwargs):\n",
    "        # TODO: Use a generator instead of return\n",
    "        cursor = self.db[doctype].find(kwargs)\n",
    "        result = list(cursor)\n",
    "        normed = self._normalize_results(doctype=doctype,\n",
    "                                         results=result)\n",
    "        return self._bson2mtch(doctype=doctype,\n",
    "                               docs=normed)\n",
    "\n",
    "    def _pv2bson(self, doc, doctype):\n",
    "        \"\"\"Convert from pvdata Value to python dict \"\"\"\n",
    "        lookup = {'i': int, 'd': float, 's': str, 'ai': int, 'ad': float, 'as': str}\n",
    "        bson = {}\n",
    "        for entry in dtypes[doctype]:\n",
    "            # TODO: A more sophisticated way to fetch array\n",
    "            bson[entry[0]] = lookup[entry[1]](doc.get(entry[0]))\n",
    "        return bson\n",
    "\n",
    "    def _bson2pv(self, doctype, doc):\n",
    "        \"\"\"Given a dictionary, return a pvdata structure\"\"\"\n",
    "        T = Type(dtypes[doctype])\n",
    "        return Value(T, doc)\n",
    "\n",
    "    def _bson2mtch(self, doctype, docs):\n",
    "        # TODO: Exception handling if wrong doc format provided\n",
    "        table_template = NTTable.buildType(columns=dtypes[doctype])    \n",
    "        table =  Value(table_template,{'value': docs, \n",
    "                                       'timeStamp.secondsPastEpoch': time.time(),\n",
    "                                        'descriptor': doctype})\n",
    "        return table\n",
    "    \n",
    "    def _normalize_results(self, doctype, results):\n",
    "        keys = [i[0] for i in dtypes[doctype]]\n",
    "        tmp_dict = {}\n",
    "        for k in keys:\n",
    "            tmp_dict[k] = []\n",
    "        for result in results:\n",
    "                for k in keys:\n",
    "                    tmp_dict[k].append(result[k])\n",
    "        return tmp_dict\n",
    "    \n",
    "\n",
    "class Dixr(DixrRO):\n",
    "   def insert(self, doctype, contents):\n",
    "       bson = self._pv2bson(doc=contents, doctype=doctype)\n",
    "       self.db[doctype].insert_one(bson)"
   ]
  },
  {
   "cell_type": "code",
   "execution_count": null,
   "metadata": {},
   "outputs": [],
   "source": [
    "config = dict(host='localhost', port=27017, database='dixrtest')\n",
    "\n",
    "rw = Dixr(config=config)"
   ]
  },
  {
   "cell_type": "code",
   "execution_count": null,
   "metadata": {},
   "outputs": [],
   "source": [
    "v = {'uid': str(uuid.uuid4()), 'time': time.time(), 'machine':'test_ess', 'tbd': 0}\n",
    "\n",
    "r = DixrRO(config=config)\n",
    "rw.insert(doctype='header', contents=v)"
   ]
  },
  {
   "cell_type": "code",
   "execution_count": null,
   "metadata": {
    "scrolled": true
   },
   "outputs": [],
   "source": [
    "x = r.query(doctype='header')"
   ]
  },
  {
   "cell_type": "code",
   "execution_count": null,
   "metadata": {},
   "outputs": [],
   "source": [
    "print(x)"
   ]
  },
  {
   "cell_type": "markdown",
   "metadata": {},
   "source": [
    "Mongo Screenshot of header to mongo document\n",
    "> show dbs\n",
    "admin  0.000GB\n",
    "dixt2  0.000GB\n",
    "local  0.000GB\n",
    "> use dixt2\n",
    "switched to db dixt2\n",
    "> db.header.find()\n",
    "{ \"_id\" : ObjectId(\"5970c6ba304e2a561d0aa10e\"), \"uid\" : \"6dc4aa55-a673-447e-b832-9b1484a66fb8\", \"time\" : 1500563130.9218612, \"machine\" : \"test_ess\", \"tbd\" : 0 }\n",
    "{ \"_id\" : ObjectId(\"5970c6cd304e2a561d0aa113\"), \"uid\" : \"a23d5bda-0c69-4210-89f4-30307d09de42\", \"time\" : 1500563149.630261, \"machine\" : \"test_ess\", \"tbd\" : 0 }\n",
    ">"
   ]
  },
  {
   "cell_type": "code",
   "execution_count": 6,
   "metadata": {},
   "outputs": [
    {
     "data": {
      "text/plain": [
       "[('labels', []),\n",
       " ('value',\n",
       "  [('uid',\n",
       "    ['ddbdc90e-6d75-47e4-a71c-abb8bb30f000',\n",
       "     'b230d17e-8c1c-41b9-aeba-9ccbb98a2b1c',\n",
       "     'a2b002d4-6a30-446e-89fb-e007c21105fe',\n",
       "     '06e504cf-943c-45f3-94cc-140d876681da',\n",
       "     '1d8b39f0-525d-4429-acdd-9c500f1e529f',\n",
       "     '2435d184-65f8-42fa-96c6-0af5942d4d61',\n",
       "     '70cc1ce2-1ddc-4aa2-83ca-f526a9f64678',\n",
       "     'f622b220-2e5d-477b-aacb-bd7805d67f05',\n",
       "     'f3c483e0-4a96-47e0-b5e8-8b0added4e50',\n",
       "     'bd7d4e0c-99a3-4608-abd4-8ece822520c7',\n",
       "     'e2e41264-7343-435f-b554-a761b0022755',\n",
       "     '309e7c62-b1bf-496e-8a66-a2aa5935d3d5',\n",
       "     'dc381bdc-1264-4d2e-9464-d0d456e512d7',\n",
       "     'a1c3960c-01ec-43a0-a712-975ca2a6dcb1',\n",
       "     'b711abfb-aaa0-4669-87d2-b3892dc16a84',\n",
       "     'ea46d462-9225-4963-bd67-4b6c05e97772',\n",
       "     '1ba0c1c2-c728-400f-8609-c2dffeb3fc2b',\n",
       "     'b98516a4-0ffe-4d49-b83d-9f4967d3373d',\n",
       "     'a2bb1d4b-0054-4d78-a325-f5b08547b213']),\n",
       "   ('time', array([  1.50058556e+09,   1.50058709e+09,   1.50058712e+09,\n",
       "             1.50058718e+09,   1.50058722e+09,   1.50058723e+09,\n",
       "             1.50058727e+09,   1.50058730e+09,   1.50058746e+09,\n",
       "             1.50058823e+09,   1.50064273e+09,   1.50064278e+09,\n",
       "             1.50064283e+09,   1.50064293e+09,   1.50064296e+09,\n",
       "             1.50064356e+09,   1.50064396e+09,   1.50064470e+09,\n",
       "             1.50064485e+09])),\n",
       "   ('machine',\n",
       "    ['test_ess',\n",
       "     'test_ess',\n",
       "     'test_ess',\n",
       "     'test_ess',\n",
       "     'test_ess',\n",
       "     'test_ess',\n",
       "     'test_ess',\n",
       "     'test_ess',\n",
       "     'test_ess',\n",
       "     'test_ess',\n",
       "     'test_ess',\n",
       "     'test_ess',\n",
       "     'test_ess',\n",
       "     'test_ess',\n",
       "     'test_ess',\n",
       "     'test_ess',\n",
       "     'test_ess',\n",
       "     'test_ess',\n",
       "     'test_ess']),\n",
       "   ('tbd',\n",
       "    array([ 0.,  0.,  0.,  0.,  0.,  0.,  0.,  0.,  0.,  0.,  0.,  0.,  0.,\n",
       "            0.,  0.,  0.,  0.,  0.,  0.]))]),\n",
       " ('descriptor', 'header'),\n",
       " ('alarm', [('severity', 0), ('status', 0), ('message', '')]),\n",
       " ('timeStamp',\n",
       "  [('secondsPastEpoch', 1500644845), ('nanoseconds', 0), ('userTag', 0)])]"
      ]
     },
     "execution_count": 6,
     "metadata": {},
     "output_type": "execute_result"
    }
   ],
   "source": [
    "x.tolist()"
   ]
  },
  {
   "cell_type": "code",
   "execution_count": 7,
   "metadata": {},
   "outputs": [
    {
     "data": {
      "text/plain": [
       "[('labels', []),\n",
       " ('value',\n",
       "  Value(id:structure, value.uid:['ddbdc90e-6d75-47e4-a71c-abb8bb30f000', 'b230d17e-8c1c-41b9-aeba-9ccbb98a2b1c', 'a2b002d4-6a30-446e-89fb-e007c21105fe', '06e504cf-943c-45f3-94cc-140d876681da', '1d8b39f0-525d-4429-acdd-9c500f1e529f', '2435d184-65f8-42fa-96c6-0af5942d4d61', '70cc1ce2-1ddc-4aa2-83ca-f526a9f64678', 'f622b220-2e5d-477b-aacb-bd7805d67f05', 'f3c483e0-4a96-47e0-b5e8-8b0added4e50', 'bd7d4e0c-99a3-4608-abd4-8ece822520c7', 'e2e41264-7343-435f-b554-a761b0022755', '309e7c62-b1bf-496e-8a66-a2aa5935d3d5', 'dc381bdc-1264-4d2e-9464-d0d456e512d7', 'a1c3960c-01ec-43a0-a712-975ca2a6dcb1', 'b711abfb-aaa0-4669-87d2-b3892dc16a84', 'ea46d462-9225-4963-bd67-4b6c05e97772', '1ba0c1c2-c728-400f-8609-c2dffeb3fc2b', 'b98516a4-0ffe-4d49-b83d-9f4967d3373d', 'a2bb1d4b-0054-4d78-a325-f5b08547b213'])),\n",
       " ('descriptor', 'header'),\n",
       " ('alarm', Value(id:alarm_t, alarm.severity:0)),\n",
       " ('timeStamp', Value(id:time_t, timeStamp.secondsPastEpoch:1500644845))]"
      ]
     },
     "execution_count": 7,
     "metadata": {},
     "output_type": "execute_result"
    }
   ],
   "source": [
    "x.items()"
   ]
  },
  {
   "cell_type": "code",
   "execution_count": 8,
   "metadata": {},
   "outputs": [
    {
     "data": {
      "text/plain": [
       "['ddbdc90e-6d75-47e4-a71c-abb8bb30f000',\n",
       " 'b230d17e-8c1c-41b9-aeba-9ccbb98a2b1c',\n",
       " 'a2b002d4-6a30-446e-89fb-e007c21105fe',\n",
       " '06e504cf-943c-45f3-94cc-140d876681da',\n",
       " '1d8b39f0-525d-4429-acdd-9c500f1e529f',\n",
       " '2435d184-65f8-42fa-96c6-0af5942d4d61',\n",
       " '70cc1ce2-1ddc-4aa2-83ca-f526a9f64678',\n",
       " 'f622b220-2e5d-477b-aacb-bd7805d67f05',\n",
       " 'f3c483e0-4a96-47e0-b5e8-8b0added4e50',\n",
       " 'bd7d4e0c-99a3-4608-abd4-8ece822520c7',\n",
       " 'e2e41264-7343-435f-b554-a761b0022755',\n",
       " '309e7c62-b1bf-496e-8a66-a2aa5935d3d5',\n",
       " 'dc381bdc-1264-4d2e-9464-d0d456e512d7',\n",
       " 'a1c3960c-01ec-43a0-a712-975ca2a6dcb1',\n",
       " 'b711abfb-aaa0-4669-87d2-b3892dc16a84',\n",
       " 'ea46d462-9225-4963-bd67-4b6c05e97772',\n",
       " '1ba0c1c2-c728-400f-8609-c2dffeb3fc2b',\n",
       " 'b98516a4-0ffe-4d49-b83d-9f4967d3373d',\n",
       " 'a2bb1d4b-0054-4d78-a325-f5b08547b213']"
      ]
     },
     "execution_count": 8,
     "metadata": {},
     "output_type": "execute_result"
    }
   ],
   "source": [
    "x.value.uid"
   ]
  },
  {
   "cell_type": "code",
   "execution_count": 9,
   "metadata": {},
   "outputs": [
    {
     "data": {
      "text/plain": [
       "['test_ess',\n",
       " 'test_ess',\n",
       " 'test_ess',\n",
       " 'test_ess',\n",
       " 'test_ess',\n",
       " 'test_ess',\n",
       " 'test_ess',\n",
       " 'test_ess',\n",
       " 'test_ess',\n",
       " 'test_ess',\n",
       " 'test_ess',\n",
       " 'test_ess',\n",
       " 'test_ess',\n",
       " 'test_ess',\n",
       " 'test_ess',\n",
       " 'test_ess',\n",
       " 'test_ess',\n",
       " 'test_ess',\n",
       " 'test_ess']"
      ]
     },
     "execution_count": 9,
     "metadata": {},
     "output_type": "execute_result"
    }
   ],
   "source": [
    "x.value.machine"
   ]
  },
  {
   "cell_type": "code",
   "execution_count": null,
   "metadata": {},
   "outputs": [],
   "source": []
  },
  {
   "cell_type": "code",
   "execution_count": null,
   "metadata": {
    "collapsed": true
   },
   "outputs": [],
   "source": []
  }
 ],
 "metadata": {
  "kernelspec": {
   "display_name": "Python 3",
   "language": "python",
   "name": "python3"
  },
  "language_info": {
   "codemirror_mode": {
    "name": "ipython",
    "version": 3
   },
   "file_extension": ".py",
   "mimetype": "text/x-python",
   "name": "python",
   "nbconvert_exporter": "python",
   "pygments_lexer": "ipython3",
   "version": "3.6.1"
  }
 },
 "nbformat": 4,
 "nbformat_minor": 2
}
