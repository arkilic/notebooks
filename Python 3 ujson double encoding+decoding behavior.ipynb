{
 "cells": [
  {
   "cell_type": "code",
   "execution_count": 1,
   "metadata": {
    "collapsed": true
   },
   "outputs": [],
   "source": [
    "# PYTHON 3\n",
    "import numpy as np\n",
    "import ujson\n"
   ]
  },
  {
   "cell_type": "code",
   "execution_count": 2,
   "metadata": {
    "collapsed": false
   },
   "outputs": [
    {
     "name": "stdout",
     "output_type": "stream",
     "text": [
      "Data            0.429857169786502\n",
      "What is encoded 0.4298571697865\n",
      "What is decoded 0.429857169786502\n"
     ]
    }
   ],
   "source": [
    "# Precision 15\n",
    "b = np.random.randn(1).astype('d')\n",
    "print('Data', '           {0:.15f}'.format(b[0]))\n",
    "encoded = ujson.dumps(b[0], double_precision=15)\n",
    "print('What is encoded', '{0:.15}'.format(encoded))\n",
    "decoded = ujson.loads(encoded, precise_float=True)\n",
    "print('What is decoded','{0:.15f}'.format(decoded))"
   ]
  },
  {
   "cell_type": "code",
   "execution_count": 3,
   "metadata": {
    "collapsed": false
   },
   "outputs": [
    {
     "name": "stdout",
     "output_type": "stream",
     "text": [
      "Data            -0.3797059905493040\n",
      "What is encoded -0.3797059905493\n",
      "What is decoded -0.3797059905493040\n"
     ]
    }
   ],
   "source": [
    "# Precision 16\n",
    "b = np.random.randn(1).astype('d')\n",
    "print('Data', '           {0:.16f}'.format(b[0]))\n",
    "encoded = ujson.dumps(b[0], double_precision=16)\n",
    "print('What is encoded', '{0:.16}'.format(encoded))\n",
    "decoded = ujson.loads(encoded, precise_float=True)\n",
    "print('What is decoded','{0:.16f}'.format(decoded))"
   ]
  },
  {
   "cell_type": "code",
   "execution_count": 4,
   "metadata": {
    "collapsed": false
   },
   "outputs": [
    {
     "name": "stdout",
     "output_type": "stream",
     "text": [
      "Data            0.30829850814235137957\n",
      "What is encoded 0.308298508142351\n",
      "What is decoded 0.30829850814235099099\n"
     ]
    }
   ],
   "source": [
    "# Precision 20\n",
    "b = np.random.randn(1).astype('d')\n",
    "print('Data', '           {0:.20f}'.format(b[0]))\n",
    "encoded = ujson.dumps(b[0], double_precision=20)\n",
    "print('What is encoded', '{0:.20}'.format(encoded))\n",
    "decoded = ujson.loads(encoded, precise_float=True)\n",
    "print('What is decoded','{0:.20f}'.format(decoded))"
   ]
  },
  {
   "cell_type": "code",
   "execution_count": 5,
   "metadata": {
    "collapsed": false
   },
   "outputs": [
    {
     "name": "stdout",
     "output_type": "stream",
     "text": [
      "Data            0.423117028386462978862\n",
      "What is encoded 0.423117028386463\n",
      "What is decoded 0.423117028386462978862\n"
     ]
    }
   ],
   "source": [
    "# Precision 21\n",
    "b = np.random.randn(1).astype('d')\n",
    "print('Data', '           {0:.21f}'.format(b[0]))\n",
    "encoded = ujson.dumps(b[0], double_precision=21)\n",
    "print('What is encoded', '{0:.21}'.format(encoded))\n",
    "decoded = ujson.loads(encoded, precise_float=True)\n",
    "print('What is decoded','{0:.21f}'.format(decoded))"
   ]
  },
  {
   "cell_type": "code",
   "execution_count": 6,
   "metadata": {
    "collapsed": false
   },
   "outputs": [
    {
     "name": "stdout",
     "output_type": "stream",
     "text": [
      "Data            0.2488104838127419837779\n",
      "What is encoded 0.248810483812742\n",
      "What is decoded 0.2488104838127420115335\n"
     ]
    }
   ],
   "source": [
    "# Precision 22\n",
    "b = np.random.randn(1).astype('d')\n",
    "print('Data', '           {0:.22f}'.format(b[0]))\n",
    "encoded = ujson.dumps(b[0], double_precision=22)\n",
    "print('What is encoded', '{0:.22}'.format(encoded))\n",
    "decoded = ujson.loads(encoded, precise_float=True)\n",
    "print('What is decoded','{0:.22f}'.format(decoded))"
   ]
  },
  {
   "cell_type": "code",
   "execution_count": 7,
   "metadata": {
    "collapsed": false
   },
   "outputs": [
    {
     "name": "stdout",
     "output_type": "stream",
     "text": [
      "Data            1.44745757410641240348070\n",
      "What is encoded 1.447457574106412\n",
      "What is decoded 1.44745757410641195939149\n"
     ]
    }
   ],
   "source": [
    "# Precision 23\n",
    "b = np.random.randn(1).astype('d')\n",
    "print('Data', '           {0:.23f}'.format(b[0]))\n",
    "encoded = ujson.dumps(b[0], double_precision=23)\n",
    "print('What is encoded', '{0:.23}'.format(encoded))\n",
    "decoded = ujson.loads(encoded, precise_float=True)\n",
    "print('What is decoded','{0:.23f}'.format(decoded))"
   ]
  },
  {
   "cell_type": "code",
   "execution_count": 8,
   "metadata": {
    "collapsed": false
   },
   "outputs": [
    {
     "name": "stdout",
     "output_type": "stream",
     "text": [
      "Data            0.0664432864463847250302564\n",
      "What is encoded 0.066443286446385\n",
      "What is decoded 0.0664432864463850025860125\n"
     ]
    }
   ],
   "source": [
    "# Precision 25\n",
    "b = np.random.randn(1).astype('d')\n",
    "print('Data', '           {0:.25f}'.format(b[0]))\n",
    "encoded = ujson.dumps(b[0], double_precision=25)\n",
    "print('What is encoded', '{0:.25}'.format(encoded))\n",
    "decoded = ujson.loads(encoded, precise_float=True)\n",
    "print('What is decoded','{0:.25f}'.format(decoded))"
   ]
  },
  {
   "cell_type": "code",
   "execution_count": null,
   "metadata": {
    "collapsed": true
   },
   "outputs": [],
   "source": []
  }
 ],
 "metadata": {
  "kernelspec": {
   "display_name": "Python 3",
   "language": "python",
   "name": "python3"
  },
  "language_info": {
   "codemirror_mode": {
    "name": "ipython",
    "version": 3
   },
   "file_extension": ".py",
   "mimetype": "text/x-python",
   "name": "python",
   "nbconvert_exporter": "python",
   "pygments_lexer": "ipython3",
   "version": "3.4.3"
  }
 },
 "nbformat": 4,
 "nbformat_minor": 0
}
