{
 "cells": [
  {
   "cell_type": "code",
   "execution_count": 14,
   "metadata": {
    "collapsed": true
   },
   "outputs": [],
   "source": [
    "from filestore import FileStore\n",
    "from filestore.utils import install_sentinels\n",
    "\n",
    "# In a nutshell, resource is the path to where files are held, serves as the \"root path\"\n",
    "# datum is the names of the files that are hosted within this directory. \n",
    "# datum_id field is the unique identifier to fetch the specific files"
   ]
  },
  {
   "cell_type": "code",
   "execution_count": 7,
   "metadata": {
    "collapsed": true
   },
   "outputs": [],
   "source": [
    "cfg = dict(database='filestore', host='localhost', port=27017)"
   ]
  },
  {
   "cell_type": "code",
   "execution_count": 16,
   "metadata": {
    "collapsed": false
   },
   "outputs": [],
   "source": [
    "# one time thing\n",
    "install_sentinels(config=cfg, version=1)"
   ]
  },
  {
   "cell_type": "code",
   "execution_count": 17,
   "metadata": {
    "collapsed": true
   },
   "outputs": [],
   "source": [
    "fs = FileStore(config=cfg)"
   ]
  },
  {
   "cell_type": "code",
   "execution_count": 22,
   "metadata": {
    "collapsed": false
   },
   "outputs": [],
   "source": [
    "r = fs.insert_resource(spec='jpeg',\n",
    "                              resource_path='path/to/johns/dir',\n",
    "                              resource_kwargs={'crystal': 1})"
   ]
  },
  {
   "cell_type": "code",
   "execution_count": 25,
   "metadata": {
    "collapsed": false
   },
   "outputs": [
    {
     "data": {
      "text/html": [
       "\n",
       "<table>\n",
       "\n",
       "  <tr>\n",
       "    <th> id </th>\n",
       "    <td>\n",
       "      \n",
       "          \n",
       "            c69d37f3-7bb2-427a-8e59-e2be8478e5f9\n",
       "          \n",
       "        \n",
       "    </td>\n",
       "  </tr>\n",
       "\n",
       "  <tr>\n",
       "    <th> resource_kwargs </th>\n",
       "    <td>\n",
       "      \n",
       "        <table>\n",
       "          \n",
       "  <tr>\n",
       "    <th> crystal </th>\n",
       "    <td>\n",
       "      \n",
       "          \n",
       "            1\n",
       "          \n",
       "        \n",
       "    </td>\n",
       "  </tr>\n",
       "\n",
       "        </table>\n",
       "        \n",
       "    </td>\n",
       "  </tr>\n",
       "\n",
       "  <tr>\n",
       "    <th> resource_path </th>\n",
       "    <td>\n",
       "      \n",
       "          \n",
       "            path/to/johns/dir\n",
       "          \n",
       "        \n",
       "    </td>\n",
       "  </tr>\n",
       "\n",
       "  <tr>\n",
       "    <th> root </th>\n",
       "    <td>\n",
       "      \n",
       "          \n",
       "            \n",
       "          \n",
       "        \n",
       "    </td>\n",
       "  </tr>\n",
       "\n",
       "  <tr>\n",
       "    <th> spec </th>\n",
       "    <td>\n",
       "      \n",
       "          \n",
       "            jpeg\n",
       "          \n",
       "        \n",
       "    </td>\n",
       "  </tr>\n",
       "\n",
       "  <tr>\n",
       "    <th> uid </th>\n",
       "    <td>\n",
       "      \n",
       "          \n",
       "            c69d37f3-7bb2-427a-8e59-e2be8478e5f9\n",
       "          \n",
       "        \n",
       "    </td>\n",
       "  </tr>\n",
       "\n",
       "</table>"
      ],
      "text/plain": [
       "{'id': 'c69d37f3-7bb2-427a-8e59-e2be8478e5f9',\n",
       " 'resource_kwargs': {'crystal': 1},\n",
       " 'resource_path': 'path/to/johns/dir',\n",
       " 'root': '',\n",
       " 'spec': 'jpeg',\n",
       " 'uid': 'c69d37f3-7bb2-427a-8e59-e2be8478e5f9'}"
      ]
     },
     "execution_count": 25,
     "metadata": {},
     "output_type": "execute_result"
    }
   ],
   "source": [
    "r"
   ]
  },
  {
   "cell_type": "code",
   "execution_count": 23,
   "metadata": {
    "collapsed": false
   },
   "outputs": [],
   "source": [
    "datum = fs.insert_datum(resource=r, datum_id='crystal_x', datum_kwargs={'additional_info': {}})"
   ]
  },
  {
   "cell_type": "code",
   "execution_count": 24,
   "metadata": {
    "collapsed": false
   },
   "outputs": [
    {
     "data": {
      "text/html": [
       "\n",
       "<table>\n",
       "\n",
       "  <tr>\n",
       "    <th> datum_id </th>\n",
       "    <td>\n",
       "      \n",
       "          \n",
       "            crystal_x\n",
       "          \n",
       "        \n",
       "    </td>\n",
       "  </tr>\n",
       "\n",
       "  <tr>\n",
       "    <th> datum_kwargs </th>\n",
       "    <td>\n",
       "      \n",
       "        <table>\n",
       "          \n",
       "  <tr>\n",
       "    <th> additional_info </th>\n",
       "    <td>\n",
       "      \n",
       "        <table>\n",
       "          \n",
       "        </table>\n",
       "        \n",
       "    </td>\n",
       "  </tr>\n",
       "\n",
       "        </table>\n",
       "        \n",
       "    </td>\n",
       "  </tr>\n",
       "\n",
       "  <tr>\n",
       "    <th> resource </th>\n",
       "    <td>\n",
       "      \n",
       "          \n",
       "            c69d37f3-7bb2-427a-8e59-e2be8478e5f9\n",
       "          \n",
       "        \n",
       "    </td>\n",
       "  </tr>\n",
       "\n",
       "</table>"
      ],
      "text/plain": [
       "{'datum_id': 'crystal_x',\n",
       " 'datum_kwargs': {'additional_info': {}},\n",
       " 'resource': 'c69d37f3-7bb2-427a-8e59-e2be8478e5f9'}"
      ]
     },
     "execution_count": 24,
     "metadata": {},
     "output_type": "execute_result"
    }
   ],
   "source": [
    "datum"
   ]
  },
  {
   "cell_type": "code",
   "execution_count": 29,
   "metadata": {
    "collapsed": false
   },
   "outputs": [
    {
     "data": {
      "text/plain": [
       "[{'datum_id': 'crystal_x',\n",
       "  'datum_kwargs': {'additional_info': {}},\n",
       "  'resource': 'c69d37f3-7bb2-427a-8e59-e2be8478e5f9'}]"
      ]
     },
     "execution_count": 29,
     "metadata": {},
     "output_type": "execute_result"
    }
   ],
   "source": [
    "list(fs.datum_gen_given_resource(r))"
   ]
  },
  {
   "cell_type": "code",
   "execution_count": 30,
   "metadata": {
    "collapsed": false
   },
   "outputs": [
    {
     "data": {
      "text/html": [
       "\n",
       "<table>\n",
       "\n",
       "  <tr>\n",
       "    <th> id </th>\n",
       "    <td>\n",
       "      \n",
       "          \n",
       "            c69d37f3-7bb2-427a-8e59-e2be8478e5f9\n",
       "          \n",
       "        \n",
       "    </td>\n",
       "  </tr>\n",
       "\n",
       "  <tr>\n",
       "    <th> resource_kwargs </th>\n",
       "    <td>\n",
       "      \n",
       "        <table>\n",
       "          \n",
       "  <tr>\n",
       "    <th> crystal </th>\n",
       "    <td>\n",
       "      \n",
       "          \n",
       "            1\n",
       "          \n",
       "        \n",
       "    </td>\n",
       "  </tr>\n",
       "\n",
       "        </table>\n",
       "        \n",
       "    </td>\n",
       "  </tr>\n",
       "\n",
       "  <tr>\n",
       "    <th> resource_path </th>\n",
       "    <td>\n",
       "      \n",
       "          \n",
       "            path/to/johns/dir\n",
       "          \n",
       "        \n",
       "    </td>\n",
       "  </tr>\n",
       "\n",
       "  <tr>\n",
       "    <th> root </th>\n",
       "    <td>\n",
       "      \n",
       "          \n",
       "            \n",
       "          \n",
       "        \n",
       "    </td>\n",
       "  </tr>\n",
       "\n",
       "  <tr>\n",
       "    <th> spec </th>\n",
       "    <td>\n",
       "      \n",
       "          \n",
       "            jpeg\n",
       "          \n",
       "        \n",
       "    </td>\n",
       "  </tr>\n",
       "\n",
       "  <tr>\n",
       "    <th> uid </th>\n",
       "    <td>\n",
       "      \n",
       "          \n",
       "            c69d37f3-7bb2-427a-8e59-e2be8478e5f9\n",
       "          \n",
       "        \n",
       "    </td>\n",
       "  </tr>\n",
       "\n",
       "</table>"
      ],
      "text/plain": [
       "{'id': 'c69d37f3-7bb2-427a-8e59-e2be8478e5f9',\n",
       " 'resource_kwargs': {'crystal': 1},\n",
       " 'resource_path': 'path/to/johns/dir',\n",
       " 'root': '',\n",
       " 'spec': 'jpeg',\n",
       " 'uid': 'c69d37f3-7bb2-427a-8e59-e2be8478e5f9'}"
      ]
     },
     "execution_count": 30,
     "metadata": {},
     "output_type": "execute_result"
    }
   ],
   "source": [
    "fs.resource_given_eid('crystal_x')"
   ]
  },
  {
   "cell_type": "code",
   "execution_count": 32,
   "metadata": {
    "collapsed": false
   },
   "outputs": [
    {
     "data": {
      "text/plain": [
       "[{'datum_id': 'crystal_x',\n",
       "  'datum_kwargs': {'additional_info': {}},\n",
       "  'resource': 'c69d37f3-7bb2-427a-8e59-e2be8478e5f9'}]"
      ]
     },
     "execution_count": 32,
     "metadata": {},
     "output_type": "execute_result"
    }
   ],
   "source": [
    "list(fs.datum_gen_given_resource(fs.resource_given_eid('crystal_x')))"
   ]
  },
  {
   "cell_type": "code",
   "execution_count": null,
   "metadata": {
    "collapsed": true
   },
   "outputs": [],
   "source": []
  }
 ],
 "metadata": {
  "kernelspec": {
   "display_name": "Python 3",
   "language": "python",
   "name": "python3"
  },
  "language_info": {
   "codemirror_mode": {
    "name": "ipython",
    "version": 3
   },
   "file_extension": ".py",
   "mimetype": "text/x-python",
   "name": "python",
   "nbconvert_exporter": "python",
   "pygments_lexer": "ipython3",
   "version": "3.5.2"
  }
 },
 "nbformat": 4,
 "nbformat_minor": 0
}
