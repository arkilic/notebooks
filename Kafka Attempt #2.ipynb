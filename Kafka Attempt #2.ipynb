{
 "cells": [
  {
   "cell_type": "code",
   "execution_count": null,
   "metadata": {
    "collapsed": false
   },
   "outputs": [],
   "source": [
    "from kafka import KafkaProducer\n",
    "import json\n",
    "\n",
    "\n",
    "\n",
    "producer = KafkaProducer(bootstrap_servers='localhost:9092')\n",
    "for _ in range(100):\n",
    "    producer.send('foobar', b'some_message_bytes')\n",
    "# Block until all pending messages are sent\n",
    "producer.flush()\n",
    "# Block until a single message is sent (or timeout)\n",
    "producer.send('foobar', b'another_message').get(timeout=60)\n",
    "# Use a key for hashed-partitioning\n",
    "producer.send('foobar', key=b'foo', value=b'bar')\n",
    "# Serialize json messages\n",
    "producer = KafkaProducer(value_serializer=lambda v: json.dumps(v).encode('utf-8'))\n",
    "producer.send('fizzbuzz', {'foo': 'bar'})\n",
    "# Serialize string keys\n",
    "producer = KafkaProducer(key_serializer=str.encode)\n",
    "producer.send('flipflap', key='ping', value=b'1234')\n",
    "# Compress messages\n",
    "producer = KafkaProducer(compression_type='gzip')\n",
    "for i in range(1000):\n",
    "    producer.send('foobar', b'msg %d' % i)"
   ]
  },
  {
   "cell_type": "code",
   "execution_count": null,
   "metadata": {
    "collapsed": true
   },
   "outputs": [],
   "source": [
    "from kafka import KafkaConsumer\n",
    "consumer = KafkaConsumer('my_favorite_topic')\n",
    "for msg in consumer:\n",
    "    print (msg)\n",
    "# manually assign the partition list for the consumer\n",
    "from kafka import TopicPartition\n",
    "consumer = KafkaConsumer(bootstrap_servers='localhost:9092')\n",
    "consumer.assign([TopicPartition('foobar', 2)])\n",
    "msg = next(consumer)\n",
    "# Deserialize msgpack-encoded values\n",
    "consumer = KafkaConsumer(value_deserializer=msgpack.loads)\n",
    "consumer.subscribe(['msgpackfoo'])\n",
    "for msg in consumer:\n",
    "    assert isinstance(msg.value, dict)"
   ]
  },
  {
   "cell_type": "code",
   "execution_count": null,
   "metadata": {
    "collapsed": true
   },
   "outputs": [],
   "source": []
  }
 ],
 "metadata": {
  "kernelspec": {
   "display_name": "Python 3",
   "language": "python",
   "name": "python3"
  },
  "language_info": {
   "codemirror_mode": {
    "name": "ipython",
    "version": 3
   },
   "file_extension": ".py",
   "mimetype": "text/x-python",
   "name": "python",
   "nbconvert_exporter": "python",
   "pygments_lexer": "ipython3",
   "version": "3.5.2"
  }
 },
 "nbformat": 4,
 "nbformat_minor": 0
}
