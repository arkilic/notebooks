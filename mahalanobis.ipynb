{
 "cells": [
  {
   "cell_type": "code",
   "execution_count": 11,
   "metadata": {
    "collapsed": true
   },
   "outputs": [],
   "source": [
    "import numpy as nn\n",
    "from scipy.spatial.distance import mahalanobis"
   ]
  },
  {
   "cell_type": "code",
   "execution_count": 41,
   "metadata": {},
   "outputs": [],
   "source": [
    "height = np.array([220, 210,190,190])\n",
    "weight = np.array([110, 90, 110, 90])"
   ]
  },
  {
   "cell_type": "code",
   "execution_count": 66,
   "metadata": {},
   "outputs": [
    {
     "name": "stdout",
     "output_type": "stream",
     "text": [
      "[[ 225.           33.33333333]\n",
      " [  33.33333333  133.33333333]]\n"
     ]
    }
   ],
   "source": [
    "cov = np.cov(height, weight)\n",
    "print(cov)"
   ]
  },
  {
   "cell_type": "code",
   "execution_count": 65,
   "metadata": {},
   "outputs": [
    {
     "name": "stdout",
     "output_type": "stream",
     "text": [
      "[[ 0.00461538 -0.00115385]\n",
      " [-0.00115385  0.00778846]]\n"
     ]
    }
   ],
   "source": [
    "inv_conv = np.linalg.inv(cov)\n",
    "print(inv_conv)"
   ]
  },
  {
   "cell_type": "code",
   "execution_count": 75,
   "metadata": {},
   "outputs": [],
   "source": [
    "\n",
    "distances = np.zeros((4,4))\n",
    "for i in range(4):\n",
    "    for j in range(4):\n",
    "        distances[i][j] = mahalanobis([height[i], weight[i]], [height[j], weight[j]], inv_conv)\n"
   ]
  },
  {
   "cell_type": "code",
   "execution_count": 76,
   "metadata": {},
   "outputs": [
    {
     "name": "stdout",
     "output_type": "stream",
     "text": [
      "[[ 0.          1.76504522  2.03809866  2.42582262]\n",
      " [ 1.76504522  0.          2.42582262  1.35873244]\n",
      " [ 2.03809866  2.42582262  0.          1.76504522]\n",
      " [ 2.42582262  1.35873244  1.76504522  0.        ]]\n"
     ]
    }
   ],
   "source": [
    "print(distances)"
   ]
  },
  {
   "cell_type": "code",
   "execution_count": 84,
   "metadata": {},
   "outputs": [
    {
     "name": "stdout",
     "output_type": "stream",
     "text": [
      "1th person distanace to average \n",
      "1.47087101354\n",
      "2th person distanace to average \n",
      "1.21291131009\n",
      "3th person distanace to average \n",
      "1.21291131009\n",
      "4th person distanace to average \n",
      "1.00479619059\n"
     ]
    }
   ],
   "source": [
    "for j in range(4):\n",
    "        print(\"{}th person distanace to average \".format(j+1))\n",
    "        print(mahalanobis([height[j], weight[j]], [200, 100], inv_conv))\n"
   ]
  },
  {
   "cell_type": "code",
   "execution_count": null,
   "metadata": {
    "collapsed": true
   },
   "outputs": [],
   "source": []
  }
 ],
 "metadata": {
  "kernelspec": {
   "display_name": "Python 3",
   "language": "python",
   "name": "python3"
  },
  "language_info": {
   "codemirror_mode": {
    "name": "ipython",
    "version": 3
   },
   "file_extension": ".py",
   "mimetype": "text/x-python",
   "name": "python",
   "nbconvert_exporter": "python",
   "pygments_lexer": "ipython3",
   "version": "3.6.1"
  }
 },
 "nbformat": 4,
 "nbformat_minor": 2
}
