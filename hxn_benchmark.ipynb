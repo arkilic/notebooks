{
 "cells": [
  {
   "cell_type": "code",
   "execution_count": 1,
   "metadata": {
    "collapsed": false
   },
   "outputs": [],
   "source": [
    "import itertools\n",
    "import uuid\n",
    "import time\n",
    "from collections import OrderedDict\n",
    "from contextlib import contextmanager\n",
    "\n",
    "from filestore.api import (bulk_insert_datum, insert_resource)\n",
    "from metadataclient.mds import MDS\n",
    "from portable_mds.mongoquery.mds import MDS as MQMDS\n",
    "from portable_mds.sqlite.mds import MDS as SQMDS\n",
    "from portable_mds.hdf5.mds import MDS as H5MDS"
   ]
  },
  {
   "cell_type": "code",
   "execution_count": 2,
   "metadata": {
    "collapsed": false
   },
   "outputs": [],
   "source": [
    "local_cfg = {'directory': '/Users/arkilic/local_mds_files'}\n",
    "online_cfg = {'host': 'localhost',\n",
    "             'port': 7778}\n",
    "mds = MDS(online_cfg)\n",
    "mqmds = MQMDS(local_cfg)\n",
    "sqmds = SQMDS(local_cfg)\n",
    "h5mds = H5MDS(local_cfg)"
   ]
  },
  {
   "cell_type": "code",
   "execution_count": 3,
   "metadata": {
    "collapsed": false
   },
   "outputs": [],
   "source": [
    "class ctxtime(object):\n",
    "    def __enter__(self):\n",
    "        self.t0 = time.time()\n",
    "        return self\n",
    "\n",
    "    def __exit__(self, type, value, traceback):\n",
    "        self.elapsed = time.time() - self.t0\n",
    "\n",
    "\n",
    "def new_uid():\n",
    "    \"uuid4 as a string\"\n",
    "    return str(uuid.uuid4())"
   ]
  },
  {
   "cell_type": "code",
   "execution_count": 4,
   "metadata": {
    "collapsed": true
   },
   "outputs": [],
   "source": [
    "class FSBase:\n",
    "    def generate_datum(self, key, timestamp):\n",
    "        \"Generate a uid and cache it with its key for later insertion.\"\n",
    "        # if self._locked_key_list:\n",
    "        #     if key not in self._datum_uids:\n",
    "        #         raise RuntimeError(\"modifying after lock\")\n",
    "        uid = new_uid()\n",
    "        reading = {'value': uid, 'timestamp': timestamp}\n",
    "        # datum_uids looks like {'dark': [reading1, reading2], ...}\n",
    "        self._datum_uids[key].append(reading)\n",
    "        return uid\n",
    "\n",
    "\n",
    "class BulkReadableDetector:\n",
    "    def __init__(self, path='fake_path', *, spec='AD_HDF5'):\n",
    "        self.spec = spec\n",
    "        self._resource = insert_resource(self.spec, path)\n",
    "        self._datum_kwargs_map = {}\n",
    "        self._reset_data()\n",
    "\n",
    "    def _reset_data(self):\n",
    "        self._datum_uids = []\n",
    "        self._datum_kwargs_map = {}\n",
    "        self._point_counter = itertools.count()\n",
    "\n",
    "    def generate_datum(self, key, timestamp):\n",
    "        \"Stash kwargs for each datum, to be used below by unstage.\"\n",
    "        uid = super().generate_datum(key, timestamp)\n",
    "        i = next(self._point_counter)\n",
    "        self._datum_kwargs_map[uid] = {'point_number': i}\n",
    "        # (don't insert, obviously)\n",
    "        return uid\n",
    "\n",
    "    def bulk_read(self, timestamps):\n",
    "        image_name = self.image_name\n",
    "\n",
    "        uids = [self.generate_datum(self.image_name, ts) for ts in timestamps]\n",
    "        datum_args = [self._datum_kwargs_map[uid] for uid in uids]\n",
    "\n",
    "        bulk_insert_datum(self._resource, uids, datum_args)\n",
    "\n",
    "        # clear so unstage will not save the images twice:\n",
    "        self._reset_data()\n",
    "        return {image_name: uids}\n",
    "\n",
    "\n",
    "class Xspress3HDF5:\n",
    "    spec = 'XSP_HDF5'\n",
    "\n",
    "    def __init__(self, path):\n",
    "        self._filestore_res = insert_resource(self.spec, path)\n",
    "        self.mds_keys = {1: 'xspress3_ch1',\n",
    "                         2: 'xspress3_ch2',\n",
    "                         3: 'xspress3_ch3',\n",
    "                         }\n",
    "\n",
    "\n",
    "class BulkReadableXspress3(FSBase):\n",
    "    def __init__(self, channels, path='fake_path'):\n",
    "        self.hdf5 = Xspress3HDF5(path)\n",
    "        self.channels = channels\n",
    "\n",
    "    def bulk_read(self, timestamps):\n",
    "        fs_res = self.hdf5._filestore_res\n",
    "\n",
    "        if timestamps is None:\n",
    "            raise ValueError('Timestamps must be set first')\n",
    "\n",
    "        channels = self.channels\n",
    "        ch_uids = {ch: [str(uuid.uuid4()) for ts in timestamps]\n",
    "                   for ch in channels}\n",
    "\n",
    "        count = len(timestamps)\n",
    "        if count == 0:\n",
    "            return {}\n",
    "\n",
    "        def get_datum_args():\n",
    "            for ch in channels:\n",
    "                for seq_num in range(count):\n",
    "                    yield {'frame': seq_num,\n",
    "                           'channel': ch}\n",
    "\n",
    "        uids = [ch_uids[ch] for ch in channels]\n",
    "        bulk_insert_datum(fs_res, itertools.chain(*uids),\n",
    "                          get_datum_args())\n",
    "        return OrderedDict((self.hdf5.mds_keys[ch], ch_uids[ch])\n",
    "                           for ch in channels)\n",
    "\n",
    "\n"
   ]
  },
  {
   "cell_type": "code",
   "execution_count": 5,
   "metadata": {
    "collapsed": true
   },
   "outputs": [],
   "source": [
    "@contextmanager\n",
    "def mds_wrapper(keynames, *, scan_id=0):\n",
    "    data_keys = {key: dict(source='somepv',\n",
    "                           shape=None,\n",
    "                           dtype='str')\n",
    "                 for key in keynames\n",
    "                 }\n",
    "    run_start = mds.insert_run_start(scan_id=scan_id, beamline_id='csx',\n",
    "                                 time=time.time(),\n",
    "                                 uid=str(uuid.uuid4()), function='cos')\n",
    "\n",
    "    descriptor = mds.insert_descriptor(data_keys=data_keys, time=time.time(),\n",
    "                                   run_start=run_start, uid=str(uuid.uuid4()))\n",
    "    yield descriptor\n",
    "\n",
    "    mds.insert_run_stop(run_start, time=time.time(), uid=str(uuid.uuid4()))\n",
    "\n",
    "@contextmanager\n",
    "def mqmds_wrapper(keynames, *, scan_id=0):\n",
    "    data_keys = {key: dict(source='somepv',\n",
    "                           shape=None,\n",
    "                           dtype='str')\n",
    "                 for key in keynames\n",
    "                 }\n",
    "    run_start = mqmds.insert_run_start(scan_id=scan_id, beamline_id='csx',\n",
    "                                 time=time.time(),\n",
    "                                 uid=str(uuid.uuid4()), function='cos')\n",
    "\n",
    "    descriptor = mqmds.insert_descriptor(data_keys=data_keys, time=time.time(),\n",
    "                                   run_start=run_start, uid=str(uuid.uuid4()))\n",
    "    yield descriptor\n",
    "\n",
    "    mqmds.insert_run_stop(run_start, time=time.time(), uid=str(uuid.uuid4()))\n",
    "\n",
    "@contextmanager\n",
    "def sqmds_wrapper(keynames, *, scan_id=0):\n",
    "    data_keys = {key: dict(source='somepv',\n",
    "                           shape=None,\n",
    "                           dtype='str')\n",
    "                 for key in keynames\n",
    "                 }\n",
    "    run_start = sqmds.insert_run_start(scan_id=scan_id, beamline_id='csx',\n",
    "                                 time=time.time(),\n",
    "                                 uid=str(uuid.uuid4()), function='cos')\n",
    "    print(run_start)\n",
    "    descriptor = sqmds.insert_descriptor(data_keys=data_keys, time=time.time(),\n",
    "                                   run_start=run_start, uid=str(uuid.uuid4()))\n",
    "    yield descriptor\n",
    "\n",
    "    sqmds.insert_run_stop(run_start, time=time.time(), uid=str(uuid.uuid4()))\n",
    "\n",
    "\n",
    "@contextmanager\n",
    "def h5mds_wrapper(keynames, *, scan_id=0):\n",
    "    data_keys = {key: dict(source='somepv',\n",
    "                           shape=None,\n",
    "                           dtype='str')\n",
    "                 for key in keynames\n",
    "                 }\n",
    "    run_start = h5mds.insert_run_start(scan_id=scan_id, beamline_id='csx',\n",
    "                                 time=time.time(),\n",
    "                                 uid=str(uuid.uuid4()), function='cos')\n",
    "\n",
    "    descriptor = h5mds.insert_descriptor(data_keys=data_keys, time=time.time(),\n",
    "                                   run_start=run_start, uid=str(uuid.uuid4()))\n",
    "    yield descriptor\n",
    "\n",
    "    h5mds.insert_run_stop(run_start, time=time.time(), uid=str(uuid.uuid4()))\n",
    "\n"
   ]
  },
  {
   "cell_type": "code",
   "execution_count": 8,
   "metadata": {
    "collapsed": false
   },
   "outputs": [],
   "source": [
    "def test_xspress3_online(n):\n",
    "    t0 = time.time()\n",
    "    timestamps = [t0 + i for i in range(n)]\n",
    "    xspress3 = BulkReadableXspress3(channels=[1, 2, 3])\n",
    "    with ctxtime() as fstime:\n",
    "        keys = list(xspress3.hdf5.mds_keys.values())\n",
    "        with mds_wrapper(keys) as descriptor:\n",
    "            entries = xspress3.bulk_read(timestamps)\n",
    "            events = [dict(descriptor=descriptor,\n",
    "                           seq_num=i,\n",
    "                           time=ts,\n",
    "                           timestamps={key: ts for key in keys},\n",
    "                           data={key: entries[key][i] for key in keys},\n",
    "                           uid=str(uuid.uuid4())\n",
    "                           )\n",
    "                      for i, ts in enumerate(timestamps)\n",
    "                      ]\n",
    "            with ctxtime() as mdstime:\n",
    "                mds.bulk_insert_events(descriptor, events)\n",
    "            fstime.t0 += mdstime.elapsed\n",
    "\n",
    "    print('filestore: inserting {} entries took {} sec'.format(n, fstime.elapsed))\n",
    "    print('metadatastore: inserting {} entries took {} sec'.format(n, mdstime.elapsed))\n",
    "\n",
    "def test_xspress3_json(n):\n",
    "    t0 = time.time()\n",
    "    timestamps = [t0 + i for i in range(n)]\n",
    "    xspress3 = BulkReadableXspress3(channels=[1, 2, 3])\n",
    "    with ctxtime() as fstime:\n",
    "        keys = list(xspress3.hdf5.mds_keys.values())\n",
    "        with mqmds_wrapper(keys) as descriptor:\n",
    "            entries = xspress3.bulk_read(timestamps)\n",
    "            events = [dict(descriptor=descriptor,\n",
    "                           seq_num=i,\n",
    "                           time=ts,\n",
    "                           timestamps={key: ts for key in keys},\n",
    "                           data={key: entries[key][i] for key in keys},\n",
    "                           uid=str(uuid.uuid4())\n",
    "                           )\n",
    "                      for i, ts in enumerate(timestamps)\n",
    "                      ]\n",
    "            with ctxtime() as mdstime:\n",
    "                mqmds.bulk_insert_events(descriptor, events)\n",
    "            fstime.t0 += mdstime.elapsed\n",
    "\n",
    "    print('filestore: inserting {} entries took {} sec'.format(n, fstime.elapsed))\n",
    "    print('metadatastore: inserting {} entries took {} sec'.format(n, mdstime.elapsed))\n",
    "\n",
    "def test_xspress3_hdf5(n):\n",
    "    t0 = time.time()\n",
    "    timestamps = [t0 + i for i in range(n)]\n",
    "    xspress3 = BulkReadableXspress3(channels=[1, 2, 3])\n",
    "    with ctxtime() as fstime:\n",
    "        keys = list(xspress3.hdf5.mds_keys.values())\n",
    "        with h5mds_wrapper(keys) as descriptor:\n",
    "            entries = xspress3.bulk_read(timestamps)\n",
    "            events = [dict(descriptor=descriptor,\n",
    "                           seq_num=i,\n",
    "                           time=ts,\n",
    "                           timestamps={key: ts for key in keys},\n",
    "                           data={key: entries[key][i] for key in keys},\n",
    "                           uid=str(uuid.uuid4())\n",
    "                           )\n",
    "                      for i, ts in enumerate(timestamps)\n",
    "                      ]\n",
    "            with ctxtime() as mdstime:\n",
    "                h5mds.bulk_insert_events(descriptor, events)\n",
    "            fstime.t0 += mdstime.elapsed\n",
    "\n",
    "    print('filestore: inserting {} entries took {} sec'.format(n, fstime.elapsed))\n",
    "    print('metadatastore: inserting {} entries took {} sec'.format(n, mdstime.elapsed))\n",
    "\n",
    "\n",
    "\n",
    "def test_xspress3_sqlite(n):\n",
    "    t0 = time.time()\n",
    "    timestamps = [t0 + i for i in range(n)]\n",
    "    xspress3 = BulkReadableXspress3(channels=[1, 2, 3])\n",
    "    with ctxtime() as fstime:\n",
    "        keys = list(xspress3.hdf5.mds_keys.values())\n",
    "        with sqmds_wrapper(keys) as descriptor:\n",
    "            entries = xspress3.bulk_read(timestamps)\n",
    "            events = [dict(descriptor=descriptor,\n",
    "                           seq_num=i,\n",
    "                           time=ts,\n",
    "                           timestamps={key: ts for key in keys},\n",
    "                           data={key: entries[key][i] for key in keys},\n",
    "                           uid=str(uuid.uuid4())\n",
    "                           )\n",
    "                      for i, ts in enumerate(timestamps)\n",
    "                      ]\n",
    "            with ctxtime() as mdstime:\n",
    "                sqmds.bulk_insert_events(descriptor, events)\n",
    "            fstime.t0 += mdstime.elapsed\n",
    "\n",
    "    print('filestore: inserting {} entries took {} sec'.format(n, fstime.elapsed))\n",
    "    print('metadatastore: inserting {} entries took {} sec'.format(n, mdstime.elapsed))\n",
    "\n",
    "\n",
    "    \n",
    "    \n",
    "    \n"
   ]
  },
  {
   "cell_type": "code",
   "execution_count": 16,
   "metadata": {
    "collapsed": false
   },
   "outputs": [
    {
     "name": "stdout",
     "output_type": "stream",
     "text": [
      "filestore: inserting 16000 entries took 9.630425930023193 sec\n",
      "metadatastore: inserting 16000 entries took 4.0162670612335205 sec\n",
      "filestore: inserting 16000 entries took 20.281147003173828 sec\n",
      "metadatastore: inserting 16000 entries took 2.6307640075683594 sec\n",
      "filestore: inserting 16000 entries took 6.617537975311279 sec\n",
      "metadatastore: inserting 16000 entries took 2.3965909481048584 sec\n",
      "filestore: inserting 16000 entries took 6.3482630252838135 sec\n",
      "metadatastore: inserting 16000 entries took 1.896867036819458 sec\n",
      "filestore: inserting 16000 entries took 5.171757936477661 sec\n",
      "metadatastore: inserting 16000 entries took 1.9283349514007568 sec\n",
      "filestore: inserting 16000 entries took 4.6648828983306885 sec\n",
      "metadatastore: inserting 16000 entries took 2.028747081756592 sec\n",
      "filestore: inserting 16000 entries took 4.508883237838745 sec\n",
      "metadatastore: inserting 16000 entries took 2.1063239574432373 sec\n",
      "filestore: inserting 16000 entries took 4.670500755310059 sec\n",
      "metadatastore: inserting 16000 entries took 2.000141143798828 sec\n",
      "filestore: inserting 16000 entries took 15.731584072113037 sec\n",
      "metadatastore: inserting 16000 entries took 4.611021041870117 sec\n",
      "filestore: inserting 16000 entries took 9.04441499710083 sec\n",
      "metadatastore: inserting 16000 entries took 5.842574834823608 sec\n"
     ]
    }
   ],
   "source": [
    "for i in range(10):\n",
    "    test_xspress3_online(16000)"
   ]
  },
  {
   "cell_type": "code",
   "execution_count": 8,
   "metadata": {
    "collapsed": false
   },
   "outputs": [
    {
     "ename": "TypeError",
     "evalue": "No conversion path for dtype: dtype('<U36')",
     "output_type": "error",
     "traceback": [
      "\u001b[0;31m---------------------------------------------------------------------------\u001b[0m",
      "\u001b[0;31mTypeError\u001b[0m                                 Traceback (most recent call last)",
      "\u001b[0;32m<ipython-input-8-dff8aadd88ef>\u001b[0m in \u001b[0;36m<module>\u001b[0;34m()\u001b[0m\n\u001b[1;32m      1\u001b[0m \u001b[0;32mfor\u001b[0m \u001b[0mi\u001b[0m \u001b[0;32min\u001b[0m \u001b[0mrange\u001b[0m\u001b[0;34m(\u001b[0m\u001b[0;36m5\u001b[0m\u001b[0;34m)\u001b[0m\u001b[0;34m:\u001b[0m\u001b[0;34m\u001b[0m\u001b[0m\n\u001b[0;32m----> 2\u001b[0;31m     \u001b[0mtest_xspress3_hdf5\u001b[0m\u001b[0;34m(\u001b[0m\u001b[0;36m16000\u001b[0m\u001b[0;34m)\u001b[0m\u001b[0;34m\u001b[0m\u001b[0m\n\u001b[0m",
      "\u001b[0;32m<ipython-input-6-e6c8c59c4ffe>\u001b[0m in \u001b[0;36mtest_xspress3_hdf5\u001b[0;34m(n)\u001b[0m\n\u001b[1;32m     65\u001b[0m                       ]\n\u001b[1;32m     66\u001b[0m             \u001b[0;32mwith\u001b[0m \u001b[0mctxtime\u001b[0m\u001b[0;34m(\u001b[0m\u001b[0;34m)\u001b[0m \u001b[0;32mas\u001b[0m \u001b[0mmdstime\u001b[0m\u001b[0;34m:\u001b[0m\u001b[0;34m\u001b[0m\u001b[0m\n\u001b[0;32m---> 67\u001b[0;31m                 \u001b[0mh5mds\u001b[0m\u001b[0;34m.\u001b[0m\u001b[0mbulk_insert_events\u001b[0m\u001b[0;34m(\u001b[0m\u001b[0mdescriptor\u001b[0m\u001b[0;34m,\u001b[0m \u001b[0mevents\u001b[0m\u001b[0;34m)\u001b[0m\u001b[0;34m\u001b[0m\u001b[0m\n\u001b[0m\u001b[1;32m     68\u001b[0m             \u001b[0mfstime\u001b[0m\u001b[0;34m.\u001b[0m\u001b[0mt0\u001b[0m \u001b[0;34m+=\u001b[0m \u001b[0mmdstime\u001b[0m\u001b[0;34m.\u001b[0m\u001b[0melapsed\u001b[0m\u001b[0;34m\u001b[0m\u001b[0m\n\u001b[1;32m     69\u001b[0m \u001b[0;34m\u001b[0m\u001b[0m\n",
      "\u001b[0;32m/Users/arkilic/git/portable-mds/portable_mds/template/mds.py\u001b[0m in \u001b[0;36mbulk_insert_events\u001b[0;34m(self, descriptor, events, validate)\u001b[0m\n\u001b[1;32m    520\u001b[0m                                             \u001b[0mdescriptor\u001b[0m\u001b[0;34m=\u001b[0m\u001b[0mdescriptor\u001b[0m\u001b[0;34m,\u001b[0m\u001b[0;34m\u001b[0m\u001b[0m\n\u001b[1;32m    521\u001b[0m                                             \u001b[0mevents\u001b[0m\u001b[0;34m=\u001b[0m\u001b[0mevents\u001b[0m\u001b[0;34m,\u001b[0m\u001b[0;34m\u001b[0m\u001b[0m\n\u001b[0;32m--> 522\u001b[0;31m                                             validate=validate)\n\u001b[0m\u001b[1;32m    523\u001b[0m \u001b[0;34m\u001b[0m\u001b[0m\n\u001b[1;32m    524\u001b[0m     \u001b[0;32mdef\u001b[0m \u001b[0minsert\u001b[0m\u001b[0;34m(\u001b[0m\u001b[0mself\u001b[0m\u001b[0;34m,\u001b[0m \u001b[0mname\u001b[0m\u001b[0;34m,\u001b[0m \u001b[0mdoc\u001b[0m\u001b[0;34m)\u001b[0m\u001b[0;34m:\u001b[0m\u001b[0;34m\u001b[0m\u001b[0m\n",
      "\u001b[0;32m/Users/arkilic/git/portable-mds/portable_mds/template/core.py\u001b[0m in \u001b[0;36mbulk_insert_events\u001b[0;34m(event_col, descriptor, events, validate)\u001b[0m\n\u001b[1;32m    722\u001b[0m             \u001b[0;32myield\u001b[0m \u001b[0mev_out\u001b[0m\u001b[0;34m\u001b[0m\u001b[0m\n\u001b[1;32m    723\u001b[0m \u001b[0;34m\u001b[0m\u001b[0m\n\u001b[0;32m--> 724\u001b[0;31m     \u001b[0;32mreturn\u001b[0m \u001b[0mevent_col\u001b[0m\u001b[0;34m.\u001b[0m\u001b[0minsert\u001b[0m\u001b[0;34m(\u001b[0m\u001b[0mevent_factory\u001b[0m\u001b[0;34m(\u001b[0m\u001b[0;34m)\u001b[0m\u001b[0;34m)\u001b[0m\u001b[0;34m\u001b[0m\u001b[0m\n\u001b[0m\u001b[1;32m    725\u001b[0m \u001b[0;34m\u001b[0m\u001b[0m\n\u001b[1;32m    726\u001b[0m \u001b[0;34m\u001b[0m\u001b[0m\n",
      "\u001b[0;32m/Users/arkilic/git/portable-mds/portable_mds/hdf5/mds.py\u001b[0m in \u001b[0;36minsert\u001b[0;34m(self, docs)\u001b[0m\n\u001b[1;32m    135\u001b[0m                 \u001b[0mappend\u001b[0m\u001b[0;34m(\u001b[0m\u001b[0mg\u001b[0m\u001b[0;34m[\u001b[0m\u001b[0;34m'seq_num'\u001b[0m\u001b[0;34m]\u001b[0m\u001b[0;34m,\u001b[0m \u001b[0mtransposed_seq_num\u001b[0m\u001b[0;34m)\u001b[0m\u001b[0;34m\u001b[0m\u001b[0m\n\u001b[1;32m    136\u001b[0m                 \u001b[0;32mfor\u001b[0m \u001b[0mk\u001b[0m \u001b[0;32min\u001b[0m \u001b[0mkeys\u001b[0m\u001b[0;34m:\u001b[0m\u001b[0;34m\u001b[0m\u001b[0m\n\u001b[0;32m--> 137\u001b[0;31m                     \u001b[0mappend\u001b[0m\u001b[0;34m(\u001b[0m\u001b[0mg\u001b[0m\u001b[0;34m[\u001b[0m\u001b[0;34m'data'\u001b[0m\u001b[0;34m]\u001b[0m\u001b[0;34m[\u001b[0m\u001b[0mk\u001b[0m\u001b[0;34m]\u001b[0m\u001b[0;34m,\u001b[0m \u001b[0mtransposed_data\u001b[0m\u001b[0;34m[\u001b[0m\u001b[0mk\u001b[0m\u001b[0;34m]\u001b[0m\u001b[0;34m)\u001b[0m\u001b[0;34m\u001b[0m\u001b[0m\n\u001b[0m\u001b[1;32m    138\u001b[0m                     \u001b[0mappend\u001b[0m\u001b[0;34m(\u001b[0m\u001b[0mg\u001b[0m\u001b[0;34m[\u001b[0m\u001b[0;34m'timestamps'\u001b[0m\u001b[0;34m]\u001b[0m\u001b[0;34m[\u001b[0m\u001b[0mk\u001b[0m\u001b[0;34m]\u001b[0m\u001b[0;34m,\u001b[0m \u001b[0mtransposed_ts\u001b[0m\u001b[0;34m[\u001b[0m\u001b[0mk\u001b[0m\u001b[0;34m]\u001b[0m\u001b[0;34m)\u001b[0m\u001b[0;34m\u001b[0m\u001b[0m\n\u001b[1;32m    139\u001b[0m \u001b[0;34m\u001b[0m\u001b[0m\n",
      "\u001b[0;32m/Users/arkilic/git/portable-mds/portable_mds/hdf5/mds.py\u001b[0m in \u001b[0;36mappend\u001b[0;34m(dataset, data)\u001b[0m\n\u001b[1;32m     12\u001b[0m     \u001b[0mnew_size\u001b[0m \u001b[0;34m=\u001b[0m \u001b[0mold_size\u001b[0m \u001b[0;34m+\u001b[0m \u001b[0mlen\u001b[0m\u001b[0;34m(\u001b[0m\u001b[0mdata\u001b[0m\u001b[0;34m)\u001b[0m\u001b[0;34m\u001b[0m\u001b[0m\n\u001b[1;32m     13\u001b[0m     \u001b[0mdataset\u001b[0m\u001b[0;34m.\u001b[0m\u001b[0mresize\u001b[0m\u001b[0;34m(\u001b[0m\u001b[0;34m(\u001b[0m\u001b[0mnew_size\u001b[0m\u001b[0;34m,\u001b[0m\u001b[0;34m)\u001b[0m\u001b[0;34m)\u001b[0m\u001b[0;34m\u001b[0m\u001b[0m\n\u001b[0;32m---> 14\u001b[0;31m     \u001b[0mdataset\u001b[0m\u001b[0;34m[\u001b[0m\u001b[0mold_size\u001b[0m\u001b[0;34m:\u001b[0m\u001b[0;34m]\u001b[0m \u001b[0;34m=\u001b[0m \u001b[0mdata\u001b[0m\u001b[0;34m\u001b[0m\u001b[0m\n\u001b[0m\u001b[1;32m     15\u001b[0m \u001b[0;34m\u001b[0m\u001b[0m\n\u001b[1;32m     16\u001b[0m \u001b[0;32mclass\u001b[0m \u001b[0mRunStartCollection\u001b[0m\u001b[0;34m(\u001b[0m\u001b[0mJSONCollection\u001b[0m\u001b[0;34m)\u001b[0m\u001b[0;34m:\u001b[0m\u001b[0;34m\u001b[0m\u001b[0m\n",
      "\u001b[0;32mh5py/_objects.pyx\u001b[0m in \u001b[0;36mh5py._objects.with_phil.wrapper (-------src-dir--------/h5py/_objects.c:2582)\u001b[0;34m()\u001b[0m\n",
      "\u001b[0;32mh5py/_objects.pyx\u001b[0m in \u001b[0;36mh5py._objects.with_phil.wrapper (-------src-dir--------/h5py/_objects.c:2541)\u001b[0;34m()\u001b[0m\n",
      "\u001b[0;32m/Users/arkilic/miniconda3/envs/dev/lib/python3.5/site-packages/h5py/_hl/dataset.py\u001b[0m in \u001b[0;36m__setitem__\u001b[0;34m(self, args, val)\u001b[0m\n\u001b[1;32m    616\u001b[0m         \u001b[0mmspace\u001b[0m \u001b[0;34m=\u001b[0m \u001b[0mh5s\u001b[0m\u001b[0;34m.\u001b[0m\u001b[0mcreate_simple\u001b[0m\u001b[0;34m(\u001b[0m\u001b[0mmshape_pad\u001b[0m\u001b[0;34m,\u001b[0m \u001b[0;34m(\u001b[0m\u001b[0mh5s\u001b[0m\u001b[0;34m.\u001b[0m\u001b[0mUNLIMITED\u001b[0m\u001b[0;34m,\u001b[0m\u001b[0;34m)\u001b[0m\u001b[0;34m*\u001b[0m\u001b[0mlen\u001b[0m\u001b[0;34m(\u001b[0m\u001b[0mmshape_pad\u001b[0m\u001b[0;34m)\u001b[0m\u001b[0;34m)\u001b[0m\u001b[0;34m\u001b[0m\u001b[0m\n\u001b[1;32m    617\u001b[0m         \u001b[0;32mfor\u001b[0m \u001b[0mfspace\u001b[0m \u001b[0;32min\u001b[0m \u001b[0mselection\u001b[0m\u001b[0;34m.\u001b[0m\u001b[0mbroadcast\u001b[0m\u001b[0;34m(\u001b[0m\u001b[0mmshape\u001b[0m\u001b[0;34m)\u001b[0m\u001b[0;34m:\u001b[0m\u001b[0;34m\u001b[0m\u001b[0m\n\u001b[0;32m--> 618\u001b[0;31m             \u001b[0mself\u001b[0m\u001b[0;34m.\u001b[0m\u001b[0mid\u001b[0m\u001b[0;34m.\u001b[0m\u001b[0mwrite\u001b[0m\u001b[0;34m(\u001b[0m\u001b[0mmspace\u001b[0m\u001b[0;34m,\u001b[0m \u001b[0mfspace\u001b[0m\u001b[0;34m,\u001b[0m \u001b[0mval\u001b[0m\u001b[0;34m,\u001b[0m \u001b[0mmtype\u001b[0m\u001b[0;34m,\u001b[0m \u001b[0mdxpl\u001b[0m\u001b[0;34m=\u001b[0m\u001b[0mself\u001b[0m\u001b[0;34m.\u001b[0m\u001b[0m_dxpl\u001b[0m\u001b[0;34m)\u001b[0m\u001b[0;34m\u001b[0m\u001b[0m\n\u001b[0m\u001b[1;32m    619\u001b[0m \u001b[0;34m\u001b[0m\u001b[0m\n\u001b[1;32m    620\u001b[0m     \u001b[0;32mdef\u001b[0m \u001b[0mread_direct\u001b[0m\u001b[0;34m(\u001b[0m\u001b[0mself\u001b[0m\u001b[0;34m,\u001b[0m \u001b[0mdest\u001b[0m\u001b[0;34m,\u001b[0m \u001b[0msource_sel\u001b[0m\u001b[0;34m=\u001b[0m\u001b[0;32mNone\u001b[0m\u001b[0;34m,\u001b[0m \u001b[0mdest_sel\u001b[0m\u001b[0;34m=\u001b[0m\u001b[0;32mNone\u001b[0m\u001b[0;34m)\u001b[0m\u001b[0;34m:\u001b[0m\u001b[0;34m\u001b[0m\u001b[0m\n",
      "\u001b[0;32mh5py/_objects.pyx\u001b[0m in \u001b[0;36mh5py._objects.with_phil.wrapper (-------src-dir--------/h5py/_objects.c:2582)\u001b[0;34m()\u001b[0m\n",
      "\u001b[0;32mh5py/_objects.pyx\u001b[0m in \u001b[0;36mh5py._objects.with_phil.wrapper (-------src-dir--------/h5py/_objects.c:2541)\u001b[0;34m()\u001b[0m\n",
      "\u001b[0;32mh5py/h5d.pyx\u001b[0m in \u001b[0;36mh5py.h5d.DatasetID.write (-------src-dir--------/h5py/h5d.c:3330)\u001b[0;34m()\u001b[0m\n",
      "\u001b[0;32mh5py/h5t.pyx\u001b[0m in \u001b[0;36mh5py.h5t.py_create (-------src-dir--------/h5py/h5t.c:16042)\u001b[0;34m()\u001b[0m\n",
      "\u001b[0;32mh5py/h5t.pyx\u001b[0m in \u001b[0;36mh5py.h5t.py_create (-------src-dir--------/h5py/h5t.c:16002)\u001b[0;34m()\u001b[0m\n",
      "\u001b[0;31mTypeError\u001b[0m: No conversion path for dtype: dtype('<U36')"
     ]
    }
   ],
   "source": [
    "for i in range(5):\n",
    "    test_xspress3_hdf5(16000)"
   ]
  },
  {
   "cell_type": "code",
   "execution_count": 9,
   "metadata": {
    "collapsed": false
   },
   "outputs": [
    {
     "name": "stdout",
     "output_type": "stream",
     "text": [
      "172ebacf-81cc-43ca-a8c0-015960a55ffd\n",
      "filestore: inserting 16000 entries took 4.6490232944488525 sec\n",
      "metadatastore: inserting 16000 entries took 0.226456880569458 sec\n",
      "4e91f9ff-2a07-42e2-be5e-6536fd301cc6\n",
      "filestore: inserting 16000 entries took 8.269920110702515 sec\n",
      "metadatastore: inserting 16000 entries took 0.2356119155883789 sec\n",
      "8e75255e-5d72-4f99-8ae5-4b2cb23bc116\n",
      "filestore: inserting 16000 entries took 8.145911931991577 sec\n",
      "metadatastore: inserting 16000 entries took 0.22661614418029785 sec\n",
      "35b14696-ccc6-4b4f-8880-871f1a2e04ea\n",
      "filestore: inserting 16000 entries took 4.529531002044678 sec\n",
      "metadatastore: inserting 16000 entries took 0.22321701049804688 sec\n",
      "4a1541e5-19f5-4910-989a-5dc4800fcc4c\n",
      "filestore: inserting 16000 entries took 4.4435508251190186 sec\n",
      "metadatastore: inserting 16000 entries took 0.2205660343170166 sec\n",
      "60171974-c36c-4c33-95b4-a18afc7c38fb\n",
      "filestore: inserting 16000 entries took 4.653646945953369 sec\n",
      "metadatastore: inserting 16000 entries took 0.22381806373596191 sec\n",
      "0603b21c-77f6-4400-9ac4-3fe4ba7fda25\n",
      "filestore: inserting 16000 entries took 5.0221710205078125 sec\n",
      "metadatastore: inserting 16000 entries took 0.2992100715637207 sec\n",
      "93d6a281-c8af-43e3-a721-d53a276114f0\n",
      "filestore: inserting 16000 entries took 4.590779066085815 sec\n",
      "metadatastore: inserting 16000 entries took 0.22135591506958008 sec\n",
      "9ffba432-1996-41ce-a880-cd17eab75e38\n",
      "filestore: inserting 16000 entries took 4.375493049621582 sec\n",
      "metadatastore: inserting 16000 entries took 0.26631808280944824 sec\n",
      "837d0c44-219c-4758-a392-dd8f64987f4d\n",
      "filestore: inserting 16000 entries took 4.568262100219727 sec\n",
      "metadatastore: inserting 16000 entries took 0.22059297561645508 sec\n"
     ]
    }
   ],
   "source": [
    "for i in range(10):\n",
    "    test_xspress3_sqlite(16000)"
   ]
  },
  {
   "cell_type": "code",
   "execution_count": null,
   "metadata": {
    "collapsed": false
   },
   "outputs": [],
   "source": [
    "for i in range(10):\n",
    "    test_xspress3_json(16000)"
   ]
  },
  {
   "cell_type": "code",
   "execution_count": 10,
   "metadata": {
    "collapsed": false
   },
   "outputs": [
    {
     "name": "stdout",
     "output_type": "stream",
     "text": [
      "760f3a89-026e-4373-89e7-e36d5a622c62\n",
      "filestore: inserting 160000 entries took 48.32061195373535 sec\n",
      "metadatastore: inserting 160000 entries took 2.4305450916290283 sec\n",
      "e34d5ae3-3135-4c6d-af7d-938fc06f2cef\n",
      "filestore: inserting 160000 entries took 51.57424592971802 sec\n",
      "metadatastore: inserting 160000 entries took 2.3932900428771973 sec\n",
      "1b5edbfd-00cd-4ffc-81c2-2f81f68e8bd4\n"
     ]
    },
    {
     "ename": "KeyboardInterrupt",
     "evalue": "",
     "output_type": "error",
     "traceback": [
      "\u001b[0;31m---------------------------------------------------------------------------\u001b[0m",
      "\u001b[0;31mKeyboardInterrupt\u001b[0m                         Traceback (most recent call last)",
      "\u001b[0;32m<ipython-input-10-1da38f4351c8>\u001b[0m in \u001b[0;36m<module>\u001b[0;34m()\u001b[0m\n\u001b[1;32m      1\u001b[0m \u001b[0;32mfor\u001b[0m \u001b[0mi\u001b[0m \u001b[0;32min\u001b[0m \u001b[0mrange\u001b[0m\u001b[0;34m(\u001b[0m\u001b[0;36m10\u001b[0m\u001b[0;34m)\u001b[0m\u001b[0;34m:\u001b[0m\u001b[0;34m\u001b[0m\u001b[0m\n\u001b[0;32m----> 2\u001b[0;31m     \u001b[0mtest_xspress3_sqlite\u001b[0m\u001b[0;34m(\u001b[0m\u001b[0;36m160000\u001b[0m\u001b[0;34m)\u001b[0m\u001b[0;34m\u001b[0m\u001b[0m\n\u001b[0m",
      "\u001b[0;32m<ipython-input-6-e6c8c59c4ffe>\u001b[0m in \u001b[0;36mtest_xspress3_sqlite\u001b[0;34m(n)\u001b[0m\n\u001b[1;32m     88\u001b[0m                            \u001b[0muid\u001b[0m\u001b[0;34m=\u001b[0m\u001b[0mstr\u001b[0m\u001b[0;34m(\u001b[0m\u001b[0muuid\u001b[0m\u001b[0;34m.\u001b[0m\u001b[0muuid4\u001b[0m\u001b[0;34m(\u001b[0m\u001b[0;34m)\u001b[0m\u001b[0;34m)\u001b[0m\u001b[0;34m\u001b[0m\u001b[0m\n\u001b[1;32m     89\u001b[0m                            )\n\u001b[0;32m---> 90\u001b[0;31m                       \u001b[0;32mfor\u001b[0m \u001b[0mi\u001b[0m\u001b[0;34m,\u001b[0m \u001b[0mts\u001b[0m \u001b[0;32min\u001b[0m \u001b[0menumerate\u001b[0m\u001b[0;34m(\u001b[0m\u001b[0mtimestamps\u001b[0m\u001b[0;34m)\u001b[0m\u001b[0;34m\u001b[0m\u001b[0m\n\u001b[0m\u001b[1;32m     91\u001b[0m                       ]\n\u001b[1;32m     92\u001b[0m             \u001b[0;32mwith\u001b[0m \u001b[0mctxtime\u001b[0m\u001b[0;34m(\u001b[0m\u001b[0;34m)\u001b[0m \u001b[0;32mas\u001b[0m \u001b[0mmdstime\u001b[0m\u001b[0;34m:\u001b[0m\u001b[0;34m\u001b[0m\u001b[0m\n",
      "\u001b[0;32m<ipython-input-6-e6c8c59c4ffe>\u001b[0m in \u001b[0;36m<listcomp>\u001b[0;34m(.0)\u001b[0m\n\u001b[1;32m     88\u001b[0m                            \u001b[0muid\u001b[0m\u001b[0;34m=\u001b[0m\u001b[0mstr\u001b[0m\u001b[0;34m(\u001b[0m\u001b[0muuid\u001b[0m\u001b[0;34m.\u001b[0m\u001b[0muuid4\u001b[0m\u001b[0;34m(\u001b[0m\u001b[0;34m)\u001b[0m\u001b[0;34m)\u001b[0m\u001b[0;34m\u001b[0m\u001b[0m\n\u001b[1;32m     89\u001b[0m                            )\n\u001b[0;32m---> 90\u001b[0;31m                       \u001b[0;32mfor\u001b[0m \u001b[0mi\u001b[0m\u001b[0;34m,\u001b[0m \u001b[0mts\u001b[0m \u001b[0;32min\u001b[0m \u001b[0menumerate\u001b[0m\u001b[0;34m(\u001b[0m\u001b[0mtimestamps\u001b[0m\u001b[0;34m)\u001b[0m\u001b[0;34m\u001b[0m\u001b[0m\n\u001b[0m\u001b[1;32m     91\u001b[0m                       ]\n\u001b[1;32m     92\u001b[0m             \u001b[0;32mwith\u001b[0m \u001b[0mctxtime\u001b[0m\u001b[0;34m(\u001b[0m\u001b[0;34m)\u001b[0m \u001b[0;32mas\u001b[0m \u001b[0mmdstime\u001b[0m\u001b[0;34m:\u001b[0m\u001b[0;34m\u001b[0m\u001b[0m\n",
      "\u001b[0;32m/Users/arkilic/miniconda3/envs/dev/lib/python3.5/uuid.py\u001b[0m in \u001b[0;36m__str__\u001b[0;34m(self)\u001b[0m\n\u001b[1;32m    224\u001b[0m \u001b[0;34m\u001b[0m\u001b[0m\n\u001b[1;32m    225\u001b[0m     \u001b[0;32mdef\u001b[0m \u001b[0m__str__\u001b[0m\u001b[0;34m(\u001b[0m\u001b[0mself\u001b[0m\u001b[0;34m)\u001b[0m\u001b[0;34m:\u001b[0m\u001b[0;34m\u001b[0m\u001b[0m\n\u001b[0;32m--> 226\u001b[0;31m         \u001b[0mhex\u001b[0m \u001b[0;34m=\u001b[0m \u001b[0;34m'%032x'\u001b[0m \u001b[0;34m%\u001b[0m \u001b[0mself\u001b[0m\u001b[0;34m.\u001b[0m\u001b[0mint\u001b[0m\u001b[0;34m\u001b[0m\u001b[0m\n\u001b[0m\u001b[1;32m    227\u001b[0m         return '%s-%s-%s-%s-%s' % (\n\u001b[1;32m    228\u001b[0m             hex[:8], hex[8:12], hex[12:16], hex[16:20], hex[20:])\n",
      "\u001b[0;31mKeyboardInterrupt\u001b[0m: "
     ]
    }
   ],
   "source": [
    "for i in range(10):\n",
    "    test_xspress3_sqlite(160000)"
   ]
  },
  {
   "cell_type": "code",
   "execution_count": 11,
   "metadata": {
    "collapsed": false
   },
   "outputs": [
    {
     "name": "stdout",
     "output_type": "stream",
     "text": [
      "5220d947-0b75-4c9f-80be-024d6b0dfd02\n",
      "filestore: inserting 1600000 entries took 592.131217956543 sec\n",
      "metadatastore: inserting 1600000 entries took 24.35251808166504 sec\n",
      "abd46e27-e475-4bc0-834b-5bf5bb75fb06\n"
     ]
    },
    {
     "ename": "KeyboardInterrupt",
     "evalue": "",
     "output_type": "error",
     "traceback": [
      "\u001b[0;31m---------------------------------------------------------------------------\u001b[0m",
      "\u001b[0;31mKeyboardInterrupt\u001b[0m                         Traceback (most recent call last)",
      "\u001b[0;32m<ipython-input-11-d5a8c617d44a>\u001b[0m in \u001b[0;36m<module>\u001b[0;34m()\u001b[0m\n\u001b[1;32m      1\u001b[0m \u001b[0;32mfor\u001b[0m \u001b[0mi\u001b[0m \u001b[0;32min\u001b[0m \u001b[0mrange\u001b[0m\u001b[0;34m(\u001b[0m\u001b[0;36m10\u001b[0m\u001b[0;34m)\u001b[0m\u001b[0;34m:\u001b[0m\u001b[0;34m\u001b[0m\u001b[0m\n\u001b[0;32m----> 2\u001b[0;31m     \u001b[0mtest_xspress3_sqlite\u001b[0m\u001b[0;34m(\u001b[0m\u001b[0;36m1600000\u001b[0m\u001b[0;34m)\u001b[0m\u001b[0;34m\u001b[0m\u001b[0m\n\u001b[0m",
      "\u001b[0;32m<ipython-input-6-e6c8c59c4ffe>\u001b[0m in \u001b[0;36mtest_xspress3_sqlite\u001b[0;34m(n)\u001b[0m\n\u001b[1;32m     80\u001b[0m         \u001b[0mkeys\u001b[0m \u001b[0;34m=\u001b[0m \u001b[0mlist\u001b[0m\u001b[0;34m(\u001b[0m\u001b[0mxspress3\u001b[0m\u001b[0;34m.\u001b[0m\u001b[0mhdf5\u001b[0m\u001b[0;34m.\u001b[0m\u001b[0mmds_keys\u001b[0m\u001b[0;34m.\u001b[0m\u001b[0mvalues\u001b[0m\u001b[0;34m(\u001b[0m\u001b[0;34m)\u001b[0m\u001b[0;34m)\u001b[0m\u001b[0;34m\u001b[0m\u001b[0m\n\u001b[1;32m     81\u001b[0m         \u001b[0;32mwith\u001b[0m \u001b[0msqmds_wrapper\u001b[0m\u001b[0;34m(\u001b[0m\u001b[0mkeys\u001b[0m\u001b[0;34m)\u001b[0m \u001b[0;32mas\u001b[0m \u001b[0mdescriptor\u001b[0m\u001b[0;34m:\u001b[0m\u001b[0;34m\u001b[0m\u001b[0m\n\u001b[0;32m---> 82\u001b[0;31m             \u001b[0mentries\u001b[0m \u001b[0;34m=\u001b[0m \u001b[0mxspress3\u001b[0m\u001b[0;34m.\u001b[0m\u001b[0mbulk_read\u001b[0m\u001b[0;34m(\u001b[0m\u001b[0mtimestamps\u001b[0m\u001b[0;34m)\u001b[0m\u001b[0;34m\u001b[0m\u001b[0m\n\u001b[0m\u001b[1;32m     83\u001b[0m             events = [dict(descriptor=descriptor,\n\u001b[1;32m     84\u001b[0m                            \u001b[0mseq_num\u001b[0m\u001b[0;34m=\u001b[0m\u001b[0mi\u001b[0m\u001b[0;34m,\u001b[0m\u001b[0;34m\u001b[0m\u001b[0m\n",
      "\u001b[0;32m<ipython-input-4-0060e2e559d3>\u001b[0m in \u001b[0;36mbulk_read\u001b[0;34m(self, timestamps)\u001b[0m\n\u001b[1;32m     83\u001b[0m         \u001b[0muids\u001b[0m \u001b[0;34m=\u001b[0m \u001b[0;34m[\u001b[0m\u001b[0mch_uids\u001b[0m\u001b[0;34m[\u001b[0m\u001b[0mch\u001b[0m\u001b[0;34m]\u001b[0m \u001b[0;32mfor\u001b[0m \u001b[0mch\u001b[0m \u001b[0;32min\u001b[0m \u001b[0mchannels\u001b[0m\u001b[0;34m]\u001b[0m\u001b[0;34m\u001b[0m\u001b[0m\n\u001b[1;32m     84\u001b[0m         bulk_insert_datum(fs_res, itertools.chain(*uids),\n\u001b[0;32m---> 85\u001b[0;31m                           get_datum_args())\n\u001b[0m\u001b[1;32m     86\u001b[0m         return OrderedDict((self.hdf5.mds_keys[ch], ch_uids[ch])\n\u001b[1;32m     87\u001b[0m                            for ch in channels)\n",
      "\u001b[0;32m/Users/arkilic/git/filestore/filestore/api.py\u001b[0m in \u001b[0;36mbulk_insert_datum\u001b[0;34m(resource, datum_ids, datum_kwarg_list)\u001b[0m\n\u001b[1;32m    192\u001b[0m \u001b[0;32mdef\u001b[0m \u001b[0mbulk_insert_datum\u001b[0m\u001b[0;34m(\u001b[0m\u001b[0mresource\u001b[0m\u001b[0;34m,\u001b[0m \u001b[0mdatum_ids\u001b[0m\u001b[0;34m,\u001b[0m \u001b[0mdatum_kwarg_list\u001b[0m\u001b[0;34m)\u001b[0m\u001b[0;34m:\u001b[0m\u001b[0;34m\u001b[0m\u001b[0m\n\u001b[1;32m    193\u001b[0m     return _FS_SINGLETON.bulk_insert_datum(resource, datum_ids,\n\u001b[0;32m--> 194\u001b[0;31m                                            datum_kwarg_list)\n\u001b[0m",
      "\u001b[0;32m/Users/arkilic/git/filestore/filestore/fs.py\u001b[0m in \u001b[0;36mbulk_insert_datum\u001b[0;34m(self, resource, datum_ids, datum_kwarg_list)\u001b[0m\n\u001b[1;32m    363\u001b[0m \u001b[0;34m\u001b[0m\u001b[0m\n\u001b[1;32m    364\u001b[0m         return self._api.bulk_insert_datum(col, resource, datum_ids,\n\u001b[0;32m--> 365\u001b[0;31m                                            datum_kwarg_list)\n\u001b[0m\u001b[1;32m    366\u001b[0m \u001b[0;34m\u001b[0m\u001b[0m\n\u001b[1;32m    367\u001b[0m     \u001b[0;32mdef\u001b[0m \u001b[0mshift_root\u001b[0m\u001b[0;34m(\u001b[0m\u001b[0mself\u001b[0m\u001b[0;34m,\u001b[0m \u001b[0mresource_or_uid\u001b[0m\u001b[0;34m,\u001b[0m \u001b[0mshift\u001b[0m\u001b[0;34m)\u001b[0m\u001b[0;34m:\u001b[0m\u001b[0;34m\u001b[0m\u001b[0m\n",
      "\u001b[0;32m/Users/arkilic/git/filestore/filestore/core.py\u001b[0m in \u001b[0;36mbulk_insert_datum\u001b[0;34m(col, resource, datum_ids, datum_kwarg_list)\u001b[0m\n\u001b[1;32m     83\u001b[0m     \u001b[0mbulk\u001b[0m \u001b[0;34m=\u001b[0m \u001b[0mcol\u001b[0m\u001b[0;34m.\u001b[0m\u001b[0minitialize_unordered_bulk_op\u001b[0m\u001b[0;34m(\u001b[0m\u001b[0;34m)\u001b[0m\u001b[0;34m\u001b[0m\u001b[0m\n\u001b[1;32m     84\u001b[0m     \u001b[0;32mfor\u001b[0m \u001b[0mdm\u001b[0m \u001b[0;32min\u001b[0m \u001b[0mdatum_factory\u001b[0m\u001b[0;34m(\u001b[0m\u001b[0;34m)\u001b[0m\u001b[0;34m:\u001b[0m\u001b[0;34m\u001b[0m\u001b[0m\n\u001b[0;32m---> 85\u001b[0;31m         \u001b[0mbulk\u001b[0m\u001b[0;34m.\u001b[0m\u001b[0minsert\u001b[0m\u001b[0;34m(\u001b[0m\u001b[0mdm\u001b[0m\u001b[0;34m)\u001b[0m\u001b[0;34m\u001b[0m\u001b[0m\n\u001b[0m\u001b[1;32m     86\u001b[0m \u001b[0;34m\u001b[0m\u001b[0m\n\u001b[1;32m     87\u001b[0m     \u001b[0;32mreturn\u001b[0m \u001b[0mbulk\u001b[0m\u001b[0;34m.\u001b[0m\u001b[0mexecute\u001b[0m\u001b[0;34m(\u001b[0m\u001b[0;34m)\u001b[0m\u001b[0;34m\u001b[0m\u001b[0m\n",
      "\u001b[0;32m/Users/arkilic/miniconda3/envs/dev/lib/python3.5/site-packages/pymongo/bulk.py\u001b[0m in \u001b[0;36minsert\u001b[0;34m(self, document)\u001b[0m\n\u001b[1;32m    569\u001b[0m           \u001b[0;34m-\u001b[0m\u001b[0;31m \u001b[0m\u001b[0;31m`\u001b[0m\u001b[0mdocument\u001b[0m\u001b[0;31m`\u001b[0m \u001b[0;34m(\u001b[0m\u001b[0mdict\u001b[0m\u001b[0;34m)\u001b[0m\u001b[0;34m:\u001b[0m \u001b[0mthe\u001b[0m \u001b[0mdocument\u001b[0m \u001b[0mto\u001b[0m \u001b[0minsert\u001b[0m\u001b[0;34m\u001b[0m\u001b[0m\n\u001b[1;32m    570\u001b[0m         \"\"\"\n\u001b[0;32m--> 571\u001b[0;31m         \u001b[0mself\u001b[0m\u001b[0;34m.\u001b[0m\u001b[0m__bulk\u001b[0m\u001b[0;34m.\u001b[0m\u001b[0madd_insert\u001b[0m\u001b[0;34m(\u001b[0m\u001b[0mdocument\u001b[0m\u001b[0;34m)\u001b[0m\u001b[0;34m\u001b[0m\u001b[0m\n\u001b[0m\u001b[1;32m    572\u001b[0m \u001b[0;34m\u001b[0m\u001b[0m\n\u001b[1;32m    573\u001b[0m     \u001b[0;32mdef\u001b[0m \u001b[0mexecute\u001b[0m\u001b[0;34m(\u001b[0m\u001b[0mself\u001b[0m\u001b[0;34m,\u001b[0m \u001b[0mwrite_concern\u001b[0m\u001b[0;34m=\u001b[0m\u001b[0;32mNone\u001b[0m\u001b[0;34m)\u001b[0m\u001b[0;34m:\u001b[0m\u001b[0;34m\u001b[0m\u001b[0m\n",
      "\u001b[0;32m/Users/arkilic/miniconda3/envs/dev/lib/python3.5/site-packages/pymongo/bulk.py\u001b[0m in \u001b[0;36madd_insert\u001b[0;34m(self, document)\u001b[0m\n\u001b[1;32m    212\u001b[0m         \u001b[0;31m# Generate ObjectId client side.\u001b[0m\u001b[0;34m\u001b[0m\u001b[0;34m\u001b[0m\u001b[0m\n\u001b[1;32m    213\u001b[0m         \u001b[0;32mif\u001b[0m \u001b[0;34m'_id'\u001b[0m \u001b[0;32mnot\u001b[0m \u001b[0;32min\u001b[0m \u001b[0mdocument\u001b[0m\u001b[0;34m:\u001b[0m\u001b[0;34m\u001b[0m\u001b[0m\n\u001b[0;32m--> 214\u001b[0;31m             \u001b[0mdocument\u001b[0m\u001b[0;34m[\u001b[0m\u001b[0;34m'_id'\u001b[0m\u001b[0;34m]\u001b[0m \u001b[0;34m=\u001b[0m \u001b[0mObjectId\u001b[0m\u001b[0;34m(\u001b[0m\u001b[0;34m)\u001b[0m\u001b[0;34m\u001b[0m\u001b[0m\n\u001b[0m\u001b[1;32m    215\u001b[0m         \u001b[0mself\u001b[0m\u001b[0;34m.\u001b[0m\u001b[0mops\u001b[0m\u001b[0;34m.\u001b[0m\u001b[0mappend\u001b[0m\u001b[0;34m(\u001b[0m\u001b[0;34m(\u001b[0m\u001b[0m_INSERT\u001b[0m\u001b[0;34m,\u001b[0m \u001b[0mdocument\u001b[0m\u001b[0;34m)\u001b[0m\u001b[0;34m)\u001b[0m\u001b[0;34m\u001b[0m\u001b[0m\n\u001b[1;32m    216\u001b[0m \u001b[0;34m\u001b[0m\u001b[0m\n",
      "\u001b[0;32m/Users/arkilic/miniconda3/envs/dev/lib/python3.5/site-packages/bson/objectid.py\u001b[0m in \u001b[0;36m__init__\u001b[0;34m(self, oid)\u001b[0m\n\u001b[1;32m    104\u001b[0m         \"\"\"\n\u001b[1;32m    105\u001b[0m         \u001b[0;32mif\u001b[0m \u001b[0moid\u001b[0m \u001b[0;32mis\u001b[0m \u001b[0;32mNone\u001b[0m\u001b[0;34m:\u001b[0m\u001b[0;34m\u001b[0m\u001b[0m\n\u001b[0;32m--> 106\u001b[0;31m             \u001b[0mself\u001b[0m\u001b[0;34m.\u001b[0m\u001b[0m__generate\u001b[0m\u001b[0;34m(\u001b[0m\u001b[0;34m)\u001b[0m\u001b[0;34m\u001b[0m\u001b[0m\n\u001b[0m\u001b[1;32m    107\u001b[0m         \u001b[0;32melif\u001b[0m \u001b[0misinstance\u001b[0m\u001b[0;34m(\u001b[0m\u001b[0moid\u001b[0m\u001b[0;34m,\u001b[0m \u001b[0mbytes\u001b[0m\u001b[0;34m)\u001b[0m \u001b[0;32mand\u001b[0m \u001b[0mlen\u001b[0m\u001b[0;34m(\u001b[0m\u001b[0moid\u001b[0m\u001b[0;34m)\u001b[0m \u001b[0;34m==\u001b[0m \u001b[0;36m12\u001b[0m\u001b[0;34m:\u001b[0m\u001b[0;34m\u001b[0m\u001b[0m\n\u001b[1;32m    108\u001b[0m             \u001b[0mself\u001b[0m\u001b[0;34m.\u001b[0m\u001b[0m__id\u001b[0m \u001b[0;34m=\u001b[0m \u001b[0moid\u001b[0m\u001b[0;34m\u001b[0m\u001b[0m\n",
      "\u001b[0;32m/Users/arkilic/miniconda3/envs/dev/lib/python3.5/site-packages/bson/objectid.py\u001b[0m in \u001b[0;36m__generate\u001b[0;34m(self)\u001b[0m\n\u001b[1;32m    174\u001b[0m \u001b[0;34m\u001b[0m\u001b[0m\n\u001b[1;32m    175\u001b[0m         \u001b[0;31m# 2 bytes pid\u001b[0m\u001b[0;34m\u001b[0m\u001b[0;34m\u001b[0m\u001b[0m\n\u001b[0;32m--> 176\u001b[0;31m         \u001b[0moid\u001b[0m \u001b[0;34m+=\u001b[0m \u001b[0mstruct\u001b[0m\u001b[0;34m.\u001b[0m\u001b[0mpack\u001b[0m\u001b[0;34m(\u001b[0m\u001b[0;34m\">H\"\u001b[0m\u001b[0;34m,\u001b[0m \u001b[0mos\u001b[0m\u001b[0;34m.\u001b[0m\u001b[0mgetpid\u001b[0m\u001b[0;34m(\u001b[0m\u001b[0;34m)\u001b[0m \u001b[0;34m%\u001b[0m \u001b[0;36m0xFFFF\u001b[0m\u001b[0;34m)\u001b[0m\u001b[0;34m\u001b[0m\u001b[0m\n\u001b[0m\u001b[1;32m    177\u001b[0m \u001b[0;34m\u001b[0m\u001b[0m\n\u001b[1;32m    178\u001b[0m         \u001b[0;31m# 3 bytes inc\u001b[0m\u001b[0;34m\u001b[0m\u001b[0;34m\u001b[0m\u001b[0m\n",
      "\u001b[0;31mKeyboardInterrupt\u001b[0m: "
     ]
    }
   ],
   "source": [
    "for i in range(10):\n",
    "    test_xspress3_sqlite(1600000)"
   ]
  },
  {
   "cell_type": "code",
   "execution_count": null,
   "metadata": {
    "collapsed": true
   },
   "outputs": [],
   "source": []
  }
 ],
 "metadata": {
  "kernelspec": {
   "display_name": "Python 3",
   "language": "python",
   "name": "python3"
  },
  "language_info": {
   "codemirror_mode": {
    "name": "ipython",
    "version": 3
   },
   "file_extension": ".py",
   "mimetype": "text/x-python",
   "name": "python",
   "nbconvert_exporter": "python",
   "pygments_lexer": "ipython3",
   "version": "3.5.1"
  }
 },
 "nbformat": 4,
 "nbformat_minor": 0
}
