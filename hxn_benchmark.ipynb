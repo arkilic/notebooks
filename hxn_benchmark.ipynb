{
 "cells": [
  {
   "cell_type": "code",
   "execution_count": 1,
   "metadata": {
    "collapsed": false
   },
   "outputs": [],
   "source": [
    "import itertools\n",
    "import uuid\n",
    "import time\n",
    "from collections import OrderedDict\n",
    "from contextlib import contextmanager\n",
    "\n",
    "from filestore.api import (bulk_insert_datum, insert_resource)\n",
    "from metadatastore.mds import MDS\n",
    "from portable_mds.mongoquery.mds import MDS as MQMDS\n",
    "from portable_mds.sqlite.mds import MDSTemplate as SQMDS\n",
    "from portable_mds.hdf5.mds import MDS as H5MDS"
   ]
  },
  {
   "cell_type": "code",
   "execution_count": 2,
   "metadata": {
    "collapsed": true
   },
   "outputs": [],
   "source": [
    "local_cfg = {'directory': '/Users/arkilic/local_mds_files'}\n",
    "online_cfg = {'host': 'localhost',\n",
    "             'port': 27017,\n",
    "             'database': 'mdsbenchmark'}\n",
    "mds = MDS(online_cfg)\n",
    "mqmds = MQMDS(local_cfg)\n",
    "sqmds = SQMDS(local_cfg)\n",
    "h5mds = H5MDS(local_cfg)"
   ]
  },
  {
   "cell_type": "code",
   "execution_count": 3,
   "metadata": {
    "collapsed": false
   },
   "outputs": [],
   "source": [
    "class ctxtime(object):\n",
    "    def __enter__(self):\n",
    "        self.t0 = time.time()\n",
    "        return self\n",
    "\n",
    "    def __exit__(self, type, value, traceback):\n",
    "        self.elapsed = time.time() - self.t0\n",
    "\n",
    "\n",
    "def new_uid():\n",
    "    \"uuid4 as a string\"\n",
    "    return str(uuid.uuid4())"
   ]
  },
  {
   "cell_type": "code",
   "execution_count": 4,
   "metadata": {
    "collapsed": true
   },
   "outputs": [],
   "source": [
    "class FSBase:\n",
    "    def generate_datum(self, key, timestamp):\n",
    "        \"Generate a uid and cache it with its key for later insertion.\"\n",
    "        # if self._locked_key_list:\n",
    "        #     if key not in self._datum_uids:\n",
    "        #         raise RuntimeError(\"modifying after lock\")\n",
    "        uid = new_uid()\n",
    "        reading = {'value': uid, 'timestamp': timestamp}\n",
    "        # datum_uids looks like {'dark': [reading1, reading2], ...}\n",
    "        self._datum_uids[key].append(reading)\n",
    "        return uid\n",
    "\n",
    "\n",
    "class BulkReadableDetector:\n",
    "    def __init__(self, path='fake_path', *, spec='AD_HDF5'):\n",
    "        self.spec = spec\n",
    "        self._resource = insert_resource(self.spec, path)\n",
    "        self._datum_kwargs_map = {}\n",
    "        self._reset_data()\n",
    "\n",
    "    def _reset_data(self):\n",
    "        self._datum_uids = []\n",
    "        self._datum_kwargs_map = {}\n",
    "        self._point_counter = itertools.count()\n",
    "\n",
    "    def generate_datum(self, key, timestamp):\n",
    "        \"Stash kwargs for each datum, to be used below by unstage.\"\n",
    "        uid = super().generate_datum(key, timestamp)\n",
    "        i = next(self._point_counter)\n",
    "        self._datum_kwargs_map[uid] = {'point_number': i}\n",
    "        # (don't insert, obviously)\n",
    "        return uid\n",
    "\n",
    "    def bulk_read(self, timestamps):\n",
    "        image_name = self.image_name\n",
    "\n",
    "        uids = [self.generate_datum(self.image_name, ts) for ts in timestamps]\n",
    "        datum_args = [self._datum_kwargs_map[uid] for uid in uids]\n",
    "\n",
    "        bulk_insert_datum(self._resource, uids, datum_args)\n",
    "\n",
    "        # clear so unstage will not save the images twice:\n",
    "        self._reset_data()\n",
    "        return {image_name: uids}\n",
    "\n",
    "\n",
    "class Xspress3HDF5:\n",
    "    spec = 'XSP_HDF5'\n",
    "\n",
    "    def __init__(self, path):\n",
    "        self._filestore_res = insert_resource(self.spec, path)\n",
    "        self.mds_keys = {1: 'xspress3_ch1',\n",
    "                         2: 'xspress3_ch2',\n",
    "                         3: 'xspress3_ch3',\n",
    "                         }\n",
    "\n",
    "\n",
    "class BulkReadableXspress3(FSBase):\n",
    "    def __init__(self, channels, path='fake_path'):\n",
    "        self.hdf5 = Xspress3HDF5(path)\n",
    "        self.channels = channels\n",
    "\n",
    "    def bulk_read(self, timestamps):\n",
    "        fs_res = self.hdf5._filestore_res\n",
    "\n",
    "        if timestamps is None:\n",
    "            raise ValueError('Timestamps must be set first')\n",
    "\n",
    "        channels = self.channels\n",
    "        ch_uids = {ch: [str(uuid.uuid4()) for ts in timestamps]\n",
    "                   for ch in channels}\n",
    "\n",
    "        count = len(timestamps)\n",
    "        if count == 0:\n",
    "            return {}\n",
    "\n",
    "        def get_datum_args():\n",
    "            for ch in channels:\n",
    "                for seq_num in range(count):\n",
    "                    yield {'frame': seq_num,\n",
    "                           'channel': ch}\n",
    "\n",
    "        uids = [ch_uids[ch] for ch in channels]\n",
    "        bulk_insert_datum(fs_res, itertools.chain(*uids),\n",
    "                          get_datum_args())\n",
    "        return OrderedDict((self.hdf5.mds_keys[ch], ch_uids[ch])\n",
    "                           for ch in channels)\n",
    "\n",
    "\n"
   ]
  },
  {
   "cell_type": "code",
   "execution_count": 5,
   "metadata": {
    "collapsed": true
   },
   "outputs": [],
   "source": [
    "@contextmanager\n",
    "def mds_wrapper(keynames, *, scan_id=0):\n",
    "    data_keys = {key: dict(source='somepv',\n",
    "                           shape=None,\n",
    "                           dtype='str')\n",
    "                 for key in keynames\n",
    "                 }\n",
    "    run_start = mds.insert_run_start(scan_id=scan_id, beamline_id='csx',\n",
    "                                 time=time.time(),\n",
    "                                 uid=str(uuid.uuid4()), function='cos')\n",
    "\n",
    "    descriptor = mds.insert_descriptor(data_keys=data_keys, time=time.time(),\n",
    "                                   run_start=run_start, uid=str(uuid.uuid4()))\n",
    "    yield descriptor\n",
    "\n",
    "    mds.insert_run_stop(run_start, time=time.time(), uid=str(uuid.uuid4()))\n",
    "\n",
    "@contextmanager\n",
    "def mqmds_wrapper(keynames, *, scan_id=0):\n",
    "    data_keys = {key: dict(source='somepv',\n",
    "                           shape=None,\n",
    "                           dtype='str')\n",
    "                 for key in keynames\n",
    "                 }\n",
    "    run_start = mqmds.insert_run_start(scan_id=scan_id, beamline_id='csx',\n",
    "                                 time=time.time(),\n",
    "                                 uid=str(uuid.uuid4()), function='cos')\n",
    "\n",
    "    descriptor = mqmds.insert_descriptor(data_keys=data_keys, time=time.time(),\n",
    "                                   run_start=run_start, uid=str(uuid.uuid4()))\n",
    "    yield descriptor\n",
    "\n",
    "    mqmds.insert_run_stop(run_start, time=time.time(), uid=str(uuid.uuid4()))\n",
    "\n",
    "@contextmanager\n",
    "def sqmds_wrapper(keynames, *, scan_id=0):\n",
    "    data_keys = {key: dict(source='somepv',\n",
    "                           shape=None,\n",
    "                           dtype='str')\n",
    "                 for key in keynames\n",
    "                 }\n",
    "    run_start = sqmds.insert_run_start(scan_id=scan_id, beamline_id='csx',\n",
    "                                 time=time.time(),\n",
    "                                 uid=str(uuid.uuid4()), function='cos')\n",
    "    print(run_start)\n",
    "    descriptor = sqmds.insert_descriptor(data_keys=data_keys, time=time.time(),\n",
    "                                   run_start=run_start, uid=str(uuid.uuid4()))\n",
    "    yield descriptor\n",
    "\n",
    "    sqmds.insert_run_stop(run_start, time=time.time(), uid=str(uuid.uuid4()))\n",
    "\n",
    "\n",
    "@contextmanager\n",
    "def h5mds_wrapper(keynames, *, scan_id=0):\n",
    "    data_keys = {key: dict(source='somepv',\n",
    "                           shape=None,\n",
    "                           dtype='str')\n",
    "                 for key in keynames\n",
    "                 }\n",
    "    run_start = h5mds.insert_run_start(scan_id=scan_id, beamline_id='csx',\n",
    "                                 time=time.time(),\n",
    "                                 uid=str(uuid.uuid4()), function='cos')\n",
    "\n",
    "    descriptor = h5mds.insert_descriptor(data_keys=data_keys, time=time.time(),\n",
    "                                   run_start=run_start, uid=str(uuid.uuid4()))\n",
    "    yield descriptor\n",
    "\n",
    "    h5mds.insert_run_stop(run_start, time=time.time(), uid=str(uuid.uuid4()))\n",
    "\n"
   ]
  },
  {
   "cell_type": "code",
   "execution_count": 6,
   "metadata": {
    "collapsed": false
   },
   "outputs": [],
   "source": [
    "def test_xspress3_online(n):\n",
    "    t0 = time.time()\n",
    "    timestamps = [t0 + i for i in range(n)]\n",
    "    xspress3 = BulkReadableXspress3(channels=[1, 2, 3])\n",
    "    with ctxtime() as fstime:\n",
    "        keys = list(xspress3.hdf5.mds_keys.values())\n",
    "        with mds_wrapper(keys) as descriptor:\n",
    "            entries = xspress3.bulk_read(timestamps)\n",
    "            events = [dict(descriptor=descriptor,\n",
    "                           seq_num=i,\n",
    "                           time=ts,\n",
    "                           timestamps={key: ts for key in keys},\n",
    "                           data={key: entries[key][i] for key in keys},\n",
    "                           uid=str(uuid.uuid4())\n",
    "                           )\n",
    "                      for i, ts in enumerate(timestamps)\n",
    "                      ]\n",
    "            with ctxtime() as mdstime:\n",
    "                mds.bulk_insert_events(descriptor, events)\n",
    "            fstime.t0 += mdstime.elapsed\n",
    "\n",
    "    print('filestore: inserting {} entries took {} sec'.format(n, fstime.elapsed))\n",
    "    print('metadatastore: inserting {} entries took {} sec'.format(n, mdstime.elapsed))\n",
    "\n",
    "def test_xspress3_json(n):\n",
    "    t0 = time.time()\n",
    "    timestamps = [t0 + i for i in range(n)]\n",
    "    xspress3 = BulkReadableXspress3(channels=[1, 2, 3])\n",
    "    with ctxtime() as fstime:\n",
    "        keys = list(xspress3.hdf5.mds_keys.values())\n",
    "        with mqmds_wrapper(keys) as descriptor:\n",
    "            entries = xspress3.bulk_read(timestamps)\n",
    "            events = [dict(descriptor=descriptor,\n",
    "                           seq_num=i,\n",
    "                           time=ts,\n",
    "                           timestamps={key: ts for key in keys},\n",
    "                           data={key: entries[key][i] for key in keys},\n",
    "                           uid=str(uuid.uuid4())\n",
    "                           )\n",
    "                      for i, ts in enumerate(timestamps)\n",
    "                      ]\n",
    "            with ctxtime() as mdstime:\n",
    "                mqmds.bulk_insert_events(descriptor, events)\n",
    "            fstime.t0 += mdstime.elapsed\n",
    "\n",
    "    print('filestore: inserting {} entries took {} sec'.format(n, fstime.elapsed))\n",
    "    print('metadatastore: inserting {} entries took {} sec'.format(n, mdstime.elapsed))\n",
    "\n",
    "def test_xspress3_hdf5(n):\n",
    "    t0 = time.time()\n",
    "    timestamps = [t0 + i for i in range(n)]\n",
    "    xspress3 = BulkReadableXspress3(channels=[1, 2, 3])\n",
    "    with ctxtime() as fstime:\n",
    "        keys = list(xspress3.hdf5.mds_keys.values())\n",
    "        with h5mds_wrapper(keys) as descriptor:\n",
    "            entries = xspress3.bulk_read(timestamps)\n",
    "            events = [dict(descriptor=descriptor,\n",
    "                           seq_num=i,\n",
    "                           time=ts,\n",
    "                           timestamps={key: ts for key in keys},\n",
    "                           data={key: entries[key][i] for key in keys},\n",
    "                           uid=str(uuid.uuid4())\n",
    "                           )\n",
    "                      for i, ts in enumerate(timestamps)\n",
    "                      ]\n",
    "            with ctxtime() as mdstime:\n",
    "                h5mds.bulk_insert_events(descriptor, events)\n",
    "            fstime.t0 += mdstime.elapsed\n",
    "\n",
    "    print('filestore: inserting {} entries took {} sec'.format(n, fstime.elapsed))\n",
    "    print('metadatastore: inserting {} entries took {} sec'.format(n, mdstime.elapsed))\n",
    "\n",
    "\n",
    "\n",
    "def test_xspress3_sqlite(n):\n",
    "    t0 = time.time()\n",
    "    timestamps = [t0 + i for i in range(n)]\n",
    "    xspress3 = BulkReadableXspress3(channels=[1, 2, 3])\n",
    "    with ctxtime() as fstime:\n",
    "        keys = list(xspress3.hdf5.mds_keys.values())\n",
    "        with sqmds_wrapper(keys) as descriptor:\n",
    "            entries = xspress3.bulk_read(timestamps)\n",
    "            events = [dict(descriptor=descriptor,\n",
    "                           seq_num=i,\n",
    "                           time=ts,\n",
    "                           timestamps={key: ts for key in keys},\n",
    "                           data={key: entries[key][i] for key in keys},\n",
    "                           uid=str(uuid.uuid4())\n",
    "                           )\n",
    "                      for i, ts in enumerate(timestamps)\n",
    "                      ]\n",
    "            with ctxtime() as mdstime:\n",
    "                sqmds.bulk_insert_events(descriptor, events)\n",
    "            fstime.t0 += mdstime.elapsed\n",
    "\n",
    "    print('filestore: inserting {} entries took {} sec'.format(n, fstime.elapsed))\n",
    "    print('metadatastore: inserting {} entries took {} sec'.format(n, mdstime.elapsed))\n",
    "\n",
    "\n",
    "    \n",
    "    \n",
    "    \n"
   ]
  },
  {
   "cell_type": "code",
   "execution_count": 7,
   "metadata": {
    "collapsed": false
   },
   "outputs": [
    {
     "name": "stdout",
     "output_type": "stream",
     "text": [
      "filestore: inserting 16000 entries took 5.837093114852905 sec\n",
      "metadatastore: inserting 16000 entries took 1.6653189659118652 sec\n",
      "filestore: inserting 16000 entries took 4.329138994216919 sec\n",
      "metadatastore: inserting 16000 entries took 1.9245779514312744 sec\n",
      "filestore: inserting 16000 entries took 4.335224151611328 sec\n",
      "metadatastore: inserting 16000 entries took 1.748203992843628 sec\n",
      "filestore: inserting 16000 entries took 11.101682901382446 sec\n",
      "metadatastore: inserting 16000 entries took 6.50123405456543 sec\n",
      "filestore: inserting 16000 entries took 4.410556316375732 sec\n",
      "metadatastore: inserting 16000 entries took 2.163519859313965 sec\n"
     ]
    }
   ],
   "source": [
    "for i in range(5):\n",
    "    test_xspress3_online(16000)"
   ]
  },
  {
   "cell_type": "code",
   "execution_count": 8,
   "metadata": {
    "collapsed": false
   },
   "outputs": [
    {
     "ename": "TypeError",
     "evalue": "No conversion path for dtype: dtype('<U36')",
     "output_type": "error",
     "traceback": [
      "\u001b[0;31m---------------------------------------------------------------------------\u001b[0m",
      "\u001b[0;31mTypeError\u001b[0m                                 Traceback (most recent call last)",
      "\u001b[0;32m<ipython-input-8-dff8aadd88ef>\u001b[0m in \u001b[0;36m<module>\u001b[0;34m()\u001b[0m\n\u001b[1;32m      1\u001b[0m \u001b[0;32mfor\u001b[0m \u001b[0mi\u001b[0m \u001b[0;32min\u001b[0m \u001b[0mrange\u001b[0m\u001b[0;34m(\u001b[0m\u001b[0;36m5\u001b[0m\u001b[0;34m)\u001b[0m\u001b[0;34m:\u001b[0m\u001b[0;34m\u001b[0m\u001b[0m\n\u001b[0;32m----> 2\u001b[0;31m     \u001b[0mtest_xspress3_hdf5\u001b[0m\u001b[0;34m(\u001b[0m\u001b[0;36m16000\u001b[0m\u001b[0;34m)\u001b[0m\u001b[0;34m\u001b[0m\u001b[0m\n\u001b[0m",
      "\u001b[0;32m<ipython-input-6-e6c8c59c4ffe>\u001b[0m in \u001b[0;36mtest_xspress3_hdf5\u001b[0;34m(n)\u001b[0m\n\u001b[1;32m     65\u001b[0m                       ]\n\u001b[1;32m     66\u001b[0m             \u001b[0;32mwith\u001b[0m \u001b[0mctxtime\u001b[0m\u001b[0;34m(\u001b[0m\u001b[0;34m)\u001b[0m \u001b[0;32mas\u001b[0m \u001b[0mmdstime\u001b[0m\u001b[0;34m:\u001b[0m\u001b[0;34m\u001b[0m\u001b[0m\n\u001b[0;32m---> 67\u001b[0;31m                 \u001b[0mh5mds\u001b[0m\u001b[0;34m.\u001b[0m\u001b[0mbulk_insert_events\u001b[0m\u001b[0;34m(\u001b[0m\u001b[0mdescriptor\u001b[0m\u001b[0;34m,\u001b[0m \u001b[0mevents\u001b[0m\u001b[0;34m)\u001b[0m\u001b[0;34m\u001b[0m\u001b[0m\n\u001b[0m\u001b[1;32m     68\u001b[0m             \u001b[0mfstime\u001b[0m\u001b[0;34m.\u001b[0m\u001b[0mt0\u001b[0m \u001b[0;34m+=\u001b[0m \u001b[0mmdstime\u001b[0m\u001b[0;34m.\u001b[0m\u001b[0melapsed\u001b[0m\u001b[0;34m\u001b[0m\u001b[0m\n\u001b[1;32m     69\u001b[0m \u001b[0;34m\u001b[0m\u001b[0m\n",
      "\u001b[0;32m/Users/arkilic/git/portable-mds/portable_mds/template/mds.py\u001b[0m in \u001b[0;36mbulk_insert_events\u001b[0;34m(self, descriptor, events, validate)\u001b[0m\n\u001b[1;32m    520\u001b[0m                                             \u001b[0mdescriptor\u001b[0m\u001b[0;34m=\u001b[0m\u001b[0mdescriptor\u001b[0m\u001b[0;34m,\u001b[0m\u001b[0;34m\u001b[0m\u001b[0m\n\u001b[1;32m    521\u001b[0m                                             \u001b[0mevents\u001b[0m\u001b[0;34m=\u001b[0m\u001b[0mevents\u001b[0m\u001b[0;34m,\u001b[0m\u001b[0;34m\u001b[0m\u001b[0m\n\u001b[0;32m--> 522\u001b[0;31m                                             validate=validate)\n\u001b[0m\u001b[1;32m    523\u001b[0m \u001b[0;34m\u001b[0m\u001b[0m\n\u001b[1;32m    524\u001b[0m     \u001b[0;32mdef\u001b[0m \u001b[0minsert\u001b[0m\u001b[0;34m(\u001b[0m\u001b[0mself\u001b[0m\u001b[0;34m,\u001b[0m \u001b[0mname\u001b[0m\u001b[0;34m,\u001b[0m \u001b[0mdoc\u001b[0m\u001b[0;34m)\u001b[0m\u001b[0;34m:\u001b[0m\u001b[0;34m\u001b[0m\u001b[0m\n",
      "\u001b[0;32m/Users/arkilic/git/portable-mds/portable_mds/template/core.py\u001b[0m in \u001b[0;36mbulk_insert_events\u001b[0;34m(event_col, descriptor, events, validate)\u001b[0m\n\u001b[1;32m    722\u001b[0m             \u001b[0;32myield\u001b[0m \u001b[0mev_out\u001b[0m\u001b[0;34m\u001b[0m\u001b[0m\n\u001b[1;32m    723\u001b[0m \u001b[0;34m\u001b[0m\u001b[0m\n\u001b[0;32m--> 724\u001b[0;31m     \u001b[0;32mreturn\u001b[0m \u001b[0mevent_col\u001b[0m\u001b[0;34m.\u001b[0m\u001b[0minsert\u001b[0m\u001b[0;34m(\u001b[0m\u001b[0mevent_factory\u001b[0m\u001b[0;34m(\u001b[0m\u001b[0;34m)\u001b[0m\u001b[0;34m)\u001b[0m\u001b[0;34m\u001b[0m\u001b[0m\n\u001b[0m\u001b[1;32m    725\u001b[0m \u001b[0;34m\u001b[0m\u001b[0m\n\u001b[1;32m    726\u001b[0m \u001b[0;34m\u001b[0m\u001b[0m\n",
      "\u001b[0;32m/Users/arkilic/git/portable-mds/portable_mds/hdf5/mds.py\u001b[0m in \u001b[0;36minsert\u001b[0;34m(self, docs)\u001b[0m\n\u001b[1;32m    135\u001b[0m                 \u001b[0mappend\u001b[0m\u001b[0;34m(\u001b[0m\u001b[0mg\u001b[0m\u001b[0;34m[\u001b[0m\u001b[0;34m'seq_num'\u001b[0m\u001b[0;34m]\u001b[0m\u001b[0;34m,\u001b[0m \u001b[0mtransposed_seq_num\u001b[0m\u001b[0;34m)\u001b[0m\u001b[0;34m\u001b[0m\u001b[0m\n\u001b[1;32m    136\u001b[0m                 \u001b[0;32mfor\u001b[0m \u001b[0mk\u001b[0m \u001b[0;32min\u001b[0m \u001b[0mkeys\u001b[0m\u001b[0;34m:\u001b[0m\u001b[0;34m\u001b[0m\u001b[0m\n\u001b[0;32m--> 137\u001b[0;31m                     \u001b[0mappend\u001b[0m\u001b[0;34m(\u001b[0m\u001b[0mg\u001b[0m\u001b[0;34m[\u001b[0m\u001b[0;34m'data'\u001b[0m\u001b[0;34m]\u001b[0m\u001b[0;34m[\u001b[0m\u001b[0mk\u001b[0m\u001b[0;34m]\u001b[0m\u001b[0;34m,\u001b[0m \u001b[0mtransposed_data\u001b[0m\u001b[0;34m[\u001b[0m\u001b[0mk\u001b[0m\u001b[0;34m]\u001b[0m\u001b[0;34m)\u001b[0m\u001b[0;34m\u001b[0m\u001b[0m\n\u001b[0m\u001b[1;32m    138\u001b[0m                     \u001b[0mappend\u001b[0m\u001b[0;34m(\u001b[0m\u001b[0mg\u001b[0m\u001b[0;34m[\u001b[0m\u001b[0;34m'timestamps'\u001b[0m\u001b[0;34m]\u001b[0m\u001b[0;34m[\u001b[0m\u001b[0mk\u001b[0m\u001b[0;34m]\u001b[0m\u001b[0;34m,\u001b[0m \u001b[0mtransposed_ts\u001b[0m\u001b[0;34m[\u001b[0m\u001b[0mk\u001b[0m\u001b[0;34m]\u001b[0m\u001b[0;34m)\u001b[0m\u001b[0;34m\u001b[0m\u001b[0m\n\u001b[1;32m    139\u001b[0m \u001b[0;34m\u001b[0m\u001b[0m\n",
      "\u001b[0;32m/Users/arkilic/git/portable-mds/portable_mds/hdf5/mds.py\u001b[0m in \u001b[0;36mappend\u001b[0;34m(dataset, data)\u001b[0m\n\u001b[1;32m     12\u001b[0m     \u001b[0mnew_size\u001b[0m \u001b[0;34m=\u001b[0m \u001b[0mold_size\u001b[0m \u001b[0;34m+\u001b[0m \u001b[0mlen\u001b[0m\u001b[0;34m(\u001b[0m\u001b[0mdata\u001b[0m\u001b[0;34m)\u001b[0m\u001b[0;34m\u001b[0m\u001b[0m\n\u001b[1;32m     13\u001b[0m     \u001b[0mdataset\u001b[0m\u001b[0;34m.\u001b[0m\u001b[0mresize\u001b[0m\u001b[0;34m(\u001b[0m\u001b[0;34m(\u001b[0m\u001b[0mnew_size\u001b[0m\u001b[0;34m,\u001b[0m\u001b[0;34m)\u001b[0m\u001b[0;34m)\u001b[0m\u001b[0;34m\u001b[0m\u001b[0m\n\u001b[0;32m---> 14\u001b[0;31m     \u001b[0mdataset\u001b[0m\u001b[0;34m[\u001b[0m\u001b[0mold_size\u001b[0m\u001b[0;34m:\u001b[0m\u001b[0;34m]\u001b[0m \u001b[0;34m=\u001b[0m \u001b[0mdata\u001b[0m\u001b[0;34m\u001b[0m\u001b[0m\n\u001b[0m\u001b[1;32m     15\u001b[0m \u001b[0;34m\u001b[0m\u001b[0m\n\u001b[1;32m     16\u001b[0m \u001b[0;32mclass\u001b[0m \u001b[0mRunStartCollection\u001b[0m\u001b[0;34m(\u001b[0m\u001b[0mJSONCollection\u001b[0m\u001b[0;34m)\u001b[0m\u001b[0;34m:\u001b[0m\u001b[0;34m\u001b[0m\u001b[0m\n",
      "\u001b[0;32mh5py/_objects.pyx\u001b[0m in \u001b[0;36mh5py._objects.with_phil.wrapper (-------src-dir--------/h5py/_objects.c:2582)\u001b[0;34m()\u001b[0m\n",
      "\u001b[0;32mh5py/_objects.pyx\u001b[0m in \u001b[0;36mh5py._objects.with_phil.wrapper (-------src-dir--------/h5py/_objects.c:2541)\u001b[0;34m()\u001b[0m\n",
      "\u001b[0;32m/Users/arkilic/miniconda3/envs/dev/lib/python3.5/site-packages/h5py/_hl/dataset.py\u001b[0m in \u001b[0;36m__setitem__\u001b[0;34m(self, args, val)\u001b[0m\n\u001b[1;32m    616\u001b[0m         \u001b[0mmspace\u001b[0m \u001b[0;34m=\u001b[0m \u001b[0mh5s\u001b[0m\u001b[0;34m.\u001b[0m\u001b[0mcreate_simple\u001b[0m\u001b[0;34m(\u001b[0m\u001b[0mmshape_pad\u001b[0m\u001b[0;34m,\u001b[0m \u001b[0;34m(\u001b[0m\u001b[0mh5s\u001b[0m\u001b[0;34m.\u001b[0m\u001b[0mUNLIMITED\u001b[0m\u001b[0;34m,\u001b[0m\u001b[0;34m)\u001b[0m\u001b[0;34m*\u001b[0m\u001b[0mlen\u001b[0m\u001b[0;34m(\u001b[0m\u001b[0mmshape_pad\u001b[0m\u001b[0;34m)\u001b[0m\u001b[0;34m)\u001b[0m\u001b[0;34m\u001b[0m\u001b[0m\n\u001b[1;32m    617\u001b[0m         \u001b[0;32mfor\u001b[0m \u001b[0mfspace\u001b[0m \u001b[0;32min\u001b[0m \u001b[0mselection\u001b[0m\u001b[0;34m.\u001b[0m\u001b[0mbroadcast\u001b[0m\u001b[0;34m(\u001b[0m\u001b[0mmshape\u001b[0m\u001b[0;34m)\u001b[0m\u001b[0;34m:\u001b[0m\u001b[0;34m\u001b[0m\u001b[0m\n\u001b[0;32m--> 618\u001b[0;31m             \u001b[0mself\u001b[0m\u001b[0;34m.\u001b[0m\u001b[0mid\u001b[0m\u001b[0;34m.\u001b[0m\u001b[0mwrite\u001b[0m\u001b[0;34m(\u001b[0m\u001b[0mmspace\u001b[0m\u001b[0;34m,\u001b[0m \u001b[0mfspace\u001b[0m\u001b[0;34m,\u001b[0m \u001b[0mval\u001b[0m\u001b[0;34m,\u001b[0m \u001b[0mmtype\u001b[0m\u001b[0;34m,\u001b[0m \u001b[0mdxpl\u001b[0m\u001b[0;34m=\u001b[0m\u001b[0mself\u001b[0m\u001b[0;34m.\u001b[0m\u001b[0m_dxpl\u001b[0m\u001b[0;34m)\u001b[0m\u001b[0;34m\u001b[0m\u001b[0m\n\u001b[0m\u001b[1;32m    619\u001b[0m \u001b[0;34m\u001b[0m\u001b[0m\n\u001b[1;32m    620\u001b[0m     \u001b[0;32mdef\u001b[0m \u001b[0mread_direct\u001b[0m\u001b[0;34m(\u001b[0m\u001b[0mself\u001b[0m\u001b[0;34m,\u001b[0m \u001b[0mdest\u001b[0m\u001b[0;34m,\u001b[0m \u001b[0msource_sel\u001b[0m\u001b[0;34m=\u001b[0m\u001b[0;32mNone\u001b[0m\u001b[0;34m,\u001b[0m \u001b[0mdest_sel\u001b[0m\u001b[0;34m=\u001b[0m\u001b[0;32mNone\u001b[0m\u001b[0;34m)\u001b[0m\u001b[0;34m:\u001b[0m\u001b[0;34m\u001b[0m\u001b[0m\n",
      "\u001b[0;32mh5py/_objects.pyx\u001b[0m in \u001b[0;36mh5py._objects.with_phil.wrapper (-------src-dir--------/h5py/_objects.c:2582)\u001b[0;34m()\u001b[0m\n",
      "\u001b[0;32mh5py/_objects.pyx\u001b[0m in \u001b[0;36mh5py._objects.with_phil.wrapper (-------src-dir--------/h5py/_objects.c:2541)\u001b[0;34m()\u001b[0m\n",
      "\u001b[0;32mh5py/h5d.pyx\u001b[0m in \u001b[0;36mh5py.h5d.DatasetID.write (-------src-dir--------/h5py/h5d.c:3330)\u001b[0;34m()\u001b[0m\n",
      "\u001b[0;32mh5py/h5t.pyx\u001b[0m in \u001b[0;36mh5py.h5t.py_create (-------src-dir--------/h5py/h5t.c:16042)\u001b[0;34m()\u001b[0m\n",
      "\u001b[0;32mh5py/h5t.pyx\u001b[0m in \u001b[0;36mh5py.h5t.py_create (-------src-dir--------/h5py/h5t.c:16002)\u001b[0;34m()\u001b[0m\n",
      "\u001b[0;31mTypeError\u001b[0m: No conversion path for dtype: dtype('<U36')"
     ]
    }
   ],
   "source": [
    "for i in range(5):\n",
    "    test_xspress3_hdf5(16000)"
   ]
  },
  {
   "cell_type": "code",
   "execution_count": 9,
   "metadata": {
    "collapsed": false
   },
   "outputs": [
    {
     "ename": "AttributeError",
     "evalue": "'MDSTemplate' object has no attribute '_runstart_col'",
     "output_type": "error",
     "traceback": [
      "\u001b[0;31m---------------------------------------------------------------------------\u001b[0m",
      "\u001b[0;31mAttributeError\u001b[0m                            Traceback (most recent call last)",
      "\u001b[0;32m<ipython-input-9-b2a037ac038e>\u001b[0m in \u001b[0;36m<module>\u001b[0;34m()\u001b[0m\n\u001b[1;32m      1\u001b[0m \u001b[0;32mfor\u001b[0m \u001b[0mi\u001b[0m \u001b[0;32min\u001b[0m \u001b[0mrange\u001b[0m\u001b[0;34m(\u001b[0m\u001b[0;36m10\u001b[0m\u001b[0;34m)\u001b[0m\u001b[0;34m:\u001b[0m\u001b[0;34m\u001b[0m\u001b[0m\n\u001b[0;32m----> 2\u001b[0;31m     \u001b[0mtest_xspress3_sqlite\u001b[0m\u001b[0;34m(\u001b[0m\u001b[0;36m16000\u001b[0m\u001b[0;34m)\u001b[0m\u001b[0;34m\u001b[0m\u001b[0m\n\u001b[0m",
      "\u001b[0;32m<ipython-input-6-e6c8c59c4ffe>\u001b[0m in \u001b[0;36mtest_xspress3_sqlite\u001b[0;34m(n)\u001b[0m\n\u001b[1;32m     79\u001b[0m     \u001b[0;32mwith\u001b[0m \u001b[0mctxtime\u001b[0m\u001b[0;34m(\u001b[0m\u001b[0;34m)\u001b[0m \u001b[0;32mas\u001b[0m \u001b[0mfstime\u001b[0m\u001b[0;34m:\u001b[0m\u001b[0;34m\u001b[0m\u001b[0m\n\u001b[1;32m     80\u001b[0m         \u001b[0mkeys\u001b[0m \u001b[0;34m=\u001b[0m \u001b[0mlist\u001b[0m\u001b[0;34m(\u001b[0m\u001b[0mxspress3\u001b[0m\u001b[0;34m.\u001b[0m\u001b[0mhdf5\u001b[0m\u001b[0;34m.\u001b[0m\u001b[0mmds_keys\u001b[0m\u001b[0;34m.\u001b[0m\u001b[0mvalues\u001b[0m\u001b[0;34m(\u001b[0m\u001b[0;34m)\u001b[0m\u001b[0;34m)\u001b[0m\u001b[0;34m\u001b[0m\u001b[0m\n\u001b[0;32m---> 81\u001b[0;31m         \u001b[0;32mwith\u001b[0m \u001b[0msqmds_wrapper\u001b[0m\u001b[0;34m(\u001b[0m\u001b[0mkeys\u001b[0m\u001b[0;34m)\u001b[0m \u001b[0;32mas\u001b[0m \u001b[0mdescriptor\u001b[0m\u001b[0;34m:\u001b[0m\u001b[0;34m\u001b[0m\u001b[0m\n\u001b[0m\u001b[1;32m     82\u001b[0m             \u001b[0mentries\u001b[0m \u001b[0;34m=\u001b[0m \u001b[0mxspress3\u001b[0m\u001b[0;34m.\u001b[0m\u001b[0mbulk_read\u001b[0m\u001b[0;34m(\u001b[0m\u001b[0mtimestamps\u001b[0m\u001b[0;34m)\u001b[0m\u001b[0;34m\u001b[0m\u001b[0m\n\u001b[1;32m     83\u001b[0m             events = [dict(descriptor=descriptor,\n",
      "\u001b[0;32m/Users/arkilic/miniconda3/envs/dev/lib/python3.5/contextlib.py\u001b[0m in \u001b[0;36m__enter__\u001b[0;34m(self)\u001b[0m\n\u001b[1;32m     57\u001b[0m     \u001b[0;32mdef\u001b[0m \u001b[0m__enter__\u001b[0m\u001b[0;34m(\u001b[0m\u001b[0mself\u001b[0m\u001b[0;34m)\u001b[0m\u001b[0;34m:\u001b[0m\u001b[0;34m\u001b[0m\u001b[0m\n\u001b[1;32m     58\u001b[0m         \u001b[0;32mtry\u001b[0m\u001b[0;34m:\u001b[0m\u001b[0;34m\u001b[0m\u001b[0m\n\u001b[0;32m---> 59\u001b[0;31m             \u001b[0;32mreturn\u001b[0m \u001b[0mnext\u001b[0m\u001b[0;34m(\u001b[0m\u001b[0mself\u001b[0m\u001b[0;34m.\u001b[0m\u001b[0mgen\u001b[0m\u001b[0;34m)\u001b[0m\u001b[0;34m\u001b[0m\u001b[0m\n\u001b[0m\u001b[1;32m     60\u001b[0m         \u001b[0;32mexcept\u001b[0m \u001b[0mStopIteration\u001b[0m\u001b[0;34m:\u001b[0m\u001b[0;34m\u001b[0m\u001b[0m\n\u001b[1;32m     61\u001b[0m             \u001b[0;32mraise\u001b[0m \u001b[0mRuntimeError\u001b[0m\u001b[0;34m(\u001b[0m\u001b[0;34m\"generator didn't yield\"\u001b[0m\u001b[0;34m)\u001b[0m \u001b[0;32mfrom\u001b[0m \u001b[0;32mNone\u001b[0m\u001b[0;34m\u001b[0m\u001b[0m\n",
      "\u001b[0;32m<ipython-input-5-8058cd7cf760>\u001b[0m in \u001b[0;36msqmds_wrapper\u001b[0;34m(keynames, scan_id)\u001b[0m\n\u001b[1;32m     42\u001b[0m     run_start = sqmds.insert_run_start(scan_id=scan_id, beamline_id='csx',\n\u001b[1;32m     43\u001b[0m                                  \u001b[0mtime\u001b[0m\u001b[0;34m=\u001b[0m\u001b[0mtime\u001b[0m\u001b[0;34m.\u001b[0m\u001b[0mtime\u001b[0m\u001b[0;34m(\u001b[0m\u001b[0;34m)\u001b[0m\u001b[0;34m,\u001b[0m\u001b[0;34m\u001b[0m\u001b[0m\n\u001b[0;32m---> 44\u001b[0;31m                                  uid=str(uuid.uuid4()), function='cos')\n\u001b[0m\u001b[1;32m     45\u001b[0m     \u001b[0mprint\u001b[0m\u001b[0;34m(\u001b[0m\u001b[0mrun_start\u001b[0m\u001b[0;34m)\u001b[0m\u001b[0;34m\u001b[0m\u001b[0m\n\u001b[1;32m     46\u001b[0m     descriptor = sqmds.insert_descriptor(data_keys=data_keys, time=time.time(),\n",
      "\u001b[0;32m/Users/arkilic/git/portable-mds/portable_mds/template/mds.py\u001b[0m in \u001b[0;36minsert_run_start\u001b[0;34m(self, time, uid, **kwargs)\u001b[0m\n\u001b[1;32m    405\u001b[0m             \u001b[0mthe\u001b[0m \u001b[0mfull\u001b[0m \u001b[0mdocument\u001b[0m\u001b[0;34m.\u001b[0m\u001b[0;34m\u001b[0m\u001b[0m\n\u001b[1;32m    406\u001b[0m         '''\n\u001b[0;32m--> 407\u001b[0;31m         return self._api.insert_run_start(self._runstart_col,\n\u001b[0m\u001b[1;32m    408\u001b[0m                                           \u001b[0mself\u001b[0m\u001b[0;34m.\u001b[0m\u001b[0m_RUNSTART_CACHE\u001b[0m\u001b[0;34m,\u001b[0m\u001b[0;34m\u001b[0m\u001b[0m\n\u001b[1;32m    409\u001b[0m                                           \u001b[0mtime\u001b[0m\u001b[0;34m=\u001b[0m\u001b[0mtime\u001b[0m\u001b[0;34m,\u001b[0m\u001b[0;34m\u001b[0m\u001b[0m\n",
      "\u001b[0;31mAttributeError\u001b[0m: 'MDSTemplate' object has no attribute '_runstart_col'"
     ]
    }
   ],
   "source": [
    "for i in range(10):\n",
    "    test_xspress3_sqlite(16000)"
   ]
  },
  {
   "cell_type": "code",
   "execution_count": null,
   "metadata": {
    "collapsed": false
   },
   "outputs": [
    {
     "name": "stdout",
     "output_type": "stream",
     "text": [
      "filestore: inserting 16000 entries took 4.472728252410889 sec\n",
      "metadatastore: inserting 16000 entries took 14.284441947937012 sec\n"
     ]
    }
   ],
   "source": [
    "for i in range(10):\n",
    "    test_xspress3_json(16000)"
   ]
  },
  {
   "cell_type": "code",
   "execution_count": null,
   "metadata": {
    "collapsed": true
   },
   "outputs": [],
   "source": []
  }
 ],
 "metadata": {
  "kernelspec": {
   "display_name": "Python 3",
   "language": "python",
   "name": "python3"
  },
  "language_info": {
   "codemirror_mode": {
    "name": "ipython",
    "version": 3
   },
   "file_extension": ".py",
   "mimetype": "text/x-python",
   "name": "python",
   "nbconvert_exporter": "python",
   "pygments_lexer": "ipython3",
   "version": "3.5.1"
  }
 },
 "nbformat": 4,
 "nbformat_minor": 0
}
