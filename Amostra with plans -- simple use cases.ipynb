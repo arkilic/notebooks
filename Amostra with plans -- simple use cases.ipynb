{
 "cells": [
  {
   "cell_type": "code",
   "execution_count": 47,
   "metadata": {
    "collapsed": false
   },
   "outputs": [],
   "source": [
    "from bluesky.plans import count, scan\n",
    "from bluesky.examples import det1, det2, motor  # simulated detectors, motor\n",
    "from amostra.client.local_commands import (LocalSampleReference, \n",
    "                                           LocalContainerReference,\n",
    "                                           LocalRequestReference)"
   ]
  },
  {
   "cell_type": "code",
   "execution_count": 76,
   "metadata": {
    "collapsed": true
   },
   "outputs": [],
   "source": [
    "sample_client = LocalSampleReference('~/.amostra_files')\n",
    "def plan():\n",
    "    yield from count([det1])\n",
    "    yield from scan([det1], motor, 1, 5, 5)\n",
    "    yield from count([det1])\n",
    "\n",
    "def plan1_with_amostra(sample_name):\n",
    "    # Create a sample with given sample name and use it for the scan\n",
    "    sample_client.create(name=sample_name)\n",
    "    yield from count([det1])\n",
    "    yield from scan([det1], motor, 1, 5, 5)\n",
    "    yield from count([det1])\n",
    "\n",
    "def plan2_with_amostra(sample_name):\n",
    "    # Try finding a sample with given sample name and use it for the scan\n",
    "    samp = list(sample_client.find(name=sample_name))\n",
    "    print(samp)\n",
    "    yield from plan1_with_amostra(samp[0])"
   ]
  },
  {
   "cell_type": "code",
   "execution_count": 77,
   "metadata": {
    "collapsed": false
   },
   "outputs": [
    {
     "data": {
      "text/plain": [
       "['3e072ed7-af24-46db-a414-61e0082e54aa',\n",
       " 'e2c18a65-23e1-42f9-ba44-5d0bcfaf7281',\n",
       " '8b0580b4-99a7-4f9e-8351-216f6e41508b']"
      ]
     },
     "execution_count": 77,
     "metadata": {},
     "output_type": "execute_result"
    }
   ],
   "source": [
    "RE(plan(), sample_id='A', purpose='calibration', operator='arkilic', sample_name='mock_sample')"
   ]
  },
  {
   "cell_type": "code",
   "execution_count": 78,
   "metadata": {
    "collapsed": false
   },
   "outputs": [
    {
     "data": {
      "text/plain": [
       "['d0122c8c-17c1-45f0-ac9e-b320addad958',\n",
       " '66f3eda1-7d14-4575-b3a7-84b21cc2d3dc',\n",
       " '123b5855-81a4-40cf-9a59-68e9dadc2a22']"
      ]
     },
     "execution_count": 78,
     "metadata": {},
     "output_type": "execute_result"
    }
   ],
   "source": [
    "RE(plan1_with_amostra('mock_sample'), sample_name='mock_sample', sample_type='calibration')"
   ]
  },
  {
   "cell_type": "code",
   "execution_count": 79,
   "metadata": {
    "collapsed": false
   },
   "outputs": [
    {
     "name": "stdout",
     "output_type": "stream",
     "text": [
      "[{'container': 'NULL', 'name': 'mock_sample', 'time': 1474999441.7688859, 'uid': 'deca3ac2-ecaf-4ae1-809a-52dabefce108'}, {'container': 'NULL', 'name': 'mock_sample', 'time': 1474999463.5037613, 'uid': '3e8c20b4-399c-4780-ac7a-4dd94f54989a'}, {'container': 'NULL', 'name': 'mock_sample', 'time': 1474999833.8420568, 'uid': '5f0adea2-d194-4e95-98d8-150668040a07'}, {'container': 'NULL', 'name': 'mock_sample', 'time': 1474999854.9671845, 'uid': '9b48f306-9d7f-4a88-8ea6-893c70677b01'}, {'container': 'NULL', 'name': 'mock_sample', 'time': 1474999864.0363343, 'uid': 'e13fc3ad-ebcb-4382-83b2-34f4a13b677e'}, {'container': 'NULL', 'name': 'mock_sample', 'time': 1474999886.4999537, 'uid': '69b78f06-b70a-461b-bfd6-8b235ef99e6f'}]\n"
     ]
    },
    {
     "data": {
      "text/plain": [
       "['ddf35fba-896e-439a-8075-7974e2f23280',\n",
       " 'f30c6357-6acb-41ef-bd25-1d6e005e1911',\n",
       " '482ea68e-876b-4125-a90d-d529c4643145']"
      ]
     },
     "execution_count": 79,
     "metadata": {},
     "output_type": "execute_result"
    }
   ],
   "source": [
    "RE(plan2_with_amostra('mock_sample'), sample_name='mock_sample', sample_type='calibration')"
   ]
  },
  {
   "cell_type": "code",
   "execution_count": null,
   "metadata": {
    "collapsed": true
   },
   "outputs": [],
   "source": []
  }
 ],
 "metadata": {
  "kernelspec": {
   "display_name": "Python 3",
   "language": "python",
   "name": "python3"
  },
  "language_info": {
   "codemirror_mode": {
    "name": "ipython",
    "version": 3
   },
   "file_extension": ".py",
   "mimetype": "text/x-python",
   "name": "python",
   "nbconvert_exporter": "python",
   "pygments_lexer": "ipython3",
   "version": "3.5.2"
  }
 },
 "nbformat": 4,
 "nbformat_minor": 0
}
