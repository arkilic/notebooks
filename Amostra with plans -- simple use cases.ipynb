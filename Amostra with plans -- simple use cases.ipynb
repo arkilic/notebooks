{
 "cells": [
  {
   "cell_type": "code",
   "execution_count": 1,
   "metadata": {
    "collapsed": false
   },
   "outputs": [],
   "source": [
    "from bluesky.plans import count, scan\n",
    "from bluesky import RunEngine\n",
    "from bluesky.examples import det1, det2, motor  # simulated detectors, motor\n",
    "from amostra.client.local_commands import (LocalSampleReference, \n",
    "                                           LocalContainerReference,\n",
    "                                           LocalRequestReference)"
   ]
  },
  {
   "cell_type": "code",
   "execution_count": 2,
   "metadata": {
    "collapsed": true
   },
   "outputs": [],
   "source": [
    "sample_client = LocalSampleReference('~/.amostra_files')\n",
    "RE = RunEngine({})\n",
    "\n",
    "def plan():\n",
    "    yield from count([det1])\n",
    "    yield from scan([det1], motor, 1, 5, 5)\n",
    "    yield from count([det1])\n",
    "\n",
    "def plan1_with_amostra(sample_name):\n",
    "    # Create a sample with given sample name and use it for the scan\n",
    "    sample_client.create(name=sample_name)\n",
    "    yield from count([det1])\n",
    "    yield from scan([det1], motor, 1, 5, 5)\n",
    "    yield from count([det1])\n",
    "\n",
    "def plan2_with_amostra(sample_name):\n",
    "    # Try finding a sample with given sample name and use it for the scan\n",
    "    samp = list(sample_client.find(name=sample_name))\n",
    "    print(samp)\n",
    "    yield from plan1_with_amostra(samp[0])"
   ]
  },
  {
   "cell_type": "code",
   "execution_count": 4,
   "metadata": {
    "collapsed": false
   },
   "outputs": [
    {
     "data": {
      "text/plain": [
       "['0932c268-92b5-43fd-b7f7-ee5b664db637',\n",
       " '59b95f4e-a7fa-44f6-9b49-3c661f01d71c',\n",
       " '99a7276c-81ef-4559-9c38-8ccff2ee7884']"
      ]
     },
     "execution_count": 4,
     "metadata": {},
     "output_type": "execute_result"
    }
   ],
   "source": [
    "RE(plan(), sample_id='A', purpose='calibration', operator='arkilic', sample_name='mock_sample')"
   ]
  },
  {
   "cell_type": "code",
   "execution_count": 5,
   "metadata": {
    "collapsed": false
   },
   "outputs": [
    {
     "data": {
      "text/plain": [
       "['fbe00991-556a-4f98-96e8-6dfd24329c28',\n",
       " '6ab0abac-4a33-4fc1-84b3-ecaea33a9ee0',\n",
       " '475a7ca5-0b54-47e7-9ee4-16d3b24b1c6e']"
      ]
     },
     "execution_count": 5,
     "metadata": {},
     "output_type": "execute_result"
    }
   ],
   "source": [
    "RE(plan1_with_amostra('mock_sample'), sample_name='mock_sample', sample_type='calibration')"
   ]
  },
  {
   "cell_type": "code",
   "execution_count": 6,
   "metadata": {
    "collapsed": false
   },
   "outputs": [
    {
     "name": "stdout",
     "output_type": "stream",
     "text": [
      "[{'time': 1475601793.461745, 'container': 'NULL', 'uid': '35cfff7b-c186-4b2c-bf21-c65a3ea1ef6c', 'name': 'mock_sample'}, {'time': 1475606117.410968, 'container': 'NULL', 'uid': 'a8a0dca2-ba07-4d5d-a01b-d96d6e21da61', 'name': 'mock_sample'}]\n"
     ]
    },
    {
     "data": {
      "text/plain": [
       "['43f1592a-e18f-4523-b3ca-c62b20e6881c',\n",
       " 'f31c7896-67f6-4818-b94b-e081e74bbaeb',\n",
       " '40494704-7415-4fcc-a32b-49a760f37da2']"
      ]
     },
     "execution_count": 6,
     "metadata": {},
     "output_type": "execute_result"
    }
   ],
   "source": [
    "RE(plan2_with_amostra('mock_sample'), sample_name='mock_sample', sample_type='calibration')"
   ]
  },
  {
   "cell_type": "code",
   "execution_count": null,
   "metadata": {
    "collapsed": true
   },
   "outputs": [],
   "source": []
  }
 ],
 "metadata": {
  "kernelspec": {
   "display_name": "Python 3",
   "language": "python",
   "name": "python3"
  },
  "language_info": {
   "codemirror_mode": {
    "name": "ipython",
    "version": 3
   },
   "file_extension": ".py",
   "mimetype": "text/x-python",
   "name": "python",
   "nbconvert_exporter": "python",
   "pygments_lexer": "ipython3",
   "version": "3.5.2"
  }
 },
 "nbformat": 4,
 "nbformat_minor": 0
}
