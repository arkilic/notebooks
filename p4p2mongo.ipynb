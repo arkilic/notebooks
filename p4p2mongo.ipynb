{
 "cells": [
  {
   "cell_type": "code",
   "execution_count": 21,
   "metadata": {},
   "outputs": [],
   "source": [
    "import time\n",
    "import uuid\n",
    "\n",
    "from pymongo import MongoClient\n",
    "\n",
    "\n",
    "from indexer.schema import doctypes, dtypes\n",
    "from p4p import Type, Value\n",
    "from p4p.nt import NTMultiChannel, NTTable\n",
    "\n",
    "# TODO: Add alarm status and severity on failed requests\n",
    "# TODO: Add index create\n",
    "\n",
    "class DixrRO:\n",
    "    def __init__(self, config):\n",
    "        self.config = config\n",
    "        self.keys = None\n",
    "\n",
    "    @property\n",
    "    def config(self):\n",
    "        return self._config\n",
    "\n",
    "    @config.setter\n",
    "    def config(self, config):\n",
    "        for key in ['mongohost', 'mongoport', 'database']:\n",
    "            if key not in config:\n",
    "                raise KeyError('Required fields missing')\n",
    "        self._config = config\n",
    "\n",
    "    @property\n",
    "    def conn(self):\n",
    "        return MongoClient(host=self.config['mongohost'],\n",
    "                           port=self.config['mongoport'])\n",
    "\n",
    "    @property\n",
    "    def db(self):\n",
    "        return self.conn[self.config['database']]\n",
    "\n",
    "    def query(self, doctype, **kwargs):\n",
    "        cursor = self.db[doctype].find(kwargs)\n",
    "        result = list(cursor)\n",
    "        normed = self._normalize_results(doctype=doctype,\n",
    "                                         results=result)\n",
    "        return self._bson2mtch(doctype=doctype,\n",
    "                               docs=normed)\n",
    "\n",
    "    def _pv2bson(self, doc, doctype):\n",
    "        \"\"\"Convert from pvdata Value to python dict \"\"\"\n",
    "        lookup = {'i': int, 'd': float, 's': str, 'ai': int, 'ad': float, 'as': str}\n",
    "        bson = {}\n",
    "        for entry in dtypes[doctype]:\n",
    "            bson[entry[0]] = lookup[entry[1]](doc.get(entry[0]))\n",
    "        return bson\n",
    "\n",
    "    def _bson2pv(self, doctype, doc):\n",
    "        \"\"\"Given a dictionary, return a pvdata structure\"\"\"\n",
    "        T = Type(dtypes[doctype])\n",
    "        return Value(T, doc)\n",
    "\n",
    "    def _bson2mtch(self, doctype, docs):\n",
    "        self.keys = [i[0] for i in dtypes[doctype]]\n",
    "        table_template = NTTable.buildType(columns=dtypes[doctype])\n",
    "        print('here are the keys', self.keys)\n",
    "        table =  Value(table_template,{'value': docs})\n",
    "        return table\n",
    "\n",
    "    def _normalize_results(self, doctype, results):\n",
    "        self.keys = [i[0] for i in dtypes[doctype]]\n",
    "        tmp_dict = {}\n",
    "        for k in self.keys:\n",
    "            tmp_dict[k] = []\n",
    "        for result in results:\n",
    "                for k in self.keys:\n",
    "                    tmp_dict[k].append(result[k])\n",
    "        return tmp_dict\n",
    "\n",
    "\n",
    "class Dixr(DixrRO):\n",
    "   def insert(self, doctype, contents):\n",
    "       self.db[doctype].insert_one(contents)\n",
    "       return self._bson2mtch(doctype=doctype,\n",
    "                              docs=contents)\n",
    "\n",
    "   def bulk_insert(self, doctype, contents):\n",
    "       pass"
   ]
  },
  {
   "cell_type": "code",
   "execution_count": 22,
   "metadata": {},
   "outputs": [],
   "source": [
    "config = dict(mongohost='localhost', mongoport=27017, database='dixrtest')\n",
    "\n",
    "rw = Dixr(config=config)"
   ]
  },
  {
   "cell_type": "code",
   "execution_count": 23,
   "metadata": {},
   "outputs": [
    {
     "data": {
      "text/plain": [
       "[('uid', 'as'),\n",
       " ('time', 'ad'),\n",
       " ('machine', 'as'),\n",
       " ('tbd', 'ad'),\n",
       " ('owner', 'as')]"
      ]
     },
     "execution_count": 23,
     "metadata": {},
     "output_type": "execute_result"
    }
   ],
   "source": [
    "dtypes['header']"
   ]
  },
  {
   "cell_type": "code",
   "execution_count": 24,
   "metadata": {},
   "outputs": [
    {
     "name": "stdout",
     "output_type": "stream",
     "text": [
      "here are the keys ['uid', 'time', 'machine', 'tbd', 'owner']\n"
     ]
    },
    {
     "ename": "RuntimeError",
     "evalue": "Only 1-d array can be assigned",
     "output_type": "error",
     "traceback": [
      "\u001b[0;31m---------------------------------------------------------------------------\u001b[0m",
      "\u001b[0;31mRuntimeError\u001b[0m                              Traceback (most recent call last)",
      "\u001b[0;32m<ipython-input-24-45dabd9d6714>\u001b[0m in \u001b[0;36m<module>\u001b[0;34m()\u001b[0m\n\u001b[1;32m      5\u001b[0m      'owner': 'arman'}\n\u001b[1;32m      6\u001b[0m \u001b[0;34m\u001b[0m\u001b[0m\n\u001b[0;32m----> 7\u001b[0;31m \u001b[0mrw\u001b[0m\u001b[0;34m.\u001b[0m\u001b[0minsert\u001b[0m\u001b[0;34m(\u001b[0m\u001b[0mdoctype\u001b[0m\u001b[0;34m=\u001b[0m\u001b[0;34m'header'\u001b[0m\u001b[0;34m,\u001b[0m \u001b[0mcontents\u001b[0m\u001b[0;34m=\u001b[0m\u001b[0mv\u001b[0m\u001b[0;34m)\u001b[0m\u001b[0;34m\u001b[0m\u001b[0m\n\u001b[0m",
      "\u001b[0;32m<ipython-input-21-43a7c1453526>\u001b[0m in \u001b[0;36minsert\u001b[0;34m(self, doctype, contents)\u001b[0m\n\u001b[1;32m     80\u001b[0m        \u001b[0mself\u001b[0m\u001b[0;34m.\u001b[0m\u001b[0mdb\u001b[0m\u001b[0;34m[\u001b[0m\u001b[0mdoctype\u001b[0m\u001b[0;34m]\u001b[0m\u001b[0;34m.\u001b[0m\u001b[0minsert_one\u001b[0m\u001b[0;34m(\u001b[0m\u001b[0mcontents\u001b[0m\u001b[0;34m)\u001b[0m\u001b[0;34m\u001b[0m\u001b[0m\n\u001b[1;32m     81\u001b[0m        return self._bson2mtch(doctype=doctype,\n\u001b[0;32m---> 82\u001b[0;31m                               docs=contents)\n\u001b[0m\u001b[1;32m     83\u001b[0m \u001b[0;34m\u001b[0m\u001b[0m\n\u001b[1;32m     84\u001b[0m    \u001b[0;32mdef\u001b[0m \u001b[0mbulk_insert\u001b[0m\u001b[0;34m(\u001b[0m\u001b[0mself\u001b[0m\u001b[0;34m,\u001b[0m \u001b[0mdoctype\u001b[0m\u001b[0;34m,\u001b[0m \u001b[0mcontents\u001b[0m\u001b[0;34m)\u001b[0m\u001b[0;34m:\u001b[0m\u001b[0;34m\u001b[0m\u001b[0m\n",
      "\u001b[0;32m<ipython-input-21-43a7c1453526>\u001b[0m in \u001b[0;36m_bson2mtch\u001b[0;34m(self, doctype, docs)\u001b[0m\n\u001b[1;32m     62\u001b[0m         \u001b[0mtable_template\u001b[0m \u001b[0;34m=\u001b[0m \u001b[0mNTTable\u001b[0m\u001b[0;34m.\u001b[0m\u001b[0mbuildType\u001b[0m\u001b[0;34m(\u001b[0m\u001b[0mcolumns\u001b[0m\u001b[0;34m=\u001b[0m\u001b[0mdtypes\u001b[0m\u001b[0;34m[\u001b[0m\u001b[0mdoctype\u001b[0m\u001b[0;34m]\u001b[0m\u001b[0;34m)\u001b[0m\u001b[0;34m\u001b[0m\u001b[0m\n\u001b[1;32m     63\u001b[0m         \u001b[0mprint\u001b[0m\u001b[0;34m(\u001b[0m\u001b[0;34m'here are the keys'\u001b[0m\u001b[0;34m,\u001b[0m \u001b[0mself\u001b[0m\u001b[0;34m.\u001b[0m\u001b[0mkeys\u001b[0m\u001b[0;34m)\u001b[0m\u001b[0;34m\u001b[0m\u001b[0m\n\u001b[0;32m---> 64\u001b[0;31m         \u001b[0mtable\u001b[0m \u001b[0;34m=\u001b[0m  \u001b[0mValue\u001b[0m\u001b[0;34m(\u001b[0m\u001b[0mtable_template\u001b[0m\u001b[0;34m,\u001b[0m\u001b[0;34m{\u001b[0m\u001b[0;34m'value'\u001b[0m\u001b[0;34m:\u001b[0m \u001b[0mdocs\u001b[0m\u001b[0;34m}\u001b[0m\u001b[0;34m)\u001b[0m\u001b[0;34m\u001b[0m\u001b[0m\n\u001b[0m\u001b[1;32m     65\u001b[0m         \u001b[0;32mreturn\u001b[0m \u001b[0mtable\u001b[0m\u001b[0;34m\u001b[0m\u001b[0m\n\u001b[1;32m     66\u001b[0m \u001b[0;34m\u001b[0m\u001b[0m\n",
      "\u001b[0;31mRuntimeError\u001b[0m: Only 1-d array can be assigned"
     ]
    }
   ],
   "source": [
    "v = {'uid': str(uuid.uuid4()), \n",
    "     'time': time.time(), \n",
    "     'machine':'test_ess', \n",
    "     'tbd': 0,\n",
    "     'owner': 'arman'}\n",
    "\n",
    "rw.insert(doctype='header', contents=v)"
   ]
  },
  {
   "cell_type": "code",
   "execution_count": 18,
   "metadata": {
    "collapsed": true,
    "scrolled": true
   },
   "outputs": [],
   "source": [
    "x = r.query(doctype='header')"
   ]
  },
  {
   "cell_type": "code",
   "execution_count": 19,
   "metadata": {},
   "outputs": [
    {
     "name": "stdout",
     "output_type": "stream",
     "text": [
      "epics:nt/NTTable:1.0 \n",
      "    string[] labels []\n",
      "    structure value\n",
      "        string[] uid [951e6465-80ec-4ba1-9111-d55e9d14ae75,486f3ae5-d075-4085-9b0b-8ff1a7375d37,5bb4719a-0f52-4b7e-97a3-b946774ffaf2]\n",
      "        double[] time [1.501e+09,1.501e+09,1.501e+09]\n",
      "        string[] machine [test_ess,test_ess,test_ess]\n",
      "        double[] tbd [0,0,0]\n",
      "        string[] owner [arman,arman,arman]\n",
      "    string descriptor header\n",
      "    alarm_t alarm\n",
      "        int severity 0\n",
      "        int status 0\n",
      "        string message \n",
      "    time_t timeStamp\n",
      "        long secondsPastEpoch 1501000264\n",
      "        int nanoseconds 0\n",
      "        int userTag 0\n",
      "\n"
     ]
    }
   ],
   "source": [
    "print(x)"
   ]
  },
  {
   "cell_type": "markdown",
   "metadata": {},
   "source": [
    "Mongo Screenshot of header to mongo document\n",
    "> show dbs\n",
    "admin  0.000GB\n",
    "dixt2  0.000GB\n",
    "local  0.000GB\n",
    "> use dixt2\n",
    "switched to db dixt2\n",
    "> db.header.find()\n",
    "{ \"_id\" : ObjectId(\"5970c6ba304e2a561d0aa10e\"), \"uid\" : \"6dc4aa55-a673-447e-b832-9b1484a66fb8\", \"time\" : 1500563130.9218612, \"machine\" : \"test_ess\", \"tbd\" : 0 }\n",
    "{ \"_id\" : ObjectId(\"5970c6cd304e2a561d0aa113\"), \"uid\" : \"a23d5bda-0c69-4210-89f4-30307d09de42\", \"time\" : 1500563149.630261, \"machine\" : \"test_ess\", \"tbd\" : 0 }\n",
    ">"
   ]
  },
  {
   "cell_type": "code",
   "execution_count": 6,
   "metadata": {},
   "outputs": [
    {
     "data": {
      "text/plain": [
       "[('labels', []),\n",
       " ('value',\n",
       "  [('uid',\n",
       "    ['ddbdc90e-6d75-47e4-a71c-abb8bb30f000',\n",
       "     'b230d17e-8c1c-41b9-aeba-9ccbb98a2b1c',\n",
       "     'a2b002d4-6a30-446e-89fb-e007c21105fe',\n",
       "     '06e504cf-943c-45f3-94cc-140d876681da',\n",
       "     '1d8b39f0-525d-4429-acdd-9c500f1e529f',\n",
       "     '2435d184-65f8-42fa-96c6-0af5942d4d61',\n",
       "     '70cc1ce2-1ddc-4aa2-83ca-f526a9f64678',\n",
       "     'f622b220-2e5d-477b-aacb-bd7805d67f05',\n",
       "     'f3c483e0-4a96-47e0-b5e8-8b0added4e50',\n",
       "     'bd7d4e0c-99a3-4608-abd4-8ece822520c7',\n",
       "     'e2e41264-7343-435f-b554-a761b0022755',\n",
       "     '309e7c62-b1bf-496e-8a66-a2aa5935d3d5',\n",
       "     'dc381bdc-1264-4d2e-9464-d0d456e512d7',\n",
       "     'a1c3960c-01ec-43a0-a712-975ca2a6dcb1',\n",
       "     'b711abfb-aaa0-4669-87d2-b3892dc16a84',\n",
       "     'ea46d462-9225-4963-bd67-4b6c05e97772',\n",
       "     '1ba0c1c2-c728-400f-8609-c2dffeb3fc2b',\n",
       "     'b98516a4-0ffe-4d49-b83d-9f4967d3373d',\n",
       "     'a2bb1d4b-0054-4d78-a325-f5b08547b213']),\n",
       "   ('time', array([  1.50058556e+09,   1.50058709e+09,   1.50058712e+09,\n",
       "             1.50058718e+09,   1.50058722e+09,   1.50058723e+09,\n",
       "             1.50058727e+09,   1.50058730e+09,   1.50058746e+09,\n",
       "             1.50058823e+09,   1.50064273e+09,   1.50064278e+09,\n",
       "             1.50064283e+09,   1.50064293e+09,   1.50064296e+09,\n",
       "             1.50064356e+09,   1.50064396e+09,   1.50064470e+09,\n",
       "             1.50064485e+09])),\n",
       "   ('machine',\n",
       "    ['test_ess',\n",
       "     'test_ess',\n",
       "     'test_ess',\n",
       "     'test_ess',\n",
       "     'test_ess',\n",
       "     'test_ess',\n",
       "     'test_ess',\n",
       "     'test_ess',\n",
       "     'test_ess',\n",
       "     'test_ess',\n",
       "     'test_ess',\n",
       "     'test_ess',\n",
       "     'test_ess',\n",
       "     'test_ess',\n",
       "     'test_ess',\n",
       "     'test_ess',\n",
       "     'test_ess',\n",
       "     'test_ess',\n",
       "     'test_ess']),\n",
       "   ('tbd',\n",
       "    array([ 0.,  0.,  0.,  0.,  0.,  0.,  0.,  0.,  0.,  0.,  0.,  0.,  0.,\n",
       "            0.,  0.,  0.,  0.,  0.,  0.]))]),\n",
       " ('descriptor', 'header'),\n",
       " ('alarm', [('severity', 0), ('status', 0), ('message', '')]),\n",
       " ('timeStamp',\n",
       "  [('secondsPastEpoch', 1500644845), ('nanoseconds', 0), ('userTag', 0)])]"
      ]
     },
     "execution_count": 6,
     "metadata": {},
     "output_type": "execute_result"
    }
   ],
   "source": [
    "x.tolist()"
   ]
  },
  {
   "cell_type": "code",
   "execution_count": 7,
   "metadata": {},
   "outputs": [
    {
     "data": {
      "text/plain": [
       "[('labels', []),\n",
       " ('value',\n",
       "  Value(id:structure, value.uid:['ddbdc90e-6d75-47e4-a71c-abb8bb30f000', 'b230d17e-8c1c-41b9-aeba-9ccbb98a2b1c', 'a2b002d4-6a30-446e-89fb-e007c21105fe', '06e504cf-943c-45f3-94cc-140d876681da', '1d8b39f0-525d-4429-acdd-9c500f1e529f', '2435d184-65f8-42fa-96c6-0af5942d4d61', '70cc1ce2-1ddc-4aa2-83ca-f526a9f64678', 'f622b220-2e5d-477b-aacb-bd7805d67f05', 'f3c483e0-4a96-47e0-b5e8-8b0added4e50', 'bd7d4e0c-99a3-4608-abd4-8ece822520c7', 'e2e41264-7343-435f-b554-a761b0022755', '309e7c62-b1bf-496e-8a66-a2aa5935d3d5', 'dc381bdc-1264-4d2e-9464-d0d456e512d7', 'a1c3960c-01ec-43a0-a712-975ca2a6dcb1', 'b711abfb-aaa0-4669-87d2-b3892dc16a84', 'ea46d462-9225-4963-bd67-4b6c05e97772', '1ba0c1c2-c728-400f-8609-c2dffeb3fc2b', 'b98516a4-0ffe-4d49-b83d-9f4967d3373d', 'a2bb1d4b-0054-4d78-a325-f5b08547b213'])),\n",
       " ('descriptor', 'header'),\n",
       " ('alarm', Value(id:alarm_t, alarm.severity:0)),\n",
       " ('timeStamp', Value(id:time_t, timeStamp.secondsPastEpoch:1500644845))]"
      ]
     },
     "execution_count": 7,
     "metadata": {},
     "output_type": "execute_result"
    }
   ],
   "source": [
    "x.items()"
   ]
  },
  {
   "cell_type": "code",
   "execution_count": 8,
   "metadata": {},
   "outputs": [
    {
     "data": {
      "text/plain": [
       "['ddbdc90e-6d75-47e4-a71c-abb8bb30f000',\n",
       " 'b230d17e-8c1c-41b9-aeba-9ccbb98a2b1c',\n",
       " 'a2b002d4-6a30-446e-89fb-e007c21105fe',\n",
       " '06e504cf-943c-45f3-94cc-140d876681da',\n",
       " '1d8b39f0-525d-4429-acdd-9c500f1e529f',\n",
       " '2435d184-65f8-42fa-96c6-0af5942d4d61',\n",
       " '70cc1ce2-1ddc-4aa2-83ca-f526a9f64678',\n",
       " 'f622b220-2e5d-477b-aacb-bd7805d67f05',\n",
       " 'f3c483e0-4a96-47e0-b5e8-8b0added4e50',\n",
       " 'bd7d4e0c-99a3-4608-abd4-8ece822520c7',\n",
       " 'e2e41264-7343-435f-b554-a761b0022755',\n",
       " '309e7c62-b1bf-496e-8a66-a2aa5935d3d5',\n",
       " 'dc381bdc-1264-4d2e-9464-d0d456e512d7',\n",
       " 'a1c3960c-01ec-43a0-a712-975ca2a6dcb1',\n",
       " 'b711abfb-aaa0-4669-87d2-b3892dc16a84',\n",
       " 'ea46d462-9225-4963-bd67-4b6c05e97772',\n",
       " '1ba0c1c2-c728-400f-8609-c2dffeb3fc2b',\n",
       " 'b98516a4-0ffe-4d49-b83d-9f4967d3373d',\n",
       " 'a2bb1d4b-0054-4d78-a325-f5b08547b213']"
      ]
     },
     "execution_count": 8,
     "metadata": {},
     "output_type": "execute_result"
    }
   ],
   "source": [
    "x.value.uid"
   ]
  },
  {
   "cell_type": "code",
   "execution_count": 9,
   "metadata": {},
   "outputs": [
    {
     "data": {
      "text/plain": [
       "['test_ess',\n",
       " 'test_ess',\n",
       " 'test_ess',\n",
       " 'test_ess',\n",
       " 'test_ess',\n",
       " 'test_ess',\n",
       " 'test_ess',\n",
       " 'test_ess',\n",
       " 'test_ess',\n",
       " 'test_ess',\n",
       " 'test_ess',\n",
       " 'test_ess',\n",
       " 'test_ess',\n",
       " 'test_ess',\n",
       " 'test_ess',\n",
       " 'test_ess',\n",
       " 'test_ess',\n",
       " 'test_ess',\n",
       " 'test_ess']"
      ]
     },
     "execution_count": 9,
     "metadata": {},
     "output_type": "execute_result"
    }
   ],
   "source": [
    "x.value.machine"
   ]
  },
  {
   "cell_type": "code",
   "execution_count": null,
   "metadata": {
    "collapsed": true
   },
   "outputs": [],
   "source": []
  },
  {
   "cell_type": "code",
   "execution_count": null,
   "metadata": {
    "collapsed": true
   },
   "outputs": [],
   "source": []
  }
 ],
 "metadata": {
  "kernelspec": {
   "display_name": "Python 3",
   "language": "python",
   "name": "python3"
  },
  "language_info": {
   "codemirror_mode": {
    "name": "ipython",
    "version": 3
   },
   "file_extension": ".py",
   "mimetype": "text/x-python",
   "name": "python",
   "nbconvert_exporter": "python",
   "pygments_lexer": "ipython3",
   "version": "3.6.1"
  }
 },
 "nbformat": 4,
 "nbformat_minor": 2
}
