{
 "cells": [
  {
   "cell_type": "markdown",
   "metadata": {},
   "source": [
    "**Question 3**"
   ]
  },
  {
   "cell_type": "markdown",
   "metadata": {},
   "source": [
    "The one-step transition probability matrix P of a Markov chain with state space {0, 1} is given by:\n",
    "\n",
    "P = [[1/4, 3/4], [1/2, 1/2]]\n",
    "\n",
    "Assume that $P[X_0 = 0]$ = 1/3. Calculate $E[X_2]$"
   ]
  },
  {
   "cell_type": "markdown",
   "metadata": {},
   "source": [
    "This is fairly straight forward. In the earlier questions, I have shown the evolution of transition matrix over many iterations as means to calculate probabilities of state after n-steps. Here I simply use that information. "
   ]
  },
  {
   "cell_type": "code",
   "execution_count": 1,
   "metadata": {
    "collapsed": true
   },
   "outputs": [],
   "source": [
    "from __future__ import (absolute_import, division)\n",
    "import numpy as np\n",
    "from numpy.linalg import matrix_power"
   ]
  },
  {
   "cell_type": "code",
   "execution_count": 2,
   "metadata": {
    "collapsed": false
   },
   "outputs": [
    {
     "name": "stdout",
     "output_type": "stream",
     "text": [
      "[[ 0.4375  0.5625]\n",
      " [ 0.375   0.625 ]]\n"
     ]
    }
   ],
   "source": [
    "p = np.array([[1/4, 3/4], [1/2, 1/2]])\n",
    "p_sqr = matrix_power(p, 2)\n",
    "print(p_sqr)"
   ]
  },
  {
   "cell_type": "markdown",
   "metadata": {},
   "source": [
    "I also performed the task above by hand and obtained the same result. Now that I have the probabilities for the next point in discrete time,I can easily calculate the expectation values:\n",
    "\n",
    "$E[X_2] = P[X_2=0] . 0 + P[X_2=1] . 1$\n",
    "\n",
    "$ E[X_2] = P[X_0=0] . 0.5625 + P[X_0=1] . 0.625$\n",
    "$ = 0.6042 $\n"
   ]
  },
  {
   "cell_type": "code",
   "execution_count": null,
   "metadata": {
    "collapsed": true
   },
   "outputs": [],
   "source": []
  }
 ],
 "metadata": {
  "kernelspec": {
   "display_name": "Python 3",
   "language": "python",
   "name": "python3"
  },
  "language_info": {
   "codemirror_mode": {
    "name": "ipython",
    "version": 3
   },
   "file_extension": ".py",
   "mimetype": "text/x-python",
   "name": "python",
   "nbconvert_exporter": "python",
   "pygments_lexer": "ipython3",
   "version": "3.5.1"
  }
 },
 "nbformat": 4,
 "nbformat_minor": 0
}
