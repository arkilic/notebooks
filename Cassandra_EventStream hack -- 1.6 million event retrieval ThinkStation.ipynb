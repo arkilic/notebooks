{
 "cells": [
  {
   "cell_type": "code",
   "execution_count": 1,
   "metadata": {
    "collapsed": true
   },
   "outputs": [],
   "source": [
    "from cassandra.cluster import Cluster, BatchStatement\n",
    "import cassandra.cluster as cc\n",
    "import cassandra\n",
    "import uuid\n",
    "import time as ttime"
   ]
  },
  {
   "cell_type": "code",
   "execution_count": 2,
   "metadata": {
    "collapsed": false
   },
   "outputs": [],
   "source": [
    "cluster = Cluster(['127.0.0.1'])\n",
    "\n",
    "session = cluster.connect()"
   ]
  },
  {
   "cell_type": "code",
   "execution_count": 3,
   "metadata": {
    "collapsed": false,
    "scrolled": false
   },
   "outputs": [
    {
     "name": "stdout",
     "output_type": "stream",
     "text": [
      "KeySpace exits\n"
     ]
    }
   ],
   "source": [
    "try:\n",
    "    session.execute(\"\"\"\n",
    "        CREATE KEYSPACE simplex WITH replication\n",
    "            = {'class':'SimpleStrategy', 'replication_factor':1};\n",
    "    \"\"\")\n",
    "except cassandra.AlreadyExists:\n",
    "    print('KeySpace exits')"
   ]
  },
  {
   "cell_type": "code",
   "execution_count": 4,
   "metadata": {
    "collapsed": false,
    "scrolled": false
   },
   "outputs": [],
   "source": [
    "try:\n",
    "    session.execute('USE simplex')\n",
    "except cassandra.InvalidRequest:\n",
    "    print('Cannot use the KEYSPACE')"
   ]
  },
  {
   "cell_type": "code",
   "execution_count": 5,
   "metadata": {
    "collapsed": false
   },
   "outputs": [
    {
     "name": "stdout",
     "output_type": "stream",
     "text": [
      "Table already created\n"
     ]
    }
   ],
   "source": [
    "try:\n",
    "    session.execute(\"\"\"\n",
    "        CREATE TABLE simplex.events (\n",
    "            id uuid PRIMARY KEY,\n",
    "            data_key text,\n",
    "            data float,\n",
    "            timestamp float,\n",
    "            event_id uuid\n",
    "        );\n",
    "        \"\"\")\n",
    "except cassandra.AlreadyExists:\n",
    "    print(\"Table already created\")"
   ]
  },
  {
   "cell_type": "code",
   "execution_count": 6,
   "metadata": {
    "collapsed": false
   },
   "outputs": [],
   "source": [
    "start = ttime.time()\n",
    "for i in range(int(1e2)):\n",
    "    session.execute(\n",
    "        \"\"\"\n",
    "        INSERT INTO events (id, data_key, data, timestamp)\n",
    "        VALUES (%(id)s, %(data_key)s, %(data)s, %(timestamp)s)\n",
    "        \"\"\",\n",
    "        {'id': uuid.uuid4(), 'data_key': \"pvalias\"+str(i), 'data': (18.134315+i),'timestamp': 12143151351.642}\n",
    "    )\n",
    "end = ttime.time()"
   ]
  },
  {
   "cell_type": "code",
   "execution_count": 7,
   "metadata": {
    "collapsed": true
   },
   "outputs": [],
   "source": [
    "rows = session.execute('SELECT * FROM events')\n"
   ]
  },
  {
   "cell_type": "code",
   "execution_count": 9,
   "metadata": {
    "collapsed": false
   },
   "outputs": [
    {
     "name": "stdout",
     "output_type": "stream",
     "text": [
      "The slowest run took 6791472.93 times longer than the fastest. This could mean that an intermediate result is being cached \n",
      "1 loops, best of 3: 1.68 µs per loop\n"
     ]
    }
   ],
   "source": [
    "%timeit list(rows)"
   ]
  },
  {
   "cell_type": "code",
   "execution_count": 10,
   "metadata": {
    "collapsed": false
   },
   "outputs": [
    {
     "name": "stdout",
     "output_type": "stream",
     "text": [
      "1687952\n"
     ]
    }
   ],
   "source": [
    "print(len(list(session.execute('SELECT * FROM events'))))"
   ]
  },
  {
   "cell_type": "code",
   "execution_count": null,
   "metadata": {
    "collapsed": false
   },
   "outputs": [],
   "source": [
    "batch = BatchStatement()\n",
    "for i in range(int(1e6)):\n",
    "    batch.add(\n",
    "        \"\"\"\n",
    "        INSERT INTO events (id, data_key, data, timestamp)\n",
    "        VALUES (%(id)s, %(data_key)s, %(data)s, %(timestamp)s)\n",
    "        \"\"\",\n",
    "        {'id': uuid.uuid4(), 'data_key': \"pvalias\"+str(i), 'data': (18.134315+i),'timestamp': 12143151351.642}\n",
    "    )\n",
    "    if i % 500 == 0:\n",
    "        session.execute(batch)\n",
    "        batch = BatchStatement()"
   ]
  },
  {
   "cell_type": "code",
   "execution_count": null,
   "metadata": {
    "collapsed": false
   },
   "outputs": [],
   "source": [
    "print(len(list(session.execute('SELECT * FROM events'))))"
   ]
  },
  {
   "cell_type": "code",
   "execution_count": 11,
   "metadata": {
    "collapsed": false
   },
   "outputs": [
    {
     "name": "stdout",
     "output_type": "stream",
     "text": [
      "The slowest run took 8460016.59 times longer than the fastest. This could mean that an intermediate result is being cached \n",
      "1 loops, best of 3: 1.37 µs per loop\n"
     ]
    }
   ],
   "source": [
    "rws = session.execute('SELECT * FROM events')\n",
    "%timeit list(rws)\n"
   ]
  },
  {
   "cell_type": "code",
   "execution_count": 13,
   "metadata": {
    "collapsed": false
   },
   "outputs": [
    {
     "name": "stdout",
     "output_type": "stream",
     "text": [
      "1687952 events took  14.096062421798706  seconds\n"
     ]
    }
   ],
   "source": [
    "import time\n",
    "result = session.execute('SELECT * FROM events')\n",
    "start = time.time()\n",
    "parsed = list(result)\n",
    "end = time.time()\n",
    "print(len(parsed), 'events took ', end-start, ' seconds')\n"
   ]
  },
  {
   "cell_type": "code",
   "execution_count": null,
   "metadata": {
    "collapsed": true
   },
   "outputs": [],
   "source": []
  }
 ],
 "metadata": {
  "kernelspec": {
   "display_name": "Python 3",
   "language": "python",
   "name": "python3"
  },
  "language_info": {
   "codemirror_mode": {
    "name": "ipython",
    "version": 3
   },
   "file_extension": ".py",
   "mimetype": "text/x-python",
   "name": "python",
   "nbconvert_exporter": "python",
   "pygments_lexer": "ipython3",
   "version": "3.5.0"
  }
 },
 "nbformat": 4,
 "nbformat_minor": 0
}
