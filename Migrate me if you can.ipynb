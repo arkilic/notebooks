{
 "cells": [
  {
   "cell_type": "code",
   "execution_count": 1,
   "metadata": {
    "collapsed": false
   },
   "outputs": [],
   "source": [
    "from pymongo import MongoClient\n",
    "from collections import deque\n",
    "from metadataclient.api import (insert_run_start, insert_descriptor,\n",
    "                                insert_run_stop, insert_event, bulk_insert_events)\n",
    "from metadataclient.api import (find_run_starts, find_descriptors, find_events,\n",
    "                               find_run_stops, find_last)\n",
    "from metadataclient.conf import connection_config\n",
    "from urllib3.exceptions import ConnectionError\n"
   ]
  },
  {
   "cell_type": "code",
   "execution_count": 17,
   "metadata": {
    "collapsed": true
   },
   "outputs": [],
   "source": [
    "class MdsMigrationException(RuntimeError):\n",
    "    \"\"\"Goodbye cruel world!\"\"\"\n",
    "    pass\n",
    "\n",
    "# Before this script is run, make sure you create a database called metadataservice\n",
    "\n",
    "# TODO: Switch to deque from OrderedDict if too slow"
   ]
  },
  {
   "cell_type": "markdown",
   "metadata": {},
   "source": [
    "**_Ensure global connection management is functional by providing fake host information_**"
   ]
  },
  {
   "cell_type": "code",
   "execution_count": 3,
   "metadata": {
    "collapsed": false
   },
   "outputs": [],
   "source": [
    "try:\n",
    "    MONGO_HOST = 'kusadasi'\n",
    "    connection_config['host'] = MONGO_HOST \n",
    "    res = next(find_last())\n",
    "except Exception:\n",
    "    pass"
   ]
  },
  {
   "cell_type": "markdown",
   "metadata": {},
   "source": [
    "**Connection Management**"
   ]
  },
  {
   "cell_type": "code",
   "execution_count": 24,
   "metadata": {
    "collapsed": false
   },
   "outputs": [],
   "source": [
    "MONGO_HOST = 'localhost'\n",
    "MONGO_PORT = 27017\n",
    "MIGRATION_DB = 'datastore2'\n",
    "# assuming both mongo and tornado server on the same machine\n",
    "connection_config['host'] = MONGO_HOST \n",
    "connection_config['port'] = 7770\n",
    "connection_config['database'] = 'metadataservice'\n",
    "pymongo_client = MongoClient(MONGO_HOST, MONGO_PORT)\n",
    "database = pymongo_client[MIGRATION_DB]\n",
    "try:\n",
    "    res = (next(find_last()))\n",
    "except Exception:\n",
    "    raise MdsMigrationException('Seems like metadataservice is not accessible or empty')"
   ]
  },
  {
   "cell_type": "markdown",
   "metadata": {
    "collapsed": false
   },
   "source": [
    "**Get all run_starts**"
   ]
  },
  {
   "cell_type": "code",
   "execution_count": 25,
   "metadata": {
    "collapsed": false
   },
   "outputs": [
    {
     "name": "stdout",
     "output_type": "stream",
     "text": [
      "Database(MongoClient('localhost', 27017), 'datastore2')\n"
     ]
    }
   ],
   "source": [
    "print(database) # visual sanity check\n"
   ]
  },
  {
   "cell_type": "code",
   "execution_count": 26,
   "metadata": {
    "collapsed": true
   },
   "outputs": [],
   "source": [
    "def rstart_oid_lookup(database, oid):\n",
    "    try:\n",
    "        res = next(database.run_start.find({'_id':oid}))\n",
    "    except StopIteration:\n",
    "        raise MdsMigrationException('Seems like run_start with this oid does not exist')\n",
    "    return res"
   ]
  },
  {
   "cell_type": "code",
   "execution_count": 27,
   "metadata": {
    "collapsed": true
   },
   "outputs": [],
   "source": [
    "def descriptor_oid_lookup(database, oid):\n",
    "    try:\n",
    "        res = next(database.event_descriptor.find({'_id':oid}))\n",
    "    except StopIteration:\n",
    "        raise MdsMigrationException('Seems like descriptor with this oid does not exist')\n",
    "    return res"
   ]
  },
  {
   "cell_type": "markdown",
   "metadata": {},
   "source": [
    "**Save all run_starts into an OrderedDict()**"
   ]
  },
  {
   "cell_type": "code",
   "execution_count": 28,
   "metadata": {
    "collapsed": false
   },
   "outputs": [],
   "source": [
    "rstart_crsr = database.run_start.find()\n",
    "run_starts = deque()\n",
    "for rstart in rstart_crsr:\n",
    "    run_starts.append(rstart)"
   ]
  },
  {
   "cell_type": "markdown",
   "metadata": {},
   "source": [
    "**Go over all beamline configurations, delete run_start reference fields, add as a embedded document to run_start, and update entry in run_starts deque()**"
   ]
  },
  {
   "cell_type": "code",
   "execution_count": 29,
   "metadata": {
    "collapsed": false
   },
   "outputs": [
    {
     "name": "stdout",
     "output_type": "stream",
     "text": [
      "deque([{'owner': 'stepper', '_id': ObjectId('568d74d7fa4483630380469f'), 'project': '', 'group': '', 'scan_id': 105, 'uid': 'e45477c9-e2a3-439c-87f4-04a7be19aa02', 'custom': {}, 'beamline_id': 'example', 'time': 1452111063.698135}, {'owner': 'docbrown', '_id': ObjectId('568d74d8fa448363038046a5'), 'project': '', 'group': '', 'scan_id': 1, 'uid': '85cc7ade-6544-4c55-87a8-85d2cda02504', 'custom': {}, 'beamline_id': 'example', 'time': 1452111064.615643}, {'owner': 'docbrown', '_id': ObjectId('568d74e0fa4483630380479e'), 'project': '', 'group': '', 'scan_id': 2, 'uid': '950f63ee-3a75-40be-be0b-07e52b868c25', 'custom': {}, 'beamline_id': 'example', 'time': 1452111072.861899}, {'owner': 'docbrown', '_id': ObjectId('568d74e1fa448363038047b9'), 'project': '', 'group': '', 'scan_id': 3, 'uid': '5977560d-10ff-4619-a91e-c94e3ff83cd3', 'custom': {}, 'beamline_id': 'example', 'time': 1452111073.530751}, {'owner': 'docbrown', '_id': ObjectId('568d74e2fa448363038047d4'), 'project': '', 'group': '', 'scan_id': 4, 'uid': '11c91db6-4b81-4d7e-b131-72781cf106d3', 'custom': {}, 'beamline_id': 'example', 'time': 1452111074.230674}, {'owner': 'docbrown', '_id': ObjectId('568d74e2fa448363038047ef'), 'project': '', 'group': '', 'scan_id': 5, 'uid': '089d1ce4-cc25-42ad-810a-9f13bf4ed67b', 'custom': {}, 'beamline_id': 'example', 'time': 1452111074.886733}, {'owner': 'nedbrainard', '_id': ObjectId('568d74e3fa4483630380480a'), 'project': '', 'group': '', 'scan_id': 1, 'uid': '941ac3e0-96b8-414c-9fdc-3ce9740e6ad8', 'custom': {}, 'beamline_id': 'example', 'time': 1452111075.573807}, {'owner': 'nedbrainard', '_id': ObjectId('568d74ebfa44836303804903'), 'project': '', 'group': '', 'scan_id': 2, 'uid': 'fcae6329-a511-4178-b5f7-7af89ae2298d', 'custom': {}, 'beamline_id': 'example', 'time': 1452111083.779065}, {'owner': 'nedbrainard', '_id': ObjectId('568d74ecfa4483630380491e'), 'project': '', 'group': '', 'scan_id': 3, 'uid': 'd344bba4-17a7-47dc-8d0b-c618c33e8584', 'custom': {}, 'beamline_id': 'example', 'time': 1452111084.486544}, {'owner': 'nedbrainard', '_id': ObjectId('568d74edfa44836303804939'), 'project': '', 'group': '', 'scan_id': 4, 'uid': '3d23bce3-871e-41a7-a54d-1f442f45597e', 'custom': {}, 'beamline_id': 'example', 'time': 1452111085.236197}, {'owner': 'nedbrainard', '_id': ObjectId('568d74edfa44836303804954'), 'project': '', 'group': '', 'scan_id': 5, 'uid': '840a3a65-7fd2-4c7b-baa2-df59af10b6b5', 'custom': {}, 'beamline_id': 'example', 'time': 1452111085.902689}, {'owner': 'nedbrainard', '_id': ObjectId('568d74eefa4483630380496f'), 'project': '', 'group': '', 'scan_id': 1, 'uid': '0b3986fd-70a4-4455-9523-301fce7fd7d7', 'custom': {}, 'beamline_id': 'example', 'time': 0.0}, {'owner': 'nedbrainard', '_id': ObjectId('568d74eefa44836303804970'), 'project': '', 'group': '', 'scan_id': 2, 'uid': '676e3e53-00e0-4c17-bdad-0415485370e9', 'custom': {}, 'beamline_id': 'example', 'time': 1.0}, {'owner': 'nedbrainard', '_id': ObjectId('568d74eefa44836303804971'), 'project': '', 'group': '', 'scan_id': 3, 'uid': 'f412655b-3ab3-4b15-8185-9c2e792c9f47', 'custom': {}, 'beamline_id': 'example', 'time': 2.0}, {'owner': 'nedbrainard', '_id': ObjectId('568d74eefa44836303804972'), 'project': '', 'group': '', 'scan_id': 4, 'uid': '74f2ebe6-3f5e-4a0e-9505-8cdcbaebdb57', 'custom': {}, 'beamline_id': 'example', 'time': 3.0}, {'owner': 'nedbrainard', '_id': ObjectId('568d74eefa44836303804973'), 'project': '', 'group': '', 'scan_id': 5, 'uid': '96aac349-f14d-4e45-82d8-a8055abce6e3', 'custom': {}, 'beamline_id': 'example', 'time': 4.0}, {'owner': 'nedbrainard', '_id': ObjectId('568d74f0fa44836303804974'), 'project': '', 'group': '', 'scan_id': 1, 'uid': '77e9d1ed-1636-4d78-89e6-7dcf49d28234', 'custom': {}, 'beamline_id': 'example', 'time': 0.0}, {'owner': 'nedbrainard', '_id': ObjectId('568d74f0fa44836303804975'), 'project': '', 'group': '', 'scan_id': 2, 'uid': '6949bc64-4244-4766-95e4-dd9844342401', 'custom': {}, 'beamline_id': 'example', 'time': 1.0}, {'owner': 'nedbrainard', '_id': ObjectId('568d74f0fa44836303804976'), 'project': '', 'group': '', 'scan_id': 3, 'uid': '61ef9492-e2b7-4d80-8583-abcfd33360f2', 'custom': {}, 'beamline_id': 'example', 'time': 2.0}, {'owner': 'nedbrainard', '_id': ObjectId('568d74f0fa44836303804977'), 'project': '', 'group': '', 'scan_id': 4, 'uid': 'bd0fb8ab-0bfc-4f76-a0b0-582516bd7886', 'custom': {}, 'beamline_id': 'example', 'time': 3.0}, {'owner': 'nedbrainard', '_id': ObjectId('568d74f0fa44836303804978'), 'project': '', 'group': '', 'scan_id': 5, 'uid': '160df4d7-6ee9-44ad-a46c-763345f3cb9e', 'custom': {}, 'beamline_id': 'example', 'time': 4.0}, {'owner': 'docbrown', '_id': ObjectId('568d74f1fa44836303804979'), 'project': '', 'group': '', 'scan_id': 314160, 'uid': 'a6005915-4484-41dd-8645-a5604f9e3b37', 'custom': {}, 'beamline_id': 'example', 'time': 0.0}, {'owner': 'docbrown', '_id': ObjectId('568d74f1fa4483630380497a'), 'project': '', 'group': '', 'scan_id': 314161, 'uid': 'a7e450a8-9790-4ad1-a711-7a5973fd6b90', 'custom': {}, 'beamline_id': 'example', 'time': 1.0}, {'owner': 'docbrown', '_id': ObjectId('568d74f1fa4483630380497b'), 'project': '', 'group': '', 'scan_id': 314162, 'uid': '140adba6-bf7f-47b1-967b-9ffda69c4540', 'custom': {}, 'beamline_id': 'example', 'time': 2.0}, {'owner': 'docbrown', '_id': ObjectId('568d74f1fa4483630380497c'), 'project': '', 'group': '', 'scan_id': 314163, 'uid': '4c978f26-02ac-40c3-9291-6f017c671fe4', 'custom': {}, 'beamline_id': 'example', 'time': 3.0}, {'owner': 'docbrown', '_id': ObjectId('568d74f1fa4483630380497d'), 'project': '', 'group': '', 'scan_id': 314164, 'uid': '37eb0662-79c3-41bf-b55f-7517d468eaae', 'custom': {}, 'beamline_id': 'example', 'time': 4.0}, {'owner': 'nedbrainard', '_id': ObjectId('568d74f1fa4483630380497e'), 'project': '', 'group': '', 'scan_id': 314160, 'uid': 'ba79de34-76b9-43c3-9159-a5af7172db9a', 'custom': {}, 'beamline_id': 'example', 'time': 1.0}, {'owner': 'nedbrainard', '_id': ObjectId('568d74f1fa4483630380497f'), 'project': '', 'group': '', 'scan_id': 314161, 'uid': 'fe743200-21ef-4df2-8743-39eb340e76c8', 'custom': {}, 'beamline_id': 'example', 'time': 2.0}, {'owner': 'nedbrainard', '_id': ObjectId('568d74f1fa44836303804980'), 'project': '', 'group': '', 'scan_id': 314162, 'uid': '71a8787d-4ca8-40c4-8c4d-c1bc7e37a433', 'custom': {}, 'beamline_id': 'example', 'time': 3.0}, {'owner': 'nedbrainard', '_id': ObjectId('568d74f1fa44836303804981'), 'project': '', 'group': '', 'scan_id': 314163, 'uid': 'f5f016a3-0d43-4cfa-ac30-04d4906d5c9c', 'custom': {}, 'beamline_id': 'example', 'time': 4.0}, {'owner': 'nedbrainard', '_id': ObjectId('568d74f1fa44836303804982'), 'project': '', 'group': '', 'scan_id': 314164, 'uid': '0b3859e1-4dde-4a83-9d71-0707714c2e1a', 'custom': {}, 'beamline_id': 'example', 'time': 5.0}, {'owner': 'drstrangelove', '_id': ObjectId('568d74f1fa44836303804983'), 'project': '', 'group': '', 'scan_id': 1, 'uid': '5023cbf2-f29a-4c4f-b20b-afa99d9eec6a', 'custom': {}, 'beamline_id': 'example', 'time': 100.0}, {'owner': 'drstrangelove', '_id': ObjectId('568d74f1fa44836303804984'), 'project': '', 'group': '', 'scan_id': 1, 'uid': '5b3d27a2-e0a5-474f-9c40-4cf4c4c3c232', 'custom': {}, 'beamline_id': 'example', 'time': 100.0}, {'owner': 'nedbrainard', '_id': ObjectId('568d74f1fa44836303804985'), 'project': '', 'group': '', 'scan_id': 1, 'uid': 'de032697-e4c0-4023-bf9a-02194e97cbff', 'custom': {}, 'beamline_id': 'example', 'time': 100.0}, {'owner': 'nedbrainard', '_id': ObjectId('568d74f1fa44836303804986'), 'project': '', 'group': '', 'scan_id': 2, 'uid': 'aa4b3c8c-a57d-4bcb-99a3-4e124c34faee', 'custom': {}, 'beamline_id': 'example', 'time': 200.0}, {'owner': '', '_id': ObjectId('568d74f4fa44836303804989'), 'project': '', 'group': '', 'scan_id': 1, 'uid': 'af77d3d0-35de-4af5-af31-fadf094c701a', 'custom': {}, 'beamline_id': 'example', 'time': 1452111092.954676}, {'owner': '', '_id': ObjectId('568d74f6fa448363038049a4'), 'project': '', 'group': '', 'scan_id': 1, 'uid': '04885469-ef90-4ed0-80d7-57742b94ea54', 'custom': {}, 'beamline_id': 'example', 'time': 1452111094.894357}, {'owner': 'tester', 'config_id': '83fe1c76-14c8-4578-8a7b-2de82ced3225', '_id': ObjectId('568d74f8fa448363038049c2'), 'project': 'Nikea', 'group': 'awesome-devs', 'scan_id': 2032013, 'uid': '40d5ee15-f276-4101-99de-2b6778990571', 'beamline_id': 'testbed', 'time': 0.0}, {'owner': '', '_id': ObjectId('568d74f8fa448363038049c8'), 'project': '', 'group': '', 'scan_id': 1, 'uid': 'ef80e28e-da39-4b7e-9b6f-efd0f8dbff85', 'custom': {}, 'beamline_id': 'example', 'time': 1452111096.758345}, {'owner': '', '_id': ObjectId('568d7501fa44836303804aa8'), 'project': '', 'group': '', 'scan_id': 1, 'uid': 'd9d3480b-5db2-4737-8ff9-e242d4065349', 'custom': {}, 'beamline_id': 'example', 'time': 1452111105.816782}, {'project': '', '_id': ObjectId('568d7502fa44836303804aae'), 'custom': {}, 'owner': '', 'group': '', 'scan_id': 1, 'time': 1452111106.375599, 'beamline_id': 'example', 'uid': 'b35a6013-2bcf-4423-8a9f-5701570b1628'}, {'owner': '', '_id': ObjectId('568d7502fa44836303804ab4'), 'project': '', 'group': '', 'scan_id': 1, 'uid': 'c0ffe58b-8fc6-4229-b77b-06934a7211f5', 'custom': {}, 'beamline_id': 'example', 'time': 1452111106.601014}, {'owner': '', '_id': ObjectId('568d9126fa448332c852c65b'), 'project': '', 'group': '', 'scan_id': 1, 'uid': '21bb4587-f36f-43a0-a6bb-6fb00d8340f9', 'custom': {}, 'beamline_id': 'example', 'time': 1452118310.076713}, {'owner': 'tester', '_id': ObjectId('568d9126fa448332c852c676'), 'project': 'Nikea', 'group': 'awesome-devs', 'scan_id': 3022013, 'uid': '13b7446e-8673-49e4-9427-3886533e2c3a', 'custom': {}, 'beamline_id': 'testbed', 'time': 1452118310.07671}, {'owner': '', 'uid': 'd06238a7-d629-4651-a070-ab04cee2a3f1', 'foo': 'bar', '_id': ObjectId('568d9127fa448332c852c678'), 'group': '', 'project': '', 'aardvark': ['ants', 3.14], 'scan_id': 42, 'baz': 42, 'beamline_id': 'sample_beamline', 'time': 1452118311.018934}, {'owner': '', '_id': ObjectId('568d9127fa448332c852c679'), 'project': '', 'group': '', 'scan_id': 42, 'uid': '26acec47-7dc3-47ee-a162-2836e9d9f7ce', 'custom': {}, 'beamline_id': 'sample_beamline', 'time': 1452118311.03451}, {'owner': '', '_id': ObjectId('568d9127fa448332c852c67b'), 'project': '', 'group': '', 'scan_id': 1, 'uid': 'f2a6f5a8-a2e1-4223-8253-64f1364979ac', 'custom': {}, 'beamline_id': 'testing', 'time': 1452118311.062834}, {'owner': '', '_id': ObjectId('568d9127fa448332c852c6b0'), 'project': '', 'group': '', 'scan_id': 1, 'uid': '55a306e3-9e78-47a9-9d88-2be52c2e07bd', 'custom': {}, 'beamline_id': 'testing', 'time': 1452118311.639353}, {'owner': '', '_id': ObjectId('568d9127fa448332c852c6b2'), 'project': '', 'group': '', 'scan_id': 1, 'uid': 'e4bc74b1-9c33-4b90-8963-7f2cbae2f018', 'custom': {}, 'beamline_id': 'testing', 'time': 1452118311.660668}, {'owner': '', '_id': ObjectId('568d9129fa448332c852c6b4'), 'project': '', 'group': '', 'scan_id': 1, 'uid': '4da125fa-ecfa-417a-8c6a-dd693e544569', 'custom': {}, 'beamline_id': 'testing', 'time': 1452118313.656787}, {'owner': '', '_id': ObjectId('568d912afa448332c852c6e9'), 'project': '', 'group': '', 'scan_id': 1, 'uid': '81a50b09-876f-4c1a-a59a-d44bfdd4d886', 'custom': {}, 'beamline_id': 'testing', 'time': 1452118314.325113}, {'owner': '', '_id': ObjectId('568d912afa448332c852c71e'), 'project': '', 'group': '', 'scan_id': 1, 'uid': '22a23baa-d8a3-4b05-abbd-2eb947728ac4', 'custom': {}, 'beamline_id': 'testing', 'time': 1452118314.82932}, {'owner': '', '_id': ObjectId('568d912afa448332c852c721'), 'project': '', 'group': '', 'scan_id': 1, 'uid': '41dfbed6-c1f0-4588-ad13-47b2770d7660', 'custom': {}, 'beamline_id': 'testing', 'time': 1452118314.933177}, {'owner': 'tester', '_id': ObjectId('568d912bfa448332c852c724'), 'project': 'Nikea', 'group': 'awesome-devs', 'scan_id': 42, 'uid': 'f47ce037-08b9-49ab-8c80-06ecf0a472ac', 'custom': {}, 'beamline_id': 'testbed', 'time': 1452118310.07671}, {'owner': '', '_id': ObjectId('568d912bfa448332c852c725'), 'project': '', 'group': '', 'scan_id': 1, 'uid': '74bc651e-81e2-4fc3-931d-755db6ab956b', 'custom': {}, 'beamline_id': 'testing', 'time': 1452118315.06196}, {'owner': '', '_id': ObjectId('568d912bfa448332c852c728'), 'project': '', 'group': '', 'scan_id': 1, 'uid': '245b11d4-6650-4472-94a4-50c67cb2b7c3', 'custom': {}, 'beamline_id': 'testing', 'time': 1452118315.102025}, {'owner': '', '_id': ObjectId('568d912bfa448332c852c72b'), 'project': '', 'group': '', 'scan_id': 1, 'uid': '1ec2d603-85b3-41af-969c-2937f8b1c380', 'custom': {}, 'beamline_id': 'testing', 'time': 1452118315.171799}, {'owner': '', '_id': ObjectId('568d912bfa448332c852c72e'), 'project': '', 'group': '', 'scan_id': 1, 'uid': 'd0896b18-3e6c-4eeb-ba7a-2315d5560256', 'custom': {}, 'beamline_id': 'testing', 'time': 1452118315.227887}, {'owner': '', '_id': ObjectId('568d912bfa448332c852c730'), 'project': '', 'group': '', 'scan_id': 1, 'uid': '33922832-b33a-443f-93cf-5d85f5cf39ed', 'custom': {}, 'beamline_id': 'example', 'time': 1452118315.344315}, {'owner': '', '_id': ObjectId('568d912bfa448332c852c731'), 'project': '', 'group': '', 'scan_id': 1, 'uid': 'b556da00-7c8b-4193-97a9-b5acbc149a34', 'custom': {}, 'beamline_id': 'example', 'time': 1452118315.356893}, {'owner': '', '_id': ObjectId('568d912bfa448332c852c732'), 'project': '', 'group': '', 'scan_id': 1, 'uid': '4d47a173-e5ec-4e09-af09-ebed6d64a047', 'custom': {}, 'beamline_id': 'example', 'time': 1452118315.365815}, {'owner': '', '_id': ObjectId('568d912bfa448332c852c733'), 'project': '', 'group': '', 'scan_id': 1, 'uid': 'ced0fee7-e708-487f-8df9-2ed913c2b6b7', 'custom': {}, 'beamline_id': 'example', 'time': 1452118315.374994}, {'owner': '', '_id': ObjectId('568d912bfa448332c852c734'), 'project': '', 'group': '', 'scan_id': 1, 'uid': 'be205508-1757-468e-b07d-24d3089727a1', 'custom': {}, 'beamline_id': 'example', 'time': 1452118315.384795}, {'owner': '', '_id': ObjectId('568d912cfa448332c852c752'), 'project': '', 'group': '', 'scan_id': 1, 'uid': 'a9605b06-b09d-4d47-904a-1d1ab4dddd31', 'custom': {}, 'beamline_id': 'example', 'time': 1452118316.176741}, {'owner': 'tester', 'config_id': '172142b5-4213-4109-96c3-6f07477b68f5', '_id': ObjectId('568d9163fa448332c852c76d'), 'project': 'Nikea', 'group': 'awesome-devs', 'scan_id': 2032013, 'uid': 'd7fa47fb-3a1f-4d88-ac57-bc920c9e2f9d', 'beamline_id': 'testbed', 'time': 0.0}, {'owner': 'tester', 'config_id': '7caa9490-1a05-47c1-997c-b57315118bf3', '_id': ObjectId('568d9169fa448332c852c78b'), 'project': 'Nikea', 'group': 'awesome-devs', 'scan_id': 2032013, 'uid': 'bfde378f-c501-4e3d-8c95-a2f13c0379ae', 'beamline_id': 'testbed', 'time': 0.0}, {'project': '', '_id': ObjectId('568e6ed7fa44833b7614375a'), 'time': 1452175063.146902, 'owner': '', 'group': '', 'scan_id': 1, 'custom': {}, 'beamline_id': 'example', 'uid': '79819f2b-45ed-42dd-8593-44e11c7b93de'}, {'project': 'Nikea', '_id': ObjectId('568e6ed8fa44833b76143775'), 'time': 1452175063.146896, 'owner': 'tester', 'group': 'awesome-devs', 'scan_id': 3022013, 'custom': {}, 'beamline_id': 'testbed', 'uid': '8327af6e-2689-4ec5-aa02-0c05db6dda46'}, {'time': 1452175064.286399, 'foo': 'bar', 'baz': 42, '_id': ObjectId('568e6ed8fa44833b76143777'), 'beamline_id': 'sample_beamline', 'owner': '', 'group': '', 'scan_id': 42, 'project': '', 'aardvark': ['ants', 3.14], 'uid': '8173964c-e5ae-4b7c-9e53-94e612414b4f'}, {'project': '', '_id': ObjectId('568e6ed8fa44833b76143778'), 'time': 1452175064.301882, 'owner': '', 'group': '', 'scan_id': 42, 'custom': {}, 'beamline_id': 'sample_beamline', 'uid': '45840fbc-2b6e-4198-8524-1a7efcf932e5'}, {'project': '', '_id': ObjectId('568e6ed8fa44833b7614377a'), 'time': 1452175064.332942, 'owner': '', 'group': '', 'scan_id': 1, 'custom': {}, 'beamline_id': 'testing', 'uid': 'ed046991-a119-4c4e-ba32-0cd9544cb7b0'}, {'project': '', '_id': ObjectId('568e6ed8fa44833b761437af'), 'time': 1452175064.834454, 'owner': '', 'group': '', 'scan_id': 1, 'custom': {}, 'beamline_id': 'testing', 'uid': 'a384a2f7-74ea-4774-aff3-b88b761f4871'}, {'project': '', '_id': ObjectId('568e6ed8fa44833b761437b1'), 'time': 1452175064.855862, 'owner': '', 'group': '', 'scan_id': 1, 'custom': {}, 'beamline_id': 'testing', 'uid': '9b1c5e50-1ccc-467b-9e9a-7aab2d6c768b'}, {'project': '', '_id': ObjectId('568e6edbfa44833b761437b3'), 'time': 1452175067.724635, 'owner': '', 'group': '', 'scan_id': 1, 'custom': {}, 'beamline_id': 'testing', 'uid': 'd4d59bda-035d-42b5-b627-2e008ea78124'}, {'project': '', '_id': ObjectId('568e6edcfa44833b761437e8'), 'time': 1452175068.487075, 'owner': '', 'group': '', 'scan_id': 1, 'custom': {}, 'beamline_id': 'testing', 'uid': '4aa04f19-db85-4efd-9628-465203731a87'}, {'project': '', '_id': ObjectId('568e6eddfa44833b7614381d'), 'time': 1452175069.076263, 'owner': '', 'group': '', 'scan_id': 1, 'custom': {}, 'beamline_id': 'testing', 'uid': 'ae488bb4-26fa-4289-8f77-d3cb0741c7ba'}, {'project': '', '_id': ObjectId('568e6eddfa44833b76143820'), 'time': 1452175069.21781, 'owner': '', 'group': '', 'scan_id': 1, 'custom': {}, 'beamline_id': 'testing', 'uid': '1c5b5b27-0f15-42dc-bcdb-c6d1d7c688cc'}, {'project': 'Nikea', '_id': ObjectId('568e6eddfa44833b76143823'), 'time': 1452175063.146896, 'owner': 'tester', 'group': 'awesome-devs', 'scan_id': 42, 'custom': {}, 'beamline_id': 'testbed', 'uid': '76ddc371-d40c-4c9e-a822-cd8f9b016ab9'}, {'project': '', '_id': ObjectId('568e6eddfa44833b76143824'), 'time': 1452175069.378221, 'owner': '', 'group': '', 'scan_id': 1, 'custom': {}, 'beamline_id': 'testing', 'uid': '05249f78-bb32-41df-b4d5-2fb59e5f3009'}, {'project': '', '_id': ObjectId('568e6eddfa44833b76143827'), 'time': 1452175069.42759, 'owner': '', 'group': '', 'scan_id': 1, 'custom': {}, 'beamline_id': 'testing', 'uid': '4a1fbd17-5a8f-47ca-beb7-8530eca7c632'}, {'project': '', '_id': ObjectId('568e6eddfa44833b7614382a'), 'time': 1452175069.518432, 'owner': '', 'group': '', 'scan_id': 1, 'custom': {}, 'beamline_id': 'testing', 'uid': 'd985052c-423c-4048-b5c4-27aacd886180'}, {'project': '', '_id': ObjectId('568e6eddfa44833b7614382d'), 'time': 1452175069.578807, 'owner': '', 'group': '', 'scan_id': 1, 'custom': {}, 'beamline_id': 'testing', 'uid': 'bd25295a-daa3-4bc3-914c-6a3add776fde'}, {'project': '', '_id': ObjectId('568e6eddfa44833b7614382f'), 'time': 1452175069.722585, 'owner': '', 'group': '', 'scan_id': 1, 'custom': {}, 'beamline_id': 'example', 'uid': '8528fe08-04d5-44eb-bb88-eee3ffa9be54'}, {'project': '', '_id': ObjectId('568e6eddfa44833b76143830'), 'time': 1452175069.732558, 'owner': '', 'group': '', 'scan_id': 1, 'custom': {}, 'beamline_id': 'example', 'uid': 'e38c2e76-84f0-4bfa-8b12-69d2a5016714'}, {'project': '', '_id': ObjectId('568e6eddfa44833b76143831'), 'time': 1452175069.742244, 'owner': '', 'group': '', 'scan_id': 1, 'custom': {}, 'beamline_id': 'example', 'uid': '52a27b8c-d195-4893-8d1b-aa3aabc9048d'}, {'project': '', '_id': ObjectId('568e6eddfa44833b76143832'), 'time': 1452175069.7523, 'owner': '', 'group': '', 'scan_id': 1, 'custom': {}, 'beamline_id': 'example', 'uid': 'baae290c-1c20-4096-9736-fbb8439f8ace'}, {'project': '', '_id': ObjectId('568e6eddfa44833b76143833'), 'time': 1452175069.762078, 'owner': '', 'group': '', 'scan_id': 1, 'custom': {}, 'beamline_id': 'example', 'uid': '7812abf3-c4aa-4d5c-97a9-6351b898b2d5'}, {'project': '', '_id': ObjectId('568e6edefa44833b76143851'), 'time': 1452175070.755833, 'owner': '', 'group': '', 'scan_id': 1, 'custom': {}, 'beamline_id': 'example', 'uid': '6b4d7f35-b71e-4e5a-8e7d-dc5d5cc8c7ea'}])\n"
     ]
    }
   ],
   "source": [
    "bcfg_crsr = database.beamline_config.find()\n",
    "for cfg in bcfg_crsr:\n",
    "    runstart = rstart_oid_lookup(database, cfg['run_start']) \n",
    "    # check if run_start really exists!\n",
    "    del(cfg['run_start'])\n",
    "    runstart['config'] = cfg\n",
    "    run_starts.append(rstart)\n",
    "print (run_starts)"
   ]
  },
  {
   "cell_type": "markdown",
   "metadata": {},
   "source": [
    "**Get all descriptors and insert them using metadataclient.Iterate over descriptors, replace run_start oid references with run_start uid foreign keys, and save them to a deque and a dict that is keyed on uids(for caching)**"
   ]
  },
  {
   "cell_type": "code",
   "execution_count": 10,
   "metadata": {
    "collapsed": false
   },
   "outputs": [
    {
     "ename": "MdsMigrationException",
     "evalue": "Seems like run_start with this oid does not exist",
     "output_type": "error",
     "traceback": [
      "\u001b[0;31m---------------------------------------------------------------------------\u001b[0m",
      "\u001b[0;31mStopIteration\u001b[0m                             Traceback (most recent call last)",
      "\u001b[0;32m<ipython-input-6-be92ed85dc89>\u001b[0m in \u001b[0;36mrstart_oid_lookup\u001b[0;34m(database, oid)\u001b[0m\n\u001b[1;32m      2\u001b[0m     \u001b[0;32mtry\u001b[0m\u001b[0;34m:\u001b[0m\u001b[0;34m\u001b[0m\u001b[0m\n\u001b[0;32m----> 3\u001b[0;31m         \u001b[0mres\u001b[0m \u001b[0;34m=\u001b[0m \u001b[0mnext\u001b[0m\u001b[0;34m(\u001b[0m\u001b[0mdatabase\u001b[0m\u001b[0;34m.\u001b[0m\u001b[0mrun_start\u001b[0m\u001b[0;34m.\u001b[0m\u001b[0mfind\u001b[0m\u001b[0;34m(\u001b[0m\u001b[0;34m{\u001b[0m\u001b[0;34m'_id'\u001b[0m\u001b[0;34m:\u001b[0m\u001b[0moid\u001b[0m\u001b[0;34m}\u001b[0m\u001b[0;34m)\u001b[0m\u001b[0;34m)\u001b[0m\u001b[0;34m\u001b[0m\u001b[0m\n\u001b[0m\u001b[1;32m      4\u001b[0m     \u001b[0;32mexcept\u001b[0m \u001b[0mStopIteration\u001b[0m\u001b[0;34m:\u001b[0m\u001b[0;34m\u001b[0m\u001b[0m\n",
      "\u001b[0;32m/Users/arkilic/anaconda/envs/py34/lib/python3.4/site-packages/pymongo/cursor.py\u001b[0m in \u001b[0;36m__next__\u001b[0;34m(self)\u001b[0m\n\u001b[1;32m   1082\u001b[0m         \u001b[0;32melse\u001b[0m\u001b[0;34m:\u001b[0m\u001b[0;34m\u001b[0m\u001b[0m\n\u001b[0;32m-> 1083\u001b[0;31m             \u001b[0;32mraise\u001b[0m \u001b[0mStopIteration\u001b[0m\u001b[0;34m\u001b[0m\u001b[0m\n\u001b[0m\u001b[1;32m   1084\u001b[0m \u001b[0;34m\u001b[0m\u001b[0m\n",
      "\u001b[0;31mStopIteration\u001b[0m: ",
      "\nDuring handling of the above exception, another exception occurred:\n",
      "\u001b[0;31mMdsMigrationException\u001b[0m                     Traceback (most recent call last)",
      "\u001b[0;32m<ipython-input-10-b36a3d5d8961>\u001b[0m in \u001b[0;36m<module>\u001b[0;34m()\u001b[0m\n\u001b[1;32m      3\u001b[0m \u001b[0mdesc_dict\u001b[0m \u001b[0;34m=\u001b[0m \u001b[0;34m{\u001b[0m\u001b[0;34m}\u001b[0m\u001b[0;34m\u001b[0m\u001b[0m\n\u001b[1;32m      4\u001b[0m \u001b[0;32mfor\u001b[0m \u001b[0mdesc\u001b[0m \u001b[0;32min\u001b[0m \u001b[0mdesc_crsr\u001b[0m\u001b[0;34m:\u001b[0m\u001b[0;34m\u001b[0m\u001b[0m\n\u001b[0;32m----> 5\u001b[0;31m     \u001b[0mrstart\u001b[0m \u001b[0;34m=\u001b[0m \u001b[0mrstart_oid_lookup\u001b[0m\u001b[0;34m(\u001b[0m\u001b[0mdatabase\u001b[0m\u001b[0;34m,\u001b[0m \u001b[0mdesc\u001b[0m\u001b[0;34m[\u001b[0m\u001b[0;34m'run_start'\u001b[0m\u001b[0;34m]\u001b[0m\u001b[0;34m)\u001b[0m\u001b[0;34m\u001b[0m\u001b[0m\n\u001b[0m\u001b[1;32m      6\u001b[0m     \u001b[0;31m# make sure run_start exists\u001b[0m\u001b[0;34m\u001b[0m\u001b[0;34m\u001b[0m\u001b[0m\n\u001b[1;32m      7\u001b[0m     \u001b[0mdesc\u001b[0m\u001b[0;34m[\u001b[0m\u001b[0;34m'run_start'\u001b[0m\u001b[0;34m]\u001b[0m \u001b[0;34m=\u001b[0m \u001b[0mrun_starts\u001b[0m\u001b[0;34m[\u001b[0m\u001b[0mrstart\u001b[0m\u001b[0;34m[\u001b[0m\u001b[0;34m'uid'\u001b[0m\u001b[0;34m]\u001b[0m\u001b[0;34m]\u001b[0m\u001b[0;34m[\u001b[0m\u001b[0;34m'uid'\u001b[0m\u001b[0;34m]\u001b[0m\u001b[0;34m\u001b[0m\u001b[0m\n",
      "\u001b[0;32m<ipython-input-6-be92ed85dc89>\u001b[0m in \u001b[0;36mrstart_oid_lookup\u001b[0;34m(database, oid)\u001b[0m\n\u001b[1;32m      3\u001b[0m         \u001b[0mres\u001b[0m \u001b[0;34m=\u001b[0m \u001b[0mnext\u001b[0m\u001b[0;34m(\u001b[0m\u001b[0mdatabase\u001b[0m\u001b[0;34m.\u001b[0m\u001b[0mrun_start\u001b[0m\u001b[0;34m.\u001b[0m\u001b[0mfind\u001b[0m\u001b[0;34m(\u001b[0m\u001b[0;34m{\u001b[0m\u001b[0;34m'_id'\u001b[0m\u001b[0;34m:\u001b[0m\u001b[0moid\u001b[0m\u001b[0;34m}\u001b[0m\u001b[0;34m)\u001b[0m\u001b[0;34m)\u001b[0m\u001b[0;34m\u001b[0m\u001b[0m\n\u001b[1;32m      4\u001b[0m     \u001b[0;32mexcept\u001b[0m \u001b[0mStopIteration\u001b[0m\u001b[0;34m:\u001b[0m\u001b[0;34m\u001b[0m\u001b[0m\n\u001b[0;32m----> 5\u001b[0;31m         \u001b[0;32mraise\u001b[0m \u001b[0mMdsMigrationException\u001b[0m\u001b[0;34m(\u001b[0m\u001b[0;34m'Seems like run_start with this oid does not exist'\u001b[0m\u001b[0;34m)\u001b[0m\u001b[0;34m\u001b[0m\u001b[0m\n\u001b[0m\u001b[1;32m      6\u001b[0m     \u001b[0;32mreturn\u001b[0m \u001b[0mres\u001b[0m\u001b[0;34m\u001b[0m\u001b[0m\n",
      "\u001b[0;31mMdsMigrationException\u001b[0m: Seems like run_start with this oid does not exist"
     ]
    }
   ],
   "source": [
    "desc_crsr = database.event_descriptor.find()\n",
    "descriptors = deque()\n",
    "desc_dict = {}\n",
    "for desc in desc_crsr:\n",
    "    rstart = rstart_oid_lookup(database, desc['run_start'])\n",
    "    # make sure run_start exists\n",
    "    desc['run_start'] = run_starts[rstart['uid']]['uid'] \n",
    "    desc_dict[desc['uid']] = desc\n",
    "    descriptors.append(desc)"
   ]
  },
  {
   "cell_type": "markdown",
   "metadata": {},
   "source": [
    "**Insert all run_starts and descriptors for far**"
   ]
  },
  {
   "cell_type": "code",
   "execution_count": 30,
   "metadata": {
    "collapsed": true
   },
   "outputs": [],
   "source": [
    "# insert via metadataclient"
   ]
  },
  {
   "cell_type": "code",
   "execution_count": 11,
   "metadata": {
    "collapsed": false
   },
   "outputs": [],
   "source": [
    "for d in descriptors:\n",
    "    events = deque()\n",
    "    event_crsr = database.event_descriptor.find({'descriptor': d['_id']})\n",
    "    for e in event_crsr:\n",
    "        e['descriptor'] = d['uid']\n",
    "        events.append(e)\n",
    "    # bulk inserts events via metadataclient"
   ]
  },
  {
   "cell_type": "code",
   "execution_count": null,
   "metadata": {
    "collapsed": false
   },
   "outputs": [],
   "source": []
  },
  {
   "cell_type": "code",
   "execution_count": null,
   "metadata": {
    "collapsed": true
   },
   "outputs": [],
   "source": []
  }
 ],
 "metadata": {
  "kernelspec": {
   "display_name": "Python 3",
   "language": "python",
   "name": "python3"
  },
  "language_info": {
   "codemirror_mode": {
    "name": "ipython",
    "version": 3
   },
   "file_extension": ".py",
   "mimetype": "text/x-python",
   "name": "python",
   "nbconvert_exporter": "python",
   "pygments_lexer": "ipython3",
   "version": "3.4.3"
  }
 },
 "nbformat": 4,
 "nbformat_minor": 0
}
