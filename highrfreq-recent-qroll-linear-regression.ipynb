{
 "cells": [
  {
   "cell_type": "code",
   "execution_count": 1,
   "metadata": {
    "collapsed": false
   },
   "outputs": [],
   "source": [
    "import pandas as pd\n",
    "import numpy as np\n",
    "%matplotlib inline\n",
    "\n",
    "def my_reducer(a):\n",
    "    return pd.to_datetime(a[0])\n",
    "\n",
    "reducer = np.vectorize(my_reducer)"
   ]
  },
  {
   "cell_type": "code",
   "execution_count": 2,
   "metadata": {
    "collapsed": false,
    "scrolled": true
   },
   "outputs": [],
   "source": [
    "spy = pd.read_csv('/Users/arkilic/Desktop/spy.csv', \n",
    "                      header=0, sep=' ')\n",
    "spy_design = pd.read_csv('/Users/arkilic/Desktop/spy_design.csv', \n",
    "                         header=0, sep=' ',  parse_dates=True)\n",
    "spy_indices = spy.index.values\n",
    "spy_design_indices = spy_design.index.values\n",
    "\n",
    "\n",
    "spy_indexes = reducer(spy_indices)\n",
    "spy['TIME'] = spy_indexes\n",
    "\n",
    "spy_design_indexes = reducer(spy_design_indices)\n",
    "spy_design['TIME'] = spy_design_indexes\n",
    "\n",
    "spy = spy.set_index('TIME')\n",
    "spy_design = spy_design.set_index('TIME')"
   ]
  },
  {
   "cell_type": "code",
   "execution_count": 3,
   "metadata": {
    "collapsed": false
   },
   "outputs": [
    {
     "data": {
      "text/html": [
       "<div>\n",
       "<table border=\"1\" class=\"dataframe\">\n",
       "  <thead>\n",
       "    <tr style=\"text-align: right;\">\n",
       "      <th></th>\n",
       "      <th>SPY.Open</th>\n",
       "      <th>SPY.High</th>\n",
       "      <th>SPY.Low</th>\n",
       "      <th>SPY.Close</th>\n",
       "      <th>SPY.Volume</th>\n",
       "    </tr>\n",
       "    <tr>\n",
       "      <th>TIME</th>\n",
       "      <th></th>\n",
       "      <th></th>\n",
       "      <th></th>\n",
       "      <th></th>\n",
       "      <th></th>\n",
       "    </tr>\n",
       "  </thead>\n",
       "  <tbody>\n",
       "    <tr>\n",
       "      <th>2008-01-02 09:31:00</th>\n",
       "      <td>146.535</td>\n",
       "      <td>146.645</td>\n",
       "      <td>146.535</td>\n",
       "      <td>146.645</td>\n",
       "      <td>591203.0</td>\n",
       "    </tr>\n",
       "    <tr>\n",
       "      <th>2008-01-02 09:32:00</th>\n",
       "      <td>146.645</td>\n",
       "      <td>146.685</td>\n",
       "      <td>146.635</td>\n",
       "      <td>146.685</td>\n",
       "      <td>385457.0</td>\n",
       "    </tr>\n",
       "    <tr>\n",
       "      <th>2008-01-02 09:33:00</th>\n",
       "      <td>146.685</td>\n",
       "      <td>146.775</td>\n",
       "      <td>146.680</td>\n",
       "      <td>146.775</td>\n",
       "      <td>343700.0</td>\n",
       "    </tr>\n",
       "    <tr>\n",
       "      <th>2008-01-02 09:34:00</th>\n",
       "      <td>146.725</td>\n",
       "      <td>146.755</td>\n",
       "      <td>146.705</td>\n",
       "      <td>146.725</td>\n",
       "      <td>863418.0</td>\n",
       "    </tr>\n",
       "    <tr>\n",
       "      <th>2008-01-02 09:35:00</th>\n",
       "      <td>146.705</td>\n",
       "      <td>146.775</td>\n",
       "      <td>146.685</td>\n",
       "      <td>146.775</td>\n",
       "      <td>457500.0</td>\n",
       "    </tr>\n",
       "  </tbody>\n",
       "</table>\n",
       "</div>"
      ],
      "text/plain": [
       "                     SPY.Open  SPY.High  SPY.Low  SPY.Close  SPY.Volume\n",
       "TIME                                                                   \n",
       "2008-01-02 09:31:00   146.535   146.645  146.535    146.645    591203.0\n",
       "2008-01-02 09:32:00   146.645   146.685  146.635    146.685    385457.0\n",
       "2008-01-02 09:33:00   146.685   146.775  146.680    146.775    343700.0\n",
       "2008-01-02 09:34:00   146.725   146.755  146.705    146.725    863418.0\n",
       "2008-01-02 09:35:00   146.705   146.775  146.685    146.775    457500.0"
      ]
     },
     "execution_count": 3,
     "metadata": {},
     "output_type": "execute_result"
    }
   ],
   "source": [
    "spy_data = spy.ix[:, 1:6]\n",
    "spy_data.head()"
   ]
  },
  {
   "cell_type": "code",
   "execution_count": 4,
   "metadata": {
    "collapsed": false
   },
   "outputs": [],
   "source": [
    "spy_design_data = spy_design.ix[:, 1:7]\n",
    "spy_design_data.head()\n",
    "\n",
    "\n",
    "spy = spy_data\n",
    "spy_design = spy_design_data"
   ]
  },
  {
   "cell_type": "code",
   "execution_count": 5,
   "metadata": {
    "collapsed": false
   },
   "outputs": [
    {
     "data": {
      "text/plain": [
       "(625425, 5)"
      ]
     },
     "execution_count": 5,
     "metadata": {},
     "output_type": "execute_result"
    }
   ],
   "source": [
    "spy_data.shape"
   ]
  },
  {
   "cell_type": "code",
   "execution_count": 6,
   "metadata": {
    "collapsed": false
   },
   "outputs": [
    {
     "data": {
      "text/plain": [
       "(625425, 6)"
      ]
     },
     "execution_count": 6,
     "metadata": {},
     "output_type": "execute_result"
    }
   ],
   "source": [
    "spy_design.shape"
   ]
  },
  {
   "cell_type": "code",
   "execution_count": 7,
   "metadata": {
    "collapsed": false
   },
   "outputs": [
    {
     "data": {
      "text/html": [
       "<div>\n",
       "<table border=\"1\" class=\"dataframe\">\n",
       "  <thead>\n",
       "    <tr style=\"text-align: right;\">\n",
       "      <th></th>\n",
       "      <th>returns</th>\n",
       "      <th>returns.WA5</th>\n",
       "      <th>variance</th>\n",
       "      <th>skew</th>\n",
       "      <th>hurst</th>\n",
       "      <th>rets_var</th>\n",
       "    </tr>\n",
       "    <tr>\n",
       "      <th>TIME</th>\n",
       "      <th></th>\n",
       "      <th></th>\n",
       "      <th></th>\n",
       "      <th></th>\n",
       "      <th></th>\n",
       "      <th></th>\n",
       "    </tr>\n",
       "  </thead>\n",
       "  <tbody>\n",
       "    <tr>\n",
       "      <th>2008-01-02 09:31:00</th>\n",
       "      <td>0.000000</td>\n",
       "      <td>0.000000</td>\n",
       "      <td>0.000000</td>\n",
       "      <td>0.000000</td>\n",
       "      <td>0.000000</td>\n",
       "      <td>0.000000</td>\n",
       "    </tr>\n",
       "    <tr>\n",
       "      <th>2008-01-02 09:32:00</th>\n",
       "      <td>0.707107</td>\n",
       "      <td>0.707107</td>\n",
       "      <td>0.707107</td>\n",
       "      <td>-0.707107</td>\n",
       "      <td>0.000000</td>\n",
       "      <td>0.707107</td>\n",
       "    </tr>\n",
       "    <tr>\n",
       "      <th>2008-01-02 09:33:00</th>\n",
       "      <td>1.034910</td>\n",
       "      <td>1.031794</td>\n",
       "      <td>1.027297</td>\n",
       "      <td>-0.901304</td>\n",
       "      <td>0.000000</td>\n",
       "      <td>1.133169</td>\n",
       "    </tr>\n",
       "    <tr>\n",
       "      <th>2008-01-02 09:34:00</th>\n",
       "      <td>-1.177622</td>\n",
       "      <td>-0.712844</td>\n",
       "      <td>1.407897</td>\n",
       "      <td>1.277819</td>\n",
       "      <td>0.000000</td>\n",
       "      <td>-1.366479</td>\n",
       "    </tr>\n",
       "    <tr>\n",
       "      <th>2008-01-02 09:35:00</th>\n",
       "      <td>0.451147</td>\n",
       "      <td>-0.181499</td>\n",
       "      <td>0.593341</td>\n",
       "      <td>-1.669053</td>\n",
       "      <td>-1.788854</td>\n",
       "      <td>0.854902</td>\n",
       "    </tr>\n",
       "  </tbody>\n",
       "</table>\n",
       "</div>"
      ],
      "text/plain": [
       "                      returns  returns.WA5  variance      skew     hurst  \\\n",
       "TIME                                                                       \n",
       "2008-01-02 09:31:00  0.000000     0.000000  0.000000  0.000000  0.000000   \n",
       "2008-01-02 09:32:00  0.707107     0.707107  0.707107 -0.707107  0.000000   \n",
       "2008-01-02 09:33:00  1.034910     1.031794  1.027297 -0.901304  0.000000   \n",
       "2008-01-02 09:34:00 -1.177622    -0.712844  1.407897  1.277819  0.000000   \n",
       "2008-01-02 09:35:00  0.451147    -0.181499  0.593341 -1.669053 -1.788854   \n",
       "\n",
       "                     rets_var  \n",
       "TIME                           \n",
       "2008-01-02 09:31:00  0.000000  \n",
       "2008-01-02 09:32:00  0.707107  \n",
       "2008-01-02 09:33:00  1.133169  \n",
       "2008-01-02 09:34:00 -1.366479  \n",
       "2008-01-02 09:35:00  0.854902  "
      ]
     },
     "execution_count": 7,
     "metadata": {},
     "output_type": "execute_result"
    }
   ],
   "source": [
    "spy_design.head()"
   ]
  },
  {
   "cell_type": "code",
   "execution_count": 8,
   "metadata": {
    "collapsed": false
   },
   "outputs": [
    {
     "data": {
      "text/html": [
       "<div>\n",
       "<table border=\"1\" class=\"dataframe\">\n",
       "  <thead>\n",
       "    <tr style=\"text-align: right;\">\n",
       "      <th></th>\n",
       "      <th>returns</th>\n",
       "      <th>returns.WA5</th>\n",
       "      <th>variance</th>\n",
       "      <th>skew</th>\n",
       "      <th>hurst</th>\n",
       "      <th>rets_var</th>\n",
       "    </tr>\n",
       "    <tr>\n",
       "      <th>TIME</th>\n",
       "      <th></th>\n",
       "      <th></th>\n",
       "      <th></th>\n",
       "      <th></th>\n",
       "      <th></th>\n",
       "      <th></th>\n",
       "    </tr>\n",
       "  </thead>\n",
       "  <tbody>\n",
       "    <tr>\n",
       "      <th>2014-05-19 15:57:00</th>\n",
       "      <td>-0.361859</td>\n",
       "      <td>-0.367870</td>\n",
       "      <td>-0.336626</td>\n",
       "      <td>-0.155008</td>\n",
       "      <td>-0.222009</td>\n",
       "      <td>-0.112141</td>\n",
       "    </tr>\n",
       "    <tr>\n",
       "      <th>2014-05-19 15:58:00</th>\n",
       "      <td>-0.089936</td>\n",
       "      <td>-0.485638</td>\n",
       "      <td>-0.486350</td>\n",
       "      <td>-0.094171</td>\n",
       "      <td>-0.222009</td>\n",
       "      <td>-0.084080</td>\n",
       "    </tr>\n",
       "    <tr>\n",
       "      <th>2014-05-19 15:59:00</th>\n",
       "      <td>0.723983</td>\n",
       "      <td>-0.039040</td>\n",
       "      <td>-0.553366</td>\n",
       "      <td>-0.023248</td>\n",
       "      <td>-0.517930</td>\n",
       "      <td>-0.062958</td>\n",
       "    </tr>\n",
       "    <tr>\n",
       "      <th>2014-05-19 16:00:00</th>\n",
       "      <td>-3.813061</td>\n",
       "      <td>-3.754974</td>\n",
       "      <td>0.954806</td>\n",
       "      <td>-0.023248</td>\n",
       "      <td>0.503982</td>\n",
       "      <td>-2.193333</td>\n",
       "    </tr>\n",
       "    <tr>\n",
       "      <th>2014-05-19 16:01:00</th>\n",
       "      <td>-0.077985</td>\n",
       "      <td>-3.885884</td>\n",
       "      <td>-0.627748</td>\n",
       "      <td>-0.023248</td>\n",
       "      <td>0.987273</td>\n",
       "      <td>-0.077476</td>\n",
       "    </tr>\n",
       "  </tbody>\n",
       "</table>\n",
       "</div>"
      ],
      "text/plain": [
       "                      returns  returns.WA5  variance      skew     hurst  \\\n",
       "TIME                                                                       \n",
       "2014-05-19 15:57:00 -0.361859    -0.367870 -0.336626 -0.155008 -0.222009   \n",
       "2014-05-19 15:58:00 -0.089936    -0.485638 -0.486350 -0.094171 -0.222009   \n",
       "2014-05-19 15:59:00  0.723983    -0.039040 -0.553366 -0.023248 -0.517930   \n",
       "2014-05-19 16:00:00 -3.813061    -3.754974  0.954806 -0.023248  0.503982   \n",
       "2014-05-19 16:01:00 -0.077985    -3.885884 -0.627748 -0.023248  0.987273   \n",
       "\n",
       "                     rets_var  \n",
       "TIME                           \n",
       "2014-05-19 15:57:00 -0.112141  \n",
       "2014-05-19 15:58:00 -0.084080  \n",
       "2014-05-19 15:59:00 -0.062958  \n",
       "2014-05-19 16:00:00 -2.193333  \n",
       "2014-05-19 16:01:00 -0.077476  "
      ]
     },
     "execution_count": 8,
     "metadata": {},
     "output_type": "execute_result"
    }
   ],
   "source": [
    "spy_design.tail()"
   ]
  },
  {
   "cell_type": "code",
   "execution_count": 9,
   "metadata": {
    "collapsed": false
   },
   "outputs": [],
   "source": [
    "def diff_xts(x_ts, lag=1, differences=1, arithmetic=True):\n",
    "    # Uses something along the lines of numpy.diff for lag\n",
    "    \"\"\"\n",
    "    Parameters\n",
    "    ----------\n",
    "    x_ts: pd.DataFrame\n",
    "        Raw data\n",
    "    lag: int\n",
    "        period to difference over\n",
    "    differences: int\n",
    "        order of differencing\n",
    "    arithmetic: bool\n",
    "        should arithmetic or geometric differencing be used\n",
    "    \"\"\"\n",
    "    if lag != 1:\n",
    "        raise NotImplementedError('Period other than 1 has not beein implemented yet')\n",
    "    res = np.zeros(x_ts.shape[0])\n",
    "    res[1:] = np.diff(x_ts.ix[:, 1])\n",
    "    return  res# vectorized diff over given period"
   ]
  },
  {
   "cell_type": "code",
   "execution_count": 10,
   "metadata": {
    "collapsed": false
   },
   "outputs": [],
   "source": [
    "# def run_returns(x_ts, col_umn = 3, scale=True, lag=1):\n",
    "#     if len(x_ts.columns) == 7:\n",
    "#         re_turns = 0.5 * (x_ts[:][\"Bid.Price\"] + x_ts[:][\"Ask.Price\"])\n",
    "#     else:\n",
    "#         re_turns = x_ts[x_ts.columns[::ol_umn]]\n",
    "    \n",
    "#     re_turns = np.log(re_turns)\n",
    "#     re_turns = diff_xts(re_turns, lag=lag)\n",
    "#     if scale:\n",
    "#         a = np.multiply(np.diff(x_ts.index.values), 10e-10)\n",
    "#         print(a)\n",
    "# #         factor = np.concatenate((np.ones(lag), ))\n",
    "        "
   ]
  },
  {
   "cell_type": "code",
   "execution_count": 11,
   "metadata": {
    "collapsed": false
   },
   "outputs": [],
   "source": [
    "def run_returns(x_ts, col_umn = 3):\n",
    "    if len(x_ts.columns) == 7:\n",
    "        re_turns = 0.5 * (x_ts[:][\"Bid.Price\"] + x_ts[:][\"Ask.Price\"])\n",
    "    else:\n",
    "        re_turns = x_ts['SPY.Close']\n",
    "    return re_turns"
   ]
  },
  {
   "cell_type": "code",
   "execution_count": 12,
   "metadata": {
    "collapsed": false
   },
   "outputs": [
    {
     "data": {
      "text/plain": [
       "(625424,)"
      ]
     },
     "execution_count": 12,
     "metadata": {},
     "output_type": "execute_result"
    }
   ],
   "source": [
    "np.multiply(np.diff(spy.index.values), 10e-10).shape"
   ]
  },
  {
   "cell_type": "code",
   "execution_count": 13,
   "metadata": {
    "collapsed": false
   },
   "outputs": [
    {
     "data": {
      "text/plain": [
       "TIME\n",
       "2008-01-02 09:31:00    146.645\n",
       "2008-01-02 09:32:00    146.685\n",
       "2008-01-02 09:33:00    146.775\n",
       "2008-01-02 09:34:00    146.725\n",
       "2008-01-02 09:35:00    146.775\n",
       "Name: SPY.Close, dtype: float64"
      ]
     },
     "execution_count": 13,
     "metadata": {},
     "output_type": "execute_result"
    }
   ],
   "source": [
    "run_returns(spy).head()"
   ]
  },
  {
   "cell_type": "code",
   "execution_count": 14,
   "metadata": {
    "collapsed": false
   },
   "outputs": [],
   "source": [
    "re_turns = run_returns(spy)\n",
    "logged_re_turns = np.log(re_turns)\n",
    "logged_re_turns.head()\n",
    "intermediate = np.diff(logged_re_turns)"
   ]
  },
  {
   "cell_type": "code",
   "execution_count": 15,
   "metadata": {
    "collapsed": false
   },
   "outputs": [],
   "source": [
    "intermediate = np.concatenate(([0], intermediate))\n",
    "inx = np.array(spy.index.values, dtype=np.float64)"
   ]
  },
  {
   "cell_type": "code",
   "execution_count": 16,
   "metadata": {
    "collapsed": false
   },
   "outputs": [],
   "source": [
    "inx = np.array(np.multiply(np.diff(spy.index.values), 10e-10), dtype=np.float64)"
   ]
  },
  {
   "cell_type": "code",
   "execution_count": 17,
   "metadata": {
    "collapsed": false
   },
   "outputs": [],
   "source": [
    "inx = np.concatenate(([60], inx))"
   ]
  },
  {
   "cell_type": "code",
   "execution_count": 18,
   "metadata": {
    "collapsed": false
   },
   "outputs": [
    {
     "name": "stdout",
     "output_type": "stream",
     "text": [
      "(625425,)\n"
     ]
    }
   ],
   "source": [
    "print(inx.shape)\n",
    "returns_running = intermediate / inx"
   ]
  },
  {
   "cell_type": "code",
   "execution_count": 19,
   "metadata": {
    "collapsed": false
   },
   "outputs": [],
   "source": [
    "# def lag_xts(x_ts, k=-1, **kwargs):\n",
    "#     n_rows = x_ts.shape[0]\n",
    "#     fir_st = x_ts[0]\n",
    "#     la_st = x_ts[n_rows-1]\n",
    "#     x_ts = x_ts.shift(periods=k, **kwargs)\n",
    "#     if (k > 0):\n",
    "#         print(fir_st)\n",
    "#         x_ts[0:k] = fir_st\n",
    "#     else:\n",
    "#         x_ts[n_rows-1] = la_st\n",
    "#     return x_ts"
   ]
  },
  {
   "cell_type": "code",
   "execution_count": 20,
   "metadata": {
    "collapsed": false
   },
   "outputs": [],
   "source": [
    "def lag_xts(x_ts):\n",
    "    tmp = x_ts[1:]\n",
    "    return tmp"
   ]
  },
  {
   "cell_type": "code",
   "execution_count": 21,
   "metadata": {
    "collapsed": false
   },
   "outputs": [
    {
     "name": "stdout",
     "output_type": "stream",
     "text": [
      "[  4.54550623e-06   1.02228586e-05  -5.67859176e-06   5.67859176e-06\n",
      "  -4.54271862e-06  -1.59092729e-05  -3.41110657e-06   1.47764223e-05\n",
      "   9.08667575e-06   2.27089508e-06]\n"
     ]
    }
   ],
   "source": [
    "returns_advanced = lag_xts(returns_running)\n",
    "# returns_advanced.name = 'returns_advanced'\n",
    "print(returns_advanced[:10])"
   ]
  },
  {
   "cell_type": "code",
   "execution_count": 23,
   "metadata": {
    "collapsed": false
   },
   "outputs": [
    {
     "name": "stdout",
     "output_type": "stream",
     "text": [
      "                      returns  returns.WA5  variance      skew     hurst  \\\n",
      "TIME                                                                       \n",
      "2008-01-02 09:31:00  0.000000     0.000000  0.000000  0.000000  0.000000   \n",
      "2008-01-02 09:32:00  0.707107     0.707107  0.707107 -0.707107  0.000000   \n",
      "2008-01-02 09:33:00  1.034910     1.031794  1.027297 -0.901304  0.000000   \n",
      "2008-01-02 09:34:00 -1.177622    -0.712844  1.407897  1.277819  0.000000   \n",
      "2008-01-02 09:35:00  0.451147    -0.181499  0.593341 -1.669053 -1.788854   \n",
      "\n",
      "                     rets_var  \n",
      "TIME                           \n",
      "2008-01-02 09:31:00  0.000000  \n",
      "2008-01-02 09:32:00  0.707107  \n",
      "2008-01-02 09:33:00  1.133169  \n",
      "2008-01-02 09:34:00 -1.366479  \n",
      "2008-01-02 09:35:00  0.854902  \n",
      "(625325, 6)\n"
     ]
    }
   ],
   "source": [
    "# betas_running <- roll_pcr(x=SPY_design[\"2011/2012\", ], \n",
    "#                           y=returns_advanced[\"2011/2012\", ], \n",
    "#                           width=1*60, comps=1:1, min_obs=1)\n",
    "# x = spy_design['2008': '2008']\n",
    "# y = returns_advanced['2011': '2012']\n",
    "\n",
    "x = spy_design.ix[:625325, :]\n",
    "y =  returns_advanced[:625325]\n",
    "\n",
    "\n",
    "print(spy_design.head())\n",
    "print(x.shape)\n",
    "\n",
    "import pandas as pd\n",
    "import numpy as np\n",
    "import matplotlib.pyplot as plt\n",
    "\n",
    "from sklearn.preprocessing import scale\n",
    "from sklearn.decomposition import PCA\n",
    "from sklearn import cross_validation\n",
    "from sklearn.linear_model import LinearRegression\n",
    "\n",
    "%matplotlib inline"
   ]
  },
  {
   "cell_type": "markdown",
   "metadata": {},
   "source": [
    "**roll_pcr(x, y, width, comps = 1:ncol(x), weights = rep(1, width),\n",
    "  center = TRUE, scale = FALSE, min_obs = width, complete_obs = TRUE,\n",
    "  na_restore = FALSE, parallel_for = c(\"rows\", \"cols\"))\n",
    "Arguments\n",
    "x\n",
    "matrix or xts object. Rows are observations and columns are the independent variables.\n",
    "y\n",
    "matrix or xts object. Rows are observations and column is the dependent variable.\n",
    "width\n",
    "integer. Window size.\n",
    "comps\n",
    "integer vector. Select a subset of principal components.\n",
    "weights\n",
    "vector. Weights for each observation within a window.\n",
    "center\n",
    "logical. If TRUE then the weighted mean of each variable is used, if FALSE then zero is used.\n",
    "scale\n",
    "logical. If TRUE then the weighted standard deviation of each variable is used, if FALSE then no scaling is done.\n",
    "min_obs\n",
    "integer. Minimum number of observations required to have a value within a window, otherwise result is NA.\n",
    "complete_obs\n",
    "logical. If TRUE then rows containing any missing values are removed, if FALSE then pairwise is used.\n",
    "na_restore\n",
    "logical. Should missing values be restored?\n",
    "parallel_for\n",
    "character. Executes a \"for\" loop in which iterations run in parallel by rows or cols.\n",
    "Value\n",
    "A list containing the following components:\n",
    "coefficientsAn object of the same class and dimension as x with the rolling coefficients.\n",
    "r.squaredAn object of the same class as x with the rolling r-squareds.\n",
    "\n",
    "\n",
    "\n",
    "**The PCR method may be broadly divided into three major steps:**\n",
    "\n",
    "1.) \n",
    "\\;\\; Perform PCA on the observed data matrix for the explanatory variables to obtain the principal components, and then (usually) select a subset, based on some appropriate criteria, of the principal components so obtained for further use.\n",
    "\n",
    "2.) \n",
    "\\;\\; Now regress the observed vector of outcomes on the selected principal components as covariates, using ordinary least squares regression (linear regression) to get a vector of estimated regression coefficients (with dimension equal to the number of selected principal components).\n",
    "\n",
    "3.) \n",
    "\\;\\; Now transform this vector back to the scale of the actual covariates, using the selected PCA loadings (the eigenvectors corresponding to the selected principal components) to get the final PCR estimator (with dimension equal to the total number of covariates) for estimating the regression coefficients characterizing the original model.\n"
   ]
  },
  {
   "cell_type": "code",
   "execution_count": 26,
   "metadata": {
    "collapsed": false
   },
   "outputs": [],
   "source": [
    "from sklearn.decomposition import PCA\n",
    "from sklearn.linear_model import LinearRegression\n",
    "from sklearn.pipeline import Pipeline\n",
    "\n",
    "pca = PCA(n_components=2)\n",
    "cls = LinearRegression(n_jobs=8) \n",
    "\n",
    "pipe = Pipeline([('pca', pca), ('linear', cls)])"
   ]
  },
  {
   "cell_type": "code",
   "execution_count": 27,
   "metadata": {
    "collapsed": false
   },
   "outputs": [],
   "source": [
    "target = np.asarray(y, dtype=np.float64)"
   ]
  },
  {
   "cell_type": "code",
   "execution_count": 28,
   "metadata": {
    "collapsed": false
   },
   "outputs": [
    {
     "data": {
      "text/plain": [
       "Pipeline(steps=[('pca', PCA(copy=True, n_components=2, whiten=False)), ('linear', LinearRegression(copy_X=True, fit_intercept=True, n_jobs=8, normalize=False))])"
      ]
     },
     "execution_count": 28,
     "metadata": {},
     "output_type": "execute_result"
    }
   ],
   "source": [
    "pipe.fit(x, y)"
   ]
  },
  {
   "cell_type": "code",
   "execution_count": 29,
   "metadata": {
    "collapsed": true
   },
   "outputs": [],
   "source": [
    "# features_valid = spy_design['2012':]\n",
    "features_valid = spy_design.ix[625325:, :]\n",
    "real_target = returns_advanced[625325:]\n",
    "# real_target = returns_advanced['2012':]"
   ]
  },
  {
   "cell_type": "code",
   "execution_count": 30,
   "metadata": {
    "collapsed": false
   },
   "outputs": [],
   "source": [
    "# r = pipe.predict(spy_design['2012':])\n",
    "r = pipe.predict(spy_design.ix[625325:, :])"
   ]
  },
  {
   "cell_type": "code",
   "execution_count": 31,
   "metadata": {
    "collapsed": false
   },
   "outputs": [
    {
     "name": "stdout",
     "output_type": "stream",
     "text": [
      "100\n",
      "625325\n"
     ]
    },
    {
     "data": {
      "text/plain": [
       "6.1948154935098643e-05"
      ]
     },
     "execution_count": 31,
     "metadata": {},
     "output_type": "execute_result"
    }
   ],
   "source": [
    "print(len(r))\n",
    "print(len(x))\n",
    "pipe.score(x, y)\n"
   ]
  },
  {
   "cell_type": "code",
   "execution_count": 36,
   "metadata": {
    "collapsed": false
   },
   "outputs": [
    {
     "name": "stdout",
     "output_type": "stream",
     "text": [
      "58\n"
     ]
    },
    {
     "data": {
      "text/plain": [
       "0.072499999999999995"
      ]
     },
     "execution_count": 36,
     "metadata": {},
     "output_type": "execute_result"
    }
   ],
   "source": [
    "ratio_v = r[:99]/real_target[:99]\n",
    "#fig, ax = plt.subplots()\n",
    "#ax.plot(ratio_v)\n",
    "#ax.plot(real_target[:500])\n",
    "direction_v = np.sum(ratio_v>0.)\n",
    "print(direction_v)\n",
    "direction_v*1.0/800"
   ]
  },
  {
   "cell_type": "code",
   "execution_count": 37,
   "metadata": {
    "collapsed": false
   },
   "outputs": [
    {
     "data": {
      "text/plain": [
       "[<matplotlib.lines.Line2D at 0x113a05be0>]"
      ]
     },
     "execution_count": 37,
     "metadata": {},
     "output_type": "execute_result"
    },
    {
     "data": {
      "image/png": "[encoded data removed]",
      "text/plain": [
       "<matplotlib.figure.Figure at 0x10e8f6550>"
      ]
     },
     "metadata": {},
     "output_type": "display_data"
    }
   ],
   "source": [
    "plt.plot(spy_design.ix[:5000, 2], y[:5000], 'o')"
   ]
  },
  {
   "cell_type": "code",
   "execution_count": 38,
   "metadata": {
    "collapsed": false
   },
   "outputs": [
    {
     "data": {
      "text/plain": [
       "(625425, 6)"
      ]
     },
     "execution_count": 38,
     "metadata": {},
     "output_type": "execute_result"
    }
   ],
   "source": [
    "spy_design.shape"
   ]
  },
  {
   "cell_type": "code",
   "execution_count": 39,
   "metadata": {
    "collapsed": false
   },
   "outputs": [
    {
     "name": "stderr",
     "output_type": "stream",
     "text": [
      "//anaconda/envs/dev/lib/python3.5/site-packages/ipykernel/__main__.py:2: SettingWithCopyWarning: \n",
      "A value is trying to be set on a copy of a slice from a DataFrame.\n",
      "Try using .loc[row_indexer,col_indexer] = value instead\n",
      "\n",
      "See the caveats in the documentation: http://pandas.pydata.org/pandas-docs/stable/indexing.html#indexing-view-versus-copy\n",
      "  from ipykernel import kernelapp as app\n"
     ]
    }
   ],
   "source": [
    "spy_design0 = spy_design.ix[:50000,:]\n",
    "spy_design0['y'] = y[:50000]"
   ]
  },
  {
   "cell_type": "code",
   "execution_count": 40,
   "metadata": {
    "collapsed": false
   },
   "outputs": [
    {
     "data": {
      "text/html": [
       "<div>\n",
       "<table border=\"1\" class=\"dataframe\">\n",
       "  <thead>\n",
       "    <tr style=\"text-align: right;\">\n",
       "      <th></th>\n",
       "      <th>returns</th>\n",
       "      <th>returns.WA5</th>\n",
       "      <th>variance</th>\n",
       "      <th>skew</th>\n",
       "      <th>hurst</th>\n",
       "      <th>rets_var</th>\n",
       "      <th>y</th>\n",
       "    </tr>\n",
       "  </thead>\n",
       "  <tbody>\n",
       "    <tr>\n",
       "      <th>returns</th>\n",
       "      <td>1.000000</td>\n",
       "      <td>0.417326</td>\n",
       "      <td>0.001088</td>\n",
       "      <td>0.109742</td>\n",
       "      <td>-0.007126</td>\n",
       "      <td>0.721140</td>\n",
       "      <td>-0.011078</td>\n",
       "    </tr>\n",
       "    <tr>\n",
       "      <th>returns.WA5</th>\n",
       "      <td>0.417326</td>\n",
       "      <td>1.000000</td>\n",
       "      <td>-0.007556</td>\n",
       "      <td>0.069680</td>\n",
       "      <td>0.005936</td>\n",
       "      <td>0.399558</td>\n",
       "      <td>-0.010944</td>\n",
       "    </tr>\n",
       "    <tr>\n",
       "      <th>variance</th>\n",
       "      <td>0.001088</td>\n",
       "      <td>-0.007556</td>\n",
       "      <td>1.000000</td>\n",
       "      <td>-0.019290</td>\n",
       "      <td>0.047379</td>\n",
       "      <td>0.011204</td>\n",
       "      <td>0.010851</td>\n",
       "    </tr>\n",
       "    <tr>\n",
       "      <th>skew</th>\n",
       "      <td>0.109742</td>\n",
       "      <td>0.069680</td>\n",
       "      <td>-0.019290</td>\n",
       "      <td>1.000000</td>\n",
       "      <td>-0.000791</td>\n",
       "      <td>0.211901</td>\n",
       "      <td>-0.004558</td>\n",
       "    </tr>\n",
       "    <tr>\n",
       "      <th>hurst</th>\n",
       "      <td>-0.007126</td>\n",
       "      <td>0.005936</td>\n",
       "      <td>0.047379</td>\n",
       "      <td>-0.000791</td>\n",
       "      <td>1.000000</td>\n",
       "      <td>-0.005015</td>\n",
       "      <td>-0.002745</td>\n",
       "    </tr>\n",
       "    <tr>\n",
       "      <th>rets_var</th>\n",
       "      <td>0.721140</td>\n",
       "      <td>0.399558</td>\n",
       "      <td>0.011204</td>\n",
       "      <td>0.211901</td>\n",
       "      <td>-0.005015</td>\n",
       "      <td>1.000000</td>\n",
       "      <td>-0.001353</td>\n",
       "    </tr>\n",
       "    <tr>\n",
       "      <th>y</th>\n",
       "      <td>-0.011078</td>\n",
       "      <td>-0.010944</td>\n",
       "      <td>0.010851</td>\n",
       "      <td>-0.004558</td>\n",
       "      <td>-0.002745</td>\n",
       "      <td>-0.001353</td>\n",
       "      <td>1.000000</td>\n",
       "    </tr>\n",
       "  </tbody>\n",
       "</table>\n",
       "</div>"
      ],
      "text/plain": [
       "              returns  returns.WA5  variance      skew     hurst  rets_var  \\\n",
       "returns      1.000000     0.417326  0.001088  0.109742 -0.007126  0.721140   \n",
       "returns.WA5  0.417326     1.000000 -0.007556  0.069680  0.005936  0.399558   \n",
       "variance     0.001088    -0.007556  1.000000 -0.019290  0.047379  0.011204   \n",
       "skew         0.109742     0.069680 -0.019290  1.000000 -0.000791  0.211901   \n",
       "hurst       -0.007126     0.005936  0.047379 -0.000791  1.000000 -0.005015   \n",
       "rets_var     0.721140     0.399558  0.011204  0.211901 -0.005015  1.000000   \n",
       "y           -0.011078    -0.010944  0.010851 -0.004558 -0.002745 -0.001353   \n",
       "\n",
       "                    y  \n",
       "returns     -0.011078  \n",
       "returns.WA5 -0.010944  \n",
       "variance     0.010851  \n",
       "skew        -0.004558  \n",
       "hurst       -0.002745  \n",
       "rets_var    -0.001353  \n",
       "y            1.000000  "
      ]
     },
     "execution_count": 40,
     "metadata": {},
     "output_type": "execute_result"
    }
   ],
   "source": [
    "pd.DataFrame.corr(spy_design0)"
   ]
  },
  {
   "cell_type": "code",
   "execution_count": 165,
   "metadata": {
    "collapsed": true
   },
   "outputs": [],
   "source": [
    "pca = PCA(n_components=5)\n",
    "cls = LinearRegression(n_jobs=8) \n",
    "\n",
    "pipe = Pipeline([('linear', cls)])"
   ]
  },
  {
   "cell_type": "code",
   "execution_count": 167,
   "metadata": {
    "collapsed": false
   },
   "outputs": [],
   "source": [
    "pipe.fit(x, y)\n",
    "r = pipe.predict(spy_design.ix[66999:, :])"
   ]
  },
  {
   "cell_type": "code",
   "execution_count": 168,
   "metadata": {
    "collapsed": false
   },
   "outputs": [
    {
     "name": "stdout",
     "output_type": "stream",
     "text": [
      "398\n"
     ]
    },
    {
     "data": {
      "text/plain": [
       "0.4975"
      ]
     },
     "execution_count": 168,
     "metadata": {},
     "output_type": "execute_result"
    }
   ],
   "source": [
    "ratio_v = r[:800]/real_target[:800]\n",
    "#fig, ax = plt.subplots()\n",
    "#ax.plot(ratio_v)\n",
    "#ax.plot(real_target[:500])\n",
    "direction_v = np.sum(ratio_v>0.)\n",
    "print(direction_v)\n",
    "direction_v*1.0/800"
   ]
  },
  {
   "cell_type": "code",
   "execution_count": null,
   "metadata": {
    "collapsed": true
   },
   "outputs": [],
   "source": []
  }
 ],
 "metadata": {
  "kernelspec": {
   "display_name": "Python 3",
   "language": "python",
   "name": "python3"
  },
  "language_info": {
   "codemirror_mode": {
    "name": "ipython",
    "version": 3
   },
   "file_extension": ".py",
   "mimetype": "text/x-python",
   "name": "python",
   "nbconvert_exporter": "python",
   "pygments_lexer": "ipython3",
   "version": "3.5.2"
  }
 },
 "nbformat": 4,
 "nbformat_minor": 1
}
