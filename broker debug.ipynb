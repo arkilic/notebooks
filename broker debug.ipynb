{
 "cells": [
  {
   "cell_type": "code",
   "execution_count": 11,
   "metadata": {
    "collapsed": true
   },
   "outputs": [],
   "source": [
    "import uuid\n",
    "import logging\n",
    "import time as ttime\n",
    "from databroker import DataBroker as db, get_events, get_table\n",
    "from databroker.examples.sample_data import (temperature_ramp, image_and_scalar,\n",
    "                                    step_scan)\n",
    "from metadataclient.api import *"
   ]
  },
  {
   "cell_type": "code",
   "execution_count": 12,
   "metadata": {
    "collapsed": false
   },
   "outputs": [
    {
     "name": "stdout",
     "output_type": "stream",
     "text": [
      "e1ebfe0d-710b-4b64-bbc0-ffb2193110bd\n",
      "\n",
      "header\n",
      "======\n",
      "stop            : None                                    \n",
      "  \n",
      "  RunStart\n",
      "  --------\n",
      "  beamline_id     : example                                 \n",
      "  custom          :\n",
      "  group           :                                         \n",
      "  owner           : docbrown                                \n",
      "  project         :                                         \n",
      "  scan_id         : 314160                                  \n",
      "  time            : 0.0                                     \n",
      "  uid             : e1ebfe0d-710b-4b64-bbc0-ffb2193110bd    \n"
     ]
    }
   ],
   "source": [
    "i = 0\n",
    "rd0 = insert_run_start(time=float(i), scan_id=i + 1 + 314159,\n",
    "                            owner='docbrown', beamline_id='example',\n",
    "                            uid=str(uuid.uuid4()))\n",
    "\n",
    "print(rd0)\n",
    "header = db[i+1+314159]\n",
    "print(header)"
   ]
  },
  {
   "cell_type": "code",
   "execution_count": 13,
   "metadata": {
    "collapsed": false
   },
   "outputs": [],
   "source": [
    "rd1 = [insert_run_start(time=float(i), scan_id=i + 1 + 314159,\n",
    "                            owner='docbrown', beamline_id='example',\n",
    "                            uid=str(uuid.uuid4())) for i in range(5)]\n",
    "\n",
    "rd2 = [insert_run_start(time=float(i)+1, scan_id=i + 1 + 314159,\n",
    "                            owner='nedbrainard', beamline_id='example',\n",
    "                            uid=str(uuid.uuid4())) for i in range(5)]"
   ]
  },
  {
   "cell_type": "code",
   "execution_count": 14,
   "metadata": {
    "collapsed": true
   },
   "outputs": [],
   "source": [
    "header = db[3 + 314159]\n"
   ]
  },
  {
   "cell_type": "code",
   "execution_count": 17,
   "metadata": {
    "collapsed": false
   },
   "outputs": [
    {
     "name": "stdout",
     "output_type": "stream",
     "text": [
      "314162 314162\n",
      "3b69f7d4-8e76-40fe-842c-d20a320624d5\n",
      "3b69f7d4-8e76-40fe-842c-d20a320624d5\n"
     ]
    }
   ],
   "source": [
    "scan_id = header['start']['scan_id']\n",
    "owner = header['start']['owner']\n",
    "print(scan_id, 3 + 314159)\n",
    "\n",
    "# print(db[3 + 314159])\n",
    "print(rd2[2])\n",
    "print(header['start']['uid'])\n",
    "#     assert_equal(rd2[2], header['start']['uid'])\n",
    "#     # This should be the most *recent* Scan 3 + 314159. There is ambiguity.\n",
    "#     assert_equal(owner, 'nedbrainard')"
   ]
  },
  {
   "cell_type": "code",
   "execution_count": null,
   "metadata": {
    "collapsed": false
   },
   "outputs": [],
   "source": [
    "print(scan_id)"
   ]
  },
  {
   "cell_type": "code",
   "execution_count": null,
   "metadata": {
    "collapsed": true
   },
   "outputs": [],
   "source": []
  }
 ],
 "metadata": {
  "kernelspec": {
   "display_name": "Python 3",
   "language": "python",
   "name": "python3"
  },
  "language_info": {
   "codemirror_mode": {
    "name": "ipython",
    "version": 3
   },
   "file_extension": ".py",
   "mimetype": "text/x-python",
   "name": "python",
   "nbconvert_exporter": "python",
   "pygments_lexer": "ipython3",
   "version": "3.4.3"
  }
 },
 "nbformat": 4,
 "nbformat_minor": 0
}
