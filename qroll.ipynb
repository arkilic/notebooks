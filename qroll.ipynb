{
 "cells": [
  {
   "cell_type": "code",
   "execution_count": 1,
   "metadata": {
    "collapsed": false
   },
   "outputs": [],
   "source": [
    "import pandas as pd\n",
    "import numpy as np\n",
    "\n",
    "\n",
    "def my_reducer(a):\n",
    "    return pd.to_datetime(a[0])\n",
    "\n",
    "reducer = np.vectorize(my_reducer)"
   ]
  },
  {
   "cell_type": "code",
   "execution_count": 2,
   "metadata": {
    "collapsed": false
   },
   "outputs": [],
   "source": [
    "spy = pd.read_csv('/Users/arkilic/Desktop/spy.csv', \n",
    "                      header=0, sep=' ')\n",
    "spy_design = pd.read_csv('/Users/arkilic/Desktop/spy_design.csv', \n",
    "                         header=0, sep=' ',  parse_dates=True)\n",
    "spy_indices = spy.index.values\n",
    "spy_design_indices = spy_design.index.values\n",
    "\n",
    "\n",
    "spy_indexes = reducer(spy_indices)\n",
    "spy['TIME'] = spy_indexes\n",
    "\n",
    "spy_design_indexes = reducer(spy_design_indices)\n",
    "spy_design['TIME'] = spy_design_indexes\n",
    "\n",
    "spy = spy.set_index('TIME')\n",
    "spy_design = spy_design.set_index('TIME')"
   ]
  },
  {
   "cell_type": "code",
   "execution_count": 3,
   "metadata": {
    "collapsed": false
   },
   "outputs": [
    {
     "data": {
      "text/html": [
       "<div>\n",
       "<table border=\"1\" class=\"dataframe\">\n",
       "  <thead>\n",
       "    <tr style=\"text-align: right;\">\n",
       "      <th></th>\n",
       "      <th>SPY.Open</th>\n",
       "      <th>SPY.High</th>\n",
       "      <th>SPY.Low</th>\n",
       "      <th>SPY.Close</th>\n",
       "      <th>SPY.Volume</th>\n",
       "    </tr>\n",
       "    <tr>\n",
       "      <th>TIME</th>\n",
       "      <th></th>\n",
       "      <th></th>\n",
       "      <th></th>\n",
       "      <th></th>\n",
       "      <th></th>\n",
       "    </tr>\n",
       "  </thead>\n",
       "  <tbody>\n",
       "    <tr>\n",
       "      <th>2008-01-02 09:31:00</th>\n",
       "      <td>146.535</td>\n",
       "      <td>146.645</td>\n",
       "      <td>146.535</td>\n",
       "      <td>146.645</td>\n",
       "      <td>591203.0</td>\n",
       "    </tr>\n",
       "    <tr>\n",
       "      <th>2008-01-02 09:32:00</th>\n",
       "      <td>146.645</td>\n",
       "      <td>146.685</td>\n",
       "      <td>146.635</td>\n",
       "      <td>146.685</td>\n",
       "      <td>385457.0</td>\n",
       "    </tr>\n",
       "    <tr>\n",
       "      <th>2008-01-02 09:33:00</th>\n",
       "      <td>146.685</td>\n",
       "      <td>146.775</td>\n",
       "      <td>146.680</td>\n",
       "      <td>146.775</td>\n",
       "      <td>343700.0</td>\n",
       "    </tr>\n",
       "    <tr>\n",
       "      <th>2008-01-02 09:34:00</th>\n",
       "      <td>146.725</td>\n",
       "      <td>146.755</td>\n",
       "      <td>146.705</td>\n",
       "      <td>146.725</td>\n",
       "      <td>863418.0</td>\n",
       "    </tr>\n",
       "    <tr>\n",
       "      <th>2008-01-02 09:35:00</th>\n",
       "      <td>146.705</td>\n",
       "      <td>146.775</td>\n",
       "      <td>146.685</td>\n",
       "      <td>146.775</td>\n",
       "      <td>457500.0</td>\n",
       "    </tr>\n",
       "  </tbody>\n",
       "</table>\n",
       "</div>"
      ],
      "text/plain": [
       "                     SPY.Open  SPY.High  SPY.Low  SPY.Close  SPY.Volume\n",
       "TIME                                                                   \n",
       "2008-01-02 09:31:00   146.535   146.645  146.535    146.645    591203.0\n",
       "2008-01-02 09:32:00   146.645   146.685  146.635    146.685    385457.0\n",
       "2008-01-02 09:33:00   146.685   146.775  146.680    146.775    343700.0\n",
       "2008-01-02 09:34:00   146.725   146.755  146.705    146.725    863418.0\n",
       "2008-01-02 09:35:00   146.705   146.775  146.685    146.775    457500.0"
      ]
     },
     "execution_count": 3,
     "metadata": {},
     "output_type": "execute_result"
    }
   ],
   "source": [
    "spy_data = spy.ix[:, 1:6]\n",
    "spy_data.head()"
   ]
  },
  {
   "cell_type": "code",
   "execution_count": 4,
   "metadata": {
    "collapsed": false
   },
   "outputs": [],
   "source": [
    "spy_design_data = spy_design.ix[:, 1:7]\n",
    "spy_design_data.head()\n",
    "\n",
    "\n",
    "spy = spy_data\n",
    "spy_design = spy_design_data"
   ]
  },
  {
   "cell_type": "code",
   "execution_count": 5,
   "metadata": {
    "collapsed": false
   },
   "outputs": [
    {
     "data": {
      "text/html": [
       "<div>\n",
       "<table border=\"1\" class=\"dataframe\">\n",
       "  <thead>\n",
       "    <tr style=\"text-align: right;\">\n",
       "      <th></th>\n",
       "      <th>returns</th>\n",
       "      <th>returns.WA5</th>\n",
       "      <th>variance</th>\n",
       "      <th>skew</th>\n",
       "      <th>hurst</th>\n",
       "      <th>rets_var</th>\n",
       "    </tr>\n",
       "    <tr>\n",
       "      <th>TIME</th>\n",
       "      <th></th>\n",
       "      <th></th>\n",
       "      <th></th>\n",
       "      <th></th>\n",
       "      <th></th>\n",
       "      <th></th>\n",
       "    </tr>\n",
       "  </thead>\n",
       "  <tbody>\n",
       "    <tr>\n",
       "      <th>2008-01-02 09:31:00</th>\n",
       "      <td>0.000000</td>\n",
       "      <td>0.000000</td>\n",
       "      <td>0.000000</td>\n",
       "      <td>0.000000</td>\n",
       "      <td>0.000000</td>\n",
       "      <td>0.000000</td>\n",
       "    </tr>\n",
       "    <tr>\n",
       "      <th>2008-01-02 09:32:00</th>\n",
       "      <td>0.707107</td>\n",
       "      <td>0.707107</td>\n",
       "      <td>0.707107</td>\n",
       "      <td>-0.707107</td>\n",
       "      <td>0.000000</td>\n",
       "      <td>0.707107</td>\n",
       "    </tr>\n",
       "    <tr>\n",
       "      <th>2008-01-02 09:33:00</th>\n",
       "      <td>1.034910</td>\n",
       "      <td>1.031794</td>\n",
       "      <td>1.027297</td>\n",
       "      <td>-0.901304</td>\n",
       "      <td>0.000000</td>\n",
       "      <td>1.133169</td>\n",
       "    </tr>\n",
       "    <tr>\n",
       "      <th>2008-01-02 09:34:00</th>\n",
       "      <td>-1.177622</td>\n",
       "      <td>-0.712844</td>\n",
       "      <td>1.407897</td>\n",
       "      <td>1.277819</td>\n",
       "      <td>0.000000</td>\n",
       "      <td>-1.366479</td>\n",
       "    </tr>\n",
       "    <tr>\n",
       "      <th>2008-01-02 09:35:00</th>\n",
       "      <td>0.451147</td>\n",
       "      <td>-0.181499</td>\n",
       "      <td>0.593341</td>\n",
       "      <td>-1.669053</td>\n",
       "      <td>-1.788854</td>\n",
       "      <td>0.854902</td>\n",
       "    </tr>\n",
       "  </tbody>\n",
       "</table>\n",
       "</div>"
      ],
      "text/plain": [
       "                      returns  returns.WA5  variance      skew     hurst  \\\n",
       "TIME                                                                       \n",
       "2008-01-02 09:31:00  0.000000     0.000000  0.000000  0.000000  0.000000   \n",
       "2008-01-02 09:32:00  0.707107     0.707107  0.707107 -0.707107  0.000000   \n",
       "2008-01-02 09:33:00  1.034910     1.031794  1.027297 -0.901304  0.000000   \n",
       "2008-01-02 09:34:00 -1.177622    -0.712844  1.407897  1.277819  0.000000   \n",
       "2008-01-02 09:35:00  0.451147    -0.181499  0.593341 -1.669053 -1.788854   \n",
       "\n",
       "                     rets_var  \n",
       "TIME                           \n",
       "2008-01-02 09:31:00  0.000000  \n",
       "2008-01-02 09:32:00  0.707107  \n",
       "2008-01-02 09:33:00  1.133169  \n",
       "2008-01-02 09:34:00 -1.366479  \n",
       "2008-01-02 09:35:00  0.854902  "
      ]
     },
     "execution_count": 5,
     "metadata": {},
     "output_type": "execute_result"
    }
   ],
   "source": [
    "spy_design.head()"
   ]
  },
  {
   "cell_type": "code",
   "execution_count": 6,
   "metadata": {
    "collapsed": false
   },
   "outputs": [],
   "source": [
    "def diff_xts(x_ts, lag=1, differences=1, arithmetic=True):\n",
    "    # Uses something along the lines of numpy.diff for lag\n",
    "    \"\"\"\n",
    "    Parameters\n",
    "    ----------\n",
    "    x_ts: pd.DataFrame\n",
    "        Raw data\n",
    "    lag: int\n",
    "        period to difference over\n",
    "    differences: int\n",
    "        order of differencing\n",
    "    arithmetic: bool\n",
    "        should arithmetic or geometric differencing be used\n",
    "    \"\"\"\n",
    "    if lag != 1:\n",
    "        raise NotImplementedError('Period other than 1 has not beein implemented yet')\n",
    "    res = np.zeros(x_ts.shape[0])\n",
    "    res[1:] = np.diff(x_ts.ix[:, 1])\n",
    "    return  res# vectorized diff over given period"
   ]
  },
  {
   "cell_type": "code",
   "execution_count": 10,
   "metadata": {
    "collapsed": false
   },
   "outputs": [],
   "source": [
    "def run_returns(x_ts, col_umn = 3):\n",
    "    if len(x_ts.columns) == 7:\n",
    "        re_turns = 0.5 * (x_ts[:][\"Bid.Price\"] + x_ts[:][\"Ask.Price\"])\n",
    "    else:\n",
    "        re_turns = x_ts[x_ts.columns[::col_umn]]\n",
    "    ind_diff = np.ones(x_ts.shape[0])    \n",
    "    ind_diff[1:] = np.multiply(np.diff(x_ts.index.values), 10e-10)\n",
    "    x_ts['returns'] = 86400 * diff_xts(re_turns) / ind_diff\n",
    "    return x_ts"
   ]
  },
  {
   "cell_type": "code",
   "execution_count": 11,
   "metadata": {
    "collapsed": false
   },
   "outputs": [],
   "source": [
    "returns_running = run_returns(spy)['returns']"
   ]
  },
  {
   "cell_type": "code",
   "execution_count": 12,
   "metadata": {
    "collapsed": false
   },
   "outputs": [
    {
     "data": {
      "text/plain": [
       "TIME\n",
       "2008-01-02 09:31:00      0.0\n",
       "2008-01-02 09:32:00     57.6\n",
       "2008-01-02 09:33:00    129.6\n",
       "2008-01-02 09:34:00    -72.0\n",
       "2008-01-02 09:35:00     72.0\n",
       "Name: returns, dtype: float64"
      ]
     },
     "execution_count": 12,
     "metadata": {},
     "output_type": "execute_result"
    }
   ],
   "source": [
    "returns_running.head()"
   ]
  },
  {
   "cell_type": "code",
   "execution_count": 13,
   "metadata": {
    "collapsed": false
   },
   "outputs": [
    {
     "name": "stdout",
     "output_type": "stream",
     "text": [
      "The slowest run took 5.95 times longer than the fastest. This could mean that an intermediate result is being cached.\n",
      "10 loops, best of 3: 15.9 ms per loop\n"
     ]
    }
   ],
   "source": [
    "%timeit run_returns(spy)"
   ]
  },
  {
   "cell_type": "code",
   "execution_count": 26,
   "metadata": {
    "collapsed": false
   },
   "outputs": [],
   "source": [
    "def lag_xts(x_ts, k=-1, **kwargs):\n",
    "    n_rows = x_ts.shape[0]\n",
    "    fir_st = x_ts[0]\n",
    "    la_st = x_ts[n_rows-1]\n",
    "    x_ts = x_ts.shift(periods=k, **kwargs)\n",
    "    if (k > 0):\n",
    "        print(fir_st)\n",
    "        x_ts[0:k] = fir_st\n",
    "    else:\n",
    "        x_ts[n_rows-1] = la_st\n",
    "    return x_ts"
   ]
  },
  {
   "cell_type": "code",
   "execution_count": 27,
   "metadata": {
    "collapsed": false
   },
   "outputs": [
    {
     "name": "stdout",
     "output_type": "stream",
     "text": [
      "TIME\n",
      "2008-01-02 09:31:00     57.6\n",
      "2008-01-02 09:32:00    129.6\n",
      "2008-01-02 09:33:00    -72.0\n",
      "2008-01-02 09:34:00     72.0\n",
      "2008-01-02 09:35:00    -57.6\n",
      "Name: returns_advanced, dtype: float64\n"
     ]
    }
   ],
   "source": [
    "returns_advanced = lag_xts(returns_running)\n",
    "returns_advanced.name = 'returns_advanced'\n",
    "print(returns_advanced.head())"
   ]
  },
  {
   "cell_type": "code",
   "execution_count": 28,
   "metadata": {
    "collapsed": false
   },
   "outputs": [
    {
     "name": "stderr",
     "output_type": "stream",
     "text": [
      "//anaconda/envs/quantdev/lib/python3.5/site-packages/sklearn/cross_validation.py:44: DeprecationWarning: This module was deprecated in version 0.18 in favor of the model_selection module into which all the refactored classes and functions are moved. Also note that the interface of the new CV iterators are different from that of this module. This module will be removed in 0.20.\n",
      "  \"This module will be removed in 0.20.\", DeprecationWarning)\n"
     ]
    }
   ],
   "source": [
    "# betas_running <- roll_pcr(x=SPY_design[\"2011/2012\", ], \n",
    "#                           y=returns_advanced[\"2011/2012\", ], \n",
    "#                           width=1*60, comps=1:1, min_obs=1)\n",
    "x = spy_design['2011': '2012']\n",
    "y = returns_advanced['2011': '2012']\n",
    "\n",
    "import pandas as pd\n",
    "import numpy as np\n",
    "import matplotlib.pyplot as plt\n",
    "\n",
    "from sklearn.preprocessing import scale\n",
    "from sklearn.decomposition import PCA\n",
    "from sklearn import cross_validation\n",
    "from sklearn.linear_model import LinearRegression\n",
    "\n",
    "%matplotlib inline"
   ]
  },
  {
   "cell_type": "markdown",
   "metadata": {},
   "source": [
    "**roll_pcr(x, y, width, comps = 1:ncol(x), weights = rep(1, width),\n",
    "  center = TRUE, scale = FALSE, min_obs = width, complete_obs = TRUE,\n",
    "  na_restore = FALSE, parallel_for = c(\"rows\", \"cols\"))\n",
    "Arguments\n",
    "x\n",
    "matrix or xts object. Rows are observations and columns are the independent variables.\n",
    "y\n",
    "matrix or xts object. Rows are observations and column is the dependent variable.\n",
    "width\n",
    "integer. Window size.\n",
    "comps\n",
    "integer vector. Select a subset of principal components.\n",
    "weights\n",
    "vector. Weights for each observation within a window.\n",
    "center\n",
    "logical. If TRUE then the weighted mean of each variable is used, if FALSE then zero is used.\n",
    "scale\n",
    "logical. If TRUE then the weighted standard deviation of each variable is used, if FALSE then no scaling is done.\n",
    "min_obs\n",
    "integer. Minimum number of observations required to have a value within a window, otherwise result is NA.\n",
    "complete_obs\n",
    "logical. If TRUE then rows containing any missing values are removed, if FALSE then pairwise is used.\n",
    "na_restore\n",
    "logical. Should missing values be restored?\n",
    "parallel_for\n",
    "character. Executes a \"for\" loop in which iterations run in parallel by rows or cols.\n",
    "Value\n",
    "A list containing the following components:\n",
    "coefficientsAn object of the same class and dimension as x with the rolling coefficients.\n",
    "r.squaredAn object of the same class as x with the rolling r-squareds.\n",
    "\n",
    "\n",
    "\n",
    "**The PCR method may be broadly divided into three major steps:**\n",
    "\n",
    "1.) \n",
    "\\;\\; Perform PCA on the observed data matrix for the explanatory variables to obtain the principal components, and then (usually) select a subset, based on some appropriate criteria, of the principal components so obtained for further use.\n",
    "\n",
    "2.) \n",
    "\\;\\; Now regress the observed vector of outcomes on the selected principal components as covariates, using ordinary least squares regression (linear regression) to get a vector of estimated regression coefficients (with dimension equal to the number of selected principal components).\n",
    "\n",
    "3.) \n",
    "\\;\\; Now transform this vector back to the scale of the actual covariates, using the selected PCA loadings (the eigenvectors corresponding to the selected principal components) to get the final PCR estimator (with dimension equal to the total number of covariates) for estimating the regression coefficients characterizing the original model.\n"
   ]
  },
  {
   "cell_type": "code",
   "execution_count": null,
   "metadata": {
    "collapsed": false
   },
   "outputs": [],
   "source": [
    "from sklearn import linear_model, decomposition\n",
    "from sklearn.pipeline import Pipeline\n",
    "from sklearn.model_selection import GridSearchCV\n",
    "\n",
    "linear = linear_model.LinearRegression()\n",
    "# use linear regression instead\n",
    "\n",
    "pca = decomposition.PCA()\n",
    "pipe = Pipeline(steps=[('pca', pca), ('linear', linear)])\n",
    "\n",
    "pca.fit(x)\n",
    "\n",
    "plt.figure(1, figsize=(4, 3))\n",
    "plt.clf()\n",
    "plt.axes([.2, .2, .7, .7])\n",
    "plt.plot(pca.explained_variance_, linewidth=2)\n",
    "plt.axis('tight')\n",
    "plt.xlabel('n_components')\n",
    "plt.ylabel('explained_variance_')"
   ]
  },
  {
   "cell_type": "code",
   "execution_count": null,
   "metadata": {
    "collapsed": false
   },
   "outputs": [],
   "source": [
    "n_components = [1, 2, 4]\n",
    "Cs = np.logspace(-4, 4, 3)\n",
    "\n",
    "#Parameters of pipelines can be set using ‘__’ separated parameter names:\n",
    "\n",
    "estimator = GridSearchCV(pipe,\n",
    "                         dict(pca__n_components=n_components,\n",
    "                              logistic__C=Cs))\n",
    "estimator.fit(x, y)\n",
    "\n",
    "# plt.axvline(estimator.best_estimator_.named_steps['pca'].n_components,\n",
    "#             linestyle=':', label='n_components chosen')\n",
    "# plt.legend(prop=dict(size=12))\n",
    "# plt.show()\n"
   ]
  },
  {
   "cell_type": "code",
   "execution_count": null,
   "metadata": {
    "collapsed": true
   },
   "outputs": [],
   "source": [
    "pca = PCA(n_components=1)"
   ]
  },
  {
   "cell_type": "code",
   "execution_count": null,
   "metadata": {
    "collapsed": false
   },
   "outputs": [],
   "source": [
    "pca.fit_transform(x, y)\n",
    "print(pca.explained_variance_ratio_) \n",
    "np.cumsum(np.round(pca.explained_variance_ratio_, decimals=4)*100)\n"
   ]
  },
  {
   "cell_type": "code",
   "execution_count": null,
   "metadata": {
    "collapsed": false
   },
   "outputs": [],
   "source": [
    "pca.fit_transform(spy_design['2011': '2013'])\n",
    "print(pca.explained_variance_ratio_) "
   ]
  },
  {
   "cell_type": "code",
   "execution_count": null,
   "metadata": {
    "collapsed": false
   },
   "outputs": [],
   "source": [
    "x_ax = spy_design['12/2011': '01/2012'].index.values\n",
    "y_ax = spy_design['12/2011': '01/2012']['returns']"
   ]
  },
  {
   "cell_type": "code",
   "execution_count": null,
   "metadata": {
    "collapsed": false
   },
   "outputs": [],
   "source": [
    "plt.close\n",
    "plt.plot(x_ax, y_ax)"
   ]
  },
  {
   "cell_type": "code",
   "execution_count": 17,
   "metadata": {
    "collapsed": false
   },
   "outputs": [
    {
     "name": "stdout",
     "output_type": "stream",
     "text": [
      "['a'] ['a']\n"
     ]
    }
   ],
   "source": [
    "m_list = []\n",
    "def list_er(sm_list):\n",
    "    sm_list.append('a')\n",
    "    return sm_list\n",
    "k = list_er(m_list)\n",
    "print(m_list, k)"
   ]
  },
  {
   "cell_type": "code",
   "execution_count": 20,
   "metadata": {
    "collapsed": false
   },
   "outputs": [
    {
     "data": {
      "text/plain": [
       "True"
      ]
     },
     "execution_count": 20,
     "metadata": {},
     "output_type": "execute_result"
    }
   ],
   "source": [
    "a = 'A'\n",
    "\n",
    "b = 'b'\n",
    "\n",
    "a < b"
   ]
  },
  {
   "cell_type": "code",
   "execution_count": 21,
   "metadata": {
    "collapsed": true
   },
   "outputs": [],
   "source": [
    "a = {('a', 'b'): 1}"
   ]
  },
  {
   "cell_type": "code",
   "execution_count": 22,
   "metadata": {
    "collapsed": false
   },
   "outputs": [
    {
     "data": {
      "text/plain": [
       "{('a', 'b'): 1}"
      ]
     },
     "execution_count": 22,
     "metadata": {},
     "output_type": "execute_result"
    }
   ],
   "source": [
    "a"
   ]
  },
  {
   "cell_type": "code",
   "execution_count": 23,
   "metadata": {
    "collapsed": false
   },
   "outputs": [
    {
     "data": {
      "text/plain": [
       "1"
      ]
     },
     "execution_count": 23,
     "metadata": {},
     "output_type": "execute_result"
    }
   ],
   "source": [
    "a[('a', 'b')]"
   ]
  },
  {
   "cell_type": "code",
   "execution_count": 24,
   "metadata": {
    "collapsed": true
   },
   "outputs": [],
   "source": [
    "from sklearn.cross_decomposition import PLSRegression"
   ]
  },
  {
   "cell_type": "code",
   "execution_count": 31,
   "metadata": {
    "collapsed": false
   },
   "outputs": [],
   "source": [
    "pls2 = PLSRegression(n_components=2)\n",
    "pls2.fit(x, y)\n",
    "Y_pred = pls2.predict(x)"
   ]
  },
  {
   "cell_type": "code",
   "execution_count": 32,
   "metadata": {
    "collapsed": false
   },
   "outputs": [
    {
     "data": {
      "text/plain": [
       "array([[ -0.02499396],\n",
       "       [-10.57219086],\n",
       "       [  0.7692534 ],\n",
       "       ..., \n",
       "       [  0.65935632],\n",
       "       [ -3.51331393],\n",
       "       [ -0.05000579]])"
      ]
     },
     "execution_count": 32,
     "metadata": {},
     "output_type": "execute_result"
    }
   ],
   "source": [
    "Y_pred"
   ]
  },
  {
   "cell_type": "code",
   "execution_count": null,
   "metadata": {
    "collapsed": true
   },
   "outputs": [],
   "source": []
  }
 ],
 "metadata": {
  "kernelspec": {
   "display_name": "Python 3",
   "language": "python",
   "name": "python3"
  },
  "language_info": {
   "codemirror_mode": {
    "name": "ipython",
    "version": 3
   },
   "file_extension": ".py",
   "mimetype": "text/x-python",
   "name": "python",
   "nbconvert_exporter": "python",
   "pygments_lexer": "ipython3",
   "version": "3.5.1"
  }
 },
 "nbformat": 4,
 "nbformat_minor": 1
}
