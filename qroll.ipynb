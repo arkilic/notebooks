{
 "cells": [
  {
   "cell_type": "code",
   "execution_count": 1,
   "metadata": {
    "collapsed": false
   },
   "outputs": [],
   "source": [
    "import pandas as pd\n",
    "import numpy as np\n",
    "\n",
    "\n",
    "def my_reducer(a):\n",
    "    return pd.to_datetime(a[0])\n",
    "\n",
    "reducer = np.vectorize(my_reducer)"
   ]
  },
  {
   "cell_type": "code",
   "execution_count": 2,
   "metadata": {
    "collapsed": false
   },
   "outputs": [],
   "source": [
    "spy = pd.read_csv('/Users/arkilic/Desktop/spy.csv', \n",
    "                      header=0, sep=' ')\n",
    "spy_design = pd.read_csv('/Users/arkilic/Desktop/spy_design.csv', \n",
    "                         header=0, sep=' ',  parse_dates=True)\n",
    "spy_indices = spy.index.values\n",
    "spy_design_indices = spy_design.index.values\n",
    "\n",
    "\n",
    "spy_indexes = reducer(spy_indices)\n",
    "spy['TIME'] = spy_indexes\n",
    "\n",
    "spy_design_indexes = reducer(spy_design_indices)\n",
    "spy_design['TIME'] = spy_design_indexes\n",
    "\n",
    "spy = spy.set_index('TIME')\n",
    "spy_design = spy_design.set_index('TIME')"
   ]
  },
  {
   "cell_type": "code",
   "execution_count": 3,
   "metadata": {
    "collapsed": false
   },
   "outputs": [
    {
     "data": {
      "text/html": [
       "<div>\n",
       "<table border=\"1\" class=\"dataframe\">\n",
       "  <thead>\n",
       "    <tr style=\"text-align: right;\">\n",
       "      <th></th>\n",
       "      <th>SPY.Open</th>\n",
       "      <th>SPY.High</th>\n",
       "      <th>SPY.Low</th>\n",
       "      <th>SPY.Close</th>\n",
       "      <th>SPY.Volume</th>\n",
       "    </tr>\n",
       "    <tr>\n",
       "      <th>TIME</th>\n",
       "      <th></th>\n",
       "      <th></th>\n",
       "      <th></th>\n",
       "      <th></th>\n",
       "      <th></th>\n",
       "    </tr>\n",
       "  </thead>\n",
       "  <tbody>\n",
       "    <tr>\n",
       "      <th>2008-01-02 09:31:00</th>\n",
       "      <td>146.535</td>\n",
       "      <td>146.645</td>\n",
       "      <td>146.535</td>\n",
       "      <td>146.645</td>\n",
       "      <td>591203.0</td>\n",
       "    </tr>\n",
       "    <tr>\n",
       "      <th>2008-01-02 09:32:00</th>\n",
       "      <td>146.645</td>\n",
       "      <td>146.685</td>\n",
       "      <td>146.635</td>\n",
       "      <td>146.685</td>\n",
       "      <td>385457.0</td>\n",
       "    </tr>\n",
       "    <tr>\n",
       "      <th>2008-01-02 09:33:00</th>\n",
       "      <td>146.685</td>\n",
       "      <td>146.775</td>\n",
       "      <td>146.680</td>\n",
       "      <td>146.775</td>\n",
       "      <td>343700.0</td>\n",
       "    </tr>\n",
       "    <tr>\n",
       "      <th>2008-01-02 09:34:00</th>\n",
       "      <td>146.725</td>\n",
       "      <td>146.755</td>\n",
       "      <td>146.705</td>\n",
       "      <td>146.725</td>\n",
       "      <td>863418.0</td>\n",
       "    </tr>\n",
       "    <tr>\n",
       "      <th>2008-01-02 09:35:00</th>\n",
       "      <td>146.705</td>\n",
       "      <td>146.775</td>\n",
       "      <td>146.685</td>\n",
       "      <td>146.775</td>\n",
       "      <td>457500.0</td>\n",
       "    </tr>\n",
       "  </tbody>\n",
       "</table>\n",
       "</div>"
      ],
      "text/plain": [
       "                     SPY.Open  SPY.High  SPY.Low  SPY.Close  SPY.Volume\n",
       "TIME                                                                   \n",
       "2008-01-02 09:31:00   146.535   146.645  146.535    146.645    591203.0\n",
       "2008-01-02 09:32:00   146.645   146.685  146.635    146.685    385457.0\n",
       "2008-01-02 09:33:00   146.685   146.775  146.680    146.775    343700.0\n",
       "2008-01-02 09:34:00   146.725   146.755  146.705    146.725    863418.0\n",
       "2008-01-02 09:35:00   146.705   146.775  146.685    146.775    457500.0"
      ]
     },
     "execution_count": 3,
     "metadata": {},
     "output_type": "execute_result"
    }
   ],
   "source": [
    "spy_data = spy.ix[:, 1:6]\n",
    "spy_data.head()"
   ]
  },
  {
   "cell_type": "code",
   "execution_count": 4,
   "metadata": {
    "collapsed": false
   },
   "outputs": [],
   "source": [
    "spy_design_data = spy_design.ix[:, 1:7]\n",
    "spy_design_data.head()\n",
    "\n",
    "\n",
    "spy = spy_data\n",
    "spy_design = spy_design_data"
   ]
  },
  {
   "cell_type": "code",
   "execution_count": 5,
   "metadata": {
    "collapsed": false
   },
   "outputs": [
    {
     "data": {
      "text/html": [
       "<div>\n",
       "<table border=\"1\" class=\"dataframe\">\n",
       "  <thead>\n",
       "    <tr style=\"text-align: right;\">\n",
       "      <th></th>\n",
       "      <th>returns</th>\n",
       "      <th>returns.WA5</th>\n",
       "      <th>variance</th>\n",
       "      <th>skew</th>\n",
       "      <th>hurst</th>\n",
       "      <th>rets_var</th>\n",
       "    </tr>\n",
       "    <tr>\n",
       "      <th>TIME</th>\n",
       "      <th></th>\n",
       "      <th></th>\n",
       "      <th></th>\n",
       "      <th></th>\n",
       "      <th></th>\n",
       "      <th></th>\n",
       "    </tr>\n",
       "  </thead>\n",
       "  <tbody>\n",
       "    <tr>\n",
       "      <th>2008-01-02 09:31:00</th>\n",
       "      <td>0.000000</td>\n",
       "      <td>0.000000</td>\n",
       "      <td>0.000000</td>\n",
       "      <td>0.000000</td>\n",
       "      <td>0.000000</td>\n",
       "      <td>0.000000</td>\n",
       "    </tr>\n",
       "    <tr>\n",
       "      <th>2008-01-02 09:32:00</th>\n",
       "      <td>0.707107</td>\n",
       "      <td>0.707107</td>\n",
       "      <td>0.707107</td>\n",
       "      <td>-0.707107</td>\n",
       "      <td>0.000000</td>\n",
       "      <td>0.707107</td>\n",
       "    </tr>\n",
       "    <tr>\n",
       "      <th>2008-01-02 09:33:00</th>\n",
       "      <td>1.034910</td>\n",
       "      <td>1.031794</td>\n",
       "      <td>1.027297</td>\n",
       "      <td>-0.901304</td>\n",
       "      <td>0.000000</td>\n",
       "      <td>1.133169</td>\n",
       "    </tr>\n",
       "    <tr>\n",
       "      <th>2008-01-02 09:34:00</th>\n",
       "      <td>-1.177622</td>\n",
       "      <td>-0.712844</td>\n",
       "      <td>1.407897</td>\n",
       "      <td>1.277819</td>\n",
       "      <td>0.000000</td>\n",
       "      <td>-1.366479</td>\n",
       "    </tr>\n",
       "    <tr>\n",
       "      <th>2008-01-02 09:35:00</th>\n",
       "      <td>0.451147</td>\n",
       "      <td>-0.181499</td>\n",
       "      <td>0.593341</td>\n",
       "      <td>-1.669053</td>\n",
       "      <td>-1.788854</td>\n",
       "      <td>0.854902</td>\n",
       "    </tr>\n",
       "  </tbody>\n",
       "</table>\n",
       "</div>"
      ],
      "text/plain": [
       "                      returns  returns.WA5  variance      skew     hurst  \\\n",
       "TIME                                                                       \n",
       "2008-01-02 09:31:00  0.000000     0.000000  0.000000  0.000000  0.000000   \n",
       "2008-01-02 09:32:00  0.707107     0.707107  0.707107 -0.707107  0.000000   \n",
       "2008-01-02 09:33:00  1.034910     1.031794  1.027297 -0.901304  0.000000   \n",
       "2008-01-02 09:34:00 -1.177622    -0.712844  1.407897  1.277819  0.000000   \n",
       "2008-01-02 09:35:00  0.451147    -0.181499  0.593341 -1.669053 -1.788854   \n",
       "\n",
       "                     rets_var  \n",
       "TIME                           \n",
       "2008-01-02 09:31:00  0.000000  \n",
       "2008-01-02 09:32:00  0.707107  \n",
       "2008-01-02 09:33:00  1.133169  \n",
       "2008-01-02 09:34:00 -1.366479  \n",
       "2008-01-02 09:35:00  0.854902  "
      ]
     },
     "execution_count": 5,
     "metadata": {},
     "output_type": "execute_result"
    }
   ],
   "source": [
    "spy_design.head()"
   ]
  },
  {
   "cell_type": "code",
   "execution_count": 6,
   "metadata": {
    "collapsed": false
   },
   "outputs": [],
   "source": [
    "def diff_xts(x_ts, lag=1, differences=1, arithmetic=True):\n",
    "    # Uses something along the lines of numpy.diff for lag\n",
    "    \"\"\"\n",
    "    Parameters\n",
    "    ----------\n",
    "    x_ts: pd.DataFrame\n",
    "        Raw data\n",
    "    lag: int\n",
    "        period to difference over\n",
    "    differences: int\n",
    "        order of differencing\n",
    "    arithmetic: bool\n",
    "        should arithmetic or geometric differencing be used\n",
    "    \"\"\"\n",
    "    if lag != 1:\n",
    "        raise NotImplementedError('Period other than 1 has not beein implemented yet')\n",
    "    res = np.zeros(x_ts.shape[0])\n",
    "    res[1:] = np.diff(x_ts.ix[:, 1])\n",
    "    return  res# vectorized diff over given period"
   ]
  },
  {
   "cell_type": "code",
   "execution_count": 18,
   "metadata": {
    "collapsed": false
   },
   "outputs": [],
   "source": [
    "def run_returns(x_ts, col_umn = 3):\n",
    "    if len(x_ts.columns) == 5:\n",
    "        re_turns = 0.5 * (x_ts[:][\"Bid.Price\"] + x_ts[:][\"Ask.Price\"])\n",
    "    else:\n",
    "        re_turns = x_ts[x_ts.columns[::col_umn]]\n",
    "    ind_diff = np.ones(x_ts.shape[0])    \n",
    "    ind_diff[1:] = np.multiply(np.diff(x_ts.index.values), 10e-10)\n",
    "    x_ts['returns'] = 86400 * diff_xts(re_turns) / ind_diff\n",
    "    return x_ts"
   ]
  },
  {
   "cell_type": "code",
   "execution_count": 21,
   "metadata": {
    "collapsed": false
   },
   "outputs": [],
   "source": [
    "returns_running = run_returns(spy)['returns']"
   ]
  },
  {
   "cell_type": "code",
   "execution_count": 34,
   "metadata": {
    "collapsed": false
   },
   "outputs": [
    {
     "data": {
      "text/plain": [
       "TIME\n",
       "2008-01-02 09:31:00      0.0\n",
       "2008-01-02 09:32:00     57.6\n",
       "2008-01-02 09:33:00    129.6\n",
       "2008-01-02 09:34:00    -72.0\n",
       "2008-01-02 09:35:00     72.0\n",
       "Name: returns, dtype: float64"
      ]
     },
     "execution_count": 34,
     "metadata": {},
     "output_type": "execute_result"
    }
   ],
   "source": [
    "returns_running.head()"
   ]
  },
  {
   "cell_type": "code",
   "execution_count": 10,
   "metadata": {
    "collapsed": false
   },
   "outputs": [
    {
     "name": "stdout",
     "output_type": "stream",
     "text": [
      "100 loops, best of 3: 15.3 ms per loop\n"
     ]
    }
   ],
   "source": [
    "%timeit run_returns(spy)"
   ]
  },
  {
   "cell_type": "code",
   "execution_count": 72,
   "metadata": {
    "collapsed": false
   },
   "outputs": [],
   "source": [
    "def lag_xts(x_ts, k=-1, **kwargs):\n",
    "    n_rows = x_ts.shape[0]\n",
    "    fir_st = x_ts[0]\n",
    "    la_st = x_ts[n_rows-1]\n",
    "    x_ts = x_ts.shift(periods=k, **kwargs)\n",
    "    if (k > 0):\n",
    "        print(fir_st)\n",
    "        x_ts[0:k] = fir_st\n",
    "    else:\n",
    "        x_ts[n_rows-1] = la_st\n",
    "    return x_ts"
   ]
  },
  {
   "cell_type": "code",
   "execution_count": 77,
   "metadata": {
    "collapsed": false
   },
   "outputs": [
    {
     "name": "stdout",
     "output_type": "stream",
     "text": [
      "TIME\n",
      "2008-01-02 09:31:00     57.6\n",
      "2008-01-02 09:32:00    129.6\n",
      "2008-01-02 09:33:00    -72.0\n",
      "2008-01-02 09:34:00     72.0\n",
      "2008-01-02 09:35:00    -57.6\n",
      "2008-01-02 09:36:00   -201.6\n",
      "2008-01-02 09:37:00    -43.2\n",
      "2008-01-02 09:38:00    187.2\n",
      "2008-01-02 09:39:00    115.2\n",
      "2008-01-02 09:40:00     28.8\n",
      "2008-01-02 09:41:00     28.8\n",
      "2008-01-02 09:42:00    165.6\n",
      "2008-01-02 09:43:00     21.6\n",
      "2008-01-02 09:44:00      0.0\n",
      "2008-01-02 09:45:00    -57.6\n",
      "2008-01-02 09:46:00    -28.8\n",
      "2008-01-02 09:47:00     28.8\n",
      "2008-01-02 09:48:00    -72.0\n",
      "2008-01-02 09:49:00      0.0\n",
      "2008-01-02 09:50:00   -100.8\n",
      "2008-01-02 09:51:00      0.0\n",
      "2008-01-02 09:52:00     14.4\n",
      "2008-01-02 09:53:00     72.0\n",
      "2008-01-02 09:54:00     14.4\n",
      "2008-01-02 09:55:00    -72.0\n",
      "2008-01-02 09:56:00   -100.8\n",
      "2008-01-02 09:57:00   -172.8\n",
      "2008-01-02 09:58:00    115.2\n",
      "2008-01-02 09:59:00     43.2\n",
      "2008-01-02 10:00:00   -763.2\n",
      "                       ...  \n",
      "2014-05-19 15:32:00     43.2\n",
      "2014-05-19 15:33:00    -14.4\n",
      "2014-05-19 15:34:00     72.0\n",
      "2014-05-19 15:35:00    -14.4\n",
      "2014-05-19 15:36:00    -14.4\n",
      "2014-05-19 15:37:00    -14.4\n",
      "2014-05-19 15:38:00     28.8\n",
      "2014-05-19 15:39:00    -57.6\n",
      "2014-05-19 15:40:00     72.0\n",
      "2014-05-19 15:41:00      0.0\n",
      "2014-05-19 15:42:00     14.4\n",
      "2014-05-19 15:43:00    -72.0\n",
      "2014-05-19 15:44:00      0.0\n",
      "2014-05-19 15:45:00     57.6\n",
      "2014-05-19 15:46:00      0.0\n",
      "2014-05-19 15:47:00    -14.4\n",
      "2014-05-19 15:48:00     28.8\n",
      "2014-05-19 15:49:00      0.0\n",
      "2014-05-19 15:50:00    -57.6\n",
      "2014-05-19 15:51:00     14.4\n",
      "2014-05-19 15:52:00     43.2\n",
      "2014-05-19 15:53:00      0.0\n",
      "2014-05-19 15:54:00     14.4\n",
      "2014-05-19 15:55:00    -28.8\n",
      "2014-05-19 15:56:00    -14.4\n",
      "2014-05-19 15:57:00      0.0\n",
      "2014-05-19 15:58:00     43.2\n",
      "2014-05-19 15:59:00   -201.6\n",
      "2014-05-19 16:00:00      0.0\n",
      "2014-05-19 16:01:00      0.0\n",
      "Name: returns_advanced, dtype: float64\n"
     ]
    }
   ],
   "source": [
    "returns_advanced = lag_xts(returns_running)\n",
    "returns_advanced.name = 'returns_advanced'\n",
    "print(returns_advanced)"
   ]
  },
  {
   "cell_type": "code",
   "execution_count": 76,
   "metadata": {
    "collapsed": false
   },
   "outputs": [],
   "source": []
  },
  {
   "cell_type": "code",
   "execution_count": null,
   "metadata": {
    "collapsed": true
   },
   "outputs": [],
   "source": []
  }
 ],
 "metadata": {
  "kernelspec": {
   "display_name": "Python 3",
   "language": "python",
   "name": "python3"
  },
  "language_info": {
   "codemirror_mode": {
    "name": "ipython",
    "version": 3
   },
   "file_extension": ".py",
   "mimetype": "text/x-python",
   "name": "python",
   "nbconvert_exporter": "python",
   "pygments_lexer": "ipython3",
   "version": "3.5.2"
  }
 },
 "nbformat": 4,
 "nbformat_minor": 1
}
