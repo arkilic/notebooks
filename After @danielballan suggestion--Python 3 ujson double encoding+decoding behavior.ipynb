{
 "cells": [
  {
   "cell_type": "code",
   "execution_count": 1,
   "metadata": {
    "collapsed": false
   },
   "outputs": [
    {
     "name": "stderr",
     "output_type": "stream",
     "text": [
      "Vendor:  Continuum Analytics, Inc.\n",
      "Package: mkl\n",
      "Message: trial mode expires in 30 days\n",
      "Vendor:  Continuum Analytics, Inc.\n"
     ]
    },
    {
     "name": "stdout",
     "output_type": "stream",
     "text": [
      "/Users/arkilic/git/ultrajson/ujson.cpython-35m-darwin.so\n"
     ]
    },
    {
     "name": "stderr",
     "output_type": "stream",
     "text": [
      "Package: mkl\n",
      "Message: trial mode expires in 30 days\n"
     ]
    }
   ],
   "source": [
    "# PYTHON 3\n",
    "import numpy as np\n",
    "import ujson\n",
    "print(ujson.__file__)\n"
   ]
  },
  {
   "cell_type": "code",
   "execution_count": 2,
   "metadata": {
    "collapsed": false
   },
   "outputs": [
    {
     "name": "stdout",
     "output_type": "stream",
     "text": [
      "Data            -0.771915712827812\n",
      "What is encoded -0.771915712827\n",
      "What is decoded -0.771915712827812\n"
     ]
    }
   ],
   "source": [
    "# Precision 15\n",
    "b = np.random.randn(1).astype(np.float64)\n",
    "print('Data', '           {0:.15f}'.format(b[0]))\n",
    "encoded = ujson.dumps(b[0], double_precision=20)\n",
    "print('What is encoded', '{0:.15}'.format(encoded))\n",
    "decoded = ujson.loads(encoded, precise_float=True)\n",
    "print('What is decoded','{0:.15f}'.format(decoded))"
   ]
  },
  {
   "cell_type": "code",
   "execution_count": 3,
   "metadata": {
    "collapsed": false
   },
   "outputs": [
    {
     "name": "stdout",
     "output_type": "stream",
     "text": [
      "Data            -2.0847476059829684\n",
      "What is encoded -2.0847476059829\n",
      "What is decoded -2.0847476059829679\n"
     ]
    }
   ],
   "source": [
    "# Precision 16\n",
    "b = np.random.randn(1).astype(np.float64)\n",
    "\n",
    "encoded = ujson.dumps(b[0], double_precision=20)\n",
    "decoded = ujson.loads(encoded, precise_float=True)\n",
    "print('Data', '           {0:.16f}'.format(b[0]))\n",
    "print('What is encoded', '{0:.16}'.format(encoded))\n",
    "print('What is decoded','{0:.16f}'.format(decoded))"
   ]
  },
  {
   "cell_type": "code",
   "execution_count": 5,
   "metadata": {
    "collapsed": false
   },
   "outputs": [
    {
     "name": "stdout",
     "output_type": "stream",
     "text": [
      "Data            -0.570450610324917062321503635757835582\n",
      "What is encoded -0.570450610324917\n",
      "What is decoded -0.570450610324916951299201173242181540\n"
     ]
    },
    {
     "ename": "AssertionError",
     "evalue": "",
     "output_type": "error",
     "traceback": [
      "\u001b[0;31m---------------------------------------------------------------------------\u001b[0m",
      "\u001b[0;31mAssertionError\u001b[0m                            Traceback (most recent call last)",
      "\u001b[0;32m<ipython-input-5-9ef090d9bfc1>\u001b[0m in \u001b[0;36m<module>\u001b[0;34m()\u001b[0m\n\u001b[1;32m      6\u001b[0m \u001b[0mprint\u001b[0m\u001b[0;34m(\u001b[0m\u001b[0;34m'What is encoded'\u001b[0m\u001b[0;34m,\u001b[0m \u001b[0;34m'{0:.36}'\u001b[0m\u001b[0;34m.\u001b[0m\u001b[0mformat\u001b[0m\u001b[0;34m(\u001b[0m\u001b[0mencoded\u001b[0m\u001b[0;34m)\u001b[0m\u001b[0;34m)\u001b[0m\u001b[0;34m\u001b[0m\u001b[0m\n\u001b[1;32m      7\u001b[0m \u001b[0mprint\u001b[0m\u001b[0;34m(\u001b[0m\u001b[0;34m'What is decoded'\u001b[0m\u001b[0;34m,\u001b[0m\u001b[0;34m'{0:.36f}'\u001b[0m\u001b[0;34m.\u001b[0m\u001b[0mformat\u001b[0m\u001b[0;34m(\u001b[0m\u001b[0mdecoded\u001b[0m\u001b[0;34m)\u001b[0m\u001b[0;34m)\u001b[0m\u001b[0;34m\u001b[0m\u001b[0m\n\u001b[0;32m----> 8\u001b[0;31m \u001b[0;32massert\u001b[0m \u001b[0mdecoded\u001b[0m \u001b[0;34m==\u001b[0m \u001b[0mb\u001b[0m\u001b[0;34m\u001b[0m\u001b[0m\n\u001b[0m",
      "\u001b[0;31mAssertionError\u001b[0m: "
     ]
    }
   ],
   "source": [
    "b = np.random.randn(1).astype(np.float64)\n",
    "\n",
    "encoded = ujson.encode(b[0], double_precision=25)\n",
    "decoded = ujson.decode(encoded, precise_float=True)\n",
    "print('Data', '           {0:.36f}'.format(b[0]))\n",
    "print('What is encoded', '{0:.36}'.format(encoded))\n",
    "print('What is decoded','{0:.36f}'.format(decoded))\n",
    "assert decoded == b"
   ]
  },
  {
   "cell_type": "code",
   "execution_count": 6,
   "metadata": {
    "collapsed": false
   },
   "outputs": [
    {
     "name": "stdout",
     "output_type": "stream",
     "text": [
      "-1.8485352067990222\n",
      "Data            -1.84853520679902216806\n",
      "What is encoded -1.848535206799022\n",
      "What is decoded -1.84853520679902194601\n"
     ]
    },
    {
     "ename": "AssertionError",
     "evalue": "",
     "output_type": "error",
     "traceback": [
      "\u001b[0;31m---------------------------------------------------------------------------\u001b[0m",
      "\u001b[0;31mAssertionError\u001b[0m                            Traceback (most recent call last)",
      "\u001b[0;32m<ipython-input-6-0e1fe45280a8>\u001b[0m in \u001b[0;36m<module>\u001b[0;34m()\u001b[0m\n\u001b[1;32m      6\u001b[0m \u001b[0mprint\u001b[0m\u001b[0;34m(\u001b[0m\u001b[0;34m'What is encoded'\u001b[0m\u001b[0;34m,\u001b[0m \u001b[0;34m'{0:.20}'\u001b[0m\u001b[0;34m.\u001b[0m\u001b[0mformat\u001b[0m\u001b[0;34m(\u001b[0m\u001b[0mencoded\u001b[0m\u001b[0;34m)\u001b[0m\u001b[0;34m)\u001b[0m\u001b[0;34m\u001b[0m\u001b[0m\n\u001b[1;32m      7\u001b[0m \u001b[0mprint\u001b[0m\u001b[0;34m(\u001b[0m\u001b[0;34m'What is decoded'\u001b[0m\u001b[0;34m,\u001b[0m\u001b[0;34m'{0:.20f}'\u001b[0m\u001b[0;34m.\u001b[0m\u001b[0mformat\u001b[0m\u001b[0;34m(\u001b[0m\u001b[0mdecoded\u001b[0m\u001b[0;34m)\u001b[0m\u001b[0;34m)\u001b[0m\u001b[0;34m\u001b[0m\u001b[0m\n\u001b[0;32m----> 8\u001b[0;31m \u001b[0;32massert\u001b[0m \u001b[0mdecoded\u001b[0m \u001b[0;34m==\u001b[0m \u001b[0mb\u001b[0m\u001b[0;34m\u001b[0m\u001b[0m\n\u001b[0m",
      "\u001b[0;31mAssertionError\u001b[0m: "
     ]
    }
   ],
   "source": [
    "b = np.random.randn()\n",
    "print(b)\n",
    "encoded = ujson.dumps(b, double_precision=25)\n",
    "decoded = ujson.loads(encoded, precise_float=True)\n",
    "print('Data', '           {0:.20f}'.format(b))\n",
    "print('What is encoded', '{0:.20}'.format(encoded))\n",
    "print('What is decoded','{0:.20f}'.format(decoded))\n",
    "assert decoded == b"
   ]
  },
  {
   "cell_type": "code",
   "execution_count": 7,
   "metadata": {
    "collapsed": false
   },
   "outputs": [
    {
     "name": "stdout",
     "output_type": "stream",
     "text": [
      "Data            -1.38270486162522243667\n",
      "What is encoded -1.382704861625222\n",
      "What is decoded -1.38270486162522199258\n"
     ]
    }
   ],
   "source": [
    "# Precision 20\n",
    "b = np.random.randn(1).astype(np.float64)\n",
    "print('Data', '           {0:.20f}'.format(b[0]))\n",
    "encoded = ujson.dumps(b[0], double_precision=20)\n",
    "print('What is encoded', '{0:.20}'.format(encoded))\n",
    "decoded = ujson.loads(encoded, precise_float=True)\n",
    "print('What is decoded','{0:.20f}'.format(decoded))"
   ]
  },
  {
   "cell_type": "code",
   "execution_count": null,
   "metadata": {
    "collapsed": false
   },
   "outputs": [],
   "source": [
    "# Precision 21\n",
    "b = np.random.randn(1).astype('d')\n",
    "print('Data', '           {0:.21f}'.format(b[0]))\n",
    "encoded = ujson.dumps(b[0])\n",
    "print('What is encoded', '{0:.21}'.format(encoded))\n",
    "decoded = ujson.loads(encoded)\n",
    "print('What is decoded','{0:.21f}'.format(decoded))"
   ]
  },
  {
   "cell_type": "code",
   "execution_count": null,
   "metadata": {
    "collapsed": false
   },
   "outputs": [],
   "source": [
    "# Precision 22\n",
    "b = np.random.randn(1).astype('d')\n",
    "print('Data', '           {0:.22f}'.format(b[0]))\n",
    "encoded = ujson.dumps(b[0])\n",
    "print('What is encoded', '{0:.22}'.format(encoded))\n",
    "decoded = ujson.loads(encoded)\n",
    "print('What is decoded','{0:.22f}'.format(decoded))"
   ]
  },
  {
   "cell_type": "code",
   "execution_count": null,
   "metadata": {
    "collapsed": false
   },
   "outputs": [],
   "source": [
    "# Precision 23\n",
    "b = np.random.randn(1).astype('d')\n",
    "print('Data', '           {0:.23f}'.format(b[0]))\n",
    "encoded = ujson.dumps(b[0])\n",
    "print('What is encoded', '{0:.23}'.format(encoded))\n",
    "decoded = ujson.loads(encoded)\n",
    "print('What is decoded','{0:.23f}'.format(decoded))"
   ]
  },
  {
   "cell_type": "code",
   "execution_count": null,
   "metadata": {
    "collapsed": false
   },
   "outputs": [],
   "source": [
    "# Precision 25\n",
    "b = np.random.randn(1).astype('d')\n",
    "print('Data', '           {0:.25f}'.format(b[0]))\n",
    "encoded = ujson.dumps(b[0])\n",
    "print('What is encoded', '{0:.25}'.format(encoded))\n",
    "decoded = ujson.loads(encoded)\n",
    "print('What is decoded','{0:.25f}'.format(decoded))"
   ]
  },
  {
   "cell_type": "code",
   "execution_count": 6,
   "metadata": {
    "collapsed": true
   },
   "outputs": [],
   "source": [
    "from collections import deque\n",
    "events = deque()\n",
    "for i in range(int(1e6)):\n",
    "    events.append({'data':{'pv1': i,\n",
    "                          'pv2': i+2,\n",
    "                          'pv3': i+3, \n",
    "                          'pv4': i+4}})"
   ]
  },
  {
   "cell_type": "code",
   "execution_count": 7,
   "metadata": {
    "collapsed": false
   },
   "outputs": [],
   "source": [
    "import json\n",
    "p = list(events)\n"
   ]
  },
  {
   "cell_type": "code",
   "execution_count": 8,
   "metadata": {
    "collapsed": false
   },
   "outputs": [
    {
     "name": "stdout",
     "output_type": "stream",
     "text": [
      "1 loops, best of 3: 2.5 s per loop\n"
     ]
    }
   ],
   "source": [
    "%timeit json.dumps(p)"
   ]
  },
  {
   "cell_type": "code",
   "execution_count": 9,
   "metadata": {
    "collapsed": false
   },
   "outputs": [
    {
     "name": "stdout",
     "output_type": "stream",
     "text": [
      "1 loops, best of 3: 938 ms per loop\n"
     ]
    }
   ],
   "source": [
    "import ujson\n",
    "\n",
    "%timeit a = ujson.dumps(list(events))\n"
   ]
  },
  {
   "cell_type": "code",
   "execution_count": 10,
   "metadata": {
    "collapsed": false
   },
   "outputs": [
    {
     "name": "stdout",
     "output_type": "stream",
     "text": [
      "1 loops, best of 3: 3.69 s per loop\n"
     ]
    }
   ],
   "source": [
    "import simplejson as json\n",
    "\n",
    "%timeit a = json.dumps(list(events))\n",
    "\n"
   ]
  },
  {
   "cell_type": "code",
   "execution_count": 14,
   "metadata": {
    "collapsed": false
   },
   "outputs": [
    {
     "name": "stdout",
     "output_type": "stream",
     "text": [
      "Data            -0.13967485635163848223\n",
      "What is encoded -0.139674856351638\n",
      "What is decoded -0.13967485635163801039\n"
     ]
    },
    {
     "ename": "AssertionError",
     "evalue": "",
     "output_type": "error",
     "traceback": [
      "\u001b[0;31m---------------------------------------------------------------------------\u001b[0m",
      "\u001b[0;31mAssertionError\u001b[0m                            Traceback (most recent call last)",
      "\u001b[0;32m<ipython-input-14-fe31ff6a2149>\u001b[0m in \u001b[0;36m<module>\u001b[0;34m()\u001b[0m\n\u001b[1;32m      9\u001b[0m \u001b[0mprint\u001b[0m\u001b[0;34m(\u001b[0m\u001b[0;34m'What is decoded'\u001b[0m\u001b[0;34m,\u001b[0m\u001b[0;34m'{0:.20f}'\u001b[0m\u001b[0;34m.\u001b[0m\u001b[0mformat\u001b[0m\u001b[0;34m(\u001b[0m\u001b[0mdecoded\u001b[0m\u001b[0;34m)\u001b[0m\u001b[0;34m)\u001b[0m\u001b[0;34m\u001b[0m\u001b[0m\n\u001b[1;32m     10\u001b[0m \u001b[0;34m\u001b[0m\u001b[0m\n\u001b[0;32m---> 11\u001b[0;31m \u001b[0;32massert\u001b[0m \u001b[0mdecoded\u001b[0m \u001b[0;34m==\u001b[0m \u001b[0mb\u001b[0m\u001b[0;34m\u001b[0m\u001b[0m\n\u001b[0m",
      "\u001b[0;31mAssertionError\u001b[0m: "
     ]
    }
   ],
   "source": [
    "import ujson\n",
    "# Precision 20\n",
    "b = np.random.randn()\n",
    "encoded = ujson.dumps(b, double_precision=20)\n",
    "decoded = ujson.loads(encoded, precise_float=True)\n",
    "\n",
    "print('Data', '           {0:.20f}'.format(b))\n",
    "print('What is encoded', '{0:.20}'.format(encoded))\n",
    "print('What is decoded','{0:.20f}'.format(decoded))\n",
    "\n",
    "assert decoded == b"
   ]
  },
  {
   "cell_type": "code",
   "execution_count": 12,
   "metadata": {
    "collapsed": false
   },
   "outputs": [
    {
     "name": "stdout",
     "output_type": "stream",
     "text": [
      "Data            0.53892443644726950591\n",
      "What is encoded 0.5389244364472695\n",
      "What is decoded 0.53892443644726950591\n"
     ]
    }
   ],
   "source": [
    "import json\n",
    "# Precision 20\n",
    "b = np.random.randn()\n",
    "encoded = json.dumps(b)\n",
    "decoded = json.loads(encoded)\n",
    "\n",
    "print('Data', '           {0:.20f}'.format(b))\n",
    "print('What is encoded', '{0:.20}'.format(encoded))\n",
    "print('What is decoded','{0:.20f}'.format(decoded))\n",
    "\n",
    "assert decoded == b"
   ]
  },
  {
   "cell_type": "code",
   "execution_count": 13,
   "metadata": {
    "collapsed": false
   },
   "outputs": [
    {
     "name": "stdout",
     "output_type": "stream",
     "text": [
      "Data            -0.52125572783183349301\n",
      "What is encoded -0.5212557278318335\n",
      "What is decoded -0.52125572783183349301\n"
     ]
    }
   ],
   "source": [
    "import simplejson as json\n",
    "# Precision 20\n",
    "b = np.random.randn()\n",
    "encoded = json.dumps(b)\n",
    "decoded = json.loads(encoded)\n",
    "\n",
    "print('Data', '           {0:.20f}'.format(b))\n",
    "print('What is encoded', '{0:.20}'.format(encoded))\n",
    "print('What is decoded','{0:.20f}'.format(decoded))\n",
    "\n",
    "assert decoded == b"
   ]
  },
  {
   "cell_type": "code",
   "execution_count": null,
   "metadata": {
    "collapsed": true
   },
   "outputs": [],
   "source": []
  }
 ],
 "metadata": {
  "kernelspec": {
   "display_name": "Python 3",
   "language": "python",
   "name": "python3"
  },
  "language_info": {
   "codemirror_mode": {
    "name": "ipython",
    "version": 3
   },
   "file_extension": ".py",
   "mimetype": "text/x-python",
   "name": "python",
   "nbconvert_exporter": "python",
   "pygments_lexer": "ipython3",
   "version": "3.5.1"
  }
 },
 "nbformat": 4,
 "nbformat_minor": 0
}
