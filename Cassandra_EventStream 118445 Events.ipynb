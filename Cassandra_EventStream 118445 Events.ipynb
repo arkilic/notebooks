{
 "cells": [
  {
   "cell_type": "code",
   "execution_count": 2,
   "metadata": {
    "collapsed": false
   },
   "outputs": [],
   "source": [
    "from cassandra.cluster import Cluster\n",
    "import cassandra.cluster as cc\n",
    "import cassandra\n",
    "import uuid\n",
    "import time as ttime"
   ]
  },
  {
   "cell_type": "code",
   "execution_count": 3,
   "metadata": {
    "collapsed": false
   },
   "outputs": [],
   "source": [
    "cluster = Cluster(['127.0.0.1'])\n",
    "\n",
    "session = cluster.connect()\n",
    "\n",
    "EVENT_COUNT = int(1e5)"
   ]
  },
  {
   "cell_type": "code",
   "execution_count": 4,
   "metadata": {
    "collapsed": false,
    "scrolled": false
   },
   "outputs": [],
   "source": [
    "try:\n",
    "    session.execute(\"\"\"\n",
    "        CREATE KEYSPACE simplex WITH replication\n",
    "            = {'class':'SimpleStrategy', 'replication_factor':1};\n",
    "    \"\"\")\n",
    "except cassandra.AlreadyExists:\n",
    "    print('KeySpace exits')"
   ]
  },
  {
   "cell_type": "code",
   "execution_count": 5,
   "metadata": {
    "collapsed": false,
    "scrolled": false
   },
   "outputs": [],
   "source": [
    "try:\n",
    "    session.execute('USE simplex')\n",
    "except cassandra.InvalidRequest:\n",
    "    print('Cannot use the KEYSPACE')"
   ]
  },
  {
   "cell_type": "code",
   "execution_count": 6,
   "metadata": {
    "collapsed": false
   },
   "outputs": [],
   "source": [
    "try:\n",
    "    session.execute(\"\"\"\n",
    "        CREATE TABLE simplex.events (\n",
    "            id uuid PRIMARY KEY,\n",
    "            data_key text,\n",
    "            data float,\n",
    "            timestamp float,\n",
    "            event_id uuid\n",
    "        );\n",
    "        \"\"\")\n",
    "except cassandra.AlreadyExists:\n",
    "    print(\"Table already created\")"
   ]
  },
  {
   "cell_type": "code",
   "execution_count": 7,
   "metadata": {
    "collapsed": false
   },
   "outputs": [],
   "source": [
    "rows = session.execute('SELECT * FROM events')\n"
   ]
  },
  {
   "cell_type": "code",
   "execution_count": 8,
   "metadata": {
    "collapsed": false
   },
   "outputs": [
    {
     "name": "stdout",
     "output_type": "stream",
     "text": [
      "<cassandra.cluster.ResultSet object at 0x7f4b9ae00ba8>\n"
     ]
    }
   ],
   "source": [
    "print(rows)"
   ]
  },
  {
   "cell_type": "code",
   "execution_count": 9,
   "metadata": {
    "collapsed": false
   },
   "outputs": [
    {
     "name": "stdout",
     "output_type": "stream",
     "text": [
      "The slowest run took 11.65 times longer than the fastest. This could mean that an intermediate result is being cached \n",
      "1000000 loops, best of 3: 1.18 µs per loop\n"
     ]
    }
   ],
   "source": [
    "%timeit list(rows)"
   ]
  },
  {
   "cell_type": "code",
   "execution_count": 10,
   "metadata": {
    "collapsed": false
   },
   "outputs": [
    {
     "name": "stdout",
     "output_type": "stream",
     "text": [
      "0  single entry retrieval took 0.004618167877197266 seconds\n"
     ]
    }
   ],
   "source": [
    "start = ttime.time()\n",
    "rows = list(session.execute('SELECT * FROM events'))\n",
    "end = ttime.time()\n",
    "print(len(rows), ' single entry retrieval took', end-start, 'seconds')"
   ]
  },
  {
   "cell_type": "code",
   "execution_count": null,
   "metadata": {
    "collapsed": true
   },
   "outputs": [],
   "source": []
  }
 ],
 "metadata": {
  "kernelspec": {
   "display_name": "Python 3",
   "language": "python",
   "name": "python3"
  },
  "language_info": {
   "codemirror_mode": {
    "name": "ipython",
    "version": 3
   },
   "file_extension": ".py",
   "mimetype": "text/x-python",
   "name": "python",
   "nbconvert_exporter": "python",
   "pygments_lexer": "ipython3",
   "version": "3.5.0"
  }
 },
 "nbformat": 4,
 "nbformat_minor": 0
}
