{
 "metadata": {
  "name": "",
  "signature": "sha256:6b4657e950f93c0d5e29f9b292e4d2e75f8d66511aae77ceb41941e87f43cd6c"
 },
 "nbformat": 3,
 "nbformat_minor": 0,
 "worksheets": [
  {
   "cells": [
    {
     "cell_type": "code",
     "collapsed": false,
     "input": [
      "from __future__ import print_function, absolute_import\n",
      "import numpy as np\n",
      "from pvaccess import (PvObject, STRING, DOUBLE, \n",
      "                      NtTable, NtType, PvInt, RpcClient)\n",
      "import pvaccess\n",
      "from collections import OrderedDict\n",
      "import time"
     ],
     "language": "python",
     "metadata": {},
     "outputs": [],
     "prompt_number": 66
    },
    {
     "cell_type": "code",
     "collapsed": false,
     "input": [
      "rpc = pvaccess.RpcClient('get_by_id')\n",
      "request = pvaccess.PvObject({'id': pvaccess.STRING})\n",
      "request.set({'id': 'testid'})\n",
      "print(request)"
     ],
     "language": "python",
     "metadata": {},
     "outputs": [
      {
       "output_type": "stream",
       "stream": "stdout",
       "text": [
        "structure \n",
        "    string id testid\n",
        "\n"
       ]
      }
     ],
     "prompt_number": 67
    },
    {
     "cell_type": "code",
     "collapsed": false,
     "input": [
      "response = rpc.invoke(request)\n",
      "print(response)"
     ],
     "language": "python",
     "metadata": {},
     "outputs": [
      {
       "output_type": "stream",
       "stream": "stdout",
       "text": [
        "structure \n",
        "    string[] labels [x,y,z]\n",
        "    structure value\n",
        "        double[] column0 [0,1,2,3,5]\n",
        "        double[] column1 [4,6,7,8,9]\n",
        "        double[] column2 [10,11,12,13,14]\n",
        "\n"
       ]
      }
     ],
     "prompt_number": 68
    },
    {
     "cell_type": "code",
     "collapsed": false,
     "input": [
      "rpc = pvaccess.RpcClient('get_by_time')\n",
      "request = pvaccess.PvObject({'time': pvaccess.DOUBLE})\n",
      "request.set({'time': time.time()})\n",
      "response = rpc.invoke(request)"
     ],
     "language": "python",
     "metadata": {},
     "outputs": [],
     "prompt_number": 75
    },
    {
     "cell_type": "code",
     "collapsed": false,
     "input": [
      "print(response)"
     ],
     "language": "python",
     "metadata": {},
     "outputs": [
      {
       "output_type": "stream",
       "stream": "stdout",
       "text": [
        "structure \n",
        "    string[] labels [x,y,z]\n",
        "    structure value\n",
        "        double[] column0 [0,1,2,3,5]\n",
        "        double[] column1 [4,6,7,8,9]\n",
        "        double[] column2 [10,11,12,13,14]\n",
        "\n"
       ]
      }
     ],
     "prompt_number": 76
    },
    {
     "cell_type": "code",
     "collapsed": false,
     "input": [],
     "language": "python",
     "metadata": {},
     "outputs": []
    }
   ],
   "metadata": {}
  }
 ]
}