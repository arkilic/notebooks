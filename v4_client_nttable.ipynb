{
 "metadata": {
  "name": "",
  "signature": "sha256:f382121b35f1ea42ccc44f0c70c82d8dd69db4bf4e9ecd26379a257de0f3d2b6"
 },
 "nbformat": 3,
 "nbformat_minor": 0,
 "worksheets": [
  {
   "cells": [
    {
     "cell_type": "code",
     "collapsed": false,
     "input": [
      "from __future__ import print_function, absolute_import\n",
      "import numpy as np\n",
      "from pvaccess import (PvObject, STRING, DOUBLE, \n",
      "                      NtTable, NtType, PvInt, RpcClient)\n",
      "import pvaccess\n",
      "from collections import OrderedDict"
     ],
     "language": "python",
     "metadata": {},
     "outputs": [],
     "prompt_number": 57
    },
    {
     "cell_type": "code",
     "collapsed": false,
     "input": [
      "rpc = pvaccess.RpcClient('get_by_id')\n",
      "request = pvaccess.PvObject({'id': pvaccess.STRING})\n",
      "request.set({'id': 'testid'})\n",
      "print(request)"
     ],
     "language": "python",
     "metadata": {},
     "outputs": [
      {
       "output_type": "stream",
       "stream": "stdout",
       "text": [
        "structure \n",
        "    string id testid\n",
        "\n"
       ]
      }
     ],
     "prompt_number": 58
    },
    {
     "cell_type": "code",
     "collapsed": false,
     "input": [
      "response = rpc.invoke(request)\n",
      "print(response)"
     ],
     "language": "python",
     "metadata": {},
     "outputs": [
      {
       "output_type": "stream",
       "stream": "stdout",
       "text": [
        "structure \n",
        "    string[] labels [x,y,z]\n",
        "    structure value\n",
        "        double[] column0 [0,1,2,3,5]\n",
        "        double[] column1 [4,6,7,8,9]\n",
        "        double[] column2 [10,11,12,13,14]\n",
        "\n"
       ]
      }
     ],
     "prompt_number": 59
    },
    {
     "cell_type": "code",
     "collapsed": false,
     "input": [],
     "language": "python",
     "metadata": {},
     "outputs": []
    }
   ],
   "metadata": {}
  }
 ]
}