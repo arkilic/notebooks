{
 "cells": [
  {
   "cell_type": "code",
   "execution_count": 1,
   "metadata": {
    "collapsed": false
   },
   "outputs": [],
   "source": [
    "import sqlite3\n",
    "import time\n",
    "%matplotlib inline\n",
    "from matplotlib import pyplot as plt\n",
    "import numpy as np\n",
    "from tqdm import tqdm"
   ]
  },
  {
   "cell_type": "code",
   "execution_count": 22,
   "metadata": {
    "collapsed": true
   },
   "outputs": [],
   "source": [
    "ROW_COUNT = [100, 1000, int(1e4), int(1e5), int(1e6)] #, int(1e7)]"
   ]
  },
  {
   "cell_type": "code",
   "execution_count": 23,
   "metadata": {
    "collapsed": false
   },
   "outputs": [
    {
     "name": "stderr",
     "output_type": "stream",
     "text": [
      "100%|██████████| 5/5 [00:26<00:00,  7.57s/it]\n"
     ]
    }
   ],
   "source": [
    "insert_times = []\n",
    "find_times = []\n",
    "\n",
    "for i in tqdm(ROW_COUNT):\n",
    "    conn = sqlite3.connect('goodol-tick_data_{}.db'.format(i))\n",
    "    c = conn.cursor()\n",
    "    c.execute('''CREATE TABLE stocks{}\n",
    "             (date text, trans text, 'symbol text', qty real, price real)'''.format(i))\n",
    "    purchases = [('2006-03-28', 'BUY', 'IBM', 1000, i+45),\n",
    "             ('2006-04-05', 'BUY', 'MSFT', 1000, i+72.00),\n",
    "             ('2006-04-06', 'SELL', 'IBM', 500, i+53.00),\n",
    "            ] * i\n",
    "    \n",
    "    start = time.time()\n",
    "    c.executemany('INSERT INTO stocks{} VALUES (?,?,?,?,?)'.format(i), purchases)\n",
    "    end = time.time()\n",
    "    insert_times.append(end-start)\n",
    "    start1 = time.time()\n",
    "    a = list(c.execute('SELECT * FROM stocks{}'.format(i)))\n",
    "    end1 = time.time()\n",
    "    find_times.append(end1-start1)"
   ]
  },
  {
   "cell_type": "code",
   "execution_count": 24,
   "metadata": {
    "collapsed": false
   },
   "outputs": [
    {
     "data": {
      "text/plain": [
       "<matplotlib.text.Text at 0x14a10c358>"
      ]
     },
     "execution_count": 24,
     "metadata": {},
     "output_type": "execute_result"
    },
    {
     "data": {
      "image/png": "[encoded data removed]",
      "text/plain": [
       "<matplotlib.figure.Figure at 0x10c54c128>"
      ]
     },
     "metadata": {},
     "output_type": "display_data"
    }
   ],
   "source": [
    "plt.plot(ROW_COUNT, insert_times)\n",
    "plt.title('Number of rows vs. Insert Time')\n",
    "plt.xlabel('Number of Rows')\n",
    "plt.ylabel('Insert Time (s)')"
   ]
  },
  {
   "cell_type": "code",
   "execution_count": 25,
   "metadata": {
    "collapsed": false
   },
   "outputs": [
    {
     "data": {
      "text/plain": [
       "<matplotlib.text.Text at 0x115691668>"
      ]
     },
     "execution_count": 25,
     "metadata": {},
     "output_type": "execute_result"
    },
    {
     "data": {
      "image/png": "[encoded data removed]",
      "text/plain": [
       "<matplotlib.figure.Figure at 0x115713630>"
      ]
     },
     "metadata": {},
     "output_type": "display_data"
    }
   ],
   "source": [
    "plt.plot(ROW_COUNT, find_times)\n",
    "plt.title('Number of rows vs. Insert Time')\n",
    "plt.xlabel('Number of Rows')\n",
    "plt.ylabel('Find and Listify Time (s)')"
   ]
  },
  {
   "cell_type": "markdown",
   "metadata": {},
   "source": [
    "# Varying column count"
   ]
  },
  {
   "cell_type": "code",
   "execution_count": 32,
   "metadata": {
    "collapsed": true
   },
   "outputs": [],
   "source": [
    "def qmark_factory(count):\n",
    "    qstr = '('\n",
    "    for i in range(count-1):\n",
    "        qstr += '?,'\n",
    "    qstr += '?)'\n",
    "    return qstr"
   ]
  },
  {
   "cell_type": "code",
   "execution_count": 33,
   "metadata": {
    "collapsed": false
   },
   "outputs": [
    {
     "name": "stderr",
     "output_type": "stream",
     "text": [
      "100%|██████████| 5/5 [04:46<00:00, 83.39s/it]\n"
     ]
    }
   ],
   "source": [
    "cols = {}\n",
    "for i in range(100):\n",
    "    cols['data{}'.format(i)] = i\n",
    "insert_times = []\n",
    "find_times = []\n",
    "k = tuple(cols.keys())\n",
    "for j in tqdm(ROW_COUNT):\n",
    "    conn = sqlite3.connect('goodol-tick_data_{}.db'.format(j))\n",
    "    c = conn.cursor()\n",
    "    c.execute('''CREATE TABLE data_cols\n",
    "                 {}'''.format(k))\n",
    "    _ins_list = []\n",
    "    for i in range(j):\n",
    "        a = np.random.randn(100)\n",
    "        _ins_list.append(tuple(a))\n",
    "    s = qmark_factory(100)\n",
    "    _ins_str = 'INSERT INTO data_cols VALUES {}'.format(s)\n",
    "    ins_start = time.time()\n",
    "    c.executemany(_ins_str, _ins_list)\n",
    "    ins_end = time.time()\n",
    "    insert_times.append(ins_end-ins_start)\n",
    "    \n",
    "    find_start = time.time()\n",
    "    a = list(c.execute('SELECT * FROM data_cols'))\n",
    "    find_end = time.time()\n",
    "    find_times.append(find_end-find_start)"
   ]
  },
  {
   "cell_type": "code",
   "execution_count": 34,
   "metadata": {
    "collapsed": false
   },
   "outputs": [
    {
     "data": {
      "text/plain": [
       "<matplotlib.text.Text at 0x10c54c240>"
      ]
     },
     "execution_count": 34,
     "metadata": {},
     "output_type": "execute_result"
    },
    {
     "data": {
      "image/png": "[encoded data removed]",
      "text/plain": [
       "<matplotlib.figure.Figure at 0x10cc188d0>"
      ]
     },
     "metadata": {},
     "output_type": "display_data"
    }
   ],
   "source": [
    "plt.plot(ROW_COUNT, find_times)\n",
    "plt.title('Number of rows vs. Insert Time for 100 columns')\n",
    "plt.xlabel('Number of Rows')\n",
    "plt.ylabel('Find and Listify Time (s)')"
   ]
  },
  {
   "cell_type": "code",
   "execution_count": null,
   "metadata": {
    "collapsed": true
   },
   "outputs": [],
   "source": []
  }
 ],
 "metadata": {
  "kernelspec": {
   "display_name": "Python 3",
   "language": "python",
   "name": "python3"
  },
  "language_info": {
   "codemirror_mode": {
    "name": "ipython",
    "version": 3
   },
   "file_extension": ".py",
   "mimetype": "text/x-python",
   "name": "python",
   "nbconvert_exporter": "python",
   "pygments_lexer": "ipython3",
   "version": "3.5.1"
  }
 },
 "nbformat": 4,
 "nbformat_minor": 0
}
