{
 "cells": [
  {
   "cell_type": "code",
   "execution_count": 6,
   "metadata": {
    "collapsed": false
   },
   "outputs": [],
   "source": [
    "import sqlite3\n",
    "import time\n",
    "%matplotlib inline\n",
    "from matplotlib import pyplot as plt\n",
    "from tqdm import tqdm"
   ]
  },
  {
   "cell_type": "code",
   "execution_count": 2,
   "metadata": {
    "collapsed": true
   },
   "outputs": [],
   "source": [
    "ROW_COUNT = [100, 1000, int(1e4), int(1e5), int(1e6)] #, int(1e7)]"
   ]
  },
  {
   "cell_type": "code",
   "execution_count": 3,
   "metadata": {
    "collapsed": false
   },
   "outputs": [],
   "source": [
    "insert_times = []\n",
    "find_times = []\n",
    "\n",
    "for i in ROW_COUNT:\n",
    "    conn = sqlite3.connect('goodol-tick_data_{}.db'.format(i))\n",
    "    c = conn.cursor()\n",
    "    c.execute('''CREATE TABLE stocks{}\n",
    "             (date text, trans text, symbol text, qty real, price real)'''.format(i))\n",
    "    purchases = [('2006-03-28', 'BUY', 'IBM', 1000, i+45),\n",
    "             ('2006-04-05', 'BUY', 'MSFT', 1000, i+72.00),\n",
    "             ('2006-04-06', 'SELL', 'IBM', 500, i+53.00),\n",
    "            ] * i\n",
    "    \n",
    "    start = time.time()\n",
    "    c.executemany('INSERT INTO stocks{} VALUES (?,?,?,?,?)'.format(i), purchases)\n",
    "    end = time.time()\n",
    "    insert_times.append(end-start)\n",
    "    start1 = time.time()\n",
    "    a = list(c.execute('SELECT * FROM stocks{}'.format(i)))\n",
    "    end1 = time.time()\n",
    "    find_times.append(end1-start1)"
   ]
  },
  {
   "cell_type": "code",
   "execution_count": 4,
   "metadata": {
    "collapsed": false
   },
   "outputs": [
    {
     "data": {
      "text/plain": [
       "[<matplotlib.lines.Line2D at 0x10bc35780>]"
      ]
     },
     "execution_count": 4,
     "metadata": {},
     "output_type": "execute_result"
    },
    {
     "data": {
      "image/png": "[encoded data removed]",
      "text/plain": [
       "<matplotlib.figure.Figure at 0x10bc06470>"
      ]
     },
     "metadata": {},
     "output_type": "display_data"
    }
   ],
   "source": [
    "plt.plot(ROW_COUNT, insert_times)\n",
    "plt.title('Number of rows vs. Insert Time')\n",
    "plt.xlabel('Number of Rows')\n",
    "plt.ylabel('Insert Time (s)')"
   ]
  },
  {
   "cell_type": "code",
   "execution_count": 5,
   "metadata": {
    "collapsed": false
   },
   "outputs": [
    {
     "data": {
      "text/plain": [
       "[<matplotlib.lines.Line2D at 0x10bcc1f28>]"
      ]
     },
     "execution_count": 5,
     "metadata": {},
     "output_type": "execute_result"
    },
    {
     "data": {
      "image/png": "[encoded data removed]",
      "text/plain": [
       "<matplotlib.figure.Figure at 0x113c20c18>"
      ]
     },
     "metadata": {},
     "output_type": "display_data"
    }
   ],
   "source": [
    "plt.plot(ROW_COUNT, find_times)\n",
    "plt.title('Number of rows vs. Insert Time')\n",
    "plt.xlabel('Number of Rows')\n",
    "plt.ylabel('Find and Listify Time (s)')"
   ]
  },
  {
   "cell_type": "code",
   "execution_count": null,
   "metadata": {
    "collapsed": true
   },
   "outputs": [],
   "source": []
  }
 ],
 "metadata": {
  "kernelspec": {
   "display_name": "Python 3",
   "language": "python",
   "name": "python3"
  },
  "language_info": {
   "codemirror_mode": {
    "name": "ipython",
    "version": 3
   },
   "file_extension": ".py",
   "mimetype": "text/x-python",
   "name": "python",
   "nbconvert_exporter": "python",
   "pygments_lexer": "ipython3",
   "version": "3.5.1"
  }
 },
 "nbformat": 4,
 "nbformat_minor": 0
}
