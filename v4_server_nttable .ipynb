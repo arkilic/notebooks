{
 "cells": [
  {
   "cell_type": "code",
   "execution_count": null,
   "metadata": {
    "collapsed": false
   },
   "outputs": [],
   "source": [
    "from __future__ import print_function, absolute_import\n",
    "import numpy as np\n",
    "from pvaccess import (PvObject, STRING, DOUBLE, \n",
    "                      NtTable, NtType, PvInt, RpcServer)\n",
    "from collections import OrderedDict\n",
    "from pymongo import MongoClient"
   ]
  },
  {
   "cell_type": "code",
   "execution_count": null,
   "metadata": {
    "collapsed": false
   },
   "outputs": [],
   "source": [
    "class RPCResponseHandler:\n",
    "    def __init__(self, host, port):\n",
    "        self.srv = RpcServer()\n",
    "        self.host = host\n",
    "        self.port = port\n",
    "    \n",
    "    @property\n",
    "    def conn(self):\n",
    "        return MongoClient(self.host, self.port)\n",
    "    @property\n",
    "    def database(self):\n",
    "        return self.conn.mockdata\n",
    "    \n",
    "    def make_mock_table(self):\n",
    "        cols = {'column0' : [DOUBLE], \n",
    "        'column1' : [DOUBLE], \n",
    "        'column2' : [DOUBLE]}\n",
    "        colstruct = OrderedDict(sorted(cols.items(), \n",
    "                                       key=lambda t: t[0]))\n",
    "        struct = OrderedDict([('labels', [STRING]), \n",
    "                              ('value', colstruct)])\n",
    "        pvobj = PvObject(struct)\n",
    "        pvobj.setScalarArray('labels', ['x', 'y', 'z'])\n",
    "        return pvobj\n",
    "    \n",
    "    def get_by_id(self, x):\n",
    "        print(\"here I am at the query\")\n",
    "        id = x.getString('id')\n",
    "        # self.database.find({'id': id})\n",
    "        tbl = self.make_mock_table()\n",
    "        tbl.setStructure({'column0': [0, 1, 2, 3, 5],\n",
    "                 'column1': [4, 6, 7, 8, 9],\n",
    "                 'column2': [10, 11, 12, 13, 14]})\n",
    "        return tbl\n",
    "    \n",
    "    def get_by_time(self, x):\n",
    "        print(\"here I am at the query\")\n",
    "        id = x.getDouble('time')\n",
    "        # self.database.find({'id': id})\n",
    "        tbl = self.make_mock_table()\n",
    "        tbl.setStructure({'column0': [0, 1, 2, 3, 5],\n",
    "                 'column1': [4, 6, 7, 8, 9],\n",
    "                 'column2': [10, 11, 12, 13, 14]})\n",
    "        return tbl\n",
    "    \n",
    "    def register_listen(self):\n",
    "        self.srv.registerService('get_by_id', self.get_by_id)\n",
    "        self.srv.registerService('get_by_time', self.get_by_time)\n",
    "        self.srv.listen()"
   ]
  },
  {
   "cell_type": "code",
   "execution_count": null,
   "metadata": {
    "collapsed": false
   },
   "outputs": [],
   "source": [
    "r = RPCResponseHandler(host='localhost', port=27017)"
   ]
  },
  {
   "cell_type": "code",
   "execution_count": null,
   "metadata": {
    "collapsed": false
   },
   "outputs": [],
   "source": [
    "r.database"
   ]
  },
  {
   "cell_type": "code",
   "execution_count": null,
   "metadata": {
    "collapsed": false
   },
   "outputs": [],
   "source": [
    "r.register_listen()"
   ]
  },
  {
   "cell_type": "code",
   "execution_count": null,
   "metadata": {
    "collapsed": false
   },
   "outputs": [],
   "source": [
    "def make_mock_table():\n",
    "    cols = {'column0' : [DOUBLE], \n",
    "    'column1' : [DOUBLE], \n",
    "    'column2' : [DOUBLE]}\n",
    "    colstruct = OrderedDict(sorted(cols.items(), \n",
    "                                   key=lambda t: t[0]))\n",
    "    struct = OrderedDict([('labels', [STRING]), \n",
    "                          ('value', colstruct)])\n",
    "    pvobj = PvObject(struct)\n",
    "    pvobj.setScalarArray('labels', ['x', 'y', 'z'])\n",
    "    return pvobj\n",
    "tbl = make_mock_table()\n",
    "tbl.getStructure()\n",
    "tbl.setStructure({'column0': [0.0]})\n",
    "          "
   ]
  },
  {
   "cell_type": "code",
   "execution_count": null,
   "metadata": {
    "collapsed": false
   },
   "outputs": [],
   "source": [
    "NtTable?"
   ]
  },
  {
   "cell_type": "code",
   "execution_count": null,
   "metadata": {
    "collapsed": false
   },
   "outputs": [],
   "source": []
  }
 ],
 "metadata": {
  "kernelspec": {
   "display_name": "Python 3",
   "language": "python",
   "name": "python3"
  },
  "language_info": {
   "codemirror_mode": {
    "name": "ipython",
    "version": 3
   },
   "file_extension": ".py",
   "mimetype": "text/x-python",
   "name": "python",
   "nbconvert_exporter": "python",
   "pygments_lexer": "ipython3",
   "version": "3.5.2"
  }
 },
 "nbformat": 4,
 "nbformat_minor": 0
}
