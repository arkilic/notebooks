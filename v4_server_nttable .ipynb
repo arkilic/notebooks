{
 "metadata": {
  "name": "",
  "signature": "sha256:9e23974ee439ddc98dd550637790b91ebaffdf5f1c95a49c77707fcede452c40"
 },
 "nbformat": 3,
 "nbformat_minor": 0,
 "worksheets": [
  {
   "cells": [
    {
     "cell_type": "code",
     "collapsed": false,
     "input": [
      "from __future__ import print_function, absolute_import\n",
      "import numpy as np\n",
      "from pvaccess import (PvObject, STRING, DOUBLE, \n",
      "                      NtTable, NtType, PvInt, RpcServer)\n",
      "from collections import OrderedDict\n",
      "from pymongo import MongoClient"
     ],
     "language": "python",
     "metadata": {},
     "outputs": [],
     "prompt_number": 1
    },
    {
     "cell_type": "code",
     "collapsed": false,
     "input": [
      "class RPCResponseHandler:\n",
      "    def __init__(self, host, port):\n",
      "        self.srv = RpcServer()\n",
      "        self.host = host\n",
      "        self.port = port\n",
      "    \n",
      "    @property\n",
      "    def conn(self):\n",
      "        return MongoClient(self.host, self.port)\n",
      "    @property\n",
      "    def database(self):\n",
      "        return self.conn.mockdata\n",
      "    \n",
      "    def make_mock_table(self):\n",
      "        cols = {'column0' : [DOUBLE], \n",
      "        'column1' : [DOUBLE], \n",
      "        'column2' : [DOUBLE]}\n",
      "        colstruct = OrderedDict(sorted(cols.items(), \n",
      "                                       key=lambda t: t[0]))\n",
      "        struct = OrderedDict([('labels', [STRING]), \n",
      "                              ('value', colstruct)])\n",
      "        pvobj = PvObject(struct)\n",
      "        pvobj.setScalarArray('labels', ['x', 'y', 'z'])\n",
      "        return pvobj\n",
      "    \n",
      "    def get_by_id(self, x):\n",
      "        print(\"here I am at the query\")\n",
      "        id = x.getString('id')\n",
      "        # self.database.find({'id': id})\n",
      "        tbl = self.make_mock_table()\n",
      "        tbl.setStructure({'column0': [0, 1, 2, 3, 5],\n",
      "                 'column1': [4, 6, 7, 8, 9],\n",
      "                 'column2': [10, 11, 12, 13, 14]})\n",
      "        return tbl\n",
      "    \n",
      "    def get_by_time(self, x):\n",
      "        print(\"here I am at the query\")\n",
      "        id = x.getDouble('time')\n",
      "        # self.database.find({'id': id})\n",
      "        tbl = self.make_mock_table()\n",
      "        tbl.setStructure({'column0': [0, 1, 2, 3, 5],\n",
      "                 'column1': [4, 6, 7, 8, 9],\n",
      "                 'column2': [10, 11, 12, 13, 14]})\n",
      "        return tbl\n",
      "    \n",
      "    def register_listen(self):\n",
      "        self.srv.registerService('get_by_id', self.get_by_id)\n",
      "        self.srv.registerService('get_by_time', self.get_by_time)\n",
      "        self.srv.listen()"
     ],
     "language": "python",
     "metadata": {},
     "outputs": [],
     "prompt_number": 2
    },
    {
     "cell_type": "code",
     "collapsed": false,
     "input": [
      "r = RPCResponseHandler(host='localhost', port=27017)"
     ],
     "language": "python",
     "metadata": {},
     "outputs": [],
     "prompt_number": 3
    },
    {
     "cell_type": "code",
     "collapsed": false,
     "input": [
      "r.database"
     ],
     "language": "python",
     "metadata": {},
     "outputs": [
      {
       "metadata": {},
       "output_type": "pyout",
       "prompt_number": 4,
       "text": [
        "Database(MongoClient(host=['localhost:27017'], document_class=dict, tz_aware=False, connect=True), u'mockdata')"
       ]
      }
     ],
     "prompt_number": 4
    },
    {
     "cell_type": "code",
     "collapsed": false,
     "input": [
      "r.register_listen()"
     ],
     "language": "python",
     "metadata": {},
     "outputs": []
    },
    {
     "cell_type": "code",
     "collapsed": false,
     "input": [
      "def make_mock_table():\n",
      "    cols = {'column0' : [DOUBLE], \n",
      "    'column1' : [DOUBLE], \n",
      "    'column2' : [DOUBLE]}\n",
      "    colstruct = OrderedDict(sorted(cols.items(), \n",
      "                                   key=lambda t: t[0]))\n",
      "    struct = OrderedDict([('labels', [STRING]), \n",
      "                          ('value', colstruct)])\n",
      "    pvobj = PvObject(struct)\n",
      "    pvobj.setScalarArray('labels', ['x', 'y', 'z'])\n",
      "    return pvobj\n",
      "tbl = make_mock_table()\n",
      "tbl.getStructure()\n",
      "tbl.setStructure({'column0': [0.0]})\n",
      "          "
     ],
     "language": "python",
     "metadata": {},
     "outputs": []
    },
    {
     "cell_type": "code",
     "collapsed": false,
     "input": [
      "NtTable?"
     ],
     "language": "python",
     "metadata": {},
     "outputs": [],
     "prompt_number": 19
    },
    {
     "cell_type": "code",
     "collapsed": false,
     "input": [],
     "language": "python",
     "metadata": {},
     "outputs": []
    }
   ],
   "metadata": {}
  }
 ]
}