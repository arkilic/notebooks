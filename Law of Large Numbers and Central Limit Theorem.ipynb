{
 "cells": [
  {
   "cell_type": "markdown",
   "metadata": {},
   "source": [
    "**PROBLEM 3: Law of Large Numbers and Central Limit Theorem**\n",
    "\n",
    "Considering integral $ a = \\int_{0}^{1}{f(x)}dx$ and $E[f(U)]$ where U is a random variable that is uniformly distributed on interval (0,1)\n",
    "\n",
    "\n",
    "1) Show that $lim_{n->\\inf} 1/n \\sum_{i=1}^{n}f(U_i) = a$ almost surely\n"
   ]
  },
  {
   "cell_type": "markdown",
   "metadata": {},
   "source": [
    "Let $f(U_i) = Y_i$ and $S_n = Y_1 + Y_2 + ... + Y_n$. From the Law of Large numbers, we know that $lim_{n->\\inf}S_n/n = \\mu$ almost surely where $\\mu = E[Y_i] = E[f(U_i)] = a$. Therefore, \n",
    "$lim_{n->\\inf}1/n((f(U_1)+f(U_2)+...+f(U_n)) = E[f(U)] = a$\n",
    "\n",
    "By the **law of large numbers**, the sample averages converge in probability and almost surely to the expected value \"a\" as n → ∞. "
   ]
  },
  {
   "cell_type": "markdown",
   "metadata": {},
   "source": [
    "2) What is the distribution of the error?"
   ]
  },
  {
   "cell_type": "markdown",
   "metadata": {},
   "source": [
    "By Lindeberg–Lévy **central limit theorem**, we know: suppose {X1, X2, ...} is a sequence of i.i.d. random variables with E[Xi] = µ and Var[Xi] = σ2 < ∞. Then as n approaches infinity, the random variables √n(Sn − µ) converge in distribution to a normal $N(0, σ^2)$.\n",
    "\n",
    "Given $f(U_1), f(U_2), ..., f(U_n)$ as a sequence of i.i.d. random variables with $E[f(U_i)] = a$ and $Var[f(U_i)] = \\sigma^2 < ∞$\n",
    "As n approaches infinity, the random variables:\n",
    "\n",
    "$lim_{n->\\inf} \\sqrt{n}(1/n)(S_n-\\mu) -> N(0, \\sigma^2)$\n",
    "\n",
    "Then given the expression in question, $lim_{n->\\inf} (1/n)(S_n-\\mu) -> 1/\\sqrt{n}N(0, \\sigma^2)=N(0, \\sigma^2/n)$ where $S_n=\\sum_{i=1}^{n}f(U_i)$ and $\\mu=a$"
   ]
  },
  {
   "cell_type": "markdown",
   "metadata": {},
   "source": [
    "**PROBLEM 4: Useful Martingale Property**\n",
    "\n",
    "Given independent martingales $X_n$ and $Y_n$, is $Z_n=X_n + Y_n$ a martingale?\n",
    "\n",
    "We know that martingality can be shown as $E[X_{k+1}|{X_1,X_2, ..., X+k}]=X_k$\n",
    "\n",
    "So,\n",
    "$E[Z_k|Z_n] = E[X_k + Y_k | X_n, Y_n]=E[X_k|X_n] + E[Y_k|Y_n]$ since independent\n",
    "Therefore, \n",
    "$E[Z_k|Z_n] = X_k + Y_k = Z_k$. Hence, sum of two independent martingales is also a martingale"
   ]
  },
  {
   "cell_type": "markdown",
   "metadata": {},
   "source": []
  },
  {
   "cell_type": "code",
   "execution_count": null,
   "metadata": {
    "collapsed": true
   },
   "outputs": [],
   "source": []
  }
 ],
 "metadata": {
  "kernelspec": {
   "display_name": "Python 2",
   "language": "python",
   "name": "python2"
  },
  "language_info": {
   "codemirror_mode": {
    "name": "ipython",
    "version": 2
   },
   "file_extension": ".py",
   "mimetype": "text/x-python",
   "name": "python",
   "nbconvert_exporter": "python",
   "pygments_lexer": "ipython2",
   "version": "2.7.11"
  }
 },
 "nbformat": 4,
 "nbformat_minor": 0
}
