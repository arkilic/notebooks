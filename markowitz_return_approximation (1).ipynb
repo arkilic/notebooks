{
 "cells": [
  {
   "cell_type": "code",
   "execution_count": 2,
   "metadata": {
    "collapsed": true
   },
   "outputs": [],
   "source": [
    "import pandas as pd\n",
    "import numpy as np"
   ]
  },
  {
   "cell_type": "code",
   "execution_count": 3,
   "metadata": {
    "collapsed": true
   },
   "outputs": [],
   "source": [
    "spy = pd.read_csv(\"/Users/armanarkilic/Desktop/spy_historical_returns.csv\", header=1)"
   ]
  },
  {
   "cell_type": "code",
   "execution_count": 4,
   "metadata": {
    "collapsed": true
   },
   "outputs": [],
   "source": [
    "# Simple data formatting\n",
    "spy['return_pct'] = spy['return_pct'].map(lambda x: x.lstrip('%+').rstrip('%+'))\n",
    "spy['Value of $1.00 Invested on 1970‑01‑01'] =  spy['return_pct'].map(lambda x: x.lstrip('$+').rstrip('%+$'))"
   ]
  },
  {
   "cell_type": "code",
   "execution_count": 5,
   "metadata": {},
   "outputs": [
    {
     "data": {
      "text/html": [
       "<div>\n",
       "<table border=\"1\" class=\"dataframe\">\n",
       "  <thead>\n",
       "    <tr style=\"text-align: right;\">\n",
       "      <th></th>\n",
       "      <th>Year</th>\n",
       "      <th>return_pct</th>\n",
       "      <th>Value of $1.00 Invested on 1970‑01‑01</th>\n",
       "      <th>5 Year Annualized Return</th>\n",
       "      <th>10 Year Annualized Return</th>\n",
       "      <th>15 Year Annualized Return</th>\n",
       "      <th>20 Year Annualized Return</th>\n",
       "      <th>25 Year Annualized Return</th>\n",
       "    </tr>\n",
       "  </thead>\n",
       "  <tbody>\n",
       "    <tr>\n",
       "      <th>0</th>\n",
       "      <td>1970</td>\n",
       "      <td>4.01</td>\n",
       "      <td>4.01</td>\n",
       "      <td>-</td>\n",
       "      <td>-</td>\n",
       "      <td>-</td>\n",
       "      <td>-</td>\n",
       "      <td>-</td>\n",
       "    </tr>\n",
       "    <tr>\n",
       "      <th>1</th>\n",
       "      <td>1971</td>\n",
       "      <td>14.31</td>\n",
       "      <td>14.31</td>\n",
       "      <td>-</td>\n",
       "      <td>-</td>\n",
       "      <td>-</td>\n",
       "      <td>-</td>\n",
       "      <td>-</td>\n",
       "    </tr>\n",
       "    <tr>\n",
       "      <th>2</th>\n",
       "      <td>1972</td>\n",
       "      <td>18.98</td>\n",
       "      <td>18.98</td>\n",
       "      <td>-</td>\n",
       "      <td>-</td>\n",
       "      <td>-</td>\n",
       "      <td>-</td>\n",
       "      <td>-</td>\n",
       "    </tr>\n",
       "    <tr>\n",
       "      <th>3</th>\n",
       "      <td>1973</td>\n",
       "      <td>-14.66</td>\n",
       "      <td>-14.66</td>\n",
       "      <td>-</td>\n",
       "      <td>-</td>\n",
       "      <td>-</td>\n",
       "      <td>-</td>\n",
       "      <td>-</td>\n",
       "    </tr>\n",
       "    <tr>\n",
       "      <th>4</th>\n",
       "      <td>1974</td>\n",
       "      <td>-26.47</td>\n",
       "      <td>-26.47</td>\n",
       "      <td>-2.35%</td>\n",
       "      <td>-</td>\n",
       "      <td>-</td>\n",
       "      <td>-</td>\n",
       "      <td>-</td>\n",
       "    </tr>\n",
       "  </tbody>\n",
       "</table>\n",
       "</div>"
      ],
      "text/plain": [
       "   Year return_pct Value of $1.00 Invested on 1970‑01‑01  \\\n",
       "0  1970       4.01                                  4.01   \n",
       "1  1971      14.31                                 14.31   \n",
       "2  1972      18.98                                 18.98   \n",
       "3  1973     -14.66                                -14.66   \n",
       "4  1974     -26.47                                -26.47   \n",
       "\n",
       "  5 Year Annualized Return 10 Year Annualized Return  \\\n",
       "0                        -                         -   \n",
       "1                        -                         -   \n",
       "2                        -                         -   \n",
       "3                        -                         -   \n",
       "4                   -2.35%                         -   \n",
       "\n",
       "  15 Year Annualized Return 20 Year Annualized Return  \\\n",
       "0                         -                         -   \n",
       "1                         -                         -   \n",
       "2                         -                         -   \n",
       "3                         -                         -   \n",
       "4                         -                         -   \n",
       "\n",
       "  25 Year Annualized Return  \n",
       "0                         -  \n",
       "1                         -  \n",
       "2                         -  \n",
       "3                         -  \n",
       "4                         -  "
      ]
     },
     "execution_count": 5,
     "metadata": {},
     "output_type": "execute_result"
    }
   ],
   "source": [
    "spy.head()"
   ]
  },
  {
   "cell_type": "code",
   "execution_count": 71,
   "metadata": {
    "collapsed": true
   },
   "outputs": [],
   "source": [
    "spx = spy.iloc[0:45]"
   ]
  },
  {
   "cell_type": "code",
   "execution_count": 72,
   "metadata": {},
   "outputs": [
    {
     "data": {
      "text/plain": [
       "0.030371754979797983"
      ]
     },
     "execution_count": 72,
     "metadata": {},
     "output_type": "execute_result"
    }
   ],
   "source": [
    "spx = spx.apply(pd.to_numeric, errors='ignore')\n",
    "T = 45\n",
    "spx['return_pct'] = spx['return_pct'] /100\n",
    "\n",
    "mean_annual_returns = spx['return_pct'].mean()\n",
    "\n",
    "var = spx['return_pct'].var()\n",
    "var"
   ]
  },
  {
   "cell_type": "code",
   "execution_count": 73,
   "metadata": {},
   "outputs": [
    {
     "data": {
      "text/plain": [
       "0.11960444444444444"
      ]
     },
     "execution_count": 73,
     "metadata": {},
     "output_type": "execute_result"
    }
   ],
   "source": [
    "# mean annual returns, hence expected value\n",
    "mean_annual_returns"
   ]
  },
  {
   "cell_type": "code",
   "execution_count": 74,
   "metadata": {},
   "outputs": [
    {
     "data": {
      "text/plain": [
       "0.11297544832299039"
      ]
     },
     "execution_count": 74,
     "metadata": {},
     "output_type": "execute_result"
    }
   ],
   "source": [
    "# E[ln(1+r)]\n",
    "x = np.log(1 + mean_annual_returns)\n",
    "x"
   ]
  },
  {
   "cell_type": "code",
   "execution_count": 75,
   "metadata": {},
   "outputs": [
    {
     "data": {
      "text/plain": [
       "0.17427494076831007"
      ]
     },
     "execution_count": 75,
     "metadata": {},
     "output_type": "execute_result"
    }
   ],
   "source": [
    "# Standard deviation\n",
    "np.sqrt(var)"
   ]
  },
  {
   "cell_type": "code",
   "execution_count": 76,
   "metadata": {},
   "outputs": [
    {
     "data": {
      "text/plain": [
       "0.10086080410456161"
      ]
     },
     "execution_count": 76,
     "metadata": {},
     "output_type": "execute_result"
    }
   ],
   "source": [
    "eq8_1 = np.log(1+mean_annual_returns) - var/(2*(1+mean_annual_returns)**2)\n",
    "eq8_1"
   ]
  },
  {
   "cell_type": "code",
   "execution_count": 77,
   "metadata": {},
   "outputs": [
    {
     "data": {
      "text/plain": [
       "0.10441856695454545"
      ]
     },
     "execution_count": 77,
     "metadata": {},
     "output_type": "execute_result"
    }
   ],
   "source": [
    "eq8_2 = mean_annual_returns - var/2\n",
    "eq8_2"
   ]
  },
  {
   "cell_type": "code",
   "execution_count": 98,
   "metadata": {},
   "outputs": [
    {
     "data": {
      "text/plain": [
       "0.098733332657924819"
      ]
     },
     "execution_count": 98,
     "metadata": {},
     "output_type": "execute_result"
    }
   ],
   "source": [
    "res = 0\n",
    "for i in range(1,45):\n",
    "    res += np.log(1 + spx.iloc[i]['return_pct'])\n",
    "actual = res/T\n",
    "actual"
   ]
  },
  {
   "cell_type": "code",
   "execution_count": 99,
   "metadata": {},
   "outputs": [
    {
     "name": "stdout",
     "output_type": "stream",
     "text": [
      "% 2.15476515313\n"
     ]
    }
   ],
   "source": [
    "error = abs(actual - eq8_1) /actual * 100\n",
    "print('%', error)"
   ]
  },
  {
   "cell_type": "code",
   "execution_count": 100,
   "metadata": {},
   "outputs": [
    {
     "name": "stdout",
     "output_type": "stream",
     "text": [
      "% 5.75817117034\n"
     ]
    }
   ],
   "source": [
    "error = abs(actual - eq8_2) /actual * 100\n",
    "print('%', error)"
   ]
  },
  {
   "cell_type": "code",
   "execution_count": null,
   "metadata": {
    "collapsed": true
   },
   "outputs": [],
   "source": []
  }
 ],
 "metadata": {
  "kernelspec": {
   "display_name": "Python 3",
   "language": "python",
   "name": "python3"
  },
  "language_info": {
   "codemirror_mode": {
    "name": "ipython",
    "version": 3
   },
   "file_extension": ".py",
   "mimetype": "text/x-python",
   "name": "python",
   "nbconvert_exporter": "python",
   "pygments_lexer": "ipython3",
   "version": "3.6.1"
  }
 },
 "nbformat": 4,
 "nbformat_minor": 2
}
