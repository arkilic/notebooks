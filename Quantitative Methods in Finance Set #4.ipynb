{
 "cells": [
  {
   "cell_type": "code",
   "execution_count": 1,
   "metadata": {
    "collapsed": false
   },
   "outputs": [],
   "source": [
    "import pandas as pd\n",
    "import datetime as dt\n",
    "import numpy as np\n",
    "import matplotlib.pyplot as plt\n",
    "\n",
    "%matplotlib inline"
   ]
  },
  {
   "cell_type": "markdown",
   "metadata": {},
   "source": [
    "**1.)** (20 points) Import this data"
   ]
  },
  {
   "cell_type": "code",
   "execution_count": 2,
   "metadata": {
    "collapsed": false
   },
   "outputs": [],
   "source": [
    "raw = pd.read_csv('bac.csv',encoding='cp1252')\n",
    "data = raw.rename(columns={'•ÈÀDate': 'Date'})\n",
    "data['Date'] = pd.to_datetime(data['Date'])"
   ]
  },
  {
   "cell_type": "code",
   "execution_count": 3,
   "metadata": {
    "collapsed": false
   },
   "outputs": [
    {
     "data": {
      "text/html": [
       "<div>\n",
       "<table border=\"1\" class=\"dataframe\">\n",
       "  <thead>\n",
       "    <tr style=\"text-align: right;\">\n",
       "      <th></th>\n",
       "      <th>Date</th>\n",
       "      <th>Open</th>\n",
       "      <th>High</th>\n",
       "      <th>Low</th>\n",
       "      <th>Close</th>\n",
       "      <th>Volume</th>\n",
       "      <th>log of close</th>\n",
       "    </tr>\n",
       "  </thead>\n",
       "  <tbody>\n",
       "    <tr>\n",
       "      <th>0</th>\n",
       "      <td>2014-09-23</td>\n",
       "      <td>17.05</td>\n",
       "      <td>17.20</td>\n",
       "      <td>17.03</td>\n",
       "      <td>17.05</td>\n",
       "      <td>91363298</td>\n",
       "      <td>2.836150</td>\n",
       "    </tr>\n",
       "    <tr>\n",
       "      <th>1</th>\n",
       "      <td>2014-09-22</td>\n",
       "      <td>17.09</td>\n",
       "      <td>17.17</td>\n",
       "      <td>16.99</td>\n",
       "      <td>17.03</td>\n",
       "      <td>109276696</td>\n",
       "      <td>2.834976</td>\n",
       "    </tr>\n",
       "    <tr>\n",
       "      <th>2</th>\n",
       "      <td>2014-09-19</td>\n",
       "      <td>17.15</td>\n",
       "      <td>17.17</td>\n",
       "      <td>16.88</td>\n",
       "      <td>16.95</td>\n",
       "      <td>88455049</td>\n",
       "      <td>2.830268</td>\n",
       "    </tr>\n",
       "    <tr>\n",
       "      <th>3</th>\n",
       "      <td>2014-09-18</td>\n",
       "      <td>16.88</td>\n",
       "      <td>17.15</td>\n",
       "      <td>16.87</td>\n",
       "      <td>17.04</td>\n",
       "      <td>111923229</td>\n",
       "      <td>2.835564</td>\n",
       "    </tr>\n",
       "    <tr>\n",
       "      <th>4</th>\n",
       "      <td>2014-09-17</td>\n",
       "      <td>16.71</td>\n",
       "      <td>16.93</td>\n",
       "      <td>16.68</td>\n",
       "      <td>16.77</td>\n",
       "      <td>82902719</td>\n",
       "      <td>2.819592</td>\n",
       "    </tr>\n",
       "  </tbody>\n",
       "</table>\n",
       "</div>"
      ],
      "text/plain": [
       "        Date   Open   High    Low  Close     Volume  log of close\n",
       "0 2014-09-23  17.05  17.20  17.03  17.05   91363298      2.836150\n",
       "1 2014-09-22  17.09  17.17  16.99  17.03  109276696      2.834976\n",
       "2 2014-09-19  17.15  17.17  16.88  16.95   88455049      2.830268\n",
       "3 2014-09-18  16.88  17.15  16.87  17.04  111923229      2.835564\n",
       "4 2014-09-17  16.71  16.93  16.68  16.77   82902719      2.819592"
      ]
     },
     "execution_count": 3,
     "metadata": {},
     "output_type": "execute_result"
    }
   ],
   "source": [
    "data.head()"
   ]
  },
  {
   "cell_type": "markdown",
   "metadata": {},
   "source": [
    "**2.)** We denote by S(t) the stock price at the close and by\n",
    "X(t) = logS(t) its log price. The last column in the spreadsheet shows\n",
    "the daily values of X(t) at the close. Here the time unit is ∆t = 1 day.\n",
    "The log return is defined as:\n",
    "\n",
    "$r(t) = X(t + 1) − X(t)$\n",
    "\n",
    "Compute the log returns for the entire data set and plot them."
   ]
  },
  {
   "cell_type": "code",
   "execution_count": 4,
   "metadata": {
    "collapsed": false
   },
   "outputs": [],
   "source": [
    "p = data['log of close'][0:]\n",
    "q = data['log of close'][1:]\n",
    "tmp = p.values[:250]-q.values\n",
    "tmp = np.append(tmp, 0)\n",
    "data['log_return'] = tmp"
   ]
  },
  {
   "cell_type": "code",
   "execution_count": 5,
   "metadata": {
    "collapsed": false
   },
   "outputs": [
    {
     "data": {
      "text/html": [
       "<div>\n",
       "<table border=\"1\" class=\"dataframe\">\n",
       "  <thead>\n",
       "    <tr style=\"text-align: right;\">\n",
       "      <th></th>\n",
       "      <th>Date</th>\n",
       "      <th>Open</th>\n",
       "      <th>High</th>\n",
       "      <th>Low</th>\n",
       "      <th>Close</th>\n",
       "      <th>Volume</th>\n",
       "      <th>log of close</th>\n",
       "      <th>log_return</th>\n",
       "    </tr>\n",
       "  </thead>\n",
       "  <tbody>\n",
       "    <tr>\n",
       "      <th>0</th>\n",
       "      <td>2014-09-23</td>\n",
       "      <td>17.05</td>\n",
       "      <td>17.20</td>\n",
       "      <td>17.03</td>\n",
       "      <td>17.05</td>\n",
       "      <td>91363298</td>\n",
       "      <td>2.836150</td>\n",
       "      <td>0.001174</td>\n",
       "    </tr>\n",
       "    <tr>\n",
       "      <th>1</th>\n",
       "      <td>2014-09-22</td>\n",
       "      <td>17.09</td>\n",
       "      <td>17.17</td>\n",
       "      <td>16.99</td>\n",
       "      <td>17.03</td>\n",
       "      <td>109276696</td>\n",
       "      <td>2.834976</td>\n",
       "      <td>0.004709</td>\n",
       "    </tr>\n",
       "    <tr>\n",
       "      <th>2</th>\n",
       "      <td>2014-09-19</td>\n",
       "      <td>17.15</td>\n",
       "      <td>17.17</td>\n",
       "      <td>16.88</td>\n",
       "      <td>16.95</td>\n",
       "      <td>88455049</td>\n",
       "      <td>2.830268</td>\n",
       "      <td>-0.005296</td>\n",
       "    </tr>\n",
       "    <tr>\n",
       "      <th>3</th>\n",
       "      <td>2014-09-18</td>\n",
       "      <td>16.88</td>\n",
       "      <td>17.15</td>\n",
       "      <td>16.87</td>\n",
       "      <td>17.04</td>\n",
       "      <td>111923229</td>\n",
       "      <td>2.835564</td>\n",
       "      <td>0.015972</td>\n",
       "    </tr>\n",
       "    <tr>\n",
       "      <th>4</th>\n",
       "      <td>2014-09-17</td>\n",
       "      <td>16.71</td>\n",
       "      <td>16.93</td>\n",
       "      <td>16.68</td>\n",
       "      <td>16.77</td>\n",
       "      <td>82902719</td>\n",
       "      <td>2.819592</td>\n",
       "      <td>0.003584</td>\n",
       "    </tr>\n",
       "  </tbody>\n",
       "</table>\n",
       "</div>"
      ],
      "text/plain": [
       "        Date   Open   High    Low  Close     Volume  log of close  log_return\n",
       "0 2014-09-23  17.05  17.20  17.03  17.05   91363298      2.836150    0.001174\n",
       "1 2014-09-22  17.09  17.17  16.99  17.03  109276696      2.834976    0.004709\n",
       "2 2014-09-19  17.15  17.17  16.88  16.95   88455049      2.830268   -0.005296\n",
       "3 2014-09-18  16.88  17.15  16.87  17.04  111923229      2.835564    0.015972\n",
       "4 2014-09-17  16.71  16.93  16.68  16.77   82902719      2.819592    0.003584"
      ]
     },
     "execution_count": 5,
     "metadata": {},
     "output_type": "execute_result"
    }
   ],
   "source": [
    "data.head()"
   ]
  },
  {
   "cell_type": "code",
   "execution_count": 6,
   "metadata": {
    "collapsed": false
   },
   "outputs": [
    {
     "data": {
      "text/plain": [
       "<matplotlib.axes._subplots.AxesSubplot at 0x7fae9b6885c0>"
      ]
     },
     "execution_count": 6,
     "metadata": {},
     "output_type": "execute_result"
    },
    {
     "data": {
      "image/png": "[encoded data removed]",
      "text/plain": [
       "<matplotlib.figure.Figure at 0x7fae9b688710>"
      ]
     },
     "metadata": {},
     "output_type": "display_data"
    }
   ],
   "source": [
    "data.plot(y='log_return', title='Log Return Plot', grid=True,figsize=(10, 10))\n"
   ]
  },
  {
   "cell_type": "code",
   "execution_count": 7,
   "metadata": {
    "collapsed": false,
    "scrolled": true
   },
   "outputs": [
    {
     "data": {
      "text/plain": [
       "array([[<matplotlib.axes._subplots.AxesSubplot object at 0x7fae99038358>]], dtype=object)"
      ]
     },
     "execution_count": 7,
     "metadata": {},
     "output_type": "execute_result"
    },
    {
     "data": {
      "image/png": "[encoded data removed]",
      "text/plain": [
       "<matplotlib.figure.Figure at 0x7fae993224e0>"
      ]
     },
     "metadata": {},
     "output_type": "display_data"
    }
   ],
   "source": [
    "data.hist(column='log_return', grid=False, figsize=(10, 10))"
   ]
  },
  {
   "cell_type": "markdown",
   "metadata": {},
   "source": [
    "**3.)** We denote by τ the time lag. It is a multiple of ∆t. Compute\n",
    "the autocorrelation function:"
   ]
  },
  {
   "cell_type": "code",
   "execution_count": 8,
   "metadata": {
    "collapsed": false
   },
   "outputs": [],
   "source": [
    "auto_corr_res1 = [data['log_return'].autocorr(lag=i) for i in range(30)]\n",
    "lag_indices = [j for j in range(30)]"
   ]
  },
  {
   "cell_type": "code",
   "execution_count": 9,
   "metadata": {
    "collapsed": false,
    "scrolled": true
   },
   "outputs": [
    {
     "name": "stdout",
     "output_type": "stream",
     "text": [
      "Auto-correlation vs Lag\n"
     ]
    },
    {
     "data": {
      "image/png": "[encoded data removed]",
      "text/plain": [
       "<matplotlib.figure.Figure at 0x7fae99278f28>"
      ]
     },
     "metadata": {},
     "output_type": "display_data"
    }
   ],
   "source": [
    "ax = plt.bar(lag_indices, auto_corr_res1, width = 1/4, color='red')\n",
    "\n",
    "print('Auto-correlation vs Lag')"
   ]
  },
  {
   "cell_type": "markdown",
   "metadata": {
    "collapsed": true
   },
   "source": [
    "**4.)**(20 points) Discuss the results obtained in the previous question. In particular, are the autocorrelations significant or not? Justify your answer by using a statistical test."
   ]
  },
  {
   "cell_type": "markdown",
   "metadata": {},
   "source": [
    "The previous problem provides a view of log return r(t). As we can see in cell #10 above, the distribution of log return r(t) is heavily left-skewed! Also, looking at the same cell, we can tell that the autocorrelations of distinct intervals is not significant as they are all less than 0.1 and we can ignore this. An important observation to note is the switching sign with varying $\\tau$. The auto-correlation for independent intervals do not have a significant increment or decrement trend. In order to investigate the significance of auto-correlation function, I introduced a test that allows us to investigate auto-correlation:"
   ]
  },
  {
   "cell_type": "code",
   "execution_count": 10,
   "metadata": {
    "collapsed": false
   },
   "outputs": [
    {
     "name": "stdout",
     "output_type": "stream",
     "text": [
      "[0.62002143054190872, -1.5607660562351868, -0.34114626336199183, -0.2196156570459353, -0.57325939184344055, 0.580575222963849, 0.23636282122496685, 0.44978411438313959, 0.61273190163405966, 0.71723705264883253, 0.84602349500284701, -1.647513014060261, -0.96747539391931181, -0.60407979566656744, -1.2608303487331425, 0.3284508082693483, 1.0992141292435416, 1.4478453700695977, 0.77729809361631341, -1.234540989642374, -1.998884854377889, -0.45385274773381734, -0.20856309269898138, 0.98774405726183823, 1.0752286811685521, 0.0028073530904054469, -0.47688367656061531, 1.0742387707538772, -0.69721955708439487]\n"
     ]
    }
   ],
   "source": [
    "t_vals = []\n",
    "for i in range(1, 30):\n",
    "    r = auto_corr_res1[i]\n",
    "    t_vals.append(r*np.sqrt((250-i-2)/(1-r**2)))\n",
    "print(t_vals)"
   ]
  },
  {
   "cell_type": "markdown",
   "metadata": {},
   "source": [
    "Using the statistical method shown above, I determine that correlation cofefficients for all intervals is < 2. As shown on the t-distribution table above, the entries with degrees of freedom larger than 200, we can claim that each autocorrelation is insignificant at 5% significance level."
   ]
  },
  {
   "cell_type": "markdown",
   "metadata": {},
   "source": [
    "**5.)**Study now the nonlinear autocorrelation functions:\n",
    "corr(|r(s + τ )|, |r(s)|)\n",
    "where | · | denotes the absolute value, and\n",
    "$corr(r(s + τ )^{2}, r(s)^2$\n",
    "\n",
    "Using a similar method to problem #3, but this time using the absolute value that prohibits the change in sign that I discussed in the earlier step:"
   ]
  },
  {
   "cell_type": "code",
   "execution_count": 11,
   "metadata": {
    "collapsed": true
   },
   "outputs": [],
   "source": [
    "auto_corr_res2 = [np.abs(data['log_return']).autocorr(lag=i) for i in range(30)]\n",
    "lag_indices = [j for j in range(30)]"
   ]
  },
  {
   "cell_type": "code",
   "execution_count": 12,
   "metadata": {
    "collapsed": false
   },
   "outputs": [
    {
     "name": "stdout",
     "output_type": "stream",
     "text": [
      "Bar plot for auto-correlation defined in question 5\n"
     ]
    },
    {
     "data": {
      "image/png": "[encoded data removed]",
      "text/plain": [
       "<matplotlib.figure.Figure at 0x7fae99335278>"
      ]
     },
     "metadata": {},
     "output_type": "display_data"
    }
   ],
   "source": [
    "ax = plt.bar(lag_indices, auto_corr_res2, width = 1/4, color='red')\n",
    "print('Bar plot for auto-correlation defined in question 5')"
   ]
  },
  {
   "cell_type": "markdown",
   "metadata": {},
   "source": [
    "For the most intervals, the correlations with absolute value are not significant, as the value is fairly low. However, where $\\tau$ is 11 and 13, autocorrelations become significant as they're almost 0.2.Again, the sign of the correlation varies despite the absolute value "
   ]
  },
  {
   "cell_type": "code",
   "execution_count": 13,
   "metadata": {
    "collapsed": false
   },
   "outputs": [
    {
     "name": "stdout",
     "output_type": "stream",
     "text": [
      "[1.4555799988910871, -0.96181886986773302, -0.95483474079168362, 0.42193840907144753, -1.7187899637534114, -1.0922182086427366, 1.0309353531343404, 0.051995696136744991, 0.58380889033612471, 0.93558083145945636, 2.0414242868035313, -0.32830380417118388, -2.107298271954035, 1.2468177556397395, 1.824827245475755, -0.1923057193329698, -0.075107393402397693, 0.52541016404047247, 0.19291626914162688, -0.6337548928530391, 0.3360114733488011, -1.2698612718407234, -1.2237269714646259, 0.093774430687026122, 0.41569451779370259, 0.65140461719254916, 1.8270494085188358, 0.48118696889478524, 0.78828362732262214]\n"
     ]
    }
   ],
   "source": [
    "# Applying the same statistical test\n",
    "t_vals = []\n",
    "for i in range(1, 30):\n",
    "    r = auto_corr_res2[i]\n",
    "    t_vals.append(r*np.sqrt((250-i-2)/(1-r**2)))\n",
    "print(t_vals)"
   ]
  },
  {
   "cell_type": "markdown",
   "metadata": {},
   "source": [
    "Again, we can see that each absolute value of t statistics is smaller than 2, except when lag period τ=11 and τ=13. And according to t-distribution table with degrees of freedom larger than 200, we can claim that autocorrelations are insignificant at 5% significance level except when lag period τ = 11 and 13. Even 5.05% is not that significant, however worth taking into consideration."
   ]
  },
  {
   "cell_type": "code",
   "execution_count": 14,
   "metadata": {
    "collapsed": true
   },
   "outputs": [],
   "source": [
    "auto_corr_res3 = [np.square(data['log_return']).autocorr(lag=i) for i in range(30)]\n",
    "lag_indices = [j for j in range(30)]"
   ]
  },
  {
   "cell_type": "code",
   "execution_count": 15,
   "metadata": {
    "collapsed": false
   },
   "outputs": [
    {
     "data": {
      "image/png": "[encoded data removed]",
      "text/plain": [
       "<matplotlib.figure.Figure at 0x7fae990cf630>"
      ]
     },
     "metadata": {},
     "output_type": "display_data"
    }
   ],
   "source": [
    "ax = plt.bar(lag_indices, auto_corr_res3, width = 1/4, color='red')\n"
   ]
  },
  {
   "cell_type": "markdown",
   "metadata": {},
   "source": [
    "A similar pattern occurs for auto-correlation function that is similar to the 3rd problem.All the correlation values calculated are insignificantly small. Again, varying $\\tau$ varies the sign of the intervals and there seems to be no pattern between the intervals.The so-called t-distribution test supports these findings."
   ]
  },
  {
   "cell_type": "code",
   "execution_count": 16,
   "metadata": {
    "collapsed": false
   },
   "outputs": [
    {
     "name": "stdout",
     "output_type": "stream",
     "text": [
      "[1.2519975389382534, -1.0958317076977337, -0.87408046793386296, -0.23970666520034734, -1.2202436264190559, -0.27303389158572766, 0.28863885800146644, 0.11757930997164583, 0.72724307732167537, 1.0463766977005249, 1.6774042175497239, -0.32577855039355957, -0.85081798690843291, 0.6905110977493194, 1.3861721812892893, -0.70101838864523214, -0.49934980682404123, -0.19720121580831765, -0.6060785433450836, 0.98730942936045474, 0.21083619950909782, -1.124540990645303, -1.0586562969421329, 0.077414769503912587, 0.093497965993169938, 1.1128064679459242, 1.2813312996679729, -0.31331331725265649, 0.45438358574790239]\n"
     ]
    }
   ],
   "source": [
    "t_vals = []\n",
    "for i in range(1, 30):\n",
    "#     r = data['log_return'].autocorr(lag=i+i)\n",
    "    r = auto_corr_res3[i]\n",
    "    t_vals.append(r*np.sqrt((250-i-2)/(1-r**2)))\n",
    "print(t_vals)"
   ]
  },
  {
   "cell_type": "code",
   "execution_count": null,
   "metadata": {
    "collapsed": true
   },
   "outputs": [],
   "source": []
  },
  {
   "cell_type": "code",
   "execution_count": null,
   "metadata": {
    "collapsed": true
   },
   "outputs": [],
   "source": []
  },
  {
   "cell_type": "code",
   "execution_count": null,
   "metadata": {
    "collapsed": true
   },
   "outputs": [],
   "source": []
  }
 ],
 "metadata": {
  "kernelspec": {
   "display_name": "Python 3",
   "language": "python",
   "name": "python3"
  },
  "language_info": {
   "codemirror_mode": {
    "name": "ipython",
    "version": 3
   },
   "file_extension": ".py",
   "mimetype": "text/x-python",
   "name": "python",
   "nbconvert_exporter": "python",
   "pygments_lexer": "ipython3",
   "version": "3.5.1"
  }
 },
 "nbformat": 4,
 "nbformat_minor": 0
}
