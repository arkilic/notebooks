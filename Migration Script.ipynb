{
 "cells": [
  {
   "cell_type": "code",
   "execution_count": 1,
   "metadata": {
    "collapsed": false
   },
   "outputs": [],
   "source": [
    "from pymongo import MongoClient\n",
    "from metadataclient.api import (insert_run_start, insert_descriptor,\n",
    "                                insert_run_stop, insert_event, bulk_insert_events)\n",
    "from metadataclient.api import (find_run_starts, find_descriptors, find_events,\n",
    "                               find_run_stops, find_last)\n",
    "from metadataclient.conf import connection_config\n",
    "from urllib3.exceptions import ConnectionError"
   ]
  },
  {
   "cell_type": "code",
   "execution_count": 2,
   "metadata": {
    "collapsed": true
   },
   "outputs": [],
   "source": [
    "class MdsMigrationException(Exception):\n",
    "    \"\"\"Goodbye cruel world!\"\"\"\n",
    "    pass"
   ]
  },
  {
   "cell_type": "markdown",
   "metadata": {},
   "source": [
    "**_Ensure global connection management is functional_**"
   ]
  },
  {
   "cell_type": "code",
   "execution_count": 3,
   "metadata": {
    "collapsed": false
   },
   "outputs": [],
   "source": [
    "try:\n",
    "    MONGO_HOST = 'kusadasi'\n",
    "    connection_config['host'] = MONGO_HOST \n",
    "    res = next(find_last())\n",
    "except Exception:\n",
    "    pass"
   ]
  },
  {
   "cell_type": "markdown",
   "metadata": {},
   "source": [
    "**Connection Management**"
   ]
  },
  {
   "cell_type": "code",
   "execution_count": 4,
   "metadata": {
    "collapsed": false
   },
   "outputs": [],
   "source": [
    "MONGO_HOST = 'localhost'\n",
    "MONGO_PORT = 27017\n",
    "# assuming both mongo and tornado server on the same machine\n",
    "connection_config['host'] = MONGO_HOST \n",
    "connection_config['port'] = 7770\n",
    "pymongo_client = MongoClient(MONGO_HOST, MONGO_PORT)\n",
    "\n",
    "try:\n",
    "    res = (next(find_last()))\n",
    "except Exception:\n",
    "    raise MdsMigrationException('Seems like metadataservice is not accessible')"
   ]
  },
  {
   "cell_type": "markdown",
   "metadata": {
    "collapsed": false
   },
   "source": []
  },
  {
   "cell_type": "code",
   "execution_count": null,
   "metadata": {
    "collapsed": false
   },
   "outputs": [],
   "source": []
  },
  {
   "cell_type": "code",
   "execution_count": null,
   "metadata": {
    "collapsed": true
   },
   "outputs": [],
   "source": []
  }
 ],
 "metadata": {
  "kernelspec": {
   "display_name": "Python 3",
   "language": "python",
   "name": "python3"
  },
  "language_info": {
   "codemirror_mode": {
    "name": "ipython",
    "version": 3
   },
   "file_extension": ".py",
   "mimetype": "text/x-python",
   "name": "python",
   "nbconvert_exporter": "python",
   "pygments_lexer": "ipython3",
   "version": "3.4.3"
  }
 },
 "nbformat": 4,
 "nbformat_minor": 0
}
