{
 "cells": [
  {
   "cell_type": "code",
   "execution_count": 38,
   "metadata": {
    "collapsed": false
   },
   "outputs": [],
   "source": [
    "from pymongo import MongoClient\n",
    "from metadataclient.api import (insert_run_start, insert_descriptor,\n",
    "                                insert_run_stop, insert_event, bulk_insert_events)\n",
    "from metadataclient.api import (find_run_starts, find_descriptors, find_events,\n",
    "                               find_run_stops, find_last)\n",
    "from metadataclient.conf import connection_config\n",
    "from urllib3.exceptions import ConnectionError\n",
    "import boltons"
   ]
  },
  {
   "cell_type": "code",
   "execution_count": 16,
   "metadata": {
    "collapsed": true
   },
   "outputs": [],
   "source": [
    "class MdsMigrationException(Exception):\n",
    "    \"\"\"Goodbye cruel world!\"\"\"\n",
    "    pass"
   ]
  },
  {
   "cell_type": "markdown",
   "metadata": {},
   "source": [
    "**_Ensure global connection management is functional_**"
   ]
  },
  {
   "cell_type": "code",
   "execution_count": 17,
   "metadata": {
    "collapsed": false
   },
   "outputs": [],
   "source": [
    "try:\n",
    "    MONGO_HOST = 'kusadasi'\n",
    "    connection_config['host'] = MONGO_HOST \n",
    "    res = next(find_last())\n",
    "except Exception:\n",
    "    pass"
   ]
  },
  {
   "cell_type": "markdown",
   "metadata": {},
   "source": [
    "**Connection Management**"
   ]
  },
  {
   "cell_type": "code",
   "execution_count": 34,
   "metadata": {
    "collapsed": false
   },
   "outputs": [],
   "source": [
    "MONGO_HOST = 'localhost'\n",
    "MONGO_PORT = 27017\n",
    "# assuming both mongo and tornado server on the same machine\n",
    "connection_config['host'] = MONGO_HOST \n",
    "connection_config['port'] = 7770\n",
    "pymongo_client = MongoClient(MONGO_HOST, MONGO_PORT)\n",
    "database = pymongo_client[MIGRATION_DB]\n",
    "try:\n",
    "    res = (next(find_last()))\n",
    "except Exception:\n",
    "    raise MdsMigrationException('Seems like metadataservice is not accessible')"
   ]
  },
  {
   "cell_type": "markdown",
   "metadata": {
    "collapsed": false
   },
   "source": [
    "**Get all run_starts**"
   ]
  },
  {
   "cell_type": "code",
   "execution_count": 35,
   "metadata": {
    "collapsed": false
   },
   "outputs": [
    {
     "name": "stdout",
     "output_type": "stream",
     "text": [
      "Database(MongoClient('localhost', 27017), 'datastore2')\n"
     ]
    }
   ],
   "source": [
    "print(database)\n",
    "\n",
    "rstart_crsr = database.run_start.find()"
   ]
  },
  {
   "cell_type": "code",
   "execution_count": 36,
   "metadata": {
    "collapsed": false
   },
   "outputs": [],
   "source": [
    "run_starts = {}\n",
    "for rstart in rstart_crsr:\n",
    "    run_starts[rstart['uid']] = rstart\n",
    "    bcfg_crsr = database.beamline_config.find()\n",
    "    for cfg in bcfg_crsr:\n",
    "        rstart['config'] = cfg"
   ]
  },
  {
   "cell_type": "markdown",
   "metadata": {},
   "source": [
    "**Get all descriptors and insert them using metadataclient**"
   ]
  },
  {
   "cell_type": "code",
   "execution_count": 39,
   "metadata": {
    "collapsed": false
   },
   "outputs": [],
   "source": [
    "desc_crsr = database.event_descriptor.find()"
   ]
  },
  {
   "cell_type": "code",
   "execution_count": 1,
   "metadata": {
    "collapsed": true
   },
   "outputs": [],
   "source": [
    "def rstart_oid_lookup(database, oid):\n",
    "    return next(database.run_start.find({'_id':oid}))"
   ]
  },
  {
   "cell_type": "code",
   "execution_count": null,
   "metadata": {
    "collapsed": true
   },
   "outputs": [],
   "source": [
    "for desc in desc_crsr:\n",
    "    rs_oid = desc['run_start']\n",
    "    rstart = rstart_oid_lookup(database, rs_oid)\n",
    "    desc['run_start'] = run_starts[rstart['uid']]['uid'] #make sure run_start exists"
   ]
  }
 ],
 "metadata": {
  "kernelspec": {
   "display_name": "Python 3",
   "language": "python",
   "name": "python3"
  },
  "language_info": {
   "codemirror_mode": {
    "name": "ipython",
    "version": 3
   },
   "file_extension": ".py",
   "mimetype": "text/x-python",
   "name": "python",
   "nbconvert_exporter": "python",
   "pygments_lexer": "ipython3",
   "version": "3.4.3"
  }
 },
 "nbformat": 4,
 "nbformat_minor": 0
}
