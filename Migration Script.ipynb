{
 "cells": [
  {
   "cell_type": "code",
   "execution_count": 1,
   "metadata": {
    "collapsed": false
   },
   "outputs": [],
   "source": [
    "from pymongo import MongoClient\n",
    "from collections import OrderedDict\n",
    "from metadataclient.api import (insert_run_start, insert_descriptor,\n",
    "                                insert_run_stop, insert_event, bulk_insert_events)\n",
    "from metadataclient.api import (find_run_starts, find_descriptors, find_events,\n",
    "                               find_run_stops, find_last)\n",
    "from metadataclient.conf import connection_config\n",
    "from urllib3.exceptions import ConnectionError\n",
    "import boltons"
   ]
  },
  {
   "cell_type": "code",
   "execution_count": 2,
   "metadata": {
    "collapsed": true
   },
   "outputs": [],
   "source": [
    "class MdsMigrationException(Exception):\n",
    "    \"\"\"Goodbye cruel world!\"\"\"\n",
    "    pass"
   ]
  },
  {
   "cell_type": "markdown",
   "metadata": {},
   "source": [
    "**_Ensure global connection management is functional_**"
   ]
  },
  {
   "cell_type": "code",
   "execution_count": 3,
   "metadata": {
    "collapsed": false
   },
   "outputs": [],
   "source": [
    "try:\n",
    "    MONGO_HOST = 'kusadasi'\n",
    "    connection_config['host'] = MONGO_HOST \n",
    "    res = next(find_last())\n",
    "except Exception:\n",
    "    pass"
   ]
  },
  {
   "cell_type": "markdown",
   "metadata": {},
   "source": [
    "**Connection Management**"
   ]
  },
  {
   "cell_type": "code",
   "execution_count": 4,
   "metadata": {
    "collapsed": false
   },
   "outputs": [],
   "source": [
    "MONGO_HOST = 'localhost'\n",
    "MONGO_PORT = 27017\n",
    "MIGRATION_DB = 'datastore2'\n",
    "# assuming both mongo and tornado server on the same machine\n",
    "connection_config['host'] = MONGO_HOST \n",
    "connection_config['port'] = 7770\n",
    "pymongo_client = MongoClient(MONGO_HOST, MONGO_PORT)\n",
    "database = pymongo_client[MIGRATION_DB]\n",
    "try:\n",
    "    res = (next(find_last()))\n",
    "except Exception:\n",
    "    raise MdsMigrationException('Seems like metadataservice is not accessible')"
   ]
  },
  {
   "cell_type": "markdown",
   "metadata": {
    "collapsed": false
   },
   "source": [
    "**Get all run_starts**"
   ]
  },
  {
   "cell_type": "code",
   "execution_count": 5,
   "metadata": {
    "collapsed": false
   },
   "outputs": [
    {
     "name": "stdout",
     "output_type": "stream",
     "text": [
      "Database(MongoClient('localhost', 27017), 'datastore2')\n"
     ]
    }
   ],
   "source": [
    "print(database)\n",
    "\n",
    "rstart_crsr = database.run_start.find()"
   ]
  },
  {
   "cell_type": "code",
   "execution_count": 6,
   "metadata": {
    "collapsed": false
   },
   "outputs": [],
   "source": [
    "run_starts = OrderedDict()\n",
    "for rstart in rstart_crsr:\n",
    "    run_starts[rstart['uid']] = rstart\n",
    "    bcfg_crsr = database.beamline_config.find()\n",
    "    for cfg in bcfg_crsr:\n",
    "        rstart['config'] = cfg"
   ]
  },
  {
   "cell_type": "markdown",
   "metadata": {},
   "source": [
    "**Get all descriptors and insert them using metadataclient**"
   ]
  },
  {
   "cell_type": "code",
   "execution_count": 7,
   "metadata": {
    "collapsed": true
   },
   "outputs": [],
   "source": [
    "def rstart_oid_lookup(database, oid):\n",
    "    try:\n",
    "        next(database.run_start.find({'_id':oid}))\n",
    "    except StopIteration:\n",
    "        raise MdsMigrationException('Seems like run_start with this oid does not exist')"
   ]
  },
  {
   "cell_type": "code",
   "execution_count": 8,
   "metadata": {
    "collapsed": true
   },
   "outputs": [],
   "source": [
    "def descriptor_oid_lookup(database, oid):\n",
    "    try:\n",
    "        next(database.event_descriptor.find({'_id':oid}))\n",
    "    except StopIteration:\n",
    "        raise MdsMigrationException('Seems like descriptor with this oid does not exist')"
   ]
  },
  {
   "cell_type": "code",
   "execution_count": 9,
   "metadata": {
    "collapsed": false
   },
   "outputs": [
    {
     "ename": "MdsMigrationException",
     "evalue": "Seems like run_start with this oid does not exist",
     "output_type": "error",
     "traceback": [
      "\u001b[0;31m---------------------------------------------------------------------------\u001b[0m",
      "\u001b[0;31mStopIteration\u001b[0m                             Traceback (most recent call last)",
      "\u001b[0;32m<ipython-input-7-4531994b89f5>\u001b[0m in \u001b[0;36mrstart_oid_lookup\u001b[0;34m(database, oid)\u001b[0m\n\u001b[1;32m      2\u001b[0m     \u001b[0;32mtry\u001b[0m\u001b[0;34m:\u001b[0m\u001b[0;34m\u001b[0m\u001b[0m\n\u001b[0;32m----> 3\u001b[0;31m         \u001b[0mnext\u001b[0m\u001b[0;34m(\u001b[0m\u001b[0mdatabase\u001b[0m\u001b[0;34m.\u001b[0m\u001b[0mrun_start\u001b[0m\u001b[0;34m.\u001b[0m\u001b[0mfind\u001b[0m\u001b[0;34m(\u001b[0m\u001b[0;34m{\u001b[0m\u001b[0;34m'_id'\u001b[0m\u001b[0;34m:\u001b[0m\u001b[0moid\u001b[0m\u001b[0;34m}\u001b[0m\u001b[0;34m)\u001b[0m\u001b[0;34m)\u001b[0m\u001b[0;34m\u001b[0m\u001b[0m\n\u001b[0m\u001b[1;32m      4\u001b[0m     \u001b[0;32mexcept\u001b[0m \u001b[0mStopIteration\u001b[0m\u001b[0;34m:\u001b[0m\u001b[0;34m\u001b[0m\u001b[0m\n",
      "\u001b[0;32m/Users/arkilic/anaconda/envs/py34/lib/python3.4/site-packages/pymongo/cursor.py\u001b[0m in \u001b[0;36m__next__\u001b[0;34m(self)\u001b[0m\n\u001b[1;32m   1082\u001b[0m         \u001b[0;32melse\u001b[0m\u001b[0;34m:\u001b[0m\u001b[0;34m\u001b[0m\u001b[0m\n\u001b[0;32m-> 1083\u001b[0;31m             \u001b[0;32mraise\u001b[0m \u001b[0mStopIteration\u001b[0m\u001b[0;34m\u001b[0m\u001b[0m\n\u001b[0m\u001b[1;32m   1084\u001b[0m \u001b[0;34m\u001b[0m\u001b[0m\n",
      "\u001b[0;31mStopIteration\u001b[0m: ",
      "\nDuring handling of the above exception, another exception occurred:\n",
      "\u001b[0;31mMdsMigrationException\u001b[0m                     Traceback (most recent call last)",
      "\u001b[0;32m<ipython-input-9-9d45eed4c4b8>\u001b[0m in \u001b[0;36m<module>\u001b[0;34m()\u001b[0m\n\u001b[1;32m      3\u001b[0m \u001b[0;32mfor\u001b[0m \u001b[0mdesc\u001b[0m \u001b[0;32min\u001b[0m \u001b[0mdesc_crsr\u001b[0m\u001b[0;34m:\u001b[0m\u001b[0;34m\u001b[0m\u001b[0m\n\u001b[1;32m      4\u001b[0m     \u001b[0mrs_oid\u001b[0m \u001b[0;34m=\u001b[0m \u001b[0mdesc\u001b[0m\u001b[0;34m[\u001b[0m\u001b[0;34m'run_start'\u001b[0m\u001b[0;34m]\u001b[0m\u001b[0;34m\u001b[0m\u001b[0m\n\u001b[0;32m----> 5\u001b[0;31m     \u001b[0mrstart\u001b[0m \u001b[0;34m=\u001b[0m \u001b[0mrstart_oid_lookup\u001b[0m\u001b[0;34m(\u001b[0m\u001b[0mdatabase\u001b[0m\u001b[0;34m,\u001b[0m \u001b[0mrs_oid\u001b[0m\u001b[0;34m)\u001b[0m\u001b[0;34m\u001b[0m\u001b[0m\n\u001b[0m\u001b[1;32m      6\u001b[0m     \u001b[0;31m# make sure run_start exists\u001b[0m\u001b[0;34m\u001b[0m\u001b[0;34m\u001b[0m\u001b[0m\n\u001b[1;32m      7\u001b[0m     \u001b[0mdesc\u001b[0m\u001b[0;34m[\u001b[0m\u001b[0;34m'run_start'\u001b[0m\u001b[0;34m]\u001b[0m \u001b[0;34m=\u001b[0m \u001b[0mrun_starts\u001b[0m\u001b[0;34m[\u001b[0m\u001b[0mrstart\u001b[0m\u001b[0;34m[\u001b[0m\u001b[0;34m'uid'\u001b[0m\u001b[0;34m]\u001b[0m\u001b[0;34m]\u001b[0m\u001b[0;34m[\u001b[0m\u001b[0;34m'uid'\u001b[0m\u001b[0;34m]\u001b[0m\u001b[0;34m\u001b[0m\u001b[0m\n",
      "\u001b[0;32m<ipython-input-7-4531994b89f5>\u001b[0m in \u001b[0;36mrstart_oid_lookup\u001b[0;34m(database, oid)\u001b[0m\n\u001b[1;32m      3\u001b[0m         \u001b[0mnext\u001b[0m\u001b[0;34m(\u001b[0m\u001b[0mdatabase\u001b[0m\u001b[0;34m.\u001b[0m\u001b[0mrun_start\u001b[0m\u001b[0;34m.\u001b[0m\u001b[0mfind\u001b[0m\u001b[0;34m(\u001b[0m\u001b[0;34m{\u001b[0m\u001b[0;34m'_id'\u001b[0m\u001b[0;34m:\u001b[0m\u001b[0moid\u001b[0m\u001b[0;34m}\u001b[0m\u001b[0;34m)\u001b[0m\u001b[0;34m)\u001b[0m\u001b[0;34m\u001b[0m\u001b[0m\n\u001b[1;32m      4\u001b[0m     \u001b[0;32mexcept\u001b[0m \u001b[0mStopIteration\u001b[0m\u001b[0;34m:\u001b[0m\u001b[0;34m\u001b[0m\u001b[0m\n\u001b[0;32m----> 5\u001b[0;31m         \u001b[0;32mraise\u001b[0m \u001b[0mMdsMigrationException\u001b[0m\u001b[0;34m(\u001b[0m\u001b[0;34m'Seems like run_start with this oid does not exist'\u001b[0m\u001b[0;34m)\u001b[0m\u001b[0;34m\u001b[0m\u001b[0m\n\u001b[0m",
      "\u001b[0;31mMdsMigrationException\u001b[0m: Seems like run_start with this oid does not exist"
     ]
    }
   ],
   "source": [
    "desc_crsr = database.event_descriptor.find()\n",
    "descriptors = OrderedDict()\n",
    "for desc in desc_crsr:\n",
    "    rs_oid = desc['run_start']\n",
    "    rstart = rstart_oid_lookup(database, rs_oid)\n",
    "    # make sure run_start exists\n",
    "    desc['run_start'] = run_starts[rstart['uid']]['uid'] \n",
    "    descriptors[desc['uid']] = desc"
   ]
  },
  {
   "cell_type": "code",
   "execution_count": 10,
   "metadata": {
    "collapsed": false
   },
   "outputs": [
    {
     "ename": "MdsMigrationException",
     "evalue": "Seems like descriptor with this oid does not exist",
     "output_type": "error",
     "traceback": [
      "\u001b[0;31m---------------------------------------------------------------------------\u001b[0m",
      "\u001b[0;31mStopIteration\u001b[0m                             Traceback (most recent call last)",
      "\u001b[0;32m<ipython-input-8-0ffb1f222a0a>\u001b[0m in \u001b[0;36mdescriptor_oid_lookup\u001b[0;34m(database, oid)\u001b[0m\n\u001b[1;32m      2\u001b[0m     \u001b[0;32mtry\u001b[0m\u001b[0;34m:\u001b[0m\u001b[0;34m\u001b[0m\u001b[0m\n\u001b[0;32m----> 3\u001b[0;31m         \u001b[0mnext\u001b[0m\u001b[0;34m(\u001b[0m\u001b[0mdatabase\u001b[0m\u001b[0;34m.\u001b[0m\u001b[0mevent_descriptor\u001b[0m\u001b[0;34m.\u001b[0m\u001b[0mfind\u001b[0m\u001b[0;34m(\u001b[0m\u001b[0;34m{\u001b[0m\u001b[0;34m'_id'\u001b[0m\u001b[0;34m:\u001b[0m\u001b[0moid\u001b[0m\u001b[0;34m}\u001b[0m\u001b[0;34m)\u001b[0m\u001b[0;34m)\u001b[0m\u001b[0;34m\u001b[0m\u001b[0m\n\u001b[0m\u001b[1;32m      4\u001b[0m     \u001b[0;32mexcept\u001b[0m \u001b[0mStopIteration\u001b[0m\u001b[0;34m:\u001b[0m\u001b[0;34m\u001b[0m\u001b[0m\n",
      "\u001b[0;32m/Users/arkilic/anaconda/envs/py34/lib/python3.4/site-packages/pymongo/cursor.py\u001b[0m in \u001b[0;36m__next__\u001b[0;34m(self)\u001b[0m\n\u001b[1;32m   1082\u001b[0m         \u001b[0;32melse\u001b[0m\u001b[0;34m:\u001b[0m\u001b[0;34m\u001b[0m\u001b[0m\n\u001b[0;32m-> 1083\u001b[0;31m             \u001b[0;32mraise\u001b[0m \u001b[0mStopIteration\u001b[0m\u001b[0;34m\u001b[0m\u001b[0m\n\u001b[0m\u001b[1;32m   1084\u001b[0m \u001b[0;34m\u001b[0m\u001b[0m\n",
      "\u001b[0;31mStopIteration\u001b[0m: ",
      "\nDuring handling of the above exception, another exception occurred:\n",
      "\u001b[0;31mMdsMigrationException\u001b[0m                     Traceback (most recent call last)",
      "\u001b[0;32m<ipython-input-10-de70ad91275a>\u001b[0m in \u001b[0;36m<module>\u001b[0;34m()\u001b[0m\n\u001b[1;32m      3\u001b[0m \u001b[0;32mfor\u001b[0m \u001b[0mev\u001b[0m \u001b[0;32min\u001b[0m \u001b[0mevent_crsr\u001b[0m\u001b[0;34m:\u001b[0m\u001b[0;34m\u001b[0m\u001b[0m\n\u001b[1;32m      4\u001b[0m     \u001b[0mrs_oid\u001b[0m \u001b[0;34m=\u001b[0m \u001b[0mev\u001b[0m\u001b[0;34m[\u001b[0m\u001b[0;34m'run_start'\u001b[0m\u001b[0;34m]\u001b[0m\u001b[0;34m\u001b[0m\u001b[0m\n\u001b[0;32m----> 5\u001b[0;31m     \u001b[0mdesc\u001b[0m \u001b[0;34m=\u001b[0m \u001b[0mdescriptor_oid_lookup\u001b[0m\u001b[0;34m(\u001b[0m\u001b[0mdatabase\u001b[0m\u001b[0;34m,\u001b[0m \u001b[0mrs_oid\u001b[0m\u001b[0;34m)\u001b[0m\u001b[0;34m\u001b[0m\u001b[0m\n\u001b[0m\u001b[1;32m      6\u001b[0m     \u001b[0;31m# make sure run_start exists\u001b[0m\u001b[0;34m\u001b[0m\u001b[0;34m\u001b[0m\u001b[0m\n\u001b[1;32m      7\u001b[0m     \u001b[0mdesc\u001b[0m\u001b[0;34m[\u001b[0m\u001b[0;34m'run_start'\u001b[0m\u001b[0;34m]\u001b[0m \u001b[0;34m=\u001b[0m \u001b[0mdescriptors\u001b[0m\u001b[0;34m[\u001b[0m\u001b[0mdesc\u001b[0m\u001b[0;34m[\u001b[0m\u001b[0;34m'uid'\u001b[0m\u001b[0;34m]\u001b[0m\u001b[0;34m]\u001b[0m\u001b[0;34m[\u001b[0m\u001b[0;34m'uid'\u001b[0m\u001b[0;34m]\u001b[0m\u001b[0;34m\u001b[0m\u001b[0m\n",
      "\u001b[0;32m<ipython-input-8-0ffb1f222a0a>\u001b[0m in \u001b[0;36mdescriptor_oid_lookup\u001b[0;34m(database, oid)\u001b[0m\n\u001b[1;32m      3\u001b[0m         \u001b[0mnext\u001b[0m\u001b[0;34m(\u001b[0m\u001b[0mdatabase\u001b[0m\u001b[0;34m.\u001b[0m\u001b[0mevent_descriptor\u001b[0m\u001b[0;34m.\u001b[0m\u001b[0mfind\u001b[0m\u001b[0;34m(\u001b[0m\u001b[0;34m{\u001b[0m\u001b[0;34m'_id'\u001b[0m\u001b[0;34m:\u001b[0m\u001b[0moid\u001b[0m\u001b[0;34m}\u001b[0m\u001b[0;34m)\u001b[0m\u001b[0;34m)\u001b[0m\u001b[0;34m\u001b[0m\u001b[0m\n\u001b[1;32m      4\u001b[0m     \u001b[0;32mexcept\u001b[0m \u001b[0mStopIteration\u001b[0m\u001b[0;34m:\u001b[0m\u001b[0;34m\u001b[0m\u001b[0m\n\u001b[0;32m----> 5\u001b[0;31m         \u001b[0;32mraise\u001b[0m \u001b[0mMdsMigrationException\u001b[0m\u001b[0;34m(\u001b[0m\u001b[0;34m'Seems like descriptor with this oid does not exist'\u001b[0m\u001b[0;34m)\u001b[0m\u001b[0;34m\u001b[0m\u001b[0m\n\u001b[0m",
      "\u001b[0;31mMdsMigrationException\u001b[0m: Seems like descriptor with this oid does not exist"
     ]
    }
   ],
   "source": [
    "event_crsr = database.event_descriptor.find()\n",
    "events = OrderedDict()\n",
    "for ev in event_crsr:\n",
    "    rs_oid = ev['run_start']\n",
    "    desc = descriptor_oid_lookup(database, rs_oid)\n",
    "    # make sure run_start exists\n",
    "    desc['run_start'] = descriptors[desc['uid']]['uid'] \n",
    "    events[ev['uid']] = ev"
   ]
  },
  {
   "cell_type": "code",
   "execution_count": 11,
   "metadata": {
    "collapsed": false
   },
   "outputs": [
    {
     "name": "stdout",
     "output_type": "stream",
     "text": [
      "OrderedDict([('9d3b3e33-f192-4015-b234-8b01a7c3aac4', {'beamline_id': 'example', 'time': 1451488543.479466, 'uid': '9d3b3e33-f192-4015-b234-8b01a7c3aac4', 'scan_id': 105, 'group': '', 'custom': {}, 'owner': 'stepper', 'project': '', '_id': ObjectId('5683f51ffa448316734d803a')}), ('85cfae0c-1226-4097-9608-8deb3e3cb4c2', {'beamline_id': 'example', 'time': 1451488544.181346, 'uid': '85cfae0c-1226-4097-9608-8deb3e3cb4c2', 'scan_id': 1, 'group': '', 'custom': {}, 'owner': 'docbrown', 'project': '', '_id': ObjectId('5683f520fa448316734d8040')}), ('1bf2f071-5a89-4f5b-a33e-d2f0b55d5856', {'beamline_id': 'example', 'time': 1451488551.831704, 'uid': '1bf2f071-5a89-4f5b-a33e-d2f0b55d5856', 'scan_id': 2, 'group': '', 'custom': {}, 'owner': 'docbrown', 'project': '', '_id': ObjectId('5683f527fa448316734d8139')}), ('9471cdc0-9808-43da-b46c-33441cefe330', {'beamline_id': 'example', 'time': 1451488552.525256, 'uid': '9471cdc0-9808-43da-b46c-33441cefe330', 'scan_id': 3, 'group': '', 'custom': {}, 'owner': 'docbrown', 'project': '', '_id': ObjectId('5683f528fa448316734d8154')}), ('6cfb487d-2868-410d-bc98-2b57358122f1', {'beamline_id': 'example', 'time': 1451488553.190664, 'uid': '6cfb487d-2868-410d-bc98-2b57358122f1', 'scan_id': 4, 'group': '', 'custom': {}, 'owner': 'docbrown', 'project': '', '_id': ObjectId('5683f529fa448316734d816f')}), ('2664b801-4d60-41a7-9a0c-305944c05e55', {'beamline_id': 'example', 'time': 1451488553.851951, 'uid': '2664b801-4d60-41a7-9a0c-305944c05e55', 'scan_id': 5, 'group': '', 'custom': {}, 'owner': 'docbrown', 'project': '', '_id': ObjectId('5683f529fa448316734d818a')}), ('da761494-e6bb-4871-9f93-ffecedae8574', {'beamline_id': 'example', 'time': 1451488554.535535, 'uid': 'da761494-e6bb-4871-9f93-ffecedae8574', 'scan_id': 1, 'group': '', 'custom': {}, 'owner': 'nedbrainard', 'project': '', '_id': ObjectId('5683f52afa448316734d81a5')}), ('cfe86431-de41-4937-afd7-599f5cd8e526', {'beamline_id': 'example', 'time': 1451488563.451031, 'uid': 'cfe86431-de41-4937-afd7-599f5cd8e526', 'scan_id': 2, 'group': '', 'custom': {}, 'owner': 'nedbrainard', 'project': '', '_id': ObjectId('5683f533fa448316734d829e')}), ('9936da6e-f1e9-4090-9a0c-6093111a9026', {'beamline_id': 'example', 'time': 1451488564.463325, 'uid': '9936da6e-f1e9-4090-9a0c-6093111a9026', 'scan_id': 3, 'group': '', 'custom': {}, 'owner': 'nedbrainard', 'project': '', '_id': ObjectId('5683f534fa448316734d82b9')}), ('07a4634e-3ec3-489a-a541-68fd238036c1', {'beamline_id': 'example', 'time': 1451488565.302268, 'uid': '07a4634e-3ec3-489a-a541-68fd238036c1', 'scan_id': 4, 'group': '', 'custom': {}, 'owner': 'nedbrainard', 'project': '', '_id': ObjectId('5683f535fa448316734d82d4')}), ('57ad3888-4e36-41dc-88ce-59878f5c6c13', {'beamline_id': 'example', 'time': 1451488566.069776, 'uid': '57ad3888-4e36-41dc-88ce-59878f5c6c13', 'scan_id': 5, 'group': '', 'custom': {}, 'owner': 'nedbrainard', 'project': '', '_id': ObjectId('5683f536fa448316734d82ef')}), ('281bdc99-30ae-4703-b166-461b965c08fc', {'beamline_id': 'example', 'time': 0.0, 'uid': '281bdc99-30ae-4703-b166-461b965c08fc', 'scan_id': 1, 'group': '', 'custom': {}, 'owner': 'nedbrainard', 'project': '', '_id': ObjectId('5683f536fa448316734d830a')}), ('2fc1981e-fb65-4577-84bb-66ece1a159ed', {'beamline_id': 'example', 'time': 1.0, 'uid': '2fc1981e-fb65-4577-84bb-66ece1a159ed', 'scan_id': 2, 'group': '', 'custom': {}, 'owner': 'nedbrainard', 'project': '', '_id': ObjectId('5683f536fa448316734d830b')}), ('29a1c42c-7fec-41fd-a2cd-722e91a540f6', {'beamline_id': 'example', 'time': 2.0, 'uid': '29a1c42c-7fec-41fd-a2cd-722e91a540f6', 'scan_id': 3, 'group': '', 'custom': {}, 'owner': 'nedbrainard', 'project': '', '_id': ObjectId('5683f536fa448316734d830c')}), ('9306525c-281a-4c74-8cdb-a41fc1057624', {'beamline_id': 'example', 'time': 3.0, 'uid': '9306525c-281a-4c74-8cdb-a41fc1057624', 'scan_id': 4, 'group': '', 'custom': {}, 'owner': 'nedbrainard', 'project': '', '_id': ObjectId('5683f536fa448316734d830d')}), ('a21119fb-5a17-45a0-aff0-a8c522327683', {'beamline_id': 'example', 'time': 4.0, 'uid': 'a21119fb-5a17-45a0-aff0-a8c522327683', 'scan_id': 5, 'group': '', 'custom': {}, 'owner': 'nedbrainard', 'project': '', '_id': ObjectId('5683f536fa448316734d830e')}), ('607ed1de-527a-4dfa-b4f0-7309769e5fa1', {'beamline_id': 'example', 'time': 0.0, 'uid': '607ed1de-527a-4dfa-b4f0-7309769e5fa1', 'scan_id': 1, 'group': '', 'custom': {}, 'owner': 'nedbrainard', 'project': '', '_id': ObjectId('5683f538fa448316734d830f')}), ('d8e6d39b-3ea6-4613-901f-3dd3abfecaaa', {'beamline_id': 'example', 'time': 1.0, 'uid': 'd8e6d39b-3ea6-4613-901f-3dd3abfecaaa', 'scan_id': 2, 'group': '', 'custom': {}, 'owner': 'nedbrainard', 'project': '', '_id': ObjectId('5683f538fa448316734d8310')}), ('d8770309-0e6f-4470-928b-913dafc066b5', {'beamline_id': 'example', 'time': 2.0, 'uid': 'd8770309-0e6f-4470-928b-913dafc066b5', 'scan_id': 3, 'group': '', 'custom': {}, 'owner': 'nedbrainard', 'project': '', '_id': ObjectId('5683f538fa448316734d8311')}), ('acbd873c-63ff-4b0d-87ac-0b6f9a1a921a', {'beamline_id': 'example', 'time': 3.0, 'uid': 'acbd873c-63ff-4b0d-87ac-0b6f9a1a921a', 'scan_id': 4, 'group': '', 'custom': {}, 'owner': 'nedbrainard', 'project': '', '_id': ObjectId('5683f538fa448316734d8312')}), ('10572e40-41e9-4ac9-910d-068a014a8c0e', {'beamline_id': 'example', 'time': 4.0, 'uid': '10572e40-41e9-4ac9-910d-068a014a8c0e', 'scan_id': 5, 'group': '', 'custom': {}, 'owner': 'nedbrainard', 'project': '', '_id': ObjectId('5683f538fa448316734d8313')}), ('ee306add-2aa3-472c-98be-399640209035', {'beamline_id': 'example', 'time': 0.0, 'uid': 'ee306add-2aa3-472c-98be-399640209035', 'scan_id': 314160, 'group': '', 'custom': {}, 'owner': 'docbrown', 'project': '', '_id': ObjectId('5683f539fa448316734d8314')}), ('6b3ca263-a551-40c5-a962-ac3e84345e0d', {'beamline_id': 'example', 'time': 1.0, 'uid': '6b3ca263-a551-40c5-a962-ac3e84345e0d', 'scan_id': 314161, 'group': '', 'custom': {}, 'owner': 'docbrown', 'project': '', '_id': ObjectId('5683f539fa448316734d8315')}), ('345bc8bf-3a71-4477-b9aa-a12266651890', {'beamline_id': 'example', 'time': 2.0, 'uid': '345bc8bf-3a71-4477-b9aa-a12266651890', 'scan_id': 314162, 'group': '', 'custom': {}, 'owner': 'docbrown', 'project': '', '_id': ObjectId('5683f539fa448316734d8316')}), ('61152b01-0139-490d-8da7-f2bc0010b6c0', {'beamline_id': 'example', 'time': 3.0, 'uid': '61152b01-0139-490d-8da7-f2bc0010b6c0', 'scan_id': 314163, 'group': '', 'custom': {}, 'owner': 'docbrown', 'project': '', '_id': ObjectId('5683f539fa448316734d8317')}), ('8552f3b9-3101-4c46-bff4-a1b2f47a4909', {'beamline_id': 'example', 'time': 4.0, 'uid': '8552f3b9-3101-4c46-bff4-a1b2f47a4909', 'scan_id': 314164, 'group': '', 'custom': {}, 'owner': 'docbrown', 'project': '', '_id': ObjectId('5683f539fa448316734d8318')}), ('66995376-7989-42c2-8d20-bb425f4cab3d', {'beamline_id': 'example', 'time': 1.0, 'uid': '66995376-7989-42c2-8d20-bb425f4cab3d', 'scan_id': 314160, 'group': '', 'custom': {}, 'owner': 'nedbrainard', 'project': '', '_id': ObjectId('5683f539fa448316734d8319')}), ('f12f95db-6561-4894-a2da-e159d821d3eb', {'beamline_id': 'example', 'time': 2.0, 'uid': 'f12f95db-6561-4894-a2da-e159d821d3eb', 'scan_id': 314161, 'group': '', 'custom': {}, 'owner': 'nedbrainard', 'project': '', '_id': ObjectId('5683f539fa448316734d831a')}), ('b08d19ec-e9d5-4bce-81a3-dc7adcb95a61', {'beamline_id': 'example', 'time': 3.0, 'uid': 'b08d19ec-e9d5-4bce-81a3-dc7adcb95a61', 'scan_id': 314162, 'group': '', 'custom': {}, 'owner': 'nedbrainard', 'project': '', '_id': ObjectId('5683f539fa448316734d831b')}), ('9fada0d5-173d-451b-8c32-43946a7e30c2', {'beamline_id': 'example', 'time': 4.0, 'uid': '9fada0d5-173d-451b-8c32-43946a7e30c2', 'scan_id': 314163, 'group': '', 'custom': {}, 'owner': 'nedbrainard', 'project': '', '_id': ObjectId('5683f539fa448316734d831c')}), ('5972f0a9-6173-4494-8ed3-da0d4d6f873e', {'beamline_id': 'example', 'time': 5.0, 'uid': '5972f0a9-6173-4494-8ed3-da0d4d6f873e', 'scan_id': 314164, 'group': '', 'custom': {}, 'owner': 'nedbrainard', 'project': '', '_id': ObjectId('5683f539fa448316734d831d')}), ('05542a32-a8c2-4b82-812c-b3dd33034118', {'beamline_id': 'example', 'time': 100.0, 'uid': '05542a32-a8c2-4b82-812c-b3dd33034118', 'scan_id': 1, 'group': '', 'custom': {}, 'owner': 'drstrangelove', 'project': '', '_id': ObjectId('5683f539fa448316734d831e')}), ('0b43fdb0-7266-4dbf-90b2-d7dedf2a7d2c', {'beamline_id': 'example', 'time': 100.0, 'uid': '0b43fdb0-7266-4dbf-90b2-d7dedf2a7d2c', 'scan_id': 1, 'group': '', 'custom': {}, 'owner': 'drstrangelove', 'project': '', '_id': ObjectId('5683f539fa448316734d831f')}), ('c71392b6-e2cc-4403-b46a-9265a7723dca', {'beamline_id': 'example', 'time': 100.0, 'uid': 'c71392b6-e2cc-4403-b46a-9265a7723dca', 'scan_id': 1, 'group': '', 'custom': {}, 'owner': 'nedbrainard', 'project': '', '_id': ObjectId('5683f539fa448316734d8320')}), ('f255c410-1b55-40a8-9eca-ec2240494036', {'beamline_id': 'example', 'time': 200.0, 'uid': 'f255c410-1b55-40a8-9eca-ec2240494036', 'scan_id': 2, 'group': '', 'custom': {}, 'owner': 'nedbrainard', 'project': '', '_id': ObjectId('5683f539fa448316734d8321')}), ('ca8187e7-8db3-4c2d-b5ea-3f529babbee6', {'beamline_id': 'example', 'time': 1451488573.353447, 'uid': 'ca8187e7-8db3-4c2d-b5ea-3f529babbee6', 'scan_id': 1, 'group': '', 'custom': {}, 'owner': '', 'project': '', '_id': ObjectId('5683f53dfa448316734d8324')}), ('a0f14aab-bb7c-4e54-a197-d200a141f2c7', {'owner': 'tester', 'custom': {}, 'beamline_id': 'testbed', 'uid': 'a0f14aab-bb7c-4e54-a197-d200a141f2c7', 'scan_id': 3022013, 'time': 1451488574.694787, 'group': 'awesome-devs', 'project': 'Nikea', '_id': ObjectId('5683f53efa448316734d833f')}), ('26a7fcfc-a946-42ce-ba69-6356c0b4d5dc', {'beamline_id': 'example', 'time': 1451488575.065498, 'uid': '26a7fcfc-a946-42ce-ba69-6356c0b4d5dc', 'scan_id': 1, 'group': '', 'custom': {}, 'owner': '', 'project': '', '_id': ObjectId('5683f53ffa448316734d8346')}), ('51bf5620-d3cf-418e-bd6b-af9c574d4c80', {'beamline_id': 'testbed', 'time': 0.0, 'uid': '51bf5620-d3cf-418e-bd6b-af9c574d4c80', 'scan_id': 2032013, 'group': 'awesome-devs', 'config_id': 'f24334b0-92a8-47ec-907d-a8781201f2fe', 'owner': 'tester', 'project': 'Nikea', '_id': ObjectId('5683f540fa448316734d8364')}), ('437348f2-9417-4662-b6b9-831f8ab1e658', {'beamline_id': 'example', 'time': 1451488576.89149, 'uid': '437348f2-9417-4662-b6b9-831f8ab1e658', 'scan_id': 1, 'group': '', 'custom': {}, 'owner': '', 'project': '', '_id': ObjectId('5683f540fa448316734d8377')}), ('a98900c0-84e9-49b2-83e3-de7c412b8da2', {'beamline_id': 'example', 'time': 1451488586.639977, 'uid': 'a98900c0-84e9-49b2-83e3-de7c412b8da2', 'scan_id': 1, 'group': '', 'custom': {}, 'owner': '', 'project': '', '_id': ObjectId('5683f54afa448316734d8457')}), ('2bfd76bf-5355-4742-9179-aa0e5277bf0b', {'beamline_id': 'example', 'time': 1451488587.213375, 'uid': '2bfd76bf-5355-4742-9179-aa0e5277bf0b', 'scan_id': 1, 'group': '', 'custom': {}, 'owner': '', 'project': '', '_id': ObjectId('5683f54bfa448316734d845d')}), ('3c3adcc3-1f02-43bc-b402-554868ef3a80', {'beamline_id': 'example', 'time': 1451488587.40098, 'uid': '3c3adcc3-1f02-43bc-b402-554868ef3a80', 'scan_id': 1, 'group': '', 'custom': {}, 'owner': '', 'project': '', '_id': ObjectId('5683f54bfa448316734d8463')}), ('51b67aec-c536-4911-bf8e-eb4ac15732ef', {'beamline_id': 'example', 'custom': {}, 'time': 1451488826.904611, 'uid': '51b67aec-c536-4911-bf8e-eb4ac15732ef', 'scan_id': 1, 'group': '', 'owner': '', 'project': '', '_id': ObjectId('5683f63afa448316734d8543')}), ('5b4710d2-4bf4-4f17-a7e7-48678667cb6c', {'beamline_id': 'testbed', 'custom': {}, 'time': 1451488826.904605, 'uid': '5b4710d2-4bf4-4f17-a7e7-48678667cb6c', 'scan_id': 3022013, 'group': 'awesome-devs', 'owner': 'tester', 'project': 'Nikea', '_id': ObjectId('5683f63bfa448316734d855e')}), ('0939f70c-fb26-4a52-bf27-f1cb674e90b8', {'beamline_id': 'sample_beamline', 'time': 1451488827.712623, 'uid': '0939f70c-fb26-4a52-bf27-f1cb674e90b8', 'scan_id': 42, 'group': '', 'foo': 'bar', 'project': '', 'owner': '', 'baz': 42, 'aardvark': ['ants', 3.14], '_id': ObjectId('5683f63bfa448316734d8560')}), ('7be6097b-97d5-46c2-8067-295a3df74380', {'beamline_id': 'sample_beamline', 'custom': {}, 'time': 1451488827.730091, 'uid': '7be6097b-97d5-46c2-8067-295a3df74380', 'scan_id': 42, 'group': '', 'owner': '', 'project': '', '_id': ObjectId('5683f63bfa448316734d8561')}), ('c9b3db46-3692-4bc7-95a3-38605819a71e', {'beamline_id': 'testing', 'custom': {}, 'time': 1451488827.766124, 'uid': 'c9b3db46-3692-4bc7-95a3-38605819a71e', 'scan_id': 1, 'group': '', 'owner': '', 'project': '', '_id': ObjectId('5683f63bfa448316734d8563')}), ('1447414b-71e8-48d9-9110-e70e9914e190', {'beamline_id': 'testing', 'custom': {}, 'time': 1451488828.356622, 'uid': '1447414b-71e8-48d9-9110-e70e9914e190', 'scan_id': 1, 'group': '', 'owner': '', 'project': '', '_id': ObjectId('5683f63cfa448316734d8598')}), ('2dc14608-4caf-4c17-9bc0-09bef85a1694', {'beamline_id': 'testing', 'custom': {}, 'time': 1451488828.377595, 'uid': '2dc14608-4caf-4c17-9bc0-09bef85a1694', 'scan_id': 1, 'group': '', 'owner': '', 'project': '', '_id': ObjectId('5683f63cfa448316734d859a')}), ('36391ca9-0fdb-432d-8da1-2e41565ffd8d', {'beamline_id': 'testing', 'custom': {}, 'time': 1451488829.538766, 'uid': '36391ca9-0fdb-432d-8da1-2e41565ffd8d', 'scan_id': 1, 'group': '', 'owner': '', 'project': '', '_id': ObjectId('5683f63dfa448316734d859c')}), ('05807fe8-4c01-47e3-8c1a-fe2f00e32419', {'beamline_id': 'testing', 'custom': {}, 'time': 1451488830.168372, 'uid': '05807fe8-4c01-47e3-8c1a-fe2f00e32419', 'scan_id': 1, 'group': '', 'owner': '', 'project': '', '_id': ObjectId('5683f63efa448316734d85d1')}), ('8eb81b3b-c5a7-495f-b186-10baaeeef9c4', {'beamline_id': 'testing', 'custom': {}, 'time': 1451488830.647167, 'uid': '8eb81b3b-c5a7-495f-b186-10baaeeef9c4', 'scan_id': 1, 'group': '', 'owner': '', 'project': '', '_id': ObjectId('5683f63efa448316734d8606')}), ('7058ffa3-a29d-47e7-9159-a13013f71ae8', {'beamline_id': 'testing', 'custom': {}, 'time': 1451488830.74325, 'uid': '7058ffa3-a29d-47e7-9159-a13013f71ae8', 'scan_id': 1, 'group': '', 'owner': '', 'project': '', '_id': ObjectId('5683f63efa448316734d8609')}), ('b81c2b3c-2fe0-42a1-89f3-dafb26d05644', {'beamline_id': 'testbed', 'custom': {}, 'time': 1451488826.904605, 'uid': 'b81c2b3c-2fe0-42a1-89f3-dafb26d05644', 'scan_id': 42, 'group': 'awesome-devs', 'owner': 'tester', 'project': 'Nikea', '_id': ObjectId('5683f63efa448316734d860c')}), ('2f3cbb3a-20c3-4c1b-98b5-696271af50a1', {'beamline_id': 'testing', 'custom': {}, 'time': 1451488830.876788, 'uid': '2f3cbb3a-20c3-4c1b-98b5-696271af50a1', 'scan_id': 1, 'group': '', 'owner': '', 'project': '', '_id': ObjectId('5683f63efa448316734d860d')}), ('30b81a08-69dc-4ae7-b764-e396412bd614', {'beamline_id': 'testing', 'custom': {}, 'time': 1451488830.915397, 'uid': '30b81a08-69dc-4ae7-b764-e396412bd614', 'scan_id': 1, 'group': '', 'owner': '', 'project': '', '_id': ObjectId('5683f63efa448316734d8610')}), ('c08e8298-4adc-4ae1-8bac-0b5c30d51b50', {'beamline_id': 'testing', 'custom': {}, 'time': 1451488830.982183, 'uid': 'c08e8298-4adc-4ae1-8bac-0b5c30d51b50', 'scan_id': 1, 'group': '', 'owner': '', 'project': '', '_id': ObjectId('5683f63efa448316734d8613')}), ('f161d6c6-a8cb-4f0a-a56a-807c632556f6', {'beamline_id': 'testing', 'custom': {}, 'time': 1451488831.034351, 'uid': 'f161d6c6-a8cb-4f0a-a56a-807c632556f6', 'scan_id': 1, 'group': '', 'owner': '', 'project': '', '_id': ObjectId('5683f63ffa448316734d8616')}), ('6de61b81-d269-44d6-a13c-add5fd70bc68', {'beamline_id': 'example', 'custom': {}, 'time': 1451488831.105818, 'uid': '6de61b81-d269-44d6-a13c-add5fd70bc68', 'scan_id': 1, 'group': '', 'owner': '', 'project': '', '_id': ObjectId('5683f63ffa448316734d8618')}), ('12e53271-4b7a-4cfe-9d29-ff5ce64a648c', {'beamline_id': 'example', 'custom': {}, 'time': 1451488831.115109, 'uid': '12e53271-4b7a-4cfe-9d29-ff5ce64a648c', 'scan_id': 1, 'group': '', 'owner': '', 'project': '', '_id': ObjectId('5683f63ffa448316734d8619')}), ('d62943c2-cdcb-4323-8c43-73558326f294', {'beamline_id': 'example', 'custom': {}, 'time': 1451488831.123984, 'uid': 'd62943c2-cdcb-4323-8c43-73558326f294', 'scan_id': 1, 'group': '', 'owner': '', 'project': '', '_id': ObjectId('5683f63ffa448316734d861a')}), ('3f62e534-436e-42ba-ae35-47f0d6bdaeb5', {'beamline_id': 'example', 'custom': {}, 'time': 1451488831.132832, 'uid': '3f62e534-436e-42ba-ae35-47f0d6bdaeb5', 'scan_id': 1, 'group': '', 'owner': '', 'project': '', '_id': ObjectId('5683f63ffa448316734d861b')}), ('1ed77c97-9d9d-4e09-929d-0fed7e614112', {'beamline_id': 'example', 'custom': {}, 'time': 1451488831.141643, 'uid': '1ed77c97-9d9d-4e09-929d-0fed7e614112', 'scan_id': 1, 'group': '', 'owner': '', 'project': '', '_id': ObjectId('5683f63ffa448316734d861c')}), ('99447d1c-0e43-4a63-8847-e229560aa207', {'beamline_id': 'example', 'custom': {}, 'time': 1451488831.923268, 'uid': '99447d1c-0e43-4a63-8847-e229560aa207', 'scan_id': 1, 'group': '', 'owner': '', 'project': '', '_id': ObjectId('5683f63ffa448316734d863a')}), ('56b64165-4b6e-407a-940c-1717919817e1', {'beamline_id': 'example', 'custom': {}, 'time': 1451488857.199507, 'uid': '56b64165-4b6e-407a-940c-1717919817e1', 'scan_id': 105, 'group': '', 'owner': 'stepper', 'project': '', '_id': ObjectId('5683f659fa448316734d8655')}), ('1c4edff1-0920-4d85-9e5f-a3068b9ae7b7', {'beamline_id': 'example', 'custom': {}, 'time': 1451488857.415823, 'uid': '1c4edff1-0920-4d85-9e5f-a3068b9ae7b7', 'scan_id': 1, 'group': '', 'owner': 'docbrown', 'project': '', '_id': ObjectId('5683f659fa448316734d865b')}), ('62f39cf4-2aa5-4645-acaa-95ff69a22fc1', {'beamline_id': 'example', 'custom': {}, 'time': 1451488865.690099, 'uid': '62f39cf4-2aa5-4645-acaa-95ff69a22fc1', 'scan_id': 2, 'group': '', 'owner': 'docbrown', 'project': '', '_id': ObjectId('5683f661fa448316734d8754')}), ('95d52f66-1e2e-4e7d-a0c0-b15c2af01029', {'beamline_id': 'example', 'custom': {}, 'time': 1451488866.375621, 'uid': '95d52f66-1e2e-4e7d-a0c0-b15c2af01029', 'scan_id': 3, 'group': '', 'owner': 'docbrown', 'project': '', '_id': ObjectId('5683f662fa448316734d876f')}), ('16d1942e-73ae-409b-9d6d-72c55c0771b9', {'beamline_id': 'example', 'custom': {}, 'time': 1451488867.021022, 'uid': '16d1942e-73ae-409b-9d6d-72c55c0771b9', 'scan_id': 4, 'group': '', 'owner': 'docbrown', 'project': '', '_id': ObjectId('5683f663fa448316734d878a')}), ('42a68559-0a05-4da7-8dea-2818ead204eb', {'beamline_id': 'example', 'custom': {}, 'time': 1451488867.683177, 'uid': '42a68559-0a05-4da7-8dea-2818ead204eb', 'scan_id': 5, 'group': '', 'owner': 'docbrown', 'project': '', '_id': ObjectId('5683f663fa448316734d87a5')}), ('05951354-9fd2-4628-80a5-47187adb96c4', {'beamline_id': 'example', 'custom': {}, 'time': 1451488868.350133, 'uid': '05951354-9fd2-4628-80a5-47187adb96c4', 'scan_id': 1, 'group': '', 'owner': 'nedbrainard', 'project': '', '_id': ObjectId('5683f664fa448316734d87c0')}), ('b9b81b18-f825-4478-85f8-a2bcd25d7ebc', {'beamline_id': 'example', 'custom': {}, 'time': 1451488876.152133, 'uid': 'b9b81b18-f825-4478-85f8-a2bcd25d7ebc', 'scan_id': 2, 'group': '', 'owner': 'nedbrainard', 'project': '', '_id': ObjectId('5683f66cfa448316734d88b9')}), ('24f37149-2289-4b4e-a438-cd3b251e1683', {'beamline_id': 'example', 'custom': {}, 'time': 1451488876.835521, 'uid': '24f37149-2289-4b4e-a438-cd3b251e1683', 'scan_id': 3, 'group': '', 'owner': 'nedbrainard', 'project': '', '_id': ObjectId('5683f66cfa448316734d88d4')}), ('7ad4d62c-0464-4dc1-932f-4ae1fd623925', {'beamline_id': 'example', 'custom': {}, 'time': 1451488877.530825, 'uid': '7ad4d62c-0464-4dc1-932f-4ae1fd623925', 'scan_id': 4, 'group': '', 'owner': 'nedbrainard', 'project': '', '_id': ObjectId('5683f66dfa448316734d88ef')}), ('7e1c4fbb-f108-49e2-886e-d6b657e305dd', {'beamline_id': 'example', 'custom': {}, 'time': 1451488878.230478, 'uid': '7e1c4fbb-f108-49e2-886e-d6b657e305dd', 'scan_id': 5, 'group': '', 'owner': 'nedbrainard', 'project': '', '_id': ObjectId('5683f66efa448316734d890a')}), ('e00aadf1-46ea-4c47-a46c-7b747a2f6be5', {'beamline_id': 'example', 'custom': {}, 'time': 0.0, 'uid': 'e00aadf1-46ea-4c47-a46c-7b747a2f6be5', 'scan_id': 1, 'group': '', 'owner': 'nedbrainard', 'project': '', '_id': ObjectId('5683f66efa448316734d8925')}), ('5f432521-67d6-4b02-916e-8c0b8e99bb89', {'beamline_id': 'example', 'custom': {}, 'time': 1.0, 'uid': '5f432521-67d6-4b02-916e-8c0b8e99bb89', 'scan_id': 2, 'group': '', 'owner': 'nedbrainard', 'project': '', '_id': ObjectId('5683f66efa448316734d8926')}), ('41fbb70d-ec06-4621-9d62-b47ff0291752', {'beamline_id': 'example', 'custom': {}, 'time': 2.0, 'uid': '41fbb70d-ec06-4621-9d62-b47ff0291752', 'scan_id': 3, 'group': '', 'owner': 'nedbrainard', 'project': '', '_id': ObjectId('5683f66efa448316734d8927')}), ('0748d652-99bd-43f5-aa1e-4d027b74be63', {'beamline_id': 'example', 'custom': {}, 'time': 3.0, 'uid': '0748d652-99bd-43f5-aa1e-4d027b74be63', 'scan_id': 4, 'group': '', 'owner': 'nedbrainard', 'project': '', '_id': ObjectId('5683f66efa448316734d8928')}), ('35b27724-1ebe-49ca-b56e-86a074da10d4', {'beamline_id': 'example', 'custom': {}, 'time': 4.0, 'uid': '35b27724-1ebe-49ca-b56e-86a074da10d4', 'scan_id': 5, 'group': '', 'owner': 'nedbrainard', 'project': '', '_id': ObjectId('5683f66efa448316734d8929')}), ('9a8c8292-f384-45ff-b745-5a477e8cbba2', {'beamline_id': 'example', 'custom': {}, 'time': 0.0, 'uid': '9a8c8292-f384-45ff-b745-5a477e8cbba2', 'scan_id': 1, 'group': '', 'owner': 'nedbrainard', 'project': '', '_id': ObjectId('5683f672fa448316734d892a')}), ('e3de1d28-caf3-4a23-868d-e59677bd50aa', {'beamline_id': 'example', 'custom': {}, 'time': 1.0, 'uid': 'e3de1d28-caf3-4a23-868d-e59677bd50aa', 'scan_id': 2, 'group': '', 'owner': 'nedbrainard', 'project': '', '_id': ObjectId('5683f672fa448316734d892b')}), ('eff8f1f5-fa8d-4357-8017-264d7eaff487', {'beamline_id': 'example', 'custom': {}, 'time': 2.0, 'uid': 'eff8f1f5-fa8d-4357-8017-264d7eaff487', 'scan_id': 3, 'group': '', 'owner': 'nedbrainard', 'project': '', '_id': ObjectId('5683f672fa448316734d892c')}), ('b2863d58-83ad-46fa-98f5-9e34ba4e2175', {'beamline_id': 'example', 'custom': {}, 'time': 3.0, 'uid': 'b2863d58-83ad-46fa-98f5-9e34ba4e2175', 'scan_id': 4, 'group': '', 'owner': 'nedbrainard', 'project': '', '_id': ObjectId('5683f672fa448316734d892d')}), ('c7d6f435-e7a5-49b0-9f1d-22ac7f4260c1', {'beamline_id': 'example', 'custom': {}, 'time': 4.0, 'uid': 'c7d6f435-e7a5-49b0-9f1d-22ac7f4260c1', 'scan_id': 5, 'group': '', 'owner': 'nedbrainard', 'project': '', '_id': ObjectId('5683f672fa448316734d892e')}), ('2570a42b-e1ee-49d0-87c3-75cc5b6ccb7d', {'beamline_id': 'example', 'custom': {}, 'time': 0.0, 'uid': '2570a42b-e1ee-49d0-87c3-75cc5b6ccb7d', 'scan_id': 314160, 'group': '', 'owner': 'docbrown', 'project': '', '_id': ObjectId('5683f673fa448316734d892f')}), ('bf31c495-501a-460a-9c86-ddef89e0dd8f', {'beamline_id': 'example', 'custom': {}, 'time': 1.0, 'uid': 'bf31c495-501a-460a-9c86-ddef89e0dd8f', 'scan_id': 314161, 'group': '', 'owner': 'docbrown', 'project': '', '_id': ObjectId('5683f673fa448316734d8930')}), ('70524343-9895-4bbb-9f7b-f82e5bbe6d40', {'beamline_id': 'example', 'custom': {}, 'time': 2.0, 'uid': '70524343-9895-4bbb-9f7b-f82e5bbe6d40', 'scan_id': 314162, 'group': '', 'owner': 'docbrown', 'project': '', '_id': ObjectId('5683f673fa448316734d8931')}), ('68d968f3-c4bd-4c1e-a98b-0b354742e545', {'beamline_id': 'example', 'custom': {}, 'time': 3.0, 'uid': '68d968f3-c4bd-4c1e-a98b-0b354742e545', 'scan_id': 314163, 'group': '', 'owner': 'docbrown', 'project': '', '_id': ObjectId('5683f673fa448316734d8932')}), ('c680c5e1-ede7-46bb-b6c2-e3f6422cef10', {'beamline_id': 'example', 'custom': {}, 'time': 4.0, 'uid': 'c680c5e1-ede7-46bb-b6c2-e3f6422cef10', 'scan_id': 314164, 'group': '', 'owner': 'docbrown', 'project': '', '_id': ObjectId('5683f673fa448316734d8933')}), ('624dca5e-3953-4ac0-a26b-9a3d01064fe6', {'beamline_id': 'example', 'custom': {}, 'time': 1.0, 'uid': '624dca5e-3953-4ac0-a26b-9a3d01064fe6', 'scan_id': 314160, 'group': '', 'owner': 'nedbrainard', 'project': '', '_id': ObjectId('5683f673fa448316734d8934')}), ('4cb4ebb1-3d8e-4be0-b0c9-e8bf20bf616c', {'beamline_id': 'example', 'custom': {}, 'time': 2.0, 'uid': '4cb4ebb1-3d8e-4be0-b0c9-e8bf20bf616c', 'scan_id': 314161, 'group': '', 'owner': 'nedbrainard', 'project': '', '_id': ObjectId('5683f673fa448316734d8935')}), ('81dbf571-49bf-475d-b27c-fb63aeba1d18', {'beamline_id': 'example', 'custom': {}, 'time': 3.0, 'uid': '81dbf571-49bf-475d-b27c-fb63aeba1d18', 'scan_id': 314162, 'group': '', 'owner': 'nedbrainard', 'project': '', '_id': ObjectId('5683f673fa448316734d8936')}), ('f0b38b8e-08df-4d5a-88c1-5c9dde6a2b70', {'beamline_id': 'example', 'custom': {}, 'time': 4.0, 'uid': 'f0b38b8e-08df-4d5a-88c1-5c9dde6a2b70', 'scan_id': 314163, 'group': '', 'owner': 'nedbrainard', 'project': '', '_id': ObjectId('5683f673fa448316734d8937')}), ('3c411aee-8c07-4c1f-9eb0-1d975d171e31', {'beamline_id': 'example', 'custom': {}, 'time': 5.0, 'uid': '3c411aee-8c07-4c1f-9eb0-1d975d171e31', 'scan_id': 314164, 'group': '', 'owner': 'nedbrainard', 'project': '', '_id': ObjectId('5683f673fa448316734d8938')}), ('cab56c2e-7ef3-46e2-98ae-98c0d2291afd', {'beamline_id': 'example', 'custom': {}, 'time': 100.0, 'uid': 'cab56c2e-7ef3-46e2-98ae-98c0d2291afd', 'scan_id': 1, 'group': '', 'owner': 'drstrangelove', 'project': '', '_id': ObjectId('5683f673fa448316734d8939')}), ('c9d09792-8132-4797-9fa0-e069d8d8bf0b', {'beamline_id': 'example', 'custom': {}, 'time': 100.0, 'uid': 'c9d09792-8132-4797-9fa0-e069d8d8bf0b', 'scan_id': 1, 'group': '', 'owner': 'drstrangelove', 'project': '', '_id': ObjectId('5683f673fa448316734d893a')}), ('f5f764a3-90bd-42fe-9a9b-c9bce51ae3f0', {'beamline_id': 'example', 'custom': {}, 'time': 100.0, 'uid': 'f5f764a3-90bd-42fe-9a9b-c9bce51ae3f0', 'scan_id': 1, 'group': '', 'owner': 'nedbrainard', 'project': '', '_id': ObjectId('5683f673fa448316734d893b')}), ('91122b87-28ba-4516-873f-708230436209', {'beamline_id': 'example', 'custom': {}, 'time': 200.0, 'uid': '91122b87-28ba-4516-873f-708230436209', 'scan_id': 2, 'group': '', 'owner': 'nedbrainard', 'project': '', '_id': ObjectId('5683f673fa448316734d893c')}), ('d8b47596-e294-42ec-ac61-d82de8c981fa', {'beamline_id': 'example', 'custom': {}, 'time': 1451488887.785936, 'uid': 'd8b47596-e294-42ec-ac61-d82de8c981fa', 'scan_id': 1, 'group': '', 'owner': '', 'project': '', '_id': ObjectId('5683f677fa448316734d893f')}), ('f0cc2236-a83c-4541-b0c6-939fde821d8c', {'owner': 'tester', 'custom': {}, 'beamline_id': 'testbed', 'uid': 'f0cc2236-a83c-4541-b0c6-939fde821d8c', 'scan_id': 3022013, 'time': 1451488889.122034, 'group': 'awesome-devs', 'project': 'Nikea', '_id': ObjectId('5683f679fa448316734d895a')}), ('d065d5e1-528b-49ae-88a8-9fa3bc38f506', {'beamline_id': 'example', 'custom': {}, 'time': 1451488889.504153, 'uid': 'd065d5e1-528b-49ae-88a8-9fa3bc38f506', 'scan_id': 1, 'group': '', 'owner': '', 'project': '', '_id': ObjectId('5683f679fa448316734d895f')}), ('68276275-ffe4-4b4c-a1d6-77458d201b4d', {'beamline_id': 'testbed', 'time': 0.0, 'uid': '68276275-ffe4-4b4c-a1d6-77458d201b4d', 'scan_id': 2032013, 'group': 'awesome-devs', 'config_id': 'eb04aa32-6345-4895-8496-1e31820d6a70', 'owner': 'tester', 'project': 'Nikea', '_id': ObjectId('5683f67afa448316734d897d')}), ('4adf7073-7e4f-4a2f-a8b4-a7d0b5d0fb69', {'beamline_id': 'example', 'custom': {}, 'time': 1451488891.337576, 'uid': '4adf7073-7e4f-4a2f-a8b4-a7d0b5d0fb69', 'scan_id': 1, 'group': '', 'owner': '', 'project': '', '_id': ObjectId('5683f67bfa448316734d8992')}), ('d5d1c8ca-0667-4151-9a8f-525937a17d9d', {'beamline_id': 'example', 'custom': {}, 'time': 1451488900.164192, 'uid': 'd5d1c8ca-0667-4151-9a8f-525937a17d9d', 'scan_id': 1, 'group': '', 'owner': '', 'project': '', '_id': ObjectId('5683f684fa448316734d8a72')}), ('031c3f2f-5f6c-4485-b0eb-a7fc4fac11e9', {'beamline_id': 'example', 'custom': {}, 'time': 1451488900.724192, 'uid': '031c3f2f-5f6c-4485-b0eb-a7fc4fac11e9', 'scan_id': 1, 'group': '', 'owner': '', 'project': '', '_id': ObjectId('5683f684fa448316734d8a78')}), ('879ce34a-649d-4b7b-a66f-132da7ebd982', {'beamline_id': 'example', 'custom': {}, 'time': 1451488900.919034, 'uid': '879ce34a-649d-4b7b-a66f-132da7ebd982', 'scan_id': 1, 'group': '', 'owner': '', 'project': '', '_id': ObjectId('5683f684fa448316734d8a7e')})])\n"
     ]
    }
   ],
   "source": [
    "print(run_starts)"
   ]
  },
  {
   "cell_type": "code",
   "execution_count": null,
   "metadata": {
    "collapsed": true
   },
   "outputs": [],
   "source": []
  }
 ],
 "metadata": {
  "kernelspec": {
   "display_name": "Python 3",
   "language": "python",
   "name": "python3"
  },
  "language_info": {
   "codemirror_mode": {
    "name": "ipython",
    "version": 3
   },
   "file_extension": ".py",
   "mimetype": "text/x-python",
   "name": "python",
   "nbconvert_exporter": "python",
   "pygments_lexer": "ipython3",
   "version": "3.4.3"
  }
 },
 "nbformat": 4,
 "nbformat_minor": 0
}
