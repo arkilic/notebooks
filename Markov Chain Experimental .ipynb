{
 "cells": [
  {
   "cell_type": "code",
   "execution_count": 1,
   "metadata": {
    "collapsed": true
   },
   "outputs": [],
   "source": [
    "from __future__ import (absolute_import, division)\n",
    "import numpy as np\n",
    "from numpy.linalg import matrix_power\n",
    "import matplotlib.pyplot as plt\n",
    "%matplotlib inline"
   ]
  },
  {
   "cell_type": "markdown",
   "metadata": {},
   "source": [
    "1.) Once the state transformation graph is drawn, it becomes apparent that $ \\beta > 0$ makes the Markov chain irreducible.\n",
    "We know that $\\alpha$ and $\\beta$ are probabilities and therefore they are less than or equal to 1. Assume $\\beta>0 $ then we know certainly that states 0 and 2 communicate. If $(1-\\alpha) >0 $ states 0 and 1 communicate via state 2 or if $ \\alpha > 0 $ state 0 is accessible from state 1, directly. At least one of these two conditions for $\\alpha$ will be true as its maximum value is 1 and the boundary conditions 0 and 1 both make all states communicate for all values of alpha at and within the boundary conditions if and only if $ \\beta > 0$ . For the chain to be irreducible, all states must be communicating and therefore this is only possible when $\\beta$ > 0"
   ]
  },
  {
   "cell_type": "markdown",
   "metadata": {},
   "source": [
    "2.) Experimental solution via iterative algorithm"
   ]
  },
  {
   "cell_type": "code",
   "execution_count": 2,
   "metadata": {
    "collapsed": true
   },
   "outputs": [],
   "source": [
    "p = np.array([[1/2, 1/4, 1/4], [1/2, 0, 1/2], [1/4, 0, 3/4]])"
   ]
  },
  {
   "cell_type": "code",
   "execution_count": 3,
   "metadata": {
    "collapsed": false
   },
   "outputs": [],
   "source": [
    "def nth_power(m_mat, supscrt):\n",
    "    tmp = m_mat\n",
    "    old_tmp = tmp\n",
    "    diff = []\n",
    "    if(supscrt>=2):\n",
    "        for i in range(2,supscrt):\n",
    "            old_tmp = tmp\n",
    "            tmp = np.dot(tmp, m_mat)\n",
    "            diff.append(old_tmp - tmp)\n",
    "        return tmp, diff\n",
    "    else:\n",
    "        raise ValueError('Power of matrix should be >= 2')"
   ]
  },
  {
   "cell_type": "code",
   "execution_count": 4,
   "metadata": {
    "collapsed": false
   },
   "outputs": [
    {
     "name": "stdout",
     "output_type": "stream",
     "text": [
      "1 loop, best of 3: 175 ms per loop\n"
     ]
    }
   ],
   "source": [
    "%timeit nth_power(p, int(1e5))"
   ]
  },
  {
   "cell_type": "code",
   "execution_count": 5,
   "metadata": {
    "collapsed": true
   },
   "outputs": [],
   "source": [
    "m_res, m_diff = nth_power(p, int(1e5))"
   ]
  },
  {
   "cell_type": "markdown",
   "metadata": {},
   "source": [
    "For sanity check, I ran the built-in numpy matrix power routine"
   ]
  },
  {
   "cell_type": "code",
   "execution_count": 6,
   "metadata": {
    "collapsed": false
   },
   "outputs": [
    {
     "name": "stdout",
     "output_type": "stream",
     "text": [
      "The slowest run took 9.92 times longer than the fastest. This could mean that an intermediate result is being cached.\n",
      "10000 loops, best of 3: 28.2 µs per loop\n"
     ]
    }
   ],
   "source": [
    "%timeit matrix_power(p, int(1e5))"
   ]
  },
  {
   "cell_type": "code",
   "execution_count": 7,
   "metadata": {
    "collapsed": false
   },
   "outputs": [],
   "source": [
    "np_res = matrix_power(p, int(1e5))"
   ]
  },
  {
   "cell_type": "code",
   "execution_count": 8,
   "metadata": {
    "collapsed": false
   },
   "outputs": [
    {
     "name": "stdout",
     "output_type": "stream",
     "text": [
      "[[ 0.36363636  0.09090909  0.54545455]\n",
      " [ 0.36363636  0.09090909  0.54545455]\n",
      " [ 0.36363636  0.09090909  0.54545455]] \n",
      " \n",
      " [[ 0.36363636  0.09090909  0.54545455]\n",
      " [ 0.36363636  0.09090909  0.54545455]\n",
      " [ 0.36363636  0.09090909  0.54545455]]\n"
     ]
    }
   ],
   "source": [
    "print(np_res, '\\n \\n', m_res)"
   ]
  },
  {
   "cell_type": "markdown",
   "metadata": {},
   "source": [
    "Clearly, my algorithm calculates the power of the matrix correctly. I noticed I have rounding errors around 12th decimal but I don't think it matters given the nature of this question. My algorithm is correct, however significantly less efficient compared to the built-in numpy routine (3 orders of magnitude). The C bindings work much better for such numerical calculations, or even numexpr. \n",
    "\n",
    "The limiting probability $ \\pi_j $ exists. Once we investigate how the transitional probabilities behave over various iterations by looking at the m_diff which simply saves the difference between two consecutive powers of transition matrix:"
   ]
  },
  {
   "cell_type": "code",
   "execution_count": 9,
   "metadata": {
    "collapsed": false
   },
   "outputs": [
    {
     "name": "stdout",
     "output_type": "stream",
     "text": [
      "The difference between p and p^2\n",
      " [[ 0.0625  0.125  -0.1875]\n",
      " [ 0.125  -0.125   0.    ]\n",
      " [-0.0625 -0.0625  0.125 ]]\n"
     ]
    }
   ],
   "source": [
    "print('The difference between p and p^2\\n', \n",
    "      m_diff[0])"
   ]
  },
  {
   "cell_type": "code",
   "execution_count": 10,
   "metadata": {
    "collapsed": false
   },
   "outputs": [
    {
     "name": "stdout",
     "output_type": "stream",
     "text": [
      "The difference between p^99 and p^100\n",
      " [[ 0.  0.  0.]\n",
      " [ 0.  0.  0.]\n",
      " [ 0.  0.  0.]]\n"
     ]
    }
   ],
   "source": [
    "print('The difference between p^99 and p^100\\n', \n",
    "      m_diff[99])"
   ]
  },
  {
   "cell_type": "code",
   "execution_count": 11,
   "metadata": {
    "collapsed": false
   },
   "outputs": [
    {
     "name": "stdout",
     "output_type": "stream",
     "text": [
      "The difference between p^9998 and p^9999\n",
      " [[ 0.  0.  0.]\n",
      " [ 0.  0.  0.]\n",
      " [ 0.  0.  0.]]\n"
     ]
    }
   ],
   "source": [
    "print('The difference between p^9998 and p^9999\\n', \n",
    "      m_diff[9998])"
   ]
  },
  {
   "cell_type": "markdown",
   "metadata": {},
   "source": [
    "In other words, P^100k is close enough to the limiting possibility as $ lim_{n \\rightarrow \\infty}$ therefore $\\pi_j$ exists.\n",
    "Given the result from the nth_power function above, $ pi_j = lim_{n \\rightarrow \\infty}P_{i,j}^{(n)} $ can be estimated by $ \\pi = [\\pi_0, \\pi_1, \\pi_2] = [ 0.36363636, 0.09090909, 0.54545455] $ for state matrix {0 , 1, 2}"
   ]
  },
  {
   "cell_type": "markdown",
   "metadata": {},
   "source": [
    "3.) Solving the system of linear equations:"
   ]
  },
  {
   "cell_type": "markdown",
   "metadata": {},
   "source": [
    "$ \\pi = \\pi P$ where $P = [[1/2, 1/4, 1/4] [1/2, 0, 1/2], [1/4, 0, 3/4]]$\n",
    "\n",
    "By writing out the matrix in linear equation form:\n",
    "\n",
    "$ 0.5\\pi_0 + 0.5\\pi_1 + 0.25\\pi_2 = \\pi_0$\n",
    "\n",
    "$ 0.25\\pi_0 = \\pi_1 $\n",
    "\n",
    "$ 0.25\\pi_0 + 0.5\\pi_1 + 0.75\\pi_2 = \\pi_2$\n",
    "\n",
    "$ \\pi_0 + \\pi_1 + \\pi_2 = 1 $\n",
    "\n",
    "4 equations and 3 unknowns makes this a simple solution giving us \n",
    "\n",
    "$ \\pi_0 $ = 4/11 \n",
    "$ \\pi_1 $ = 1/11 \n",
    "$ \\pi_2 $ = 6/11 \n",
    "\n",
    "which are identical to the results obtained in the earlier step."
   ]
  },
  {
   "cell_type": "code",
   "execution_count": null,
   "metadata": {
    "collapsed": true
   },
   "outputs": [],
   "source": []
  }
 ],
 "metadata": {
  "kernelspec": {
   "display_name": "Python 3",
   "language": "python",
   "name": "python3"
  },
  "language_info": {
   "codemirror_mode": {
    "name": "ipython",
    "version": 3
   },
   "file_extension": ".py",
   "mimetype": "text/x-python",
   "name": "python",
   "nbconvert_exporter": "python",
   "pygments_lexer": "ipython3",
   "version": "3.5.1"
  }
 },
 "nbformat": 4,
 "nbformat_minor": 0
}
