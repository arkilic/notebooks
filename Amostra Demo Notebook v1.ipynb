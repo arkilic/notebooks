{
 "cells": [
  {
   "cell_type": "code",
   "execution_count": 2,
   "metadata": {
    "collapsed": false
   },
   "outputs": [],
   "source": [
    "import time\n",
    "import collections\n",
    "import uuid\n",
    "\n",
    "import pandas\n",
    "\n",
    "import amostra\n",
    "import amostra.client.local_commands as acc"
   ]
  },
  {
   "cell_type": "markdown",
   "metadata": {},
   "source": [
    "\n",
    "\n",
    "try.nsls2.bnl.gov\n",
    "\n",
    "nsls-ii.github.io\n",
    "\n",
    "\n",
    "\n",
    "\n",
    "\n"
   ]
  },
  {
   "cell_type": "code",
   "execution_count": 3,
   "metadata": {
    "collapsed": true
   },
   "outputs": [],
   "source": [
    "owner = \"arkilic\"\n",
    "project = \"amostra_demo\"\n",
    "beamline_id = \"dbx\""
   ]
  },
  {
   "cell_type": "code",
   "execution_count": 5,
   "metadata": {
    "collapsed": false
   },
   "outputs": [],
   "source": [
    "# Connection Pool\n",
    "from amostra.client.commands import ContainerReference, SampleReference\n",
    "container_client = acc.ContainerReference(host=\"xf23id-ca.cs.nsls2.local\", port=7772)\n",
    "sample_client = acc.SampleReference(host=\"xf23id-ca.cs.nsls2.local\", port=7772)"
   ]
  },
  {
   "cell_type": "code",
   "execution_count": 6,
   "metadata": {
    "collapsed": true
   },
   "outputs": [],
   "source": [
    "def insert_plate(plate_info):\n",
    "    plate = container_client.create(**plate_info)\n",
    "    return plate\n",
    "\n",
    "def insert_sample_list(samples):\n",
    "    res = []\n",
    "    for s in samples:\n",
    "        res.append(sample_client.create(s))\n",
    "    return res"
   ]
  },
  {
   "cell_type": "code",
   "execution_count": 7,
   "metadata": {
    "collapsed": false
   },
   "outputs": [],
   "source": [
    "def generate_plate(owner, project, beamline_id, kind, name, barcode, content):\n",
    "    plate_info = {    \n",
    "            \"owner\": owner,\n",
    "            \"project\": project,\n",
    "            \"beamline_id\": beamline_id,\n",
    "            \"kind\": kind,\n",
    "            \"name\": name,\n",
    "            \"barcode\": barcode,\n",
    "            \"content\": list(content)\n",
    "    }\n",
    "\n",
    "    return insert_plate(plate_info)"
   ]
  },
  {
   "cell_type": "code",
   "execution_count": 8,
   "metadata": {
    "collapsed": false
   },
   "outputs": [],
   "source": [
    "def generate_samples_96wp(project, beamline_id, owner, name):\n",
    "    samples = collections.deque()\n",
    "    for i in range(96):\n",
    "        sample_info = {\n",
    "            \"project\": project,\n",
    "            \"beamline_id\": beamline_id,\n",
    "            \"owner\": owner,\n",
    "            \"name\": name+\" {}\".format(i+1),\n",
    "            \"position\": {\"x\": int(i % 8), \"y\": int(i/8)},\n",
    "            \"concentration\": 0.001,\n",
    "            \"volume\": 10,\n",
    "            \"temperature\": 21.4    \n",
    "        }\n",
    "        samples.append(sample_info)\n",
    "    uids = insert_sample_list(samples)\n",
    "    return uids\n",
    "\n"
   ]
  },
  {
   "cell_type": "code",
   "execution_count": 9,
   "metadata": {
    "collapsed": true
   },
   "outputs": [],
   "source": [
    "def find_plate_by_barcode(owner, project, beamline_id, barcode):\n",
    "    samples = collections.deque()\n",
    "    plate_info = list(container_client.find(owner=owner, project=project, \n",
    "                                            beamline_id=beamline_id, barcode=barcode))[0]\n",
    "    for s_uid in plate_info['content']:\n",
    "        samples.append(next(sample_client.find(uid=s_uid)))\n",
    "    \n",
    "    plate_info['content'] = list(samples)\n",
    "    return plate_info"
   ]
  },
  {
   "cell_type": "code",
   "execution_count": 10,
   "metadata": {
    "collapsed": false
   },
   "outputs": [],
   "source": [
    "number_of_plates = 5\n",
    "\n",
    "for i in range(number_of_plates):\n",
    "    samples = generate_samples_96wp(project, beamline_id, owner, \"Test Sample\")\n",
    "    plate1 = generate_plate(owner, project, beamline_id, \"96wp\", \"Plate {}\".format(i+1), \"{}\".format(i+1).zfill(13), samples)"
   ]
  },
  {
   "cell_type": "code",
   "execution_count": 14,
   "metadata": {
    "collapsed": false
   },
   "outputs": [
    {
     "data": {
      "text/plain": [
       "{'container': 'NULL',\n",
       " 'name': {'beamline_id': 'dbx',\n",
       "  'concentration': 0.001,\n",
       "  'name': 'Test Sample 1',\n",
       "  'owner': 'arkilic',\n",
       "  'position': {'x': 0, 'y': 0},\n",
       "  'project': 'amostra_demo',\n",
       "  'temperature': 21.4,\n",
       "  'volume': 10},\n",
       " 'time': 1475605068.833802,\n",
       " 'uid': 'a9da8f2d-8e32-46cc-893a-f8a1fc31253c'}"
      ]
     },
     "execution_count": 14,
     "metadata": {},
     "output_type": "execute_result"
    }
   ],
   "source": [
    "an_inserted_uid = samples[0]['uid']\n",
    "next(sample_client.find(uid=an_inserted_uid))"
   ]
  },
  {
   "cell_type": "code",
   "execution_count": 16,
   "metadata": {
    "collapsed": false
   },
   "outputs": [
    {
     "data": {
      "text/plain": [
       "{'container': 'NULL',\n",
       " 'name': {'beamline_id': 'dbx',\n",
       "  'concentration': 0.001,\n",
       "  'name': 'Test Sample 1',\n",
       "  'owner': 'arkilic',\n",
       "  'position': {'x': 0, 'y': 0},\n",
       "  'project': 'amostra_demo',\n",
       "  'temperature': 21.4,\n",
       "  'volume': 10},\n",
       " 'time': 1474905928.305002,\n",
       " 'uid': 'fd5496f0-8d78-47b7-a137-2b06234928e7'}"
      ]
     },
     "execution_count": 16,
     "metadata": {},
     "output_type": "execute_result"
    }
   ],
   "source": [
    "next(sample_client.find(**{'name.position.x': 0}))"
   ]
  },
  {
   "cell_type": "code",
   "execution_count": 12,
   "metadata": {
    "collapsed": false
   },
   "outputs": [
    {
     "name": "stdout",
     "output_type": "stream",
     "text": [
      "a9da8f2d-8e32-46cc-893a-f8a1fc31253c\n"
     ]
    }
   ],
   "source": [
    "print(an_inserted_uid)"
   ]
  },
  {
   "cell_type": "code",
   "execution_count": null,
   "metadata": {
    "collapsed": true
   },
   "outputs": [],
   "source": [
    "def import_plate_from_excel(fname, owner, project, beamline_id, plate_kind):\n",
    "    samples = collections.deque()\n",
    "    excel_data = pandas.read_excel(fname,header=1)\n",
    "    \n",
    "    for line in excel_data.iterrows():\n",
    "        if line[0] == 0:\n",
    "            name = line[1][0]\n",
    "            barcode = str(int(line[1][1])).zfill(13)\n",
    "            plate_info = {    \n",
    "                \"owner\": owner,\n",
    "                \"project\": project,\n",
    "                \"beamline_id\": beamline_id,\n",
    "                \"kind\": plate_kind,\n",
    "                \"name\": name,\n",
    "                \"barcode\": barcode,\n",
    "            }\n",
    "        s_x = line[1][2]\n",
    "        s_y = line[1][3]\n",
    "        s_name = line[1][4]\n",
    "        s_shortname = line[1][5]\n",
    "        s_conc = line[1][6]\n",
    "        s_volume = line[1][7]\n",
    "        s_temperature = line[1][8]\n",
    "        sample_info = {\n",
    "                \"project\": project,\n",
    "                \"beamline_id\": beamline_id,\n",
    "                \"owner\": owner,\n",
    "                \"name\": s_name,\n",
    "                \"short_name\": s_shortname,\n",
    "                \"position\": {\"x\": s_x, \"y\": s_y},\n",
    "                \"concentration\": s_conc,\n",
    "                \"volume\": s_volume,\n",
    "                \"temperature\": s_temperature        \n",
    "            }\n",
    "        samples.append(sample_info)\n",
    "        \n",
    "    return plate_info, samples"
   ]
  },
  {
   "cell_type": "code",
   "execution_count": null,
   "metadata": {
    "collapsed": true
   },
   "outputs": [],
   "source": []
  }
 ],
 "metadata": {
  "anaconda-cloud": {},
  "kernelspec": {
   "display_name": "Python 3",
   "language": "python",
   "name": "python3"
  },
  "language_info": {
   "codemirror_mode": {
    "name": "ipython",
    "version": 3
   },
   "file_extension": ".py",
   "mimetype": "text/x-python",
   "name": "python",
   "nbconvert_exporter": "python",
   "pygments_lexer": "ipython3",
   "version": "3.5.2"
  }
 },
 "nbformat": 4,
 "nbformat_minor": 0
}
