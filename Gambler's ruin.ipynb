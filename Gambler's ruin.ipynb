{
 "cells": [
  {
   "cell_type": "markdown",
   "metadata": {},
   "source": [
    "**Question 4**"
   ]
  },
  {
   "cell_type": "markdown",
   "metadata": {},
   "source": [
    "1. The state space of $X_n$ is $ S_x={0, 1, 2, 3, 4, 5}$\n",
    "\n",
    "\n",
    "and the transition probability matrix is given by: \n",
    "\n",
    "\n",
    "P = [[ 1 0 0 0 0 0 0]\n",
    "\n",
    "     [ .25 .25 .5  0 0 0]\n",
    "\n",
    "     [ 0 0.25 .25 .5  0 0]\n",
    "     \n",
    "     [ 0 0 0.25 .25 .5  0 ]\n",
    "     \n",
    "     [ 0 0 0 0.25 .25 .5 ]\n",
    "     \n",
    "     [ 0 0 0 0 0 0 1]\n",
    "     ]\n",
    "     \n",
    "     \n",
    "2. The probability of ruin in n steps is denoted by $ r_i^{(n)}$, as also described by the lecture notes:\n",
    "\n",
    "$r_i^{(n)} = P[X_n=0|X_0=i] = p_{i,0}^{(n)}$.\n",
    "\n",
    "Then, I can show the total probability using the limit:\n",
    "\n",
    "$r_i = lim_{n \\rightarrow \\infty}r_i^{(n)}$\n",
    "\n",
    "Using the Chapman-Kolmogorov:\n",
    "$p_{i,0}^{(n+1)} = \\sum_{l=0}^w p_{i,l}^{(1)}p_{l, 0}^{(0)}$\n",
    "\n",
    "$lim_{n \\rightarrow \\infty}\\sum_{l=0}^\\infty p_{i,l}^{(1)}p_{l, 0}^{(0)}$\n",
    "\n",
    "We also know $r_0 = 1$\n",
    "Then, this yields to:\n",
    "\n",
    "$ r_i = \\sum_{l=0}^\\infty p_{i,l}^{(1)}r_l$\n",
    "Then this yields to \n",
    "\n",
    "$r_1 = 1/4 + 1/4 r_1 + 1/2 r_2$\n",
    "\n",
    "$r_i = 1/4r_{i-1} + 1/4 r_i + 1/2 r_{i+1}$ where i = 1, 2, 3, 4, ...\n",
    "\n",
    "$r_4 = 1/4 r_3 + 1/4 r_4$ call this **A**\n",
    "\n",
    "So the general form equation yields to:\n",
    "\n",
    "$r_{i+1} - 1/2 r_i = r_i - 1/2 r_{i-1} = r_1 - 1/2r_0 = r_1-1/2$\n",
    "\n",
    "Then, writing \n",
    "$r_4-1/2r_3+1/2(r_3-1/2r_2)+1/4(r_2-1/2r_1)=r_4-1/8r_1=7/4(r_1-1/2)$ call this **B**\n",
    "\n",
    "Next,\n",
    "\n",
    "$(r_3-1/2r_2) + 1/2(r_2-1/2r_1) = r_3 - 1/4r_1 = 3/2(r_1-1/2)$ call this **C**\n",
    "\n",
    "\n",
    "Solving for the equations A, B, and C above:\n",
    "\n",
    "$r_1 = 15/31$\n",
    "\n",
    "$r_2 = 7/31$\n",
    "\n",
    "$r_3 = 3/31$\n",
    "\n",
    "$r_4 = 1/31$"
   ]
  },
  {
   "cell_type": "code",
   "execution_count": null,
   "metadata": {
    "collapsed": true
   },
   "outputs": [],
   "source": []
  }
 ],
 "metadata": {
  "kernelspec": {
   "display_name": "Python 3",
   "language": "python",
   "name": "python3"
  },
  "language_info": {
   "codemirror_mode": {
    "name": "ipython",
    "version": 3
   },
   "file_extension": ".py",
   "mimetype": "text/x-python",
   "name": "python",
   "nbconvert_exporter": "python",
   "pygments_lexer": "ipython3",
   "version": "3.5.1"
  }
 },
 "nbformat": 4,
 "nbformat_minor": 0
}
