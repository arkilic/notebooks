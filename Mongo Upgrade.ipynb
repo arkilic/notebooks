{
 "cells": [
  {
   "cell_type": "markdown",
   "metadata": {},
   "source": [
    "**MONGODB Upgrade**\n",
    "\n",
    "\n",
    "Below are the instructions for a semi-non invasive method for upgrading beamlines to a newer version mongodb. This method simply exports the data from an existing beamline mongo daemon, installs and starts a newer version of mongodb at a different port, and restores the existing beamline data to this new mongodb. The semi-invasive nature is due to the global block on all reads and writes while exporting data from the running older version mongodb. This upgrade should be performed \n",
    "\n",
    "_1. Create a user local to the beamline that will run mongodb and all tornado related services and possibly build a conda environment with python 3.5 for this user_\n",
    "\n",
    "_2.Download the binary files for the desired release of MongoDB._\n",
    "\n",
    "```\n",
    "curl -O https://fastdl.mongodb.org/linux/mongodb-linux-x86_64-3.2.1.tgz\n",
    "```\n",
    "\n",
    "_3.Extract the files from the downloaded archive._\n",
    "\n",
    "```\n",
    "tar -zxvf mongodb-linux-x86_64-3.2.1.tgz\n",
    "```\n",
    "\n",
    "_4.Copy the extracted archive to the target directory._\n",
    "\n",
    "```\n",
    "mkdir -p mongodb\n",
    "cp -R -n mongodb-linux-x86_64-3.2.1/ mongodb\n",
    "```\n",
    "\n",
    "_5.Ensure the location of the binaries is in the $PATH_\n",
    "\n",
    "_6.Export the data from the corresponding database being exported_\n",
    "\n",
    "**warning:** replace datastore with 'datastore2' below CSX\n",
    "\n",
    "```\n",
    "mongodump --host localhost --port 27017 --db datastore --collection run_start --out <export_path>\n",
    "\n",
    "mongodump --host localhost --port 27017 --db datastore --collection beamline_config --out <export_path>\n",
    "\n",
    "mongodump --host localhost --port 27017 --db datastore --collection event_descriptor --out <export_path>\n",
    "\n",
    "mongodump --host localhost --port 27017 --db datastore --collection event --out <export_path>\n",
    "\n",
    "mongodump --host localhost --port 27017 --db datastore --collection run_stop --out <export_path>\n",
    "\n",
    "mongodump --host localhost --port 27017 --db filestore --collection resource --out <export_path>\n",
    "\n",
    "mongodump --host localhost --port 27017 --db filestore --collection datum --out <export_path>\n",
    "\n",
    "\n",
    "# sudo cp -r <export_path> /backup\n",
    "```\n",
    "\n",
    "_7.Start the new mongo instance that is expanded in step 4 in some port other than 27017 (e.g. 29000)_\n",
    "```\n",
    "./bin/mongod --port 29000 --storageEngine wiredTiger --dbpath <your_chosen_db_path> --journal\n",
    "```\n",
    "\n",
    "_8.Restore data from the exported directory into the new mongodb daemon_\n",
    "```\n",
    "./bin/mongorestore <export_path>\n",
    "\n",
    "```\n",
    "\n",
    "\n"
   ]
  },
  {
   "cell_type": "code",
   "execution_count": null,
   "metadata": {
    "collapsed": true
   },
   "outputs": [],
   "source": []
  }
 ],
 "metadata": {
  "kernelspec": {
   "display_name": "Python 3",
   "language": "python",
   "name": "python3"
  },
  "language_info": {
   "codemirror_mode": {
    "name": "ipython",
    "version": 3
   },
   "file_extension": ".py",
   "mimetype": "text/x-python",
   "name": "python",
   "nbconvert_exporter": "python",
   "pygments_lexer": "ipython3",
   "version": "3.5.1"
  }
 },
 "nbformat": 4,
 "nbformat_minor": 0
}
