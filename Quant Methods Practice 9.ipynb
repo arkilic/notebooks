{
 "cells": [
  {
   "cell_type": "markdown",
   "metadata": {},
   "source": [
    "#1 Implement Monte Carlo Algorithm as seen in class for European Call option"
   ]
  },
  {
   "cell_type": "code",
   "execution_count": 1,
   "metadata": {
    "collapsed": false
   },
   "outputs": [],
   "source": [
    "import numpy as np\n",
    "import math"
   ]
  },
  {
   "cell_type": "code",
   "execution_count": 2,
   "metadata": {
    "collapsed": true
   },
   "outputs": [],
   "source": [
    "def european_call_mc(s_0, K, T, r, sigma, i):\n",
    "    \"\"\"European call option algorithm using Monte Carlo simulation\"\"\"\n",
    "    # Get the random variables out of standard normal\n",
    "    z = np.random.standard_normal(I)\n",
    "    s_T = s_0 * np.exp((r - 0.5 * sigma**2) * T + sigma * np.sqrt(T) * z)\n",
    "    h_t = np.maximum(s_T-K, 0)\n",
    "    return np.exp(-r * T) * np.sum(h_t) / I"
   ]
  },
  {
   "cell_type": "markdown",
   "metadata": {},
   "source": [
    "#2 Use your algorithm to compute the value at time 0 provided variables below:"
   ]
  },
  {
   "cell_type": "code",
   "execution_count": 3,
   "metadata": {
    "collapsed": true
   },
   "outputs": [],
   "source": [
    "s_0 = 120\n",
    "K = 100\n",
    "T = 1.0\n",
    "r = 0.01\n",
    "sigma = 0.2\n",
    "\n",
    "I = 100000\n",
    "z = np.random.standard_normal(I)"
   ]
  },
  {
   "cell_type": "code",
   "execution_count": 4,
   "metadata": {
    "collapsed": false
   },
   "outputs": [],
   "source": [
    "result = european_call_mc(s_0, K, T, r, sigma, I)"
   ]
  },
  {
   "cell_type": "code",
   "execution_count": 9,
   "metadata": {
    "collapsed": false
   },
   "outputs": [
    {
     "data": {
      "text/plain": [
       "22.948810956866946"
      ]
     },
     "execution_count": 9,
     "metadata": {},
     "output_type": "execute_result"
    }
   ],
   "source": [
    "result"
   ]
  },
  {
   "cell_type": "markdown",
   "metadata": {},
   "source": [
    "#3 Compare the outcome with the value obtained from the exact formula given in class:"
   ]
  },
  {
   "cell_type": "code",
   "execution_count": 12,
   "metadata": {
    "collapsed": true
   },
   "outputs": [],
   "source": [
    "s_0 = 120\n",
    "K = 100\n",
    "T = 1.0\n",
    "r = 0.01\n",
    "sigma = 0.2\n",
    "\n",
    "I1 = int(1e5)\n",
    "I2 = int(1e6)\n",
    "z = np.random.standard_normal(I)\n",
    "\n",
    "result100k = european_call_mc(s_0, K, T, r, sigma, I1)\n",
    "result1mil = european_call_mc(s_0, K, T, r, sigma, I2)\n",
    "\n",
    "res_dict = {'exp_1_mil': result1mil,\n",
    "           'exp_100k': result100k}"
   ]
  },
  {
   "cell_type": "markdown",
   "metadata": {},
   "source": [
    "The price of the \n",
    "$v(t,x) = sN(d_{+}(T −t,s))−exp(−r(T −t))KN(d_{-} (T −t,s))$ where\n",
    "\n",
    "$d_{+}(\\tau, s) = 1/(\\sigma * sqrt(\\tau))[log(s/K) + (r + \\sigma ^2) \\tau]$"
   ]
  },
  {
   "cell_type": "markdown",
   "metadata": {},
   "source": [
    "$d_{+} = ( log(S/K)+(r+1/2*\\sigma^2))/(\\sigma*sqrt(T))$ = 0.21232 / 0.2 = 1.0615999999999999\n",
    "\n",
    "$d_{-} = d+ - \\sigma*sqrt(T)$ = 0.8616\n",
    "\n",
    "$SN(d_{+}) - Ke^{-r\\tau}N(d_{-})$ = 22.945710000000005"
   ]
  },
  {
   "cell_type": "code",
   "execution_count": 13,
   "metadata": {
    "collapsed": true
   },
   "outputs": [],
   "source": [
    "res_dict['formula'] = 22.945710000000005"
   ]
  },
  {
   "cell_type": "code",
   "execution_count": 14,
   "metadata": {
    "collapsed": false
   },
   "outputs": [
    {
     "name": "stdout",
     "output_type": "stream",
     "text": [
      "{'exp_100k': 22.910119656627263, 'exp_1_mil': 23.01177526408183, 'formula': 22.945710000000005}\n"
     ]
    }
   ],
   "source": [
    "print(res_dict)"
   ]
  },
  {
   "cell_type": "markdown",
   "metadata": {},
   "source": [
    "Clearly, with increasing number of iterations, the simulated outcome has less error compared to formula."
   ]
  },
  {
   "cell_type": "code",
   "execution_count": null,
   "metadata": {
    "collapsed": true
   },
   "outputs": [],
   "source": []
  }
 ],
 "metadata": {
  "kernelspec": {
   "display_name": "Python 3",
   "language": "python",
   "name": "python3"
  },
  "language_info": {
   "codemirror_mode": {
    "name": "ipython",
    "version": 3
   },
   "file_extension": ".py",
   "mimetype": "text/x-python",
   "name": "python",
   "nbconvert_exporter": "python",
   "pygments_lexer": "ipython3",
   "version": "3.5.1"
  }
 },
 "nbformat": 4,
 "nbformat_minor": 0
}
